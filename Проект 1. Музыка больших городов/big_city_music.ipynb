{
 "cells": [
  {
   "cell_type": "markdown",
   "metadata": {
    "deletable": false,
    "editable": false,
    "id": "E0vqbgi9ay0H"
   },
   "source": [
    "# Яндекс Музыка"
   ]
  },
  {
   "cell_type": "markdown",
   "metadata": {
    "deletable": false,
    "editable": false,
    "id": "VUC88oWjTJw2"
   },
   "source": [
    "Сравнение Москвы и Петербурга окружено мифами. Например:\n",
    " * Москва — мегаполис, подчинённый жёсткому ритму рабочей недели;\n",
    " * Петербург — культурная столица, со своими вкусами.\n",
    "\n",
    "На данных Яндекс Музыки вы сравните поведение пользователей двух столиц.\n",
    "\n",
    "**Цель исследования** — проверьте три гипотезы:\n",
    "1. Активность пользователей зависит от дня недели. Причём в Москве и Петербурге это проявляется по-разному.\n",
    "2. В понедельник утром в Москве преобладают одни жанры, а в Петербурге — другие. Так же и вечером пятницы преобладают разные жанры — в зависимости от города.\n",
    "3. Москва и Петербург предпочитают разные жанры музыки. В Москве чаще слушают поп-музыку, в Петербурге — русский рэп.\n",
    "\n",
    "**Ход исследования**\n",
    "\n",
    "Данные о поведении пользователей вы получите из файла `yandex_music_project.csv`. О качестве данных ничего не известно. Поэтому перед проверкой гипотез понадобится обзор данных.\n",
    "\n",
    "Вы проверите данные на ошибки и оцените их влияние на исследование. Затем, на этапе предобработки вы поищете возможность исправить самые критичные ошибки данных.\n",
    "\n",
    "Таким образом, исследование пройдёт в три этапа:\n",
    " 1. Обзор данных.\n",
    " 2. Предобработка данных.\n",
    " 3. Проверка гипотез.\n",
    "\n"
   ]
  },
  {
   "cell_type": "markdown",
   "metadata": {
    "deletable": false,
    "editable": false,
    "id": "Ml1hmfXC_Zcs"
   },
   "source": [
    "## Обзор данных\n",
    "\n",
    "Составьте первое представление о данных Яндекс Музыки.\n",
    "\n",
    "\n"
   ]
  },
  {
   "cell_type": "markdown",
   "metadata": {
    "deletable": false,
    "editable": false,
    "id": "57eAOGIz_Zcs",
    "tags": [
     "start_task"
    ]
   },
   "source": [
    "**Задание 1**"
   ]
  },
  {
   "cell_type": "code",
   "execution_count": 1,
   "metadata": {
    "deletable": false,
    "id": "AXN7PHPN_Zcs"
   },
   "outputs": [],
   "source": [
    "import pandas as pd # импорт библиотеки pandas"
   ]
  },
  {
   "cell_type": "markdown",
   "metadata": {
    "deletable": false,
    "editable": false,
    "id": "SG23P8tt_Zcs",
    "tags": [
     "start_task"
    ]
   },
   "source": [
    "**Задание 2**"
   ]
  },
  {
   "cell_type": "code",
   "execution_count": 2,
   "metadata": {
    "deletable": false,
    "id": "fFVu7vqh_Zct"
   },
   "outputs": [],
   "source": [
    "df = pd.read_csv('/datasets/yandex_music_project.csv') # чтение файла с данными и сохранение в df"
   ]
  },
  {
   "cell_type": "markdown",
   "metadata": {
    "deletable": false,
    "editable": false,
    "id": "rDoOMd3uTqnZ",
    "tags": [
     "start_task"
    ]
   },
   "source": [
    "**Задание 3**"
   ]
  },
  {
   "cell_type": "code",
   "execution_count": 3,
   "metadata": {
    "deletable": false,
    "id": "oWTVX3gW_Zct"
   },
   "outputs": [
    {
     "data": {
      "text/html": [
       "<div>\n",
       "<style scoped>\n",
       "    .dataframe tbody tr th:only-of-type {\n",
       "        vertical-align: middle;\n",
       "    }\n",
       "\n",
       "    .dataframe tbody tr th {\n",
       "        vertical-align: top;\n",
       "    }\n",
       "\n",
       "    .dataframe thead th {\n",
       "        text-align: right;\n",
       "    }\n",
       "</style>\n",
       "<table border=\"1\" class=\"dataframe\">\n",
       "  <thead>\n",
       "    <tr style=\"text-align: right;\">\n",
       "      <th></th>\n",
       "      <th>userID</th>\n",
       "      <th>Track</th>\n",
       "      <th>artist</th>\n",
       "      <th>genre</th>\n",
       "      <th>City</th>\n",
       "      <th>time</th>\n",
       "      <th>Day</th>\n",
       "    </tr>\n",
       "  </thead>\n",
       "  <tbody>\n",
       "    <tr>\n",
       "      <th>0</th>\n",
       "      <td>FFB692EC</td>\n",
       "      <td>Kamigata To Boots</td>\n",
       "      <td>The Mass Missile</td>\n",
       "      <td>rock</td>\n",
       "      <td>Saint-Petersburg</td>\n",
       "      <td>20:28:33</td>\n",
       "      <td>Wednesday</td>\n",
       "    </tr>\n",
       "    <tr>\n",
       "      <th>1</th>\n",
       "      <td>55204538</td>\n",
       "      <td>Delayed Because of Accident</td>\n",
       "      <td>Andreas Rönnberg</td>\n",
       "      <td>rock</td>\n",
       "      <td>Moscow</td>\n",
       "      <td>14:07:09</td>\n",
       "      <td>Friday</td>\n",
       "    </tr>\n",
       "    <tr>\n",
       "      <th>2</th>\n",
       "      <td>20EC38</td>\n",
       "      <td>Funiculì funiculà</td>\n",
       "      <td>Mario Lanza</td>\n",
       "      <td>pop</td>\n",
       "      <td>Saint-Petersburg</td>\n",
       "      <td>20:58:07</td>\n",
       "      <td>Wednesday</td>\n",
       "    </tr>\n",
       "    <tr>\n",
       "      <th>3</th>\n",
       "      <td>A3DD03C9</td>\n",
       "      <td>Dragons in the Sunset</td>\n",
       "      <td>Fire + Ice</td>\n",
       "      <td>folk</td>\n",
       "      <td>Saint-Petersburg</td>\n",
       "      <td>08:37:09</td>\n",
       "      <td>Monday</td>\n",
       "    </tr>\n",
       "    <tr>\n",
       "      <th>4</th>\n",
       "      <td>E2DC1FAE</td>\n",
       "      <td>Soul People</td>\n",
       "      <td>Space Echo</td>\n",
       "      <td>dance</td>\n",
       "      <td>Moscow</td>\n",
       "      <td>08:34:34</td>\n",
       "      <td>Monday</td>\n",
       "    </tr>\n",
       "    <tr>\n",
       "      <th>5</th>\n",
       "      <td>842029A1</td>\n",
       "      <td>Преданная</td>\n",
       "      <td>IMPERVTOR</td>\n",
       "      <td>rusrap</td>\n",
       "      <td>Saint-Petersburg</td>\n",
       "      <td>13:09:41</td>\n",
       "      <td>Friday</td>\n",
       "    </tr>\n",
       "    <tr>\n",
       "      <th>6</th>\n",
       "      <td>4CB90AA5</td>\n",
       "      <td>True</td>\n",
       "      <td>Roman Messer</td>\n",
       "      <td>dance</td>\n",
       "      <td>Moscow</td>\n",
       "      <td>13:00:07</td>\n",
       "      <td>Wednesday</td>\n",
       "    </tr>\n",
       "    <tr>\n",
       "      <th>7</th>\n",
       "      <td>F03E1C1F</td>\n",
       "      <td>Feeling This Way</td>\n",
       "      <td>Polina Griffith</td>\n",
       "      <td>dance</td>\n",
       "      <td>Moscow</td>\n",
       "      <td>20:47:49</td>\n",
       "      <td>Wednesday</td>\n",
       "    </tr>\n",
       "    <tr>\n",
       "      <th>8</th>\n",
       "      <td>8FA1D3BE</td>\n",
       "      <td>И вновь продолжается бой</td>\n",
       "      <td>NaN</td>\n",
       "      <td>ruspop</td>\n",
       "      <td>Moscow</td>\n",
       "      <td>09:17:40</td>\n",
       "      <td>Friday</td>\n",
       "    </tr>\n",
       "    <tr>\n",
       "      <th>9</th>\n",
       "      <td>E772D5C0</td>\n",
       "      <td>Pessimist</td>\n",
       "      <td>NaN</td>\n",
       "      <td>dance</td>\n",
       "      <td>Saint-Petersburg</td>\n",
       "      <td>21:20:49</td>\n",
       "      <td>Wednesday</td>\n",
       "    </tr>\n",
       "  </tbody>\n",
       "</table>\n",
       "</div>"
      ],
      "text/plain": [
       "     userID                        Track            artist   genre  \\\n",
       "0  FFB692EC            Kamigata To Boots  The Mass Missile    rock   \n",
       "1  55204538  Delayed Because of Accident  Andreas Rönnberg    rock   \n",
       "2    20EC38            Funiculì funiculà       Mario Lanza     pop   \n",
       "3  A3DD03C9        Dragons in the Sunset        Fire + Ice    folk   \n",
       "4  E2DC1FAE                  Soul People        Space Echo   dance   \n",
       "5  842029A1                    Преданная         IMPERVTOR  rusrap   \n",
       "6  4CB90AA5                         True      Roman Messer   dance   \n",
       "7  F03E1C1F             Feeling This Way   Polina Griffith   dance   \n",
       "8  8FA1D3BE     И вновь продолжается бой               NaN  ruspop   \n",
       "9  E772D5C0                    Pessimist               NaN   dance   \n",
       "\n",
       "             City        time        Day  \n",
       "0  Saint-Petersburg  20:28:33  Wednesday  \n",
       "1            Moscow  14:07:09     Friday  \n",
       "2  Saint-Petersburg  20:58:07  Wednesday  \n",
       "3  Saint-Petersburg  08:37:09     Monday  \n",
       "4            Moscow  08:34:34     Monday  \n",
       "5  Saint-Petersburg  13:09:41     Friday  \n",
       "6            Moscow  13:00:07  Wednesday  \n",
       "7            Moscow  20:47:49  Wednesday  \n",
       "8            Moscow  09:17:40     Friday  \n",
       "9  Saint-Petersburg  21:20:49  Wednesday  "
      ]
     },
     "execution_count": 3,
     "metadata": {},
     "output_type": "execute_result"
    }
   ],
   "source": [
    "df.head(10) # получение первых 10 строк таблицы df"
   ]
  },
  {
   "cell_type": "markdown",
   "metadata": {
    "deletable": false,
    "editable": false,
    "id": "EO73Kwic_Zct",
    "tags": [
     "start_task"
    ]
   },
   "source": [
    "**Задание 4**"
   ]
  },
  {
   "cell_type": "code",
   "execution_count": 4,
   "metadata": {
    "deletable": false,
    "id": "DSf2kIb-_Zct"
   },
   "outputs": [
    {
     "name": "stdout",
     "output_type": "stream",
     "text": [
      "<class 'pandas.core.frame.DataFrame'>\n",
      "RangeIndex: 65079 entries, 0 to 65078\n",
      "Data columns (total 7 columns):\n",
      " #   Column    Non-Null Count  Dtype \n",
      "---  ------    --------------  ----- \n",
      " 0     userID  65079 non-null  object\n",
      " 1   Track     63848 non-null  object\n",
      " 2   artist    57876 non-null  object\n",
      " 3   genre     63881 non-null  object\n",
      " 4     City    65079 non-null  object\n",
      " 5   time      65079 non-null  object\n",
      " 6   Day       65079 non-null  object\n",
      "dtypes: object(7)\n",
      "memory usage: 3.5+ MB\n"
     ]
    }
   ],
   "source": [
    "df.info() # получение общей информации о данных в таблице df"
   ]
  },
  {
   "cell_type": "markdown",
   "metadata": {
    "deletable": false,
    "editable": false,
    "id": "TaQ2Iwbr_Zct"
   },
   "source": [
    "Количество значений в столбцах различается. Значит, в данных есть пропущенные значения."
   ]
  },
  {
   "cell_type": "markdown",
   "metadata": {
    "deletable": false,
    "editable": false,
    "id": "4P0UCWzswgEm",
    "tags": [
     "start_task"
    ]
   },
   "source": [
    "**Задание 5**"
   ]
  },
  {
   "cell_type": "code",
   "execution_count": 5,
   "metadata": {
    "id": "c137-ZstwgEm"
   },
   "outputs": [],
   "source": [
    "# Названия не соответствуют <<змеиному_регистру>>"
   ]
  },
  {
   "cell_type": "markdown",
   "metadata": {
    "deletable": false,
    "editable": false,
    "id": "MCB6-dXG_Zct"
   },
   "source": [
    "**Выводы**\n",
    "\n",
    "В каждой строке таблицы — данные о прослушанном треке. Часть колонок описывает саму композицию: название, исполнителя и жанр. Остальные данные рассказывают о пользователе: из какого он города, когда он слушал музыку.\n",
    "\n",
    "Предварительно можно утверждать, что данных достаточно для проверки гипотез. Но встречаются пропуски в данных, а в названиях колонок — расхождения с хорошим стилем.\n",
    "\n",
    "Чтобы двигаться дальше, нужно устранить проблемы в данных."
   ]
  },
  {
   "cell_type": "markdown",
   "metadata": {
    "deletable": false,
    "editable": false,
    "id": "SjYF6Ub9_Zct"
   },
   "source": [
    "## Предобработка данных"
   ]
  },
  {
   "cell_type": "markdown",
   "metadata": {
    "deletable": false,
    "editable": false,
    "id": "dIaKXr29_Zct",
    "tags": [
     "start_task"
    ]
   },
   "source": [
    "### Переименование столбцов\n",
    "\n",
    "**Задание 6**"
   ]
  },
  {
   "cell_type": "code",
   "execution_count": 6,
   "metadata": {
    "deletable": false,
    "id": "oKOTdF_Q_Zct"
   },
   "outputs": [
    {
     "data": {
      "text/plain": [
       "Index(['  userID', 'Track', 'artist', 'genre', '  City  ', 'time', 'Day'], dtype='object')"
      ]
     },
     "execution_count": 6,
     "metadata": {},
     "output_type": "execute_result"
    }
   ],
   "source": [
    "df.columns # перечень названий столбцов таблицы df"
   ]
  },
  {
   "cell_type": "markdown",
   "metadata": {
    "deletable": false,
    "editable": false,
    "id": "zj5534cv_Zct",
    "tags": [
     "start_task"
    ]
   },
   "source": [
    "**Задание 7**"
   ]
  },
  {
   "cell_type": "code",
   "execution_count": 7,
   "metadata": {
    "deletable": false,
    "id": "ISlFqs5y_Zct"
   },
   "outputs": [],
   "source": [
    "df = df.rename(columns={\n",
    "    '  userID':'user_id',\n",
    "    'Track':'track',\n",
    "    '  City  ':'city',\n",
    "    'Day':'day'})\n",
    "    # переименование столбцов"
   ]
  },
  {
   "cell_type": "markdown",
   "metadata": {
    "deletable": false,
    "editable": false,
    "id": "1dqbh00J_Zct",
    "tags": [
     "start_task"
    ]
   },
   "source": [
    "**Задание 8**"
   ]
  },
  {
   "cell_type": "code",
   "execution_count": 8,
   "metadata": {
    "deletable": false,
    "id": "d4NOAmTW_Zct"
   },
   "outputs": [
    {
     "data": {
      "text/plain": [
       "Index(['user_id', 'track', 'artist', 'genre', 'city', 'time', 'day'], dtype='object')"
      ]
     },
     "execution_count": 8,
     "metadata": {},
     "output_type": "execute_result"
    }
   ],
   "source": [
    "df.columns # проверка результатов - перечень названий столбцов"
   ]
  },
  {
   "cell_type": "markdown",
   "metadata": {
    "deletable": false,
    "editable": false,
    "id": "5ISfbcfY_Zct",
    "tags": [
     "start_task"
    ]
   },
   "source": [
    "### Обработка пропущенных значений\n",
    "\n",
    "**Задание 9**"
   ]
  },
  {
   "cell_type": "code",
   "execution_count": 9,
   "metadata": {
    "deletable": false,
    "id": "RskX29qr_Zct"
   },
   "outputs": [
    {
     "data": {
      "text/plain": [
       "user_id       0\n",
       "track      1231\n",
       "artist     7203\n",
       "genre      1198\n",
       "city          0\n",
       "time          0\n",
       "day           0\n",
       "dtype: int64"
      ]
     },
     "execution_count": 9,
     "metadata": {},
     "output_type": "execute_result"
    }
   ],
   "source": [
    "df.isna().sum() # подсчёт пропусков"
   ]
  },
  {
   "cell_type": "markdown",
   "metadata": {
    "deletable": false,
    "editable": false,
    "id": "fSv2laPA_Zct",
    "tags": [
     "start_task"
    ]
   },
   "source": [
    "**Задание 10**"
   ]
  },
  {
   "cell_type": "code",
   "execution_count": 10,
   "metadata": {
    "deletable": false,
    "id": "KplB5qWs_Zct"
   },
   "outputs": [],
   "source": [
    "columns_to_replace = ['track','artist','genre']\n",
    "for column in columns_to_replace:\n",
    "    df[column] = df[column].fillna('unknown') # замена пропущенных значений на 'unknown'"
   ]
  },
  {
   "cell_type": "markdown",
   "metadata": {
    "deletable": false,
    "editable": false,
    "id": "Ilsm-MZo_Zct",
    "tags": [
     "start_task"
    ]
   },
   "source": [
    "**Задание 11**"
   ]
  },
  {
   "cell_type": "code",
   "execution_count": 11,
   "metadata": {
    "deletable": false,
    "id": "Tq4nYRX4_Zct"
   },
   "outputs": [
    {
     "data": {
      "text/plain": [
       "user_id    0\n",
       "track      0\n",
       "artist     0\n",
       "genre      0\n",
       "city       0\n",
       "time       0\n",
       "day        0\n",
       "dtype: int64"
      ]
     },
     "execution_count": 11,
     "metadata": {},
     "output_type": "execute_result"
    }
   ],
   "source": [
    "df.isna().sum()# проверка на отсутствие пропусков"
   ]
  },
  {
   "cell_type": "markdown",
   "metadata": {
    "deletable": false,
    "editable": false,
    "id": "BWKRtBJ3_Zct",
    "tags": [
     "start_task"
    ]
   },
   "source": [
    "### Обработка дубликатов\n",
    "\n",
    "**Задание 12**"
   ]
  },
  {
   "cell_type": "code",
   "execution_count": 12,
   "metadata": {
    "deletable": false,
    "id": "36eES_S0_Zct"
   },
   "outputs": [
    {
     "data": {
      "text/plain": [
       "3826"
      ]
     },
     "execution_count": 12,
     "metadata": {},
     "output_type": "execute_result"
    }
   ],
   "source": [
    "df.duplicated().sum() # подсчёт явных дубликатов"
   ]
  },
  {
   "cell_type": "markdown",
   "metadata": {
    "deletable": false,
    "editable": false,
    "id": "Ot25h6XR_Zct",
    "tags": [
     "start_task"
    ]
   },
   "source": [
    "**Задание 13**"
   ]
  },
  {
   "cell_type": "code",
   "execution_count": 13,
   "metadata": {
    "deletable": false,
    "id": "exFHq6tt_Zct"
   },
   "outputs": [],
   "source": [
    "df = df.drop_duplicates().reset_index(drop = True)# удаление явных дубликатов, создание новых индексов и удаление старых"
   ]
  },
  {
   "cell_type": "markdown",
   "metadata": {
    "deletable": false,
    "editable": false,
    "id": "Im2YwBEG_Zct",
    "tags": [
     "start_task"
    ]
   },
   "source": [
    "**Задание 14**"
   ]
  },
  {
   "cell_type": "code",
   "execution_count": 14,
   "metadata": {
    "deletable": false,
    "id": "-8PuNWQ0_Zct"
   },
   "outputs": [
    {
     "data": {
      "text/plain": [
       "0"
      ]
     },
     "execution_count": 14,
     "metadata": {},
     "output_type": "execute_result"
    }
   ],
   "source": [
    "df.duplicated().sum() # проверка на отсутствие явных дубликатов"
   ]
  },
  {
   "cell_type": "markdown",
   "metadata": {
    "deletable": false,
    "editable": false,
    "id": "eSjWwsOh_Zct",
    "tags": [
     "start_task"
    ]
   },
   "source": [
    "**Задание 15**"
   ]
  },
  {
   "cell_type": "code",
   "execution_count": 15,
   "metadata": {
    "deletable": false,
    "id": "JIUcqzZN_Zct"
   },
   "outputs": [
    {
     "name": "stdout",
     "output_type": "stream",
     "text": [
      "['acid' 'acoustic' 'action' 'adult' 'africa' 'afrikaans' 'alternative'\n",
      " 'alternativepunk' 'ambient' 'americana' 'animated' 'anime' 'arabesk'\n",
      " 'arabic' 'arena' 'argentinetango' 'art' 'audiobook' 'author' 'avantgarde'\n",
      " 'axé' 'baile' 'balkan' 'beats' 'bigroom' 'black' 'bluegrass' 'blues'\n",
      " 'bollywood' 'bossa' 'brazilian' 'breakbeat' 'breaks' 'broadway'\n",
      " 'cantautori' 'cantopop' 'canzone' 'caribbean' 'caucasian' 'celtic'\n",
      " 'chamber' 'chanson' 'children' 'chill' 'chinese' 'choral' 'christian'\n",
      " 'christmas' 'classical' 'classicmetal' 'club' 'colombian' 'comedy'\n",
      " 'conjazz' 'contemporary' 'country' 'cuban' 'dance' 'dancehall' 'dancepop'\n",
      " 'dark' 'death' 'deep' 'deutschrock' 'deutschspr' 'dirty' 'disco' 'dnb'\n",
      " 'documentary' 'downbeat' 'downtempo' 'drum' 'dub' 'dubstep' 'eastern'\n",
      " 'easy' 'electronic' 'electropop' 'emo' 'entehno' 'epicmetal' 'estrada'\n",
      " 'ethnic' 'eurofolk' 'european' 'experimental' 'extrememetal' 'fado'\n",
      " 'fairytail' 'film' 'fitness' 'flamenco' 'folk' 'folklore' 'folkmetal'\n",
      " 'folkrock' 'folktronica' 'forró' 'frankreich' 'französisch' 'french'\n",
      " 'funk' 'future' 'gangsta' 'garage' 'german' 'ghazal' 'gitarre' 'glitch'\n",
      " 'gospel' 'gothic' 'grime' 'grunge' 'gypsy' 'handsup' \"hard'n'heavy\"\n",
      " 'hardcore' 'hardstyle' 'hardtechno' 'hip' 'hip-hop' 'hiphop' 'historisch'\n",
      " 'holiday' 'hop' 'horror' 'house' 'hymn' 'idm' 'independent' 'indian'\n",
      " 'indie' 'indipop' 'industrial' 'inspirational' 'instrumental'\n",
      " 'international' 'irish' 'jam' 'japanese' 'jazz' 'jewish' 'jpop' 'jungle'\n",
      " 'k-pop' 'karadeniz' 'karaoke' 'kayokyoku' 'korean' 'laiko' 'latin'\n",
      " 'latino' 'leftfield' 'local' 'lounge' 'loungeelectronic' 'lovers'\n",
      " 'malaysian' 'mandopop' 'marschmusik' 'meditative' 'mediterranean'\n",
      " 'melodic' 'metal' 'metalcore' 'mexican' 'middle' 'minimal'\n",
      " 'miscellaneous' 'modern' 'mood' 'mpb' 'muslim' 'native' 'neoklassik'\n",
      " 'neue' 'new' 'newage' 'newwave' 'nu' 'nujazz' 'numetal' 'oceania' 'old'\n",
      " 'opera' 'orchestral' 'other' 'piano' 'podcasts' 'pop' 'popdance'\n",
      " 'popelectronic' 'popeurodance' 'poprussian' 'post' 'posthardcore'\n",
      " 'postrock' 'power' 'progmetal' 'progressive' 'psychedelic' 'punjabi'\n",
      " 'punk' 'quebecois' 'ragga' 'ram' 'rancheras' 'rap' 'rave' 'reggae'\n",
      " 'reggaeton' 'regional' 'relax' 'religious' 'retro' 'rhythm' 'rnb' 'rnr'\n",
      " 'rock' 'rockabilly' 'rockalternative' 'rockindie' 'rockother' 'romance'\n",
      " 'roots' 'ruspop' 'rusrap' 'rusrock' 'russian' 'salsa' 'samba' 'scenic'\n",
      " 'schlager' 'self' 'sertanejo' 'shanson' 'shoegazing' 'showtunes' 'singer'\n",
      " 'ska' 'skarock' 'slow' 'smooth' 'soft' 'soul' 'soulful' 'sound'\n",
      " 'soundtrack' 'southern' 'specialty' 'speech' 'spiritual' 'sport'\n",
      " 'stonerrock' 'surf' 'swing' 'synthpop' 'synthrock' 'sängerportrait'\n",
      " 'tango' 'tanzorchester' 'taraftar' 'tatar' 'tech' 'techno' 'teen'\n",
      " 'thrash' 'top' 'traditional' 'tradjazz' 'trance' 'tribal' 'trip'\n",
      " 'triphop' 'tropical' 'türk' 'türkçe' 'ukrrock' 'unknown' 'urban' 'uzbek'\n",
      " 'variété' 'vi' 'videogame' 'vocal' 'western' 'world' 'worldbeat' 'ïîï'\n",
      " 'электроника']\n"
     ]
    }
   ],
   "source": [
    "genres_list=df['genre']\n",
    "genres_list=genres_list.sort_values()\n",
    "genres_list=genres_list.unique()\n",
    "print(genres_list)"
   ]
  },
  {
   "cell_type": "markdown",
   "metadata": {
    "deletable": false,
    "editable": false,
    "id": "qej-Qmuo_Zct",
    "tags": [
     "start_task"
    ]
   },
   "source": [
    "**Задание 16**"
   ]
  },
  {
   "cell_type": "code",
   "execution_count": 16,
   "metadata": {
    "deletable": false,
    "id": "ErNDkmns_Zct"
   },
   "outputs": [],
   "source": [
    "df['genre'] = df['genre'].replace(['hip','hop','hip-hop'], 'hiphop')"
   ]
  },
  {
   "cell_type": "markdown",
   "metadata": {
    "deletable": false,
    "editable": false,
    "id": "zQKF16_RG15m",
    "tags": [
     "start_task"
    ]
   },
   "source": [
    "**Задание 17**"
   ]
  },
  {
   "cell_type": "code",
   "execution_count": 17,
   "metadata": {
    "deletable": false,
    "id": "wvixALnFG15m"
   },
   "outputs": [
    {
     "name": "stdout",
     "output_type": "stream",
     "text": [
      "['acid' 'acoustic' 'action' 'adult' 'africa' 'afrikaans' 'alternative'\n",
      " 'alternativepunk' 'ambient' 'americana' 'animated' 'anime' 'arabesk'\n",
      " 'arabic' 'arena' 'argentinetango' 'art' 'audiobook' 'author' 'avantgarde'\n",
      " 'axé' 'baile' 'balkan' 'beats' 'bigroom' 'black' 'bluegrass' 'blues'\n",
      " 'bollywood' 'bossa' 'brazilian' 'breakbeat' 'breaks' 'broadway'\n",
      " 'cantautori' 'cantopop' 'canzone' 'caribbean' 'caucasian' 'celtic'\n",
      " 'chamber' 'chanson' 'children' 'chill' 'chinese' 'choral' 'christian'\n",
      " 'christmas' 'classical' 'classicmetal' 'club' 'colombian' 'comedy'\n",
      " 'conjazz' 'contemporary' 'country' 'cuban' 'dance' 'dancehall' 'dancepop'\n",
      " 'dark' 'death' 'deep' 'deutschrock' 'deutschspr' 'dirty' 'disco' 'dnb'\n",
      " 'documentary' 'downbeat' 'downtempo' 'drum' 'dub' 'dubstep' 'eastern'\n",
      " 'easy' 'electronic' 'electropop' 'emo' 'entehno' 'epicmetal' 'estrada'\n",
      " 'ethnic' 'eurofolk' 'european' 'experimental' 'extrememetal' 'fado'\n",
      " 'fairytail' 'film' 'fitness' 'flamenco' 'folk' 'folklore' 'folkmetal'\n",
      " 'folkrock' 'folktronica' 'forró' 'frankreich' 'französisch' 'french'\n",
      " 'funk' 'future' 'gangsta' 'garage' 'german' 'ghazal' 'gitarre' 'glitch'\n",
      " 'gospel' 'gothic' 'grime' 'grunge' 'gypsy' 'handsup' \"hard'n'heavy\"\n",
      " 'hardcore' 'hardstyle' 'hardtechno' 'hiphop' 'historisch' 'holiday'\n",
      " 'horror' 'house' 'hymn' 'idm' 'independent' 'indian' 'indie' 'indipop'\n",
      " 'industrial' 'inspirational' 'instrumental' 'international' 'irish' 'jam'\n",
      " 'japanese' 'jazz' 'jewish' 'jpop' 'jungle' 'k-pop' 'karadeniz' 'karaoke'\n",
      " 'kayokyoku' 'korean' 'laiko' 'latin' 'latino' 'leftfield' 'local'\n",
      " 'lounge' 'loungeelectronic' 'lovers' 'malaysian' 'mandopop' 'marschmusik'\n",
      " 'meditative' 'mediterranean' 'melodic' 'metal' 'metalcore' 'mexican'\n",
      " 'middle' 'minimal' 'miscellaneous' 'modern' 'mood' 'mpb' 'muslim'\n",
      " 'native' 'neoklassik' 'neue' 'new' 'newage' 'newwave' 'nu' 'nujazz'\n",
      " 'numetal' 'oceania' 'old' 'opera' 'orchestral' 'other' 'piano' 'podcasts'\n",
      " 'pop' 'popdance' 'popelectronic' 'popeurodance' 'poprussian' 'post'\n",
      " 'posthardcore' 'postrock' 'power' 'progmetal' 'progressive' 'psychedelic'\n",
      " 'punjabi' 'punk' 'quebecois' 'ragga' 'ram' 'rancheras' 'rap' 'rave'\n",
      " 'reggae' 'reggaeton' 'regional' 'relax' 'religious' 'retro' 'rhythm'\n",
      " 'rnb' 'rnr' 'rock' 'rockabilly' 'rockalternative' 'rockindie' 'rockother'\n",
      " 'romance' 'roots' 'ruspop' 'rusrap' 'rusrock' 'russian' 'salsa' 'samba'\n",
      " 'scenic' 'schlager' 'self' 'sertanejo' 'shanson' 'shoegazing' 'showtunes'\n",
      " 'singer' 'ska' 'skarock' 'slow' 'smooth' 'soft' 'soul' 'soulful' 'sound'\n",
      " 'soundtrack' 'southern' 'specialty' 'speech' 'spiritual' 'sport'\n",
      " 'stonerrock' 'surf' 'swing' 'synthpop' 'synthrock' 'sängerportrait'\n",
      " 'tango' 'tanzorchester' 'taraftar' 'tatar' 'tech' 'techno' 'teen'\n",
      " 'thrash' 'top' 'traditional' 'tradjazz' 'trance' 'tribal' 'trip'\n",
      " 'triphop' 'tropical' 'türk' 'türkçe' 'ukrrock' 'unknown' 'urban' 'uzbek'\n",
      " 'variété' 'vi' 'videogame' 'vocal' 'western' 'world' 'worldbeat' 'ïîï'\n",
      " 'электроника']\n"
     ]
    }
   ],
   "source": [
    "genres_list=df['genre']\n",
    "genres_list=genres_list.sort_values()\n",
    "genres_list=genres_list.unique()\n",
    "print(genres_list)# проверка на отсутствие неявных дубликатов"
   ]
  },
  {
   "cell_type": "markdown",
   "metadata": {
    "deletable": false,
    "editable": false,
    "id": "jz6a9-7HQUDd"
   },
   "source": [
    "**Выводы**\n",
    "\n",
    "Предобработка обнаружила три проблемы в данных:\n",
    "\n",
    "- нарушения в стиле заголовков,\n",
    "- пропущенные значения,\n",
    "- дубликаты — явные и неявные.\n",
    "\n",
    "Вы исправили заголовки, чтобы упростить работу с таблицей. Без дубликатов исследование станет более точным.\n",
    "\n",
    "Пропущенные значения вы заменили на `'unknown'`. Ещё предстоит увидеть, не повредят ли исследованию пропуски в колонке `genre`.\n",
    "\n",
    "Теперь можно перейти к проверке гипотез."
   ]
  },
  {
   "cell_type": "markdown",
   "metadata": {
    "deletable": false,
    "editable": false,
    "id": "WttZHXH0SqKk"
   },
   "source": [
    "## Проверка гипотез"
   ]
  },
  {
   "cell_type": "markdown",
   "metadata": {
    "deletable": false,
    "editable": false,
    "id": "Im936VVi_Zcu"
   },
   "source": [
    "### Сравнение поведения пользователей двух столиц"
   ]
  },
  {
   "cell_type": "markdown",
   "metadata": {
    "deletable": false,
    "editable": false,
    "id": "nwt_MuaL_Zcu"
   },
   "source": [
    "Первая гипотеза утверждает, что пользователи по-разному слушают музыку в Москве и Санкт-Петербурге. Проверим это предположение по данным о трёх днях недели — понедельнике, среде и пятнице. Для этого:\n",
    "\n",
    "* Разделим пользователей Москвы и Санкт-Петербурга.\n",
    "* Сравним, сколько треков послушала каждая группа пользователей в понедельник, среду и пятницу.\n"
   ]
  },
  {
   "cell_type": "markdown",
   "metadata": {
    "deletable": false,
    "id": "8Dw_YMmT_Zcu",
    "tags": [
     "start_task"
    ]
   },
   "source": [
    "**Задание 18**\n",
    "\n"
   ]
  },
  {
   "cell_type": "code",
   "execution_count": 18,
   "metadata": {
    "deletable": false,
    "id": "0_Qs96oh_Zcu"
   },
   "outputs": [
    {
     "data": {
      "text/plain": [
       "city\n",
       "Moscow              42741\n",
       "Saint-Petersburg    18512\n",
       "Name: track, dtype: int64"
      ]
     },
     "execution_count": 18,
     "metadata": {},
     "output_type": "execute_result"
    }
   ],
   "source": [
    "df.groupby('city')['track'].count() # подсчёт прослушиваний в каждом городе"
   ]
  },
  {
   "cell_type": "markdown",
   "metadata": {
    "id": "dzli3w8o_Zcu",
    "tags": [
     "start_task"
    ]
   },
   "source": [
    "**Задание 19**\n"
   ]
  },
  {
   "cell_type": "code",
   "execution_count": 19,
   "metadata": {
    "deletable": false,
    "id": "uZMKjiJz_Zcu"
   },
   "outputs": [
    {
     "data": {
      "text/plain": [
       "day\n",
       "Friday       21840\n",
       "Monday       21354\n",
       "Wednesday    18059\n",
       "Name: track, dtype: int64"
      ]
     },
     "execution_count": 19,
     "metadata": {},
     "output_type": "execute_result"
    }
   ],
   "source": [
    "df.groupby('day')['track'].count() # подсчёт прослушиваний в каждый из трёх дней,"
   ]
  },
  {
   "cell_type": "markdown",
   "metadata": {
    "deletable": false,
    "editable": false,
    "id": "POzs8bGa_Zcu",
    "tags": [
     "start_task"
    ]
   },
   "source": [
    "**Задание 20**"
   ]
  },
  {
   "cell_type": "code",
   "execution_count": 20,
   "metadata": {
    "deletable": false,
    "id": "Nz3GdQB1_Zcu"
   },
   "outputs": [],
   "source": [
    "def number_tracks(day, city):\n",
    "    track_list = df[df['day']==day] # выберите только строки df со значением переменной day в столбце day\n",
    "    track_list = track_list[track_list['city']==city] # выберите только строки track_list со значением переменной city в столбце city\n",
    "    track_list_count = track_list['user_id'].count() # вызовите метод подсчета строк для track_list и выберите столбец user_id\n",
    "    return track_list_count # верните значение track_list_count из функции"
   ]
  },
  {
   "cell_type": "markdown",
   "metadata": {
    "deletable": false,
    "editable": false,
    "id": "ytf7xFrFJQ2r",
    "tags": [
     "start_task"
    ]
   },
   "source": [
    "**Задание 21**"
   ]
  },
  {
   "cell_type": "code",
   "execution_count": 21,
   "metadata": {
    "deletable": false,
    "id": "rJcRATNQ_Zcu"
   },
   "outputs": [
    {
     "name": "stdout",
     "output_type": "stream",
     "text": [
      "15740\n"
     ]
    }
   ],
   "source": [
    "print(number_tracks('Monday', 'Moscow'))\n",
    "# количество прослушиваний в Москве по понедельникам"
   ]
  },
  {
   "cell_type": "code",
   "execution_count": 22,
   "metadata": {
    "deletable": false,
    "id": "hq_ncZ5T_Zcu"
   },
   "outputs": [
    {
     "name": "stdout",
     "output_type": "stream",
     "text": [
      "5614\n"
     ]
    }
   ],
   "source": [
    "print(number_tracks('Monday', 'Saint-Petersburg')) # количество прослушиваний в Санкт-Петербурге по понедельникам"
   ]
  },
  {
   "cell_type": "code",
   "execution_count": 23,
   "metadata": {
    "deletable": false,
    "id": "_NTy2VPU_Zcu"
   },
   "outputs": [
    {
     "name": "stdout",
     "output_type": "stream",
     "text": [
      "11056\n"
     ]
    }
   ],
   "source": [
    "print(number_tracks('Wednesday', 'Moscow'))# количество прослушиваний в Москве по средам"
   ]
  },
  {
   "cell_type": "code",
   "execution_count": 24,
   "metadata": {
    "deletable": false,
    "id": "j2y3TAwo_Zcu"
   },
   "outputs": [
    {
     "name": "stdout",
     "output_type": "stream",
     "text": [
      "7003\n"
     ]
    }
   ],
   "source": [
    "print(number_tracks('Wednesday', 'Saint-Petersburg'))# количество прослушиваний в Санкт-Петербурге по средам"
   ]
  },
  {
   "cell_type": "code",
   "execution_count": 25,
   "metadata": {
    "deletable": false,
    "id": "vYDw5u_K_Zcu"
   },
   "outputs": [
    {
     "name": "stdout",
     "output_type": "stream",
     "text": [
      "15945\n"
     ]
    }
   ],
   "source": [
    "print(number_tracks('Friday', 'Moscow'))# количество прослушиваний в Москве по пятницам"
   ]
  },
  {
   "cell_type": "code",
   "execution_count": 26,
   "metadata": {
    "deletable": false,
    "id": "8_yzFtW3_Zcu"
   },
   "outputs": [
    {
     "name": "stdout",
     "output_type": "stream",
     "text": [
      "5895\n"
     ]
    }
   ],
   "source": [
    "print(number_tracks('Friday', 'Saint-Petersburg'))# количество прослушиваний в Санкт-Петербурге по пятницам"
   ]
  },
  {
   "cell_type": "markdown",
   "metadata": {
    "deletable": false,
    "editable": false,
    "id": "7QXffbO-_Zcu",
    "tags": [
     "start_task"
    ]
   },
   "source": [
    "**Задание 22**"
   ]
  },
  {
   "cell_type": "code",
   "execution_count": 27,
   "metadata": {
    "deletable": false,
    "id": "APAcLpOr_Zcu"
   },
   "outputs": [
    {
     "name": "stdout",
     "output_type": "stream",
     "text": [
      "               city  monday  wednesday  friday\n",
      "0            Moscow   15740      11056   15945\n",
      "1  Saint-Petersburg    5614       7003    5895\n"
     ]
    }
   ],
   "source": [
    "columns = ['city', 'monday', 'wednesday', 'friday']\n",
    "info = pd.DataFrame(data = [['Moscow',15740,11056,15945], ['Saint-Petersburg',5614,7003,5895]], columns = columns)# создание таблицы с результатами\n",
    "print(info) # вывод таблицы на экран"
   ]
  },
  {
   "cell_type": "markdown",
   "metadata": {
    "deletable": false,
    "editable": false,
    "id": "-EgPIHYu_Zcu"
   },
   "source": [
    "**Выводы**\n",
    "\n",
    "Данные показывают разницу поведения пользователей:\n",
    "\n",
    "- В Москве пик прослушиваний приходится на понедельник и пятницу, а в среду заметен спад.\n",
    "- В Петербурге, наоборот, больше слушают музыку по средам. Активность в понедельник и пятницу здесь почти в равной мере уступает среде.\n",
    "\n",
    "Значит, данные говорят в пользу первой гипотезы."
   ]
  },
  {
   "cell_type": "markdown",
   "metadata": {
    "deletable": false,
    "editable": false,
    "id": "atZAxtq4_Zcu"
   },
   "source": [
    "### Музыка в начале и в конце недели"
   ]
  },
  {
   "cell_type": "markdown",
   "metadata": {
    "deletable": false,
    "editable": false,
    "id": "eXrQqXFH_Zcu"
   },
   "source": [
    "Согласно второй гипотезе, утром в понедельник в Москве преобладают одни жанры, а в Петербурге — другие. Так же и вечером пятницы преобладают разные жанры — в зависимости от города."
   ]
  },
  {
   "cell_type": "markdown",
   "metadata": {
    "deletable": false,
    "editable": false,
    "id": "S8UcW6Hw_Zcu",
    "tags": [
     "start_task"
    ]
   },
   "source": [
    "**Задание 23**"
   ]
  },
  {
   "cell_type": "code",
   "execution_count": 28,
   "metadata": {
    "deletable": false,
    "id": "qeaFfM_P_Zcu"
   },
   "outputs": [],
   "source": [
    "moscow_general = df[df['city' ]== 'Moscow'] # получение таблицы moscow_general из тех строк таблицы df, для которых значение в столбце 'city' равно 'Moscow'"
   ]
  },
  {
   "cell_type": "code",
   "execution_count": 29,
   "metadata": {
    "deletable": false,
    "id": "ORaVRKto_Zcu"
   },
   "outputs": [
    {
     "data": {
      "text/html": [
       "<div>\n",
       "<style scoped>\n",
       "    .dataframe tbody tr th:only-of-type {\n",
       "        vertical-align: middle;\n",
       "    }\n",
       "\n",
       "    .dataframe tbody tr th {\n",
       "        vertical-align: top;\n",
       "    }\n",
       "\n",
       "    .dataframe thead th {\n",
       "        text-align: right;\n",
       "    }\n",
       "</style>\n",
       "<table border=\"1\" class=\"dataframe\">\n",
       "  <thead>\n",
       "    <tr style=\"text-align: right;\">\n",
       "      <th></th>\n",
       "      <th>user_id</th>\n",
       "      <th>track</th>\n",
       "      <th>artist</th>\n",
       "      <th>genre</th>\n",
       "      <th>city</th>\n",
       "      <th>time</th>\n",
       "      <th>day</th>\n",
       "    </tr>\n",
       "  </thead>\n",
       "  <tbody>\n",
       "    <tr>\n",
       "      <th>0</th>\n",
       "      <td>FFB692EC</td>\n",
       "      <td>Kamigata To Boots</td>\n",
       "      <td>The Mass Missile</td>\n",
       "      <td>rock</td>\n",
       "      <td>Saint-Petersburg</td>\n",
       "      <td>20:28:33</td>\n",
       "      <td>Wednesday</td>\n",
       "    </tr>\n",
       "    <tr>\n",
       "      <th>2</th>\n",
       "      <td>20EC38</td>\n",
       "      <td>Funiculì funiculà</td>\n",
       "      <td>Mario Lanza</td>\n",
       "      <td>pop</td>\n",
       "      <td>Saint-Petersburg</td>\n",
       "      <td>20:58:07</td>\n",
       "      <td>Wednesday</td>\n",
       "    </tr>\n",
       "    <tr>\n",
       "      <th>3</th>\n",
       "      <td>A3DD03C9</td>\n",
       "      <td>Dragons in the Sunset</td>\n",
       "      <td>Fire + Ice</td>\n",
       "      <td>folk</td>\n",
       "      <td>Saint-Petersburg</td>\n",
       "      <td>08:37:09</td>\n",
       "      <td>Monday</td>\n",
       "    </tr>\n",
       "    <tr>\n",
       "      <th>5</th>\n",
       "      <td>842029A1</td>\n",
       "      <td>Преданная</td>\n",
       "      <td>IMPERVTOR</td>\n",
       "      <td>rusrap</td>\n",
       "      <td>Saint-Petersburg</td>\n",
       "      <td>13:09:41</td>\n",
       "      <td>Friday</td>\n",
       "    </tr>\n",
       "    <tr>\n",
       "      <th>9</th>\n",
       "      <td>E772D5C0</td>\n",
       "      <td>Pessimist</td>\n",
       "      <td>unknown</td>\n",
       "      <td>dance</td>\n",
       "      <td>Saint-Petersburg</td>\n",
       "      <td>21:20:49</td>\n",
       "      <td>Wednesday</td>\n",
       "    </tr>\n",
       "    <tr>\n",
       "      <th>...</th>\n",
       "      <td>...</td>\n",
       "      <td>...</td>\n",
       "      <td>...</td>\n",
       "      <td>...</td>\n",
       "      <td>...</td>\n",
       "      <td>...</td>\n",
       "      <td>...</td>\n",
       "    </tr>\n",
       "    <tr>\n",
       "      <th>61239</th>\n",
       "      <td>D94F810B</td>\n",
       "      <td>Theme from the Walking Dead</td>\n",
       "      <td>Proyecto Halloween</td>\n",
       "      <td>film</td>\n",
       "      <td>Saint-Petersburg</td>\n",
       "      <td>21:14:40</td>\n",
       "      <td>Monday</td>\n",
       "    </tr>\n",
       "    <tr>\n",
       "      <th>61240</th>\n",
       "      <td>BC8EC5CF</td>\n",
       "      <td>Red Lips: Gta (Rover Rework)</td>\n",
       "      <td>Rover</td>\n",
       "      <td>electronic</td>\n",
       "      <td>Saint-Petersburg</td>\n",
       "      <td>21:06:50</td>\n",
       "      <td>Monday</td>\n",
       "    </tr>\n",
       "    <tr>\n",
       "      <th>61241</th>\n",
       "      <td>29E04611</td>\n",
       "      <td>Bre Petrunko</td>\n",
       "      <td>Perunika Trio</td>\n",
       "      <td>world</td>\n",
       "      <td>Saint-Petersburg</td>\n",
       "      <td>13:56:00</td>\n",
       "      <td>Monday</td>\n",
       "    </tr>\n",
       "    <tr>\n",
       "      <th>61242</th>\n",
       "      <td>1B91C621</td>\n",
       "      <td>(Hello) Cloud Mountain</td>\n",
       "      <td>sleepmakeswaves</td>\n",
       "      <td>postrock</td>\n",
       "      <td>Saint-Petersburg</td>\n",
       "      <td>09:22:13</td>\n",
       "      <td>Monday</td>\n",
       "    </tr>\n",
       "    <tr>\n",
       "      <th>61249</th>\n",
       "      <td>D08D4A55</td>\n",
       "      <td>Maybe One Day (feat. Black Spade)</td>\n",
       "      <td>Blu &amp; Exile</td>\n",
       "      <td>hiphop</td>\n",
       "      <td>Saint-Petersburg</td>\n",
       "      <td>10:00:00</td>\n",
       "      <td>Monday</td>\n",
       "    </tr>\n",
       "  </tbody>\n",
       "</table>\n",
       "<p>18512 rows × 7 columns</p>\n",
       "</div>"
      ],
      "text/plain": [
       "        user_id                              track              artist  \\\n",
       "0      FFB692EC                  Kamigata To Boots    The Mass Missile   \n",
       "2        20EC38                  Funiculì funiculà         Mario Lanza   \n",
       "3      A3DD03C9              Dragons in the Sunset          Fire + Ice   \n",
       "5      842029A1                          Преданная           IMPERVTOR   \n",
       "9      E772D5C0                          Pessimist             unknown   \n",
       "...         ...                                ...                 ...   \n",
       "61239  D94F810B        Theme from the Walking Dead  Proyecto Halloween   \n",
       "61240  BC8EC5CF       Red Lips: Gta (Rover Rework)               Rover   \n",
       "61241  29E04611                       Bre Petrunko       Perunika Trio   \n",
       "61242  1B91C621             (Hello) Cloud Mountain     sleepmakeswaves   \n",
       "61249  D08D4A55  Maybe One Day (feat. Black Spade)         Blu & Exile   \n",
       "\n",
       "            genre              city      time        day  \n",
       "0            rock  Saint-Petersburg  20:28:33  Wednesday  \n",
       "2             pop  Saint-Petersburg  20:58:07  Wednesday  \n",
       "3            folk  Saint-Petersburg  08:37:09     Monday  \n",
       "5          rusrap  Saint-Petersburg  13:09:41     Friday  \n",
       "9           dance  Saint-Petersburg  21:20:49  Wednesday  \n",
       "...           ...               ...       ...        ...  \n",
       "61239        film  Saint-Petersburg  21:14:40     Monday  \n",
       "61240  electronic  Saint-Petersburg  21:06:50     Monday  \n",
       "61241       world  Saint-Petersburg  13:56:00     Monday  \n",
       "61242    postrock  Saint-Petersburg  09:22:13     Monday  \n",
       "61249      hiphop  Saint-Petersburg  10:00:00     Monday  \n",
       "\n",
       "[18512 rows x 7 columns]"
      ]
     },
     "execution_count": 29,
     "metadata": {},
     "output_type": "execute_result"
    }
   ],
   "source": [
    "spb_general = df[df['city'] == 'Saint-Petersburg'] # получение таблицы spb_general из тех строк таблицы df, для которых значение в столбце 'city' равно 'Saint-Petersburg'\n",
    "spb_general"
   ]
  },
  {
   "cell_type": "markdown",
   "metadata": {
    "deletable": false,
    "editable": false,
    "id": "MEJV-CX2_Zcu",
    "tags": [
     "start_task"
    ]
   },
   "source": [
    "**Задание 24**"
   ]
  },
  {
   "cell_type": "code",
   "execution_count": 30,
   "metadata": {
    "deletable": false,
    "id": "laJT9BYl_Zcu"
   },
   "outputs": [],
   "source": [
    "def genre_weekday(df, day, time1, time2):\n",
    "    # последовательная фильтрация\n",
    "    # оставляем в genre_df только те строки df, у которых день равен day\n",
    "    genre_df = df[df['day'] == day] # ваш код здесь\n",
    "    # оставляем в genre_df только те строки genre_df, у которых время меньше time2\n",
    "    genre_df = genre_df[genre_df['time'] < time2] # ваш код здесь\n",
    "    # оставляем в genre_df только те строки genre_df, у которых время больше time1\n",
    "    genre_df = genre_df[genre_df['time'] > time1]# ваш код здесь\n",
    "    # сгруппируем отфильтрованный датафрейм по столбцу с названиями жанров, возьмём столбец genre и посчитаем кол-во строк для каждого жанра методом count()\n",
    "    genre_df_grouped = genre_df.groupby('genre')['genre'].count() # ваш код здесь\n",
    "    # отсортируем результат по убыванию (чтобы в начале Series оказались самые популярные жанры)\n",
    "    genre_df_sorted =  genre_df_grouped.sort_values(ascending=False) # ваш код здесь\n",
    "    # вернём Series с 10 самыми популярными жанрами в указанный отрезок времени заданного дня\n",
    "    return genre_df_sorted[:10]"
   ]
  },
  {
   "cell_type": "markdown",
   "metadata": {
    "deletable": false,
    "editable": false,
    "id": "la2s2_PF_Zcu",
    "tags": [
     "start_task"
    ]
   },
   "source": [
    "**Задание 25**"
   ]
  },
  {
   "cell_type": "code",
   "execution_count": 31,
   "metadata": {
    "deletable": false,
    "id": "yz7itPUQ_Zcu",
    "scrolled": true
   },
   "outputs": [
    {
     "name": "stdout",
     "output_type": "stream",
     "text": [
      "genre\n",
      "pop            781\n",
      "dance          549\n",
      "electronic     480\n",
      "rock           474\n",
      "hiphop         286\n",
      "ruspop         186\n",
      "world          181\n",
      "rusrap         175\n",
      "alternative    164\n",
      "unknown        161\n",
      "Name: genre, dtype: int64\n"
     ]
    }
   ],
   "source": [
    "print(genre_weekday(moscow_general, 'Monday', '07:00', '11:00'))# вызов функции для утра понедельника в Москве (вместо df — таблица moscow_general)"
   ]
  },
  {
   "cell_type": "code",
   "execution_count": 32,
   "metadata": {
    "deletable": false,
    "id": "kwUcHPdy_Zcu"
   },
   "outputs": [
    {
     "name": "stdout",
     "output_type": "stream",
     "text": [
      "genre\n",
      "pop            218\n",
      "dance          182\n",
      "rock           162\n",
      "electronic     147\n",
      "hiphop          80\n",
      "ruspop          64\n",
      "alternative     58\n",
      "rusrap          55\n",
      "jazz            44\n",
      "classical       40\n",
      "Name: genre, dtype: int64\n"
     ]
    }
   ],
   "source": [
    "print(genre_weekday(spb_general, 'Monday', '07:00', '11:00'))# вызов функции для утра понедельника в Петербурге (вместо df — таблица spb_general)"
   ]
  },
  {
   "cell_type": "code",
   "execution_count": 33,
   "metadata": {
    "deletable": false,
    "id": "EzXVRE1o_Zcu"
   },
   "outputs": [
    {
     "name": "stdout",
     "output_type": "stream",
     "text": [
      "genre\n",
      "pop            713\n",
      "rock           517\n",
      "dance          495\n",
      "electronic     482\n",
      "hiphop         273\n",
      "world          208\n",
      "ruspop         170\n",
      "alternative    163\n",
      "classical      163\n",
      "rusrap         142\n",
      "Name: genre, dtype: int64\n"
     ]
    }
   ],
   "source": [
    "print(genre_weekday(moscow_general, 'Friday', '17:00', '23:00'))# вызов функции для вечера пятницы в Москве"
   ]
  },
  {
   "cell_type": "code",
   "execution_count": 34,
   "metadata": {
    "deletable": false,
    "id": "JZaEKu5v_Zcu"
   },
   "outputs": [
    {
     "name": "stdout",
     "output_type": "stream",
     "text": [
      "genre\n",
      "pop            256\n",
      "electronic     216\n",
      "rock           216\n",
      "dance          210\n",
      "hiphop          97\n",
      "alternative     63\n",
      "jazz            61\n",
      "classical       60\n",
      "rusrap          59\n",
      "world           54\n",
      "Name: genre, dtype: int64\n"
     ]
    }
   ],
   "source": [
    "print(genre_weekday(spb_general, 'Friday', '17:00', '23:00')) # вызов функции для вечера пятницы в Петербурге"
   ]
  },
  {
   "cell_type": "markdown",
   "metadata": {
    "deletable": false,
    "editable": false,
    "id": "wrCe4MNX_Zcu"
   },
   "source": [
    "**Выводы**\n",
    "\n",
    "Если сравнить топ-10 жанров в понедельник утром, можно сделать такие выводы:\n",
    "\n",
    "1. В Москве и Петербурге слушают похожую музыку. Единственное различие — в московский рейтинг вошёл жанр “world”, а в петербургский — джаз и классика.\n",
    "\n",
    "2. В Москве пропущенных значений оказалось так много, что значение `'unknown'` заняло десятое место среди самых популярных жанров. Значит, пропущенные значения занимают существенную долю в данных и угрожают достоверности исследования.\n",
    "\n",
    "Вечер пятницы не меняет эту картину. Некоторые жанры поднимаются немного выше, другие спускаются, но в целом топ-10 остаётся тем же самым.\n",
    "\n",
    "Таким образом, вторая гипотеза подтвердилась лишь частично:\n",
    "* Пользователи слушают похожую музыку в начале недели и в конце.\n",
    "* Разница между Москвой и Петербургом не слишком выражена. В Москве чаще слушают русскую популярную музыку, в Петербурге — джаз.\n",
    "\n",
    "Однако пропуски в данных ставят под сомнение этот результат. В Москве их так много, что рейтинг топ-10 мог бы выглядеть иначе, если бы не утерянные  данные о жанрах."
   ]
  },
  {
   "cell_type": "markdown",
   "metadata": {
    "deletable": false,
    "editable": false,
    "id": "JolODAqr_Zcu"
   },
   "source": [
    "### Жанровые предпочтения в Москве и Петербурге\n",
    "\n",
    "Гипотеза: Петербург — столица рэпа, музыку этого жанра там слушают чаще, чем в Москве.  А Москва — город контрастов, в котором, тем не менее, преобладает поп-музыка."
   ]
  },
  {
   "cell_type": "markdown",
   "metadata": {
    "deletable": false,
    "editable": false,
    "id": "DlegSvaT_Zcu",
    "tags": [
     "start_task"
    ]
   },
   "source": [
    "**Задание 26**"
   ]
  },
  {
   "cell_type": "code",
   "execution_count": 41,
   "metadata": {
    "deletable": false,
    "id": "r19lIPke_Zcu"
   },
   "outputs": [
    {
     "data": {
      "text/plain": [
       "genre\n",
       "pop            5892\n",
       "dance          4435\n",
       "rock           3965\n",
       "electronic     3786\n",
       "hiphop         2096\n",
       "               ... \n",
       "neoklassik        1\n",
       "mood              1\n",
       "metalcore         1\n",
       "marschmusik       1\n",
       "ïîï               1\n",
       "Name: genre, Length: 267, dtype: int64"
      ]
     },
     "execution_count": 41,
     "metadata": {},
     "output_type": "execute_result"
    }
   ],
   "source": [
    "moscow_genres = moscow_general.groupby('genre')['genre'].count() # одной строкой: группировка таблицы moscow_general по столбцу 'genre', выбор столбца `genre`, подсчёт числа значений 'genre' методом count(), сохранение в moscow_genres\n",
    "moscow_genres = moscow_genres.sort_values(ascending = False)\n",
    "moscow_genres # сортировка получившегося Series в порядке убывания и сохранение обратно в moscow_genres"
   ]
  },
  {
   "cell_type": "markdown",
   "metadata": {
    "deletable": false,
    "editable": false,
    "id": "6kMuomxTiIr8",
    "tags": [
     "start_task"
    ]
   },
   "source": [
    "**Задание 27**"
   ]
  },
  {
   "cell_type": "code",
   "execution_count": 42,
   "metadata": {
    "deletable": false,
    "id": "WhCSooF8_Zcv"
   },
   "outputs": [
    {
     "data": {
      "text/plain": [
       "genre\n",
       "pop            5892\n",
       "dance          4435\n",
       "rock           3965\n",
       "electronic     3786\n",
       "hiphop         2096\n",
       "classical      1616\n",
       "world          1432\n",
       "alternative    1379\n",
       "ruspop         1372\n",
       "rusrap         1161\n",
       "Name: genre, dtype: int64"
      ]
     },
     "execution_count": 42,
     "metadata": {},
     "output_type": "execute_result"
    }
   ],
   "source": [
    "moscow_genres.head(10) # просмотр первых 10 строк moscow_genres"
   ]
  },
  {
   "cell_type": "markdown",
   "metadata": {
    "deletable": false,
    "editable": false,
    "id": "cnPG2vnN_Zcv",
    "tags": [
     "start_task"
    ]
   },
   "source": [
    "**Задание 28**"
   ]
  },
  {
   "cell_type": "code",
   "execution_count": 45,
   "metadata": {
    "deletable": false,
    "id": "gluLIpE7_Zcv"
   },
   "outputs": [
    {
     "data": {
      "text/plain": [
       "genre\n",
       "pop              2431\n",
       "dance            1932\n",
       "rock             1879\n",
       "electronic       1736\n",
       "hiphop            960\n",
       "                 ... \n",
       "international       1\n",
       "independent         1\n",
       "idm                 1\n",
       "gypsy               1\n",
       "электроника         1\n",
       "Name: genre, Length: 211, dtype: int64"
      ]
     },
     "execution_count": 45,
     "metadata": {},
     "output_type": "execute_result"
    }
   ],
   "source": [
    "spb_genres = spb_general.groupby('genre')['genre'].count()\n",
    "spb_genres = spb_genres.sort_values(ascending=False)\n",
    "spb_genres\n",
    "# одной строкой: группировка таблицы spb_general по столбцу 'genre', выбор столбца `genre`, подсчёт числа значений 'genre' методом count(), сохранение в spb_genres\n",
    "# сортировка получившегося Series в порядке убывания и сохранение обратно в spb_genres"
   ]
  },
  {
   "cell_type": "markdown",
   "metadata": {
    "deletable": false,
    "editable": false,
    "id": "5Doha_ODgyQ8",
    "tags": [
     "start_task"
    ]
   },
   "source": [
    "**Задание 29**"
   ]
  },
  {
   "cell_type": "code",
   "execution_count": 44,
   "metadata": {
    "deletable": false,
    "id": "uaGJHjVU_Zcv"
   },
   "outputs": [
    {
     "data": {
      "text/plain": [
       "genre\n",
       "pop            2431\n",
       "dance          1932\n",
       "rock           1879\n",
       "electronic     1736\n",
       "hiphop          960\n",
       "alternative     649\n",
       "classical       646\n",
       "rusrap          564\n",
       "ruspop          538\n",
       "world           515\n",
       "Name: track, dtype: int64"
      ]
     },
     "execution_count": 44,
     "metadata": {},
     "output_type": "execute_result"
    }
   ],
   "source": [
    "spb_genres.head(10) # просмотр первых 10 строк spb_genres"
   ]
  },
  {
   "cell_type": "markdown",
   "metadata": {
    "deletable": false,
    "editable": false,
    "id": "RY51YJYu_Zcv"
   },
   "source": [
    "**Выводы**"
   ]
  },
  {
   "cell_type": "markdown",
   "metadata": {
    "deletable": false,
    "editable": false,
    "id": "nVhnJEm__Zcv"
   },
   "source": [
    "Гипотеза частично подтвердилась:\n",
    "* Поп-музыка — самый популярный жанр в Москве, как и предполагала гипотеза. Более того, в топ-10 жанров встречается близкий жанр — русская популярная музыка.\n",
    "* Вопреки ожиданиям, рэп одинаково популярен в Москве и Петербурге.\n"
   ]
  },
  {
   "cell_type": "markdown",
   "metadata": {
    "deletable": false,
    "editable": false,
    "id": "ykKQ0N65_Zcv"
   },
   "source": [
    "## Итоги исследования"
   ]
  },
  {
   "cell_type": "raw",
   "metadata": {},
   "source": []
  },
  {
   "cell_type": "markdown",
   "metadata": {
    "deletable": false,
    "editable": false,
    "id": "tjUwbHb3_Zcv"
   },
   "source": [
    "Вы проверили три гипотезы и установили:\n",
    "\n",
    "1. День недели по-разному влияет на активность пользователей в Москве и Петербурге.\n",
    "\n",
    "Первая гипотеза полностью подтвердилась.\n",
    "\n",
    "2. Музыкальные предпочтения не сильно меняются в течение недели — будь то Москва или Петербург. Небольшие различия заметны в начале недели, по понедельникам:\n",
    "* в Москве слушают музыку жанра “world”,\n",
    "* в Петербурге — джаз и классику.\n",
    "\n",
    "Таким образом, вторая гипотеза подтвердилась лишь отчасти. Этот результат мог оказаться иным, если бы не пропуски в данных.\n",
    "\n",
    "3. Во вкусах пользователей Москвы и Петербурга больше общего, чем различий. Вопреки ожиданиям, предпочтения жанров в Петербурге напоминают московские.\n",
    "\n",
    "Третья гипотеза не подтвердилась. Если различия в предпочтениях и существуют, на основной массе пользователей они незаметны.\n",
    "\n",
    "**На практике исследования содержат проверки статистических гипотез.**\n",
    "Из части данных одного сервиса невозможно сделать какие-то выводы о всех пользователях сервиса без методов статистики.\n",
    "Проверки статистических гипотез покажут, насколько они достоверны, исходя из имеющихся данных.\n",
    "С методами проверок гипотез вы ещё познакомитесь в следующих темах."
   ]
  }
 ],
 "metadata": {
  "ExecuteTimeLog": [
   {
    "duration": 347,
    "start_time": "2024-02-24T18:12:46.683Z"
   },
   {
    "duration": 68,
    "start_time": "2024-02-24T18:13:32.432Z"
   },
   {
    "duration": 101,
    "start_time": "2024-02-24T18:13:41.039Z"
   },
   {
    "duration": 42,
    "start_time": "2024-02-24T18:16:15.306Z"
   },
   {
    "duration": 84,
    "start_time": "2024-02-24T18:17:10.028Z"
   },
   {
    "duration": 7,
    "start_time": "2024-02-24T18:17:19.424Z"
   },
   {
    "duration": 415,
    "start_time": "2024-02-24T18:18:09.413Z"
   },
   {
    "duration": 115,
    "start_time": "2024-02-24T18:18:09.833Z"
   },
   {
    "duration": 0,
    "start_time": "2024-02-24T18:18:09.951Z"
   },
   {
    "duration": 0,
    "start_time": "2024-02-24T18:18:09.952Z"
   },
   {
    "duration": 0,
    "start_time": "2024-02-24T18:18:09.953Z"
   },
   {
    "duration": 0,
    "start_time": "2024-02-24T18:18:09.954Z"
   },
   {
    "duration": 0,
    "start_time": "2024-02-24T18:18:09.954Z"
   },
   {
    "duration": 0,
    "start_time": "2024-02-24T18:18:09.956Z"
   },
   {
    "duration": 0,
    "start_time": "2024-02-24T18:18:09.957Z"
   },
   {
    "duration": 0,
    "start_time": "2024-02-24T18:18:09.958Z"
   },
   {
    "duration": 0,
    "start_time": "2024-02-24T18:18:09.958Z"
   },
   {
    "duration": 0,
    "start_time": "2024-02-24T18:18:09.960Z"
   },
   {
    "duration": 0,
    "start_time": "2024-02-24T18:18:09.960Z"
   },
   {
    "duration": 0,
    "start_time": "2024-02-24T18:18:09.961Z"
   },
   {
    "duration": 0,
    "start_time": "2024-02-24T18:18:09.962Z"
   },
   {
    "duration": 0,
    "start_time": "2024-02-24T18:18:09.963Z"
   },
   {
    "duration": 0,
    "start_time": "2024-02-24T18:18:09.964Z"
   },
   {
    "duration": 0,
    "start_time": "2024-02-24T18:18:09.965Z"
   },
   {
    "duration": 0,
    "start_time": "2024-02-24T18:18:09.965Z"
   },
   {
    "duration": 0,
    "start_time": "2024-02-24T18:18:09.966Z"
   },
   {
    "duration": 0,
    "start_time": "2024-02-24T18:18:09.967Z"
   },
   {
    "duration": 0,
    "start_time": "2024-02-24T18:18:09.968Z"
   },
   {
    "duration": 0,
    "start_time": "2024-02-24T18:18:09.969Z"
   },
   {
    "duration": 0,
    "start_time": "2024-02-24T18:18:09.970Z"
   },
   {
    "duration": 0,
    "start_time": "2024-02-24T18:18:09.971Z"
   },
   {
    "duration": 0,
    "start_time": "2024-02-24T18:18:09.972Z"
   },
   {
    "duration": 0,
    "start_time": "2024-02-24T18:18:09.973Z"
   },
   {
    "duration": 0,
    "start_time": "2024-02-24T18:18:09.974Z"
   },
   {
    "duration": 0,
    "start_time": "2024-02-24T18:18:09.975Z"
   },
   {
    "duration": 0,
    "start_time": "2024-02-24T18:18:09.976Z"
   },
   {
    "duration": 0,
    "start_time": "2024-02-24T18:18:09.977Z"
   },
   {
    "duration": 0,
    "start_time": "2024-02-24T18:18:09.978Z"
   },
   {
    "duration": 0,
    "start_time": "2024-02-24T18:18:09.979Z"
   },
   {
    "duration": 0,
    "start_time": "2024-02-24T18:18:09.980Z"
   },
   {
    "duration": 0,
    "start_time": "2024-02-24T18:18:09.981Z"
   },
   {
    "duration": 0,
    "start_time": "2024-02-24T18:18:09.982Z"
   },
   {
    "duration": 0,
    "start_time": "2024-02-24T18:18:09.983Z"
   },
   {
    "duration": 0,
    "start_time": "2024-02-24T18:18:09.984Z"
   },
   {
    "duration": 6,
    "start_time": "2024-02-24T18:18:34.479Z"
   },
   {
    "duration": 6,
    "start_time": "2024-02-24T18:19:09.607Z"
   },
   {
    "duration": 50,
    "start_time": "2024-02-24T18:20:56.208Z"
   },
   {
    "duration": 73,
    "start_time": "2024-02-24T18:21:03.444Z"
   },
   {
    "duration": 6,
    "start_time": "2024-02-24T18:22:06.913Z"
   },
   {
    "duration": 6,
    "start_time": "2024-02-24T18:22:09.313Z"
   },
   {
    "duration": 6,
    "start_time": "2024-02-24T18:22:14.367Z"
   },
   {
    "duration": 47,
    "start_time": "2024-02-24T18:22:18.843Z"
   },
   {
    "duration": 42,
    "start_time": "2024-02-24T18:23:59.446Z"
   },
   {
    "duration": 71,
    "start_time": "2024-02-24T18:24:14.862Z"
   },
   {
    "duration": 2,
    "start_time": "2024-02-24T18:25:23.998Z"
   },
   {
    "duration": 475,
    "start_time": "2024-02-24T18:25:32.818Z"
   },
   {
    "duration": 107,
    "start_time": "2024-02-24T18:25:33.295Z"
   },
   {
    "duration": 0,
    "start_time": "2024-02-24T18:25:33.404Z"
   },
   {
    "duration": 0,
    "start_time": "2024-02-24T18:25:33.406Z"
   },
   {
    "duration": 1,
    "start_time": "2024-02-24T18:25:33.406Z"
   },
   {
    "duration": 0,
    "start_time": "2024-02-24T18:25:33.408Z"
   },
   {
    "duration": 0,
    "start_time": "2024-02-24T18:25:33.408Z"
   },
   {
    "duration": 0,
    "start_time": "2024-02-24T18:25:33.410Z"
   },
   {
    "duration": 0,
    "start_time": "2024-02-24T18:25:33.410Z"
   },
   {
    "duration": 0,
    "start_time": "2024-02-24T18:25:33.412Z"
   },
   {
    "duration": 0,
    "start_time": "2024-02-24T18:25:33.413Z"
   },
   {
    "duration": 0,
    "start_time": "2024-02-24T18:25:33.414Z"
   },
   {
    "duration": 0,
    "start_time": "2024-02-24T18:25:33.415Z"
   },
   {
    "duration": 0,
    "start_time": "2024-02-24T18:25:33.416Z"
   },
   {
    "duration": 0,
    "start_time": "2024-02-24T18:25:33.433Z"
   },
   {
    "duration": 0,
    "start_time": "2024-02-24T18:25:33.434Z"
   },
   {
    "duration": 0,
    "start_time": "2024-02-24T18:25:33.434Z"
   },
   {
    "duration": 0,
    "start_time": "2024-02-24T18:25:33.435Z"
   },
   {
    "duration": 0,
    "start_time": "2024-02-24T18:25:33.436Z"
   },
   {
    "duration": 0,
    "start_time": "2024-02-24T18:25:33.436Z"
   },
   {
    "duration": 0,
    "start_time": "2024-02-24T18:25:33.440Z"
   },
   {
    "duration": 0,
    "start_time": "2024-02-24T18:25:33.441Z"
   },
   {
    "duration": 0,
    "start_time": "2024-02-24T18:25:33.442Z"
   },
   {
    "duration": 0,
    "start_time": "2024-02-24T18:25:33.444Z"
   },
   {
    "duration": 0,
    "start_time": "2024-02-24T18:25:33.445Z"
   },
   {
    "duration": 0,
    "start_time": "2024-02-24T18:25:33.446Z"
   },
   {
    "duration": 0,
    "start_time": "2024-02-24T18:25:33.447Z"
   },
   {
    "duration": 0,
    "start_time": "2024-02-24T18:25:33.448Z"
   },
   {
    "duration": 0,
    "start_time": "2024-02-24T18:25:33.450Z"
   },
   {
    "duration": 0,
    "start_time": "2024-02-24T18:25:33.451Z"
   },
   {
    "duration": 0,
    "start_time": "2024-02-24T18:25:33.452Z"
   },
   {
    "duration": 0,
    "start_time": "2024-02-24T18:25:33.453Z"
   },
   {
    "duration": 0,
    "start_time": "2024-02-24T18:25:33.454Z"
   },
   {
    "duration": 0,
    "start_time": "2024-02-24T18:25:33.455Z"
   },
   {
    "duration": 0,
    "start_time": "2024-02-24T18:25:33.456Z"
   },
   {
    "duration": 0,
    "start_time": "2024-02-24T18:25:33.457Z"
   },
   {
    "duration": 0,
    "start_time": "2024-02-24T18:25:33.458Z"
   },
   {
    "duration": 0,
    "start_time": "2024-02-24T18:25:33.460Z"
   },
   {
    "duration": 259,
    "start_time": "2024-02-24T18:26:07.254Z"
   },
   {
    "duration": 196,
    "start_time": "2024-02-24T18:26:09.951Z"
   },
   {
    "duration": 12,
    "start_time": "2024-02-24T18:32:02.748Z"
   },
   {
    "duration": 359,
    "start_time": "2024-02-24T18:32:40.893Z"
   },
   {
    "duration": 173,
    "start_time": "2024-02-24T18:32:41.254Z"
   },
   {
    "duration": 25,
    "start_time": "2024-02-24T18:32:41.428Z"
   },
   {
    "duration": 42,
    "start_time": "2024-02-24T18:32:41.455Z"
   },
   {
    "duration": 13,
    "start_time": "2024-02-24T18:32:41.498Z"
   },
   {
    "duration": 40,
    "start_time": "2024-02-24T18:32:41.513Z"
   },
   {
    "duration": 25,
    "start_time": "2024-02-24T18:32:41.555Z"
   },
   {
    "duration": 47,
    "start_time": "2024-02-24T18:32:41.581Z"
   },
   {
    "duration": 22,
    "start_time": "2024-02-24T18:32:41.629Z"
   },
   {
    "duration": 30,
    "start_time": "2024-02-24T18:32:41.653Z"
   },
   {
    "duration": 12,
    "start_time": "2024-02-24T18:32:41.685Z"
   },
   {
    "duration": 20,
    "start_time": "2024-02-24T18:32:41.698Z"
   },
   {
    "duration": 25,
    "start_time": "2024-02-24T18:32:41.720Z"
   },
   {
    "duration": 28,
    "start_time": "2024-02-24T18:32:41.747Z"
   },
   {
    "duration": 28,
    "start_time": "2024-02-24T18:32:41.777Z"
   },
   {
    "duration": 41,
    "start_time": "2024-02-24T18:32:41.806Z"
   },
   {
    "duration": 26,
    "start_time": "2024-02-24T18:32:41.848Z"
   },
   {
    "duration": 29,
    "start_time": "2024-02-24T18:32:41.875Z"
   },
   {
    "duration": 40,
    "start_time": "2024-02-24T18:32:41.905Z"
   },
   {
    "duration": 116,
    "start_time": "2024-02-24T18:32:41.947Z"
   },
   {
    "duration": 0,
    "start_time": "2024-02-24T18:32:42.066Z"
   },
   {
    "duration": 0,
    "start_time": "2024-02-24T18:32:42.067Z"
   },
   {
    "duration": 0,
    "start_time": "2024-02-24T18:32:42.068Z"
   },
   {
    "duration": 0,
    "start_time": "2024-02-24T18:32:42.069Z"
   },
   {
    "duration": 0,
    "start_time": "2024-02-24T18:32:42.070Z"
   },
   {
    "duration": 0,
    "start_time": "2024-02-24T18:32:42.071Z"
   },
   {
    "duration": 0,
    "start_time": "2024-02-24T18:32:42.072Z"
   },
   {
    "duration": 0,
    "start_time": "2024-02-24T18:32:42.073Z"
   },
   {
    "duration": 0,
    "start_time": "2024-02-24T18:32:42.074Z"
   },
   {
    "duration": 0,
    "start_time": "2024-02-24T18:32:42.075Z"
   },
   {
    "duration": 0,
    "start_time": "2024-02-24T18:32:42.076Z"
   },
   {
    "duration": 0,
    "start_time": "2024-02-24T18:32:42.077Z"
   },
   {
    "duration": 0,
    "start_time": "2024-02-24T18:32:42.078Z"
   },
   {
    "duration": 0,
    "start_time": "2024-02-24T18:32:42.079Z"
   },
   {
    "duration": 0,
    "start_time": "2024-02-24T18:32:42.080Z"
   },
   {
    "duration": 0,
    "start_time": "2024-02-24T18:32:42.081Z"
   },
   {
    "duration": 0,
    "start_time": "2024-02-24T18:32:42.082Z"
   },
   {
    "duration": 0,
    "start_time": "2024-02-24T18:32:42.083Z"
   },
   {
    "duration": 74,
    "start_time": "2024-02-24T18:33:32.485Z"
   },
   {
    "duration": 34,
    "start_time": "2024-02-24T18:33:43.124Z"
   },
   {
    "duration": 11,
    "start_time": "2024-02-24T18:38:06.794Z"
   },
   {
    "duration": 10,
    "start_time": "2024-02-24T18:38:11.307Z"
   },
   {
    "duration": 10,
    "start_time": "2024-02-24T18:38:25.598Z"
   },
   {
    "duration": 8,
    "start_time": "2024-02-24T18:40:43.267Z"
   },
   {
    "duration": 8,
    "start_time": "2024-02-24T18:40:48.641Z"
   },
   {
    "duration": 8,
    "start_time": "2024-02-24T18:40:57.176Z"
   },
   {
    "duration": 8,
    "start_time": "2024-02-24T18:40:59.188Z"
   },
   {
    "duration": 19,
    "start_time": "2024-02-24T18:41:38.657Z"
   },
   {
    "duration": 22,
    "start_time": "2024-02-24T18:41:40.249Z"
   },
   {
    "duration": 356,
    "start_time": "2024-02-24T18:42:45.977Z"
   },
   {
    "duration": 170,
    "start_time": "2024-02-24T18:42:46.334Z"
   },
   {
    "duration": 18,
    "start_time": "2024-02-24T18:42:46.505Z"
   },
   {
    "duration": 45,
    "start_time": "2024-02-24T18:42:46.525Z"
   },
   {
    "duration": 4,
    "start_time": "2024-02-24T18:42:46.571Z"
   },
   {
    "duration": 6,
    "start_time": "2024-02-24T18:42:46.576Z"
   },
   {
    "duration": 29,
    "start_time": "2024-02-24T18:42:46.583Z"
   },
   {
    "duration": 11,
    "start_time": "2024-02-24T18:42:46.613Z"
   },
   {
    "duration": 34,
    "start_time": "2024-02-24T18:42:46.625Z"
   },
   {
    "duration": 18,
    "start_time": "2024-02-24T18:42:46.661Z"
   },
   {
    "duration": 28,
    "start_time": "2024-02-24T18:42:46.680Z"
   },
   {
    "duration": 9,
    "start_time": "2024-02-24T18:42:46.710Z"
   },
   {
    "duration": 4,
    "start_time": "2024-02-24T18:42:46.720Z"
   },
   {
    "duration": 3,
    "start_time": "2024-02-24T18:42:46.725Z"
   },
   {
    "duration": 2,
    "start_time": "2024-02-24T18:42:46.733Z"
   },
   {
    "duration": 13,
    "start_time": "2024-02-24T18:42:46.736Z"
   },
   {
    "duration": 3,
    "start_time": "2024-02-24T18:42:46.750Z"
   },
   {
    "duration": 10,
    "start_time": "2024-02-24T18:42:46.754Z"
   },
   {
    "duration": 4,
    "start_time": "2024-02-24T18:42:46.765Z"
   },
   {
    "duration": 71,
    "start_time": "2024-02-24T18:42:46.770Z"
   },
   {
    "duration": 0,
    "start_time": "2024-02-24T18:42:46.843Z"
   },
   {
    "duration": 0,
    "start_time": "2024-02-24T18:42:46.844Z"
   },
   {
    "duration": 0,
    "start_time": "2024-02-24T18:42:46.845Z"
   },
   {
    "duration": 0,
    "start_time": "2024-02-24T18:42:46.846Z"
   },
   {
    "duration": 0,
    "start_time": "2024-02-24T18:42:46.846Z"
   },
   {
    "duration": 0,
    "start_time": "2024-02-24T18:42:46.848Z"
   },
   {
    "duration": 0,
    "start_time": "2024-02-24T18:42:46.849Z"
   },
   {
    "duration": 0,
    "start_time": "2024-02-24T18:42:46.849Z"
   },
   {
    "duration": 0,
    "start_time": "2024-02-24T18:42:46.850Z"
   },
   {
    "duration": 0,
    "start_time": "2024-02-24T18:42:46.851Z"
   },
   {
    "duration": 0,
    "start_time": "2024-02-24T18:42:46.852Z"
   },
   {
    "duration": 0,
    "start_time": "2024-02-24T18:42:46.853Z"
   },
   {
    "duration": 0,
    "start_time": "2024-02-24T18:42:46.854Z"
   },
   {
    "duration": 0,
    "start_time": "2024-02-24T18:42:46.855Z"
   },
   {
    "duration": 0,
    "start_time": "2024-02-24T18:42:46.856Z"
   },
   {
    "duration": 0,
    "start_time": "2024-02-24T18:42:46.857Z"
   },
   {
    "duration": 0,
    "start_time": "2024-02-24T18:42:46.858Z"
   },
   {
    "duration": 0,
    "start_time": "2024-02-24T18:42:46.859Z"
   },
   {
    "duration": 62,
    "start_time": "2024-02-24T18:43:38.984Z"
   },
   {
    "duration": 82,
    "start_time": "2024-02-24T18:45:14.360Z"
   },
   {
    "duration": 62,
    "start_time": "2024-02-24T18:49:10.662Z"
   },
   {
    "duration": 9,
    "start_time": "2024-02-24T18:49:24.799Z"
   },
   {
    "duration": 46,
    "start_time": "2024-02-24T18:49:37.173Z"
   },
   {
    "duration": 52,
    "start_time": "2024-02-24T18:49:53.380Z"
   },
   {
    "duration": 373,
    "start_time": "2024-02-24T18:49:59.649Z"
   },
   {
    "duration": 183,
    "start_time": "2024-02-24T18:50:00.024Z"
   },
   {
    "duration": 17,
    "start_time": "2024-02-24T18:50:00.209Z"
   },
   {
    "duration": 68,
    "start_time": "2024-02-24T18:50:00.227Z"
   },
   {
    "duration": 53,
    "start_time": "2024-02-24T18:50:00.298Z"
   },
   {
    "duration": 40,
    "start_time": "2024-02-24T18:50:00.353Z"
   },
   {
    "duration": 36,
    "start_time": "2024-02-24T18:50:00.394Z"
   },
   {
    "duration": 45,
    "start_time": "2024-02-24T18:50:00.431Z"
   },
   {
    "duration": 73,
    "start_time": "2024-02-24T18:50:00.478Z"
   },
   {
    "duration": 80,
    "start_time": "2024-02-24T18:50:00.553Z"
   },
   {
    "duration": 63,
    "start_time": "2024-02-24T18:50:00.634Z"
   },
   {
    "duration": 116,
    "start_time": "2024-02-24T18:50:00.698Z"
   },
   {
    "duration": 79,
    "start_time": "2024-02-24T18:50:00.815Z"
   },
   {
    "duration": 56,
    "start_time": "2024-02-24T18:50:00.897Z"
   },
   {
    "duration": 50,
    "start_time": "2024-02-24T18:50:00.955Z"
   },
   {
    "duration": 34,
    "start_time": "2024-02-24T18:50:01.006Z"
   },
   {
    "duration": 43,
    "start_time": "2024-02-24T18:50:01.042Z"
   },
   {
    "duration": 47,
    "start_time": "2024-02-24T18:50:01.086Z"
   },
   {
    "duration": 48,
    "start_time": "2024-02-24T18:50:01.135Z"
   },
   {
    "duration": 105,
    "start_time": "2024-02-24T18:50:01.185Z"
   },
   {
    "duration": 0,
    "start_time": "2024-02-24T18:50:01.291Z"
   },
   {
    "duration": 0,
    "start_time": "2024-02-24T18:50:01.293Z"
   },
   {
    "duration": 1,
    "start_time": "2024-02-24T18:50:01.293Z"
   },
   {
    "duration": 0,
    "start_time": "2024-02-24T18:50:01.295Z"
   },
   {
    "duration": 0,
    "start_time": "2024-02-24T18:50:01.296Z"
   },
   {
    "duration": 0,
    "start_time": "2024-02-24T18:50:01.297Z"
   },
   {
    "duration": 0,
    "start_time": "2024-02-24T18:50:01.298Z"
   },
   {
    "duration": 0,
    "start_time": "2024-02-24T18:50:01.299Z"
   },
   {
    "duration": 0,
    "start_time": "2024-02-24T18:50:01.300Z"
   },
   {
    "duration": 0,
    "start_time": "2024-02-24T18:50:01.301Z"
   },
   {
    "duration": 0,
    "start_time": "2024-02-24T18:50:01.302Z"
   },
   {
    "duration": 0,
    "start_time": "2024-02-24T18:50:01.303Z"
   },
   {
    "duration": 0,
    "start_time": "2024-02-24T18:50:01.304Z"
   },
   {
    "duration": 0,
    "start_time": "2024-02-24T18:50:01.305Z"
   },
   {
    "duration": 0,
    "start_time": "2024-02-24T18:50:01.306Z"
   },
   {
    "duration": 0,
    "start_time": "2024-02-24T18:50:01.307Z"
   },
   {
    "duration": 0,
    "start_time": "2024-02-24T18:50:01.308Z"
   },
   {
    "duration": 0,
    "start_time": "2024-02-24T18:50:01.309Z"
   },
   {
    "duration": 368,
    "start_time": "2024-02-24T18:55:44.759Z"
   },
   {
    "duration": 164,
    "start_time": "2024-02-24T18:55:45.128Z"
   },
   {
    "duration": 15,
    "start_time": "2024-02-24T18:55:45.293Z"
   },
   {
    "duration": 47,
    "start_time": "2024-02-24T18:55:45.310Z"
   },
   {
    "duration": 10,
    "start_time": "2024-02-24T18:55:45.359Z"
   },
   {
    "duration": 35,
    "start_time": "2024-02-24T18:55:45.370Z"
   },
   {
    "duration": 39,
    "start_time": "2024-02-24T18:55:45.407Z"
   },
   {
    "duration": 28,
    "start_time": "2024-02-24T18:55:45.447Z"
   },
   {
    "duration": 79,
    "start_time": "2024-02-24T18:55:45.476Z"
   },
   {
    "duration": 31,
    "start_time": "2024-02-24T18:55:45.557Z"
   },
   {
    "duration": 54,
    "start_time": "2024-02-24T18:55:45.590Z"
   },
   {
    "duration": 89,
    "start_time": "2024-02-24T18:55:45.646Z"
   },
   {
    "duration": 86,
    "start_time": "2024-02-24T18:55:45.738Z"
   },
   {
    "duration": 60,
    "start_time": "2024-02-24T18:55:45.825Z"
   },
   {
    "duration": 942,
    "start_time": "2024-02-24T18:55:45.887Z"
   },
   {
    "duration": 0,
    "start_time": "2024-02-24T18:55:46.831Z"
   },
   {
    "duration": 0,
    "start_time": "2024-02-24T18:55:46.832Z"
   },
   {
    "duration": 0,
    "start_time": "2024-02-24T18:55:46.833Z"
   },
   {
    "duration": 0,
    "start_time": "2024-02-24T18:55:46.834Z"
   },
   {
    "duration": 0,
    "start_time": "2024-02-24T18:55:46.835Z"
   },
   {
    "duration": 0,
    "start_time": "2024-02-24T18:55:46.836Z"
   },
   {
    "duration": 0,
    "start_time": "2024-02-24T18:55:46.836Z"
   },
   {
    "duration": 0,
    "start_time": "2024-02-24T18:55:46.838Z"
   },
   {
    "duration": 0,
    "start_time": "2024-02-24T18:55:46.838Z"
   },
   {
    "duration": 0,
    "start_time": "2024-02-24T18:55:46.840Z"
   },
   {
    "duration": 0,
    "start_time": "2024-02-24T18:55:46.840Z"
   },
   {
    "duration": 0,
    "start_time": "2024-02-24T18:55:46.841Z"
   },
   {
    "duration": 0,
    "start_time": "2024-02-24T18:55:46.843Z"
   },
   {
    "duration": 0,
    "start_time": "2024-02-24T18:55:46.843Z"
   },
   {
    "duration": 0,
    "start_time": "2024-02-24T18:55:46.844Z"
   },
   {
    "duration": 0,
    "start_time": "2024-02-24T18:55:46.845Z"
   },
   {
    "duration": 0,
    "start_time": "2024-02-24T18:55:46.846Z"
   },
   {
    "duration": 0,
    "start_time": "2024-02-24T18:55:46.847Z"
   },
   {
    "duration": 0,
    "start_time": "2024-02-24T18:55:46.849Z"
   },
   {
    "duration": 0,
    "start_time": "2024-02-24T18:55:46.850Z"
   },
   {
    "duration": 0,
    "start_time": "2024-02-24T18:55:46.851Z"
   },
   {
    "duration": 0,
    "start_time": "2024-02-24T18:55:46.852Z"
   },
   {
    "duration": 0,
    "start_time": "2024-02-24T18:55:46.852Z"
   },
   {
    "duration": 10,
    "start_time": "2024-02-24T18:58:03.438Z"
   },
   {
    "duration": 7,
    "start_time": "2024-02-24T18:59:08.284Z"
   },
   {
    "duration": 7,
    "start_time": "2024-02-24T18:59:15.076Z"
   },
   {
    "duration": 956,
    "start_time": "2024-02-24T19:00:10.053Z"
   },
   {
    "duration": 433,
    "start_time": "2024-02-24T19:00:45.608Z"
   },
   {
    "duration": 176,
    "start_time": "2024-02-24T19:00:46.046Z"
   },
   {
    "duration": 25,
    "start_time": "2024-02-24T19:00:46.223Z"
   },
   {
    "duration": 34,
    "start_time": "2024-02-24T19:00:46.251Z"
   },
   {
    "duration": 13,
    "start_time": "2024-02-24T19:00:46.288Z"
   },
   {
    "duration": 27,
    "start_time": "2024-02-24T19:00:46.302Z"
   },
   {
    "duration": 44,
    "start_time": "2024-02-24T19:00:46.331Z"
   },
   {
    "duration": 34,
    "start_time": "2024-02-24T19:00:46.377Z"
   },
   {
    "duration": 57,
    "start_time": "2024-02-24T19:00:46.413Z"
   },
   {
    "duration": 27,
    "start_time": "2024-02-24T19:00:46.471Z"
   },
   {
    "duration": 57,
    "start_time": "2024-02-24T19:00:46.499Z"
   },
   {
    "duration": 88,
    "start_time": "2024-02-24T19:00:46.557Z"
   },
   {
    "duration": 74,
    "start_time": "2024-02-24T19:00:46.647Z"
   },
   {
    "duration": 61,
    "start_time": "2024-02-24T19:00:46.724Z"
   },
   {
    "duration": 70,
    "start_time": "2024-02-24T19:00:46.786Z"
   },
   {
    "duration": 0,
    "start_time": "2024-02-24T19:00:46.858Z"
   },
   {
    "duration": 0,
    "start_time": "2024-02-24T19:00:46.859Z"
   },
   {
    "duration": 0,
    "start_time": "2024-02-24T19:00:46.860Z"
   },
   {
    "duration": 0,
    "start_time": "2024-02-24T19:00:46.861Z"
   },
   {
    "duration": 0,
    "start_time": "2024-02-24T19:00:46.863Z"
   },
   {
    "duration": 0,
    "start_time": "2024-02-24T19:00:46.864Z"
   },
   {
    "duration": 0,
    "start_time": "2024-02-24T19:00:46.865Z"
   },
   {
    "duration": 0,
    "start_time": "2024-02-24T19:00:46.866Z"
   },
   {
    "duration": 0,
    "start_time": "2024-02-24T19:00:46.867Z"
   },
   {
    "duration": 0,
    "start_time": "2024-02-24T19:00:46.868Z"
   },
   {
    "duration": 0,
    "start_time": "2024-02-24T19:00:46.869Z"
   },
   {
    "duration": 0,
    "start_time": "2024-02-24T19:00:46.870Z"
   },
   {
    "duration": 0,
    "start_time": "2024-02-24T19:00:46.871Z"
   },
   {
    "duration": 0,
    "start_time": "2024-02-24T19:00:46.872Z"
   },
   {
    "duration": 0,
    "start_time": "2024-02-24T19:00:46.873Z"
   },
   {
    "duration": 0,
    "start_time": "2024-02-24T19:00:46.873Z"
   },
   {
    "duration": 0,
    "start_time": "2024-02-24T19:00:46.875Z"
   },
   {
    "duration": 0,
    "start_time": "2024-02-24T19:00:46.876Z"
   },
   {
    "duration": 0,
    "start_time": "2024-02-24T19:00:46.877Z"
   },
   {
    "duration": 0,
    "start_time": "2024-02-24T19:00:46.878Z"
   },
   {
    "duration": 0,
    "start_time": "2024-02-24T19:00:46.879Z"
   },
   {
    "duration": 0,
    "start_time": "2024-02-24T19:00:46.880Z"
   },
   {
    "duration": 0,
    "start_time": "2024-02-24T19:00:46.880Z"
   },
   {
    "duration": 10,
    "start_time": "2024-02-24T19:01:38.588Z"
   },
   {
    "duration": 8,
    "start_time": "2024-02-24T19:02:28.910Z"
   },
   {
    "duration": 9,
    "start_time": "2024-02-24T19:02:53.316Z"
   },
   {
    "duration": 9,
    "start_time": "2024-02-24T19:04:12.204Z"
   },
   {
    "duration": 8,
    "start_time": "2024-02-24T19:04:23.396Z"
   },
   {
    "duration": 9,
    "start_time": "2024-02-24T19:07:15.482Z"
   },
   {
    "duration": 9,
    "start_time": "2024-02-24T19:07:21.554Z"
   },
   {
    "duration": 10,
    "start_time": "2024-02-24T19:07:25.731Z"
   },
   {
    "duration": 7,
    "start_time": "2024-02-24T19:07:39.979Z"
   },
   {
    "duration": 8,
    "start_time": "2024-02-24T19:07:48.749Z"
   },
   {
    "duration": 2,
    "start_time": "2024-02-24T19:09:05.803Z"
   },
   {
    "duration": 3,
    "start_time": "2024-02-24T19:09:14.570Z"
   },
   {
    "duration": 8,
    "start_time": "2024-02-24T19:09:17.762Z"
   },
   {
    "duration": 7,
    "start_time": "2024-02-24T19:09:50.703Z"
   },
   {
    "duration": 9,
    "start_time": "2024-02-24T19:09:51.451Z"
   },
   {
    "duration": 8,
    "start_time": "2024-02-24T19:10:07.562Z"
   },
   {
    "duration": 7,
    "start_time": "2024-02-24T19:10:18.971Z"
   },
   {
    "duration": 6,
    "start_time": "2024-02-24T19:10:59.626Z"
   },
   {
    "duration": 7,
    "start_time": "2024-02-24T19:11:24.354Z"
   },
   {
    "duration": 7,
    "start_time": "2024-02-24T19:12:13.793Z"
   },
   {
    "duration": 8,
    "start_time": "2024-02-24T19:16:47.561Z"
   },
   {
    "duration": 431,
    "start_time": "2024-02-24T19:17:01.708Z"
   },
   {
    "duration": 179,
    "start_time": "2024-02-24T19:17:02.142Z"
   },
   {
    "duration": 17,
    "start_time": "2024-02-24T19:17:02.323Z"
   },
   {
    "duration": 52,
    "start_time": "2024-02-24T19:17:02.343Z"
   },
   {
    "duration": 8,
    "start_time": "2024-02-24T19:17:02.397Z"
   },
   {
    "duration": 32,
    "start_time": "2024-02-24T19:17:02.407Z"
   },
   {
    "duration": 30,
    "start_time": "2024-02-24T19:17:02.441Z"
   },
   {
    "duration": 17,
    "start_time": "2024-02-24T19:17:02.473Z"
   },
   {
    "duration": 43,
    "start_time": "2024-02-24T19:17:02.491Z"
   },
   {
    "duration": 32,
    "start_time": "2024-02-24T19:17:02.537Z"
   },
   {
    "duration": 40,
    "start_time": "2024-02-24T19:17:02.570Z"
   },
   {
    "duration": 77,
    "start_time": "2024-02-24T19:17:02.612Z"
   },
   {
    "duration": 74,
    "start_time": "2024-02-24T19:17:02.690Z"
   },
   {
    "duration": 55,
    "start_time": "2024-02-24T19:17:02.766Z"
   },
   {
    "duration": 16,
    "start_time": "2024-02-24T19:17:02.823Z"
   },
   {
    "duration": 12,
    "start_time": "2024-02-24T19:17:02.840Z"
   },
   {
    "duration": 24,
    "start_time": "2024-02-24T19:17:02.853Z"
   },
   {
    "duration": 14,
    "start_time": "2024-02-24T19:17:02.878Z"
   },
   {
    "duration": 23,
    "start_time": "2024-02-24T19:17:02.894Z"
   },
   {
    "duration": 64,
    "start_time": "2024-02-24T19:17:02.918Z"
   },
   {
    "duration": 0,
    "start_time": "2024-02-24T19:17:02.983Z"
   },
   {
    "duration": 0,
    "start_time": "2024-02-24T19:17:02.985Z"
   },
   {
    "duration": 0,
    "start_time": "2024-02-24T19:17:02.986Z"
   },
   {
    "duration": 0,
    "start_time": "2024-02-24T19:17:02.987Z"
   },
   {
    "duration": 0,
    "start_time": "2024-02-24T19:17:02.988Z"
   },
   {
    "duration": 0,
    "start_time": "2024-02-24T19:17:02.989Z"
   },
   {
    "duration": 0,
    "start_time": "2024-02-24T19:17:02.990Z"
   },
   {
    "duration": 0,
    "start_time": "2024-02-24T19:17:02.991Z"
   },
   {
    "duration": 0,
    "start_time": "2024-02-24T19:17:02.992Z"
   },
   {
    "duration": 0,
    "start_time": "2024-02-24T19:17:02.993Z"
   },
   {
    "duration": 0,
    "start_time": "2024-02-24T19:17:02.994Z"
   },
   {
    "duration": 0,
    "start_time": "2024-02-24T19:17:02.996Z"
   },
   {
    "duration": 0,
    "start_time": "2024-02-24T19:17:02.997Z"
   },
   {
    "duration": 0,
    "start_time": "2024-02-24T19:17:02.998Z"
   },
   {
    "duration": 0,
    "start_time": "2024-02-24T19:17:02.999Z"
   },
   {
    "duration": 0,
    "start_time": "2024-02-24T19:17:03.001Z"
   },
   {
    "duration": 0,
    "start_time": "2024-02-24T19:17:03.002Z"
   },
   {
    "duration": 0,
    "start_time": "2024-02-24T19:17:03.003Z"
   },
   {
    "duration": 5,
    "start_time": "2024-02-24T19:17:11.344Z"
   },
   {
    "duration": 62,
    "start_time": "2024-02-24T19:18:40.320Z"
   },
   {
    "duration": 39,
    "start_time": "2024-02-24T19:20:13.673Z"
   },
   {
    "duration": 39,
    "start_time": "2024-02-24T19:20:29.320Z"
   },
   {
    "duration": 379,
    "start_time": "2024-02-24T19:20:51.852Z"
   },
   {
    "duration": 163,
    "start_time": "2024-02-24T19:20:52.233Z"
   },
   {
    "duration": 15,
    "start_time": "2024-02-24T19:20:52.397Z"
   },
   {
    "duration": 34,
    "start_time": "2024-02-24T19:20:52.413Z"
   },
   {
    "duration": 2,
    "start_time": "2024-02-24T19:20:52.449Z"
   },
   {
    "duration": 5,
    "start_time": "2024-02-24T19:20:52.452Z"
   },
   {
    "duration": 11,
    "start_time": "2024-02-24T19:20:52.458Z"
   },
   {
    "duration": 5,
    "start_time": "2024-02-24T19:20:52.470Z"
   },
   {
    "duration": 31,
    "start_time": "2024-02-24T19:20:52.476Z"
   },
   {
    "duration": 41,
    "start_time": "2024-02-24T19:20:52.509Z"
   },
   {
    "duration": 25,
    "start_time": "2024-02-24T19:20:52.551Z"
   },
   {
    "duration": 77,
    "start_time": "2024-02-24T19:20:52.577Z"
   },
   {
    "duration": 84,
    "start_time": "2024-02-24T19:20:52.655Z"
   },
   {
    "duration": 56,
    "start_time": "2024-02-24T19:20:52.742Z"
   },
   {
    "duration": 54,
    "start_time": "2024-02-24T19:20:52.799Z"
   },
   {
    "duration": 2,
    "start_time": "2024-02-24T19:20:52.855Z"
   },
   {
    "duration": 7,
    "start_time": "2024-02-24T19:20:52.858Z"
   },
   {
    "duration": 10,
    "start_time": "2024-02-24T19:20:52.867Z"
   },
   {
    "duration": 4,
    "start_time": "2024-02-24T19:20:52.879Z"
   },
   {
    "duration": 65,
    "start_time": "2024-02-24T19:20:52.884Z"
   },
   {
    "duration": 0,
    "start_time": "2024-02-24T19:20:52.950Z"
   },
   {
    "duration": 0,
    "start_time": "2024-02-24T19:20:52.952Z"
   },
   {
    "duration": 0,
    "start_time": "2024-02-24T19:20:52.953Z"
   },
   {
    "duration": 0,
    "start_time": "2024-02-24T19:20:52.954Z"
   },
   {
    "duration": 0,
    "start_time": "2024-02-24T19:20:52.955Z"
   },
   {
    "duration": 0,
    "start_time": "2024-02-24T19:20:52.956Z"
   },
   {
    "duration": 0,
    "start_time": "2024-02-24T19:20:52.957Z"
   },
   {
    "duration": 0,
    "start_time": "2024-02-24T19:20:52.959Z"
   },
   {
    "duration": 0,
    "start_time": "2024-02-24T19:20:52.960Z"
   },
   {
    "duration": 0,
    "start_time": "2024-02-24T19:20:52.961Z"
   },
   {
    "duration": 0,
    "start_time": "2024-02-24T19:20:52.962Z"
   },
   {
    "duration": 0,
    "start_time": "2024-02-24T19:20:52.963Z"
   },
   {
    "duration": 0,
    "start_time": "2024-02-24T19:20:52.964Z"
   },
   {
    "duration": 0,
    "start_time": "2024-02-24T19:20:52.965Z"
   },
   {
    "duration": 0,
    "start_time": "2024-02-24T19:20:52.967Z"
   },
   {
    "duration": 0,
    "start_time": "2024-02-24T19:20:52.968Z"
   },
   {
    "duration": 0,
    "start_time": "2024-02-24T19:20:52.969Z"
   },
   {
    "duration": 0,
    "start_time": "2024-02-24T19:20:52.970Z"
   },
   {
    "duration": 96,
    "start_time": "2024-02-24T19:21:13.401Z"
   },
   {
    "duration": 41,
    "start_time": "2024-02-24T19:21:27.353Z"
   },
   {
    "duration": 40,
    "start_time": "2024-02-24T19:25:54.743Z"
   },
   {
    "duration": 41,
    "start_time": "2024-02-24T19:26:13.752Z"
   },
   {
    "duration": 49,
    "start_time": "2024-02-26T10:40:11.713Z"
   },
   {
    "duration": 414,
    "start_time": "2024-02-26T10:40:19.059Z"
   },
   {
    "duration": 248,
    "start_time": "2024-02-26T10:40:19.474Z"
   },
   {
    "duration": 18,
    "start_time": "2024-02-26T10:40:19.723Z"
   },
   {
    "duration": 32,
    "start_time": "2024-02-26T10:40:19.743Z"
   },
   {
    "duration": 3,
    "start_time": "2024-02-26T10:40:19.777Z"
   },
   {
    "duration": 7,
    "start_time": "2024-02-26T10:40:19.781Z"
   },
   {
    "duration": 11,
    "start_time": "2024-02-26T10:40:19.790Z"
   },
   {
    "duration": 9,
    "start_time": "2024-02-26T10:40:19.802Z"
   },
   {
    "duration": 34,
    "start_time": "2024-02-26T10:40:19.812Z"
   },
   {
    "duration": 22,
    "start_time": "2024-02-26T10:40:19.866Z"
   },
   {
    "duration": 28,
    "start_time": "2024-02-26T10:40:19.890Z"
   },
   {
    "duration": 92,
    "start_time": "2024-02-26T10:40:19.919Z"
   },
   {
    "duration": 88,
    "start_time": "2024-02-26T10:40:20.013Z"
   },
   {
    "duration": 70,
    "start_time": "2024-02-26T10:40:20.104Z"
   },
   {
    "duration": 43,
    "start_time": "2024-02-26T10:40:20.175Z"
   },
   {
    "duration": 80,
    "start_time": "2024-02-26T10:40:20.220Z"
   },
   {
    "duration": 0,
    "start_time": "2024-02-26T10:40:20.302Z"
   },
   {
    "duration": 0,
    "start_time": "2024-02-26T10:40:20.304Z"
   },
   {
    "duration": 0,
    "start_time": "2024-02-26T10:40:20.305Z"
   },
   {
    "duration": 0,
    "start_time": "2024-02-26T10:40:20.306Z"
   },
   {
    "duration": 0,
    "start_time": "2024-02-26T10:40:20.308Z"
   },
   {
    "duration": 0,
    "start_time": "2024-02-26T10:40:20.309Z"
   },
   {
    "duration": 0,
    "start_time": "2024-02-26T10:40:20.311Z"
   },
   {
    "duration": 0,
    "start_time": "2024-02-26T10:40:20.312Z"
   },
   {
    "duration": 0,
    "start_time": "2024-02-26T10:40:20.313Z"
   },
   {
    "duration": 0,
    "start_time": "2024-02-26T10:40:20.315Z"
   },
   {
    "duration": 1,
    "start_time": "2024-02-26T10:40:20.316Z"
   },
   {
    "duration": 0,
    "start_time": "2024-02-26T10:40:20.318Z"
   },
   {
    "duration": 0,
    "start_time": "2024-02-26T10:40:20.319Z"
   },
   {
    "duration": 0,
    "start_time": "2024-02-26T10:40:20.320Z"
   },
   {
    "duration": 0,
    "start_time": "2024-02-26T10:40:20.322Z"
   },
   {
    "duration": 0,
    "start_time": "2024-02-26T10:40:20.323Z"
   },
   {
    "duration": 0,
    "start_time": "2024-02-26T10:40:20.325Z"
   },
   {
    "duration": 0,
    "start_time": "2024-02-26T10:40:20.326Z"
   },
   {
    "duration": 0,
    "start_time": "2024-02-26T10:40:20.327Z"
   },
   {
    "duration": 0,
    "start_time": "2024-02-26T10:40:20.328Z"
   },
   {
    "duration": 1,
    "start_time": "2024-02-26T10:40:20.328Z"
   },
   {
    "duration": 0,
    "start_time": "2024-02-26T10:40:20.365Z"
   },
   {
    "duration": 15,
    "start_time": "2024-02-26T10:40:52.843Z"
   },
   {
    "duration": 11,
    "start_time": "2024-02-26T10:41:34.227Z"
   },
   {
    "duration": 42,
    "start_time": "2024-02-26T10:42:35.971Z"
   },
   {
    "duration": 31,
    "start_time": "2024-02-26T10:48:07.553Z"
   },
   {
    "duration": 34,
    "start_time": "2024-02-26T10:48:17.570Z"
   },
   {
    "duration": 31,
    "start_time": "2024-02-26T10:48:20.738Z"
   },
   {
    "duration": 33,
    "start_time": "2024-02-26T10:48:25.481Z"
   },
   {
    "duration": 34,
    "start_time": "2024-02-26T10:52:50.927Z"
   },
   {
    "duration": 11,
    "start_time": "2024-02-26T10:54:47.858Z"
   },
   {
    "duration": 12,
    "start_time": "2024-02-26T10:58:51.936Z"
   },
   {
    "duration": 32,
    "start_time": "2024-02-26T10:59:14.288Z"
   },
   {
    "duration": 11,
    "start_time": "2024-02-26T10:59:53.350Z"
   },
   {
    "duration": 3,
    "start_time": "2024-02-26T11:09:36.436Z"
   },
   {
    "duration": 6,
    "start_time": "2024-02-26T11:10:24.211Z"
   },
   {
    "duration": 363,
    "start_time": "2024-02-26T11:11:34.015Z"
   },
   {
    "duration": 174,
    "start_time": "2024-02-26T11:11:34.380Z"
   },
   {
    "duration": 17,
    "start_time": "2024-02-26T11:11:34.556Z"
   },
   {
    "duration": 33,
    "start_time": "2024-02-26T11:11:34.575Z"
   },
   {
    "duration": 3,
    "start_time": "2024-02-26T11:11:34.611Z"
   },
   {
    "duration": 23,
    "start_time": "2024-02-26T11:11:34.616Z"
   },
   {
    "duration": 36,
    "start_time": "2024-02-26T11:11:34.641Z"
   },
   {
    "duration": 33,
    "start_time": "2024-02-26T11:11:34.679Z"
   },
   {
    "duration": 48,
    "start_time": "2024-02-26T11:11:34.714Z"
   },
   {
    "duration": 23,
    "start_time": "2024-02-26T11:11:34.764Z"
   },
   {
    "duration": 44,
    "start_time": "2024-02-26T11:11:34.788Z"
   },
   {
    "duration": 75,
    "start_time": "2024-02-26T11:11:34.833Z"
   },
   {
    "duration": 80,
    "start_time": "2024-02-26T11:11:34.910Z"
   },
   {
    "duration": 60,
    "start_time": "2024-02-26T11:11:34.992Z"
   },
   {
    "duration": 66,
    "start_time": "2024-02-26T11:11:35.053Z"
   },
   {
    "duration": 20,
    "start_time": "2024-02-26T11:11:35.121Z"
   },
   {
    "duration": 61,
    "start_time": "2024-02-26T11:11:35.143Z"
   },
   {
    "duration": 13,
    "start_time": "2024-02-26T11:11:35.206Z"
   },
   {
    "duration": 14,
    "start_time": "2024-02-26T11:11:35.220Z"
   },
   {
    "duration": 33,
    "start_time": "2024-02-26T11:11:35.235Z"
   },
   {
    "duration": 6,
    "start_time": "2024-02-26T11:11:35.270Z"
   },
   {
    "duration": 15,
    "start_time": "2024-02-26T11:11:35.277Z"
   },
   {
    "duration": 7,
    "start_time": "2024-02-26T11:11:35.293Z"
   },
   {
    "duration": 5,
    "start_time": "2024-02-26T11:11:35.302Z"
   },
   {
    "duration": 7,
    "start_time": "2024-02-26T11:11:35.309Z"
   },
   {
    "duration": 4,
    "start_time": "2024-02-26T11:11:35.318Z"
   },
   {
    "duration": 3,
    "start_time": "2024-02-26T11:11:35.324Z"
   },
   {
    "duration": 7,
    "start_time": "2024-02-26T11:11:35.329Z"
   },
   {
    "duration": 9,
    "start_time": "2024-02-26T11:11:35.338Z"
   },
   {
    "duration": 65,
    "start_time": "2024-02-26T11:11:35.349Z"
   },
   {
    "duration": 0,
    "start_time": "2024-02-26T11:11:35.416Z"
   },
   {
    "duration": 0,
    "start_time": "2024-02-26T11:11:35.417Z"
   },
   {
    "duration": 0,
    "start_time": "2024-02-26T11:11:35.418Z"
   },
   {
    "duration": 0,
    "start_time": "2024-02-26T11:11:35.420Z"
   },
   {
    "duration": 0,
    "start_time": "2024-02-26T11:11:35.421Z"
   },
   {
    "duration": 0,
    "start_time": "2024-02-26T11:11:35.422Z"
   },
   {
    "duration": 0,
    "start_time": "2024-02-26T11:11:35.424Z"
   },
   {
    "duration": 0,
    "start_time": "2024-02-26T11:11:35.425Z"
   },
   {
    "duration": 3,
    "start_time": "2024-02-26T11:13:21.428Z"
   },
   {
    "duration": 3,
    "start_time": "2024-02-26T11:18:23.496Z"
   },
   {
    "duration": 8,
    "start_time": "2024-02-26T11:19:16.280Z"
   },
   {
    "duration": 68,
    "start_time": "2024-02-26T11:19:43.359Z"
   },
   {
    "duration": 8,
    "start_time": "2024-02-26T11:19:50.775Z"
   },
   {
    "duration": 9,
    "start_time": "2024-02-26T11:20:06.814Z"
   },
   {
    "duration": 11,
    "start_time": "2024-02-26T11:21:01.871Z"
   },
   {
    "duration": 12,
    "start_time": "2024-02-26T11:21:10.374Z"
   },
   {
    "duration": 16,
    "start_time": "2024-02-26T11:21:29.608Z"
   },
   {
    "duration": 26,
    "start_time": "2024-02-26T11:21:49.079Z"
   },
   {
    "duration": 25,
    "start_time": "2024-02-26T11:22:51.917Z"
   },
   {
    "duration": 389,
    "start_time": "2024-02-26T11:22:57.271Z"
   },
   {
    "duration": 167,
    "start_time": "2024-02-26T11:22:57.662Z"
   },
   {
    "duration": 17,
    "start_time": "2024-02-26T11:22:57.830Z"
   },
   {
    "duration": 39,
    "start_time": "2024-02-26T11:22:57.849Z"
   },
   {
    "duration": 2,
    "start_time": "2024-02-26T11:22:57.890Z"
   },
   {
    "duration": 5,
    "start_time": "2024-02-26T11:22:57.894Z"
   },
   {
    "duration": 14,
    "start_time": "2024-02-26T11:22:57.901Z"
   },
   {
    "duration": 5,
    "start_time": "2024-02-26T11:22:57.917Z"
   },
   {
    "duration": 47,
    "start_time": "2024-02-26T11:22:57.923Z"
   },
   {
    "duration": 20,
    "start_time": "2024-02-26T11:22:57.973Z"
   },
   {
    "duration": 26,
    "start_time": "2024-02-26T11:22:57.994Z"
   },
   {
    "duration": 83,
    "start_time": "2024-02-26T11:22:58.021Z"
   },
   {
    "duration": 85,
    "start_time": "2024-02-26T11:22:58.106Z"
   },
   {
    "duration": 56,
    "start_time": "2024-02-26T11:22:58.193Z"
   },
   {
    "duration": 54,
    "start_time": "2024-02-26T11:22:58.251Z"
   },
   {
    "duration": 11,
    "start_time": "2024-02-26T11:22:58.307Z"
   },
   {
    "duration": 72,
    "start_time": "2024-02-26T11:22:58.319Z"
   },
   {
    "duration": 14,
    "start_time": "2024-02-26T11:22:58.393Z"
   },
   {
    "duration": 12,
    "start_time": "2024-02-26T11:22:58.408Z"
   },
   {
    "duration": 44,
    "start_time": "2024-02-26T11:22:58.421Z"
   },
   {
    "duration": 2,
    "start_time": "2024-02-26T11:22:58.467Z"
   },
   {
    "duration": 10,
    "start_time": "2024-02-26T11:22:58.470Z"
   },
   {
    "duration": 11,
    "start_time": "2024-02-26T11:22:58.481Z"
   },
   {
    "duration": 14,
    "start_time": "2024-02-26T11:22:58.493Z"
   },
   {
    "duration": 4,
    "start_time": "2024-02-26T11:22:58.508Z"
   },
   {
    "duration": 5,
    "start_time": "2024-02-26T11:22:58.514Z"
   },
   {
    "duration": 10,
    "start_time": "2024-02-26T11:22:58.520Z"
   },
   {
    "duration": 4,
    "start_time": "2024-02-26T11:22:58.533Z"
   },
   {
    "duration": 5,
    "start_time": "2024-02-26T11:22:58.538Z"
   },
   {
    "duration": 68,
    "start_time": "2024-02-26T11:22:58.544Z"
   },
   {
    "duration": 0,
    "start_time": "2024-02-26T11:22:58.614Z"
   },
   {
    "duration": 0,
    "start_time": "2024-02-26T11:22:58.615Z"
   },
   {
    "duration": 0,
    "start_time": "2024-02-26T11:22:58.616Z"
   },
   {
    "duration": 0,
    "start_time": "2024-02-26T11:22:58.617Z"
   },
   {
    "duration": 0,
    "start_time": "2024-02-26T11:22:58.618Z"
   },
   {
    "duration": 0,
    "start_time": "2024-02-26T11:22:58.619Z"
   },
   {
    "duration": 0,
    "start_time": "2024-02-26T11:22:58.620Z"
   },
   {
    "duration": 0,
    "start_time": "2024-02-26T11:22:58.621Z"
   },
   {
    "duration": 131,
    "start_time": "2024-02-26T11:23:28.750Z"
   },
   {
    "duration": 20,
    "start_time": "2024-02-26T11:23:43.242Z"
   },
   {
    "duration": 18,
    "start_time": "2024-02-26T11:23:58.782Z"
   },
   {
    "duration": 3,
    "start_time": "2024-02-26T11:24:08.086Z"
   },
   {
    "duration": 82,
    "start_time": "2024-02-26T11:25:05.871Z"
   },
   {
    "duration": 65,
    "start_time": "2024-02-26T11:25:09.467Z"
   },
   {
    "duration": 20,
    "start_time": "2024-02-26T11:25:39.334Z"
   },
   {
    "duration": 68,
    "start_time": "2024-02-26T11:25:54.773Z"
   },
   {
    "duration": 68,
    "start_time": "2024-02-26T11:26:42.181Z"
   },
   {
    "duration": 99,
    "start_time": "2024-02-26T11:29:01.422Z"
   },
   {
    "duration": 82,
    "start_time": "2024-02-26T11:29:26.589Z"
   },
   {
    "duration": 120,
    "start_time": "2024-02-26T11:29:53.444Z"
   },
   {
    "duration": 78,
    "start_time": "2024-02-26T11:30:33.429Z"
   },
   {
    "duration": 73,
    "start_time": "2024-02-26T11:32:34.492Z"
   },
   {
    "duration": 4,
    "start_time": "2024-02-26T11:33:57.403Z"
   },
   {
    "duration": 11,
    "start_time": "2024-02-26T11:35:47.187Z"
   },
   {
    "duration": 28,
    "start_time": "2024-02-26T11:35:57.210Z"
   },
   {
    "duration": 8,
    "start_time": "2024-02-26T11:36:14.560Z"
   },
   {
    "duration": 3,
    "start_time": "2024-02-26T11:36:33.362Z"
   },
   {
    "duration": 5,
    "start_time": "2024-02-26T11:39:12.521Z"
   },
   {
    "duration": 5,
    "start_time": "2024-02-26T11:39:25.746Z"
   },
   {
    "duration": 3,
    "start_time": "2024-02-26T11:39:35.034Z"
   },
   {
    "duration": 3,
    "start_time": "2024-02-26T11:40:13.178Z"
   },
   {
    "duration": 3,
    "start_time": "2024-02-26T11:42:30.194Z"
   },
   {
    "duration": 17,
    "start_time": "2024-02-26T11:44:59.137Z"
   },
   {
    "duration": 14,
    "start_time": "2024-02-26T11:44:59.828Z"
   },
   {
    "duration": 15,
    "start_time": "2024-02-26T11:45:00.227Z"
   },
   {
    "duration": 14,
    "start_time": "2024-02-26T11:45:00.530Z"
   },
   {
    "duration": 16,
    "start_time": "2024-02-26T11:45:00.810Z"
   },
   {
    "duration": 14,
    "start_time": "2024-02-26T11:45:01.171Z"
   },
   {
    "duration": 8,
    "start_time": "2024-02-26T11:45:02.417Z"
   },
   {
    "duration": 375,
    "start_time": "2024-02-26T11:45:11.922Z"
   },
   {
    "duration": 178,
    "start_time": "2024-02-26T11:45:12.299Z"
   },
   {
    "duration": 18,
    "start_time": "2024-02-26T11:45:12.481Z"
   },
   {
    "duration": 39,
    "start_time": "2024-02-26T11:45:12.501Z"
   },
   {
    "duration": 24,
    "start_time": "2024-02-26T11:45:12.541Z"
   },
   {
    "duration": 21,
    "start_time": "2024-02-26T11:45:12.567Z"
   },
   {
    "duration": 20,
    "start_time": "2024-02-26T11:45:12.589Z"
   },
   {
    "duration": 5,
    "start_time": "2024-02-26T11:45:12.611Z"
   },
   {
    "duration": 53,
    "start_time": "2024-02-26T11:45:12.617Z"
   },
   {
    "duration": 24,
    "start_time": "2024-02-26T11:45:12.672Z"
   },
   {
    "duration": 25,
    "start_time": "2024-02-26T11:45:12.697Z"
   },
   {
    "duration": 92,
    "start_time": "2024-02-26T11:45:12.724Z"
   },
   {
    "duration": 81,
    "start_time": "2024-02-26T11:45:12.820Z"
   },
   {
    "duration": 63,
    "start_time": "2024-02-26T11:45:12.903Z"
   },
   {
    "duration": 50,
    "start_time": "2024-02-26T11:45:12.967Z"
   },
   {
    "duration": 11,
    "start_time": "2024-02-26T11:45:13.018Z"
   },
   {
    "duration": 60,
    "start_time": "2024-02-26T11:45:13.030Z"
   },
   {
    "duration": 13,
    "start_time": "2024-02-26T11:45:13.091Z"
   },
   {
    "duration": 24,
    "start_time": "2024-02-26T11:45:13.105Z"
   },
   {
    "duration": 8,
    "start_time": "2024-02-26T11:45:13.131Z"
   },
   {
    "duration": 42,
    "start_time": "2024-02-26T11:45:13.141Z"
   },
   {
    "duration": 26,
    "start_time": "2024-02-26T11:45:13.184Z"
   },
   {
    "duration": 22,
    "start_time": "2024-02-26T11:45:13.212Z"
   },
   {
    "duration": 12,
    "start_time": "2024-02-26T11:45:13.236Z"
   },
   {
    "duration": 20,
    "start_time": "2024-02-26T11:45:13.249Z"
   },
   {
    "duration": 13,
    "start_time": "2024-02-26T11:45:13.271Z"
   },
   {
    "duration": 6,
    "start_time": "2024-02-26T11:45:13.286Z"
   },
   {
    "duration": 22,
    "start_time": "2024-02-26T11:45:13.293Z"
   },
   {
    "duration": 8,
    "start_time": "2024-02-26T11:45:13.317Z"
   },
   {
    "duration": 74,
    "start_time": "2024-02-26T11:45:13.327Z"
   },
   {
    "duration": 0,
    "start_time": "2024-02-26T11:45:13.402Z"
   },
   {
    "duration": 0,
    "start_time": "2024-02-26T11:45:13.403Z"
   },
   {
    "duration": 0,
    "start_time": "2024-02-26T11:45:13.404Z"
   },
   {
    "duration": 0,
    "start_time": "2024-02-26T11:45:13.405Z"
   },
   {
    "duration": 0,
    "start_time": "2024-02-26T11:45:13.406Z"
   },
   {
    "duration": 0,
    "start_time": "2024-02-26T11:45:13.407Z"
   },
   {
    "duration": 0,
    "start_time": "2024-02-26T11:45:13.408Z"
   },
   {
    "duration": 0,
    "start_time": "2024-02-26T11:45:13.409Z"
   },
   {
    "duration": 4,
    "start_time": "2024-02-26T11:48:31.369Z"
   },
   {
    "duration": 3,
    "start_time": "2024-02-26T11:49:01.227Z"
   },
   {
    "duration": 11,
    "start_time": "2024-02-26T11:50:35.664Z"
   },
   {
    "duration": 28,
    "start_time": "2024-02-26T11:50:44.024Z"
   },
   {
    "duration": 9,
    "start_time": "2024-02-26T11:50:58.824Z"
   },
   {
    "duration": 4,
    "start_time": "2024-02-26T11:56:03.104Z"
   },
   {
    "duration": 4,
    "start_time": "2024-02-26T11:58:24.408Z"
   },
   {
    "duration": 423,
    "start_time": "2024-02-26T11:59:58.436Z"
   },
   {
    "duration": 176,
    "start_time": "2024-02-26T11:59:58.861Z"
   },
   {
    "duration": 16,
    "start_time": "2024-02-26T11:59:59.041Z"
   },
   {
    "duration": 37,
    "start_time": "2024-02-26T11:59:59.065Z"
   },
   {
    "duration": 20,
    "start_time": "2024-02-26T11:59:59.104Z"
   },
   {
    "duration": 31,
    "start_time": "2024-02-26T11:59:59.126Z"
   },
   {
    "duration": 42,
    "start_time": "2024-02-26T11:59:59.159Z"
   },
   {
    "duration": 14,
    "start_time": "2024-02-26T11:59:59.203Z"
   },
   {
    "duration": 35,
    "start_time": "2024-02-26T11:59:59.218Z"
   },
   {
    "duration": 23,
    "start_time": "2024-02-26T11:59:59.255Z"
   },
   {
    "duration": 37,
    "start_time": "2024-02-26T11:59:59.280Z"
   },
   {
    "duration": 99,
    "start_time": "2024-02-26T11:59:59.319Z"
   },
   {
    "duration": 79,
    "start_time": "2024-02-26T11:59:59.422Z"
   },
   {
    "duration": 64,
    "start_time": "2024-02-26T11:59:59.503Z"
   },
   {
    "duration": 42,
    "start_time": "2024-02-26T11:59:59.569Z"
   },
   {
    "duration": 12,
    "start_time": "2024-02-26T11:59:59.612Z"
   },
   {
    "duration": 59,
    "start_time": "2024-02-26T11:59:59.626Z"
   },
   {
    "duration": 12,
    "start_time": "2024-02-26T11:59:59.687Z"
   },
   {
    "duration": 22,
    "start_time": "2024-02-26T11:59:59.701Z"
   },
   {
    "duration": 9,
    "start_time": "2024-02-26T11:59:59.724Z"
   },
   {
    "duration": 25,
    "start_time": "2024-02-26T11:59:59.735Z"
   },
   {
    "duration": 14,
    "start_time": "2024-02-26T11:59:59.765Z"
   },
   {
    "duration": 31,
    "start_time": "2024-02-26T11:59:59.781Z"
   },
   {
    "duration": 16,
    "start_time": "2024-02-26T11:59:59.814Z"
   },
   {
    "duration": 17,
    "start_time": "2024-02-26T11:59:59.831Z"
   },
   {
    "duration": 26,
    "start_time": "2024-02-26T11:59:59.850Z"
   },
   {
    "duration": 7,
    "start_time": "2024-02-26T11:59:59.878Z"
   },
   {
    "duration": 28,
    "start_time": "2024-02-26T11:59:59.887Z"
   },
   {
    "duration": 11,
    "start_time": "2024-02-26T11:59:59.916Z"
   },
   {
    "duration": 20,
    "start_time": "2024-02-26T11:59:59.928Z"
   },
   {
    "duration": 28,
    "start_time": "2024-02-26T11:59:59.950Z"
   },
   {
    "duration": 36,
    "start_time": "2024-02-26T11:59:59.980Z"
   },
   {
    "duration": 59,
    "start_time": "2024-02-26T12:00:00.018Z"
   },
   {
    "duration": 82,
    "start_time": "2024-02-26T12:00:00.078Z"
   },
   {
    "duration": 103,
    "start_time": "2024-02-26T12:00:00.161Z"
   },
   {
    "duration": 123,
    "start_time": "2024-02-26T12:00:00.266Z"
   },
   {
    "duration": 61,
    "start_time": "2024-02-26T12:00:00.390Z"
   },
   {
    "duration": 54,
    "start_time": "2024-02-26T12:00:00.452Z"
   },
   {
    "duration": 16,
    "start_time": "2024-02-26T12:03:55.398Z"
   },
   {
    "duration": 427,
    "start_time": "2024-02-26T12:04:48.684Z"
   },
   {
    "duration": 175,
    "start_time": "2024-02-26T12:04:49.112Z"
   },
   {
    "duration": 16,
    "start_time": "2024-02-26T12:04:49.289Z"
   },
   {
    "duration": 111,
    "start_time": "2024-02-26T12:04:49.308Z"
   },
   {
    "duration": 27,
    "start_time": "2024-02-26T12:04:49.421Z"
   },
   {
    "duration": 42,
    "start_time": "2024-02-26T12:04:49.450Z"
   },
   {
    "duration": 17,
    "start_time": "2024-02-26T12:04:49.493Z"
   },
   {
    "duration": 21,
    "start_time": "2024-02-26T12:04:49.512Z"
   },
   {
    "duration": 42,
    "start_time": "2024-02-26T12:04:49.535Z"
   },
   {
    "duration": 33,
    "start_time": "2024-02-26T12:04:49.580Z"
   },
   {
    "duration": 39,
    "start_time": "2024-02-26T12:04:49.615Z"
   },
   {
    "duration": 67,
    "start_time": "2024-02-26T12:04:49.655Z"
   },
   {
    "duration": 88,
    "start_time": "2024-02-26T12:04:49.723Z"
   },
   {
    "duration": 66,
    "start_time": "2024-02-26T12:04:49.812Z"
   },
   {
    "duration": 42,
    "start_time": "2024-02-26T12:04:49.880Z"
   },
   {
    "duration": 22,
    "start_time": "2024-02-26T12:04:49.923Z"
   },
   {
    "duration": 54,
    "start_time": "2024-02-26T12:04:49.947Z"
   },
   {
    "duration": 12,
    "start_time": "2024-02-26T12:04:50.003Z"
   },
   {
    "duration": 26,
    "start_time": "2024-02-26T12:04:50.016Z"
   },
   {
    "duration": 23,
    "start_time": "2024-02-26T12:04:50.043Z"
   },
   {
    "duration": 29,
    "start_time": "2024-02-26T12:04:50.068Z"
   },
   {
    "duration": 14,
    "start_time": "2024-02-26T12:04:50.099Z"
   },
   {
    "duration": 13,
    "start_time": "2024-02-26T12:04:50.115Z"
   },
   {
    "duration": 13,
    "start_time": "2024-02-26T12:04:50.130Z"
   },
   {
    "duration": 32,
    "start_time": "2024-02-26T12:04:50.145Z"
   },
   {
    "duration": 19,
    "start_time": "2024-02-26T12:04:50.178Z"
   },
   {
    "duration": 17,
    "start_time": "2024-02-26T12:04:50.199Z"
   },
   {
    "duration": 14,
    "start_time": "2024-02-26T12:04:50.219Z"
   },
   {
    "duration": 9,
    "start_time": "2024-02-26T12:04:50.235Z"
   },
   {
    "duration": 6,
    "start_time": "2024-02-26T12:04:50.245Z"
   },
   {
    "duration": 23,
    "start_time": "2024-02-26T12:04:50.252Z"
   },
   {
    "duration": 15,
    "start_time": "2024-02-26T12:04:50.276Z"
   },
   {
    "duration": 15,
    "start_time": "2024-02-26T12:04:50.293Z"
   },
   {
    "duration": 16,
    "start_time": "2024-02-26T12:04:50.310Z"
   },
   {
    "duration": 3,
    "start_time": "2024-02-26T12:04:50.328Z"
   },
   {
    "duration": 35,
    "start_time": "2024-02-26T12:04:50.333Z"
   },
   {
    "duration": 9,
    "start_time": "2024-02-26T12:04:50.370Z"
   },
   {
    "duration": 33,
    "start_time": "2024-02-26T12:04:50.381Z"
   },
   {
    "duration": 399,
    "start_time": "2024-02-26T12:11:54.228Z"
   },
   {
    "duration": 187,
    "start_time": "2024-02-26T12:11:54.629Z"
   },
   {
    "duration": 17,
    "start_time": "2024-02-26T12:11:54.818Z"
   },
   {
    "duration": 43,
    "start_time": "2024-02-26T12:11:54.837Z"
   },
   {
    "duration": 25,
    "start_time": "2024-02-26T12:11:54.882Z"
   },
   {
    "duration": 6,
    "start_time": "2024-02-26T12:11:54.908Z"
   },
   {
    "duration": 15,
    "start_time": "2024-02-26T12:11:54.916Z"
   },
   {
    "duration": 7,
    "start_time": "2024-02-26T12:11:54.932Z"
   },
   {
    "duration": 29,
    "start_time": "2024-02-26T12:11:54.940Z"
   },
   {
    "duration": 24,
    "start_time": "2024-02-26T12:11:54.971Z"
   },
   {
    "duration": 25,
    "start_time": "2024-02-26T12:11:54.997Z"
   },
   {
    "duration": 86,
    "start_time": "2024-02-26T12:11:55.024Z"
   },
   {
    "duration": 84,
    "start_time": "2024-02-26T12:11:55.112Z"
   },
   {
    "duration": 70,
    "start_time": "2024-02-26T12:11:55.198Z"
   },
   {
    "duration": 41,
    "start_time": "2024-02-26T12:11:55.270Z"
   },
   {
    "duration": 12,
    "start_time": "2024-02-26T12:11:55.313Z"
   },
   {
    "duration": 63,
    "start_time": "2024-02-26T12:11:55.326Z"
   },
   {
    "duration": 13,
    "start_time": "2024-02-26T12:11:55.391Z"
   },
   {
    "duration": 15,
    "start_time": "2024-02-26T12:11:55.406Z"
   },
   {
    "duration": 4,
    "start_time": "2024-02-26T12:11:55.423Z"
   },
   {
    "duration": 37,
    "start_time": "2024-02-26T12:11:55.428Z"
   },
   {
    "duration": 14,
    "start_time": "2024-02-26T12:11:55.467Z"
   },
   {
    "duration": 14,
    "start_time": "2024-02-26T12:11:55.482Z"
   },
   {
    "duration": 14,
    "start_time": "2024-02-26T12:11:55.497Z"
   },
   {
    "duration": 23,
    "start_time": "2024-02-26T12:11:55.512Z"
   },
   {
    "duration": 40,
    "start_time": "2024-02-26T12:11:55.537Z"
   },
   {
    "duration": 28,
    "start_time": "2024-02-26T12:11:55.579Z"
   },
   {
    "duration": 41,
    "start_time": "2024-02-26T12:11:55.610Z"
   },
   {
    "duration": 46,
    "start_time": "2024-02-26T12:11:55.653Z"
   },
   {
    "duration": 13,
    "start_time": "2024-02-26T12:11:55.701Z"
   },
   {
    "duration": 23,
    "start_time": "2024-02-26T12:11:55.716Z"
   },
   {
    "duration": 9,
    "start_time": "2024-02-26T12:11:55.741Z"
   },
   {
    "duration": 20,
    "start_time": "2024-02-26T12:11:55.751Z"
   },
   {
    "duration": 11,
    "start_time": "2024-02-26T12:11:55.773Z"
   },
   {
    "duration": 14,
    "start_time": "2024-02-26T12:11:55.786Z"
   },
   {
    "duration": 57,
    "start_time": "2024-02-26T12:11:55.802Z"
   },
   {
    "duration": 28,
    "start_time": "2024-02-26T12:11:55.861Z"
   },
   {
    "duration": 20,
    "start_time": "2024-02-26T12:11:55.891Z"
   },
   {
    "duration": 76,
    "start_time": "2024-02-26T12:15:50.004Z"
   },
   {
    "duration": 9,
    "start_time": "2024-02-26T12:16:20.660Z"
   },
   {
    "duration": 8,
    "start_time": "2024-02-26T12:16:27.893Z"
   },
   {
    "duration": 12,
    "start_time": "2024-02-26T12:17:14.286Z"
   },
   {
    "duration": 12,
    "start_time": "2024-02-26T12:17:39.981Z"
   },
   {
    "duration": 38,
    "start_time": "2024-02-26T12:18:18.966Z"
   },
   {
    "duration": 48,
    "start_time": "2024-02-26T12:18:29.629Z"
   },
   {
    "duration": 37,
    "start_time": "2024-02-26T12:18:43.587Z"
   },
   {
    "duration": 40,
    "start_time": "2024-02-26T12:19:23.486Z"
   },
   {
    "duration": 10,
    "start_time": "2024-02-26T12:19:46.567Z"
   },
   {
    "duration": 420,
    "start_time": "2024-02-26T12:20:30.878Z"
   },
   {
    "duration": 180,
    "start_time": "2024-02-26T12:20:31.300Z"
   },
   {
    "duration": 30,
    "start_time": "2024-02-26T12:20:31.482Z"
   },
   {
    "duration": 164,
    "start_time": "2024-02-26T12:20:31.514Z"
   },
   {
    "duration": 49,
    "start_time": "2024-02-26T12:20:31.680Z"
   },
   {
    "duration": 56,
    "start_time": "2024-02-26T12:20:31.731Z"
   },
   {
    "duration": 45,
    "start_time": "2024-02-26T12:20:31.789Z"
   },
   {
    "duration": 98,
    "start_time": "2024-02-26T12:20:31.836Z"
   },
   {
    "duration": 84,
    "start_time": "2024-02-26T12:20:31.935Z"
   },
   {
    "duration": 67,
    "start_time": "2024-02-26T12:20:32.021Z"
   },
   {
    "duration": 74,
    "start_time": "2024-02-26T12:20:32.090Z"
   },
   {
    "duration": 93,
    "start_time": "2024-02-26T12:20:32.166Z"
   },
   {
    "duration": 79,
    "start_time": "2024-02-26T12:20:32.261Z"
   },
   {
    "duration": 70,
    "start_time": "2024-02-26T12:20:32.343Z"
   },
   {
    "duration": 51,
    "start_time": "2024-02-26T12:20:32.414Z"
   },
   {
    "duration": 11,
    "start_time": "2024-02-26T12:20:32.467Z"
   },
   {
    "duration": 72,
    "start_time": "2024-02-26T12:20:32.480Z"
   },
   {
    "duration": 12,
    "start_time": "2024-02-26T12:20:32.554Z"
   },
   {
    "duration": 29,
    "start_time": "2024-02-26T12:20:32.568Z"
   },
   {
    "duration": 21,
    "start_time": "2024-02-26T12:20:32.599Z"
   },
   {
    "duration": 44,
    "start_time": "2024-02-26T12:20:32.622Z"
   },
   {
    "duration": 43,
    "start_time": "2024-02-26T12:20:32.667Z"
   },
   {
    "duration": 84,
    "start_time": "2024-02-26T12:20:32.711Z"
   },
   {
    "duration": 57,
    "start_time": "2024-02-26T12:20:32.797Z"
   },
   {
    "duration": 38,
    "start_time": "2024-02-26T12:20:32.856Z"
   },
   {
    "duration": 34,
    "start_time": "2024-02-26T12:20:32.896Z"
   },
   {
    "duration": 27,
    "start_time": "2024-02-26T12:20:32.932Z"
   },
   {
    "duration": 69,
    "start_time": "2024-02-26T12:20:32.960Z"
   },
   {
    "duration": 194,
    "start_time": "2024-02-26T12:20:33.030Z"
   },
   {
    "duration": 137,
    "start_time": "2024-02-26T12:20:33.225Z"
   },
   {
    "duration": 53,
    "start_time": "2024-02-26T12:20:33.364Z"
   },
   {
    "duration": 91,
    "start_time": "2024-02-26T12:20:33.418Z"
   },
   {
    "duration": 47,
    "start_time": "2024-02-26T12:20:33.511Z"
   },
   {
    "duration": 42,
    "start_time": "2024-02-26T12:20:33.560Z"
   },
   {
    "duration": 81,
    "start_time": "2024-02-26T12:20:33.604Z"
   },
   {
    "duration": 12,
    "start_time": "2024-02-26T12:20:33.687Z"
   },
   {
    "duration": 25,
    "start_time": "2024-02-26T12:20:33.700Z"
   },
   {
    "duration": 36,
    "start_time": "2024-02-26T12:20:33.726Z"
   },
   {
    "duration": 1337,
    "start_time": "2024-02-26T12:24:39.208Z"
   },
   {
    "duration": 1126,
    "start_time": "2024-02-26T12:25:27.950Z"
   },
   {
    "duration": 6,
    "start_time": "2024-02-26T12:26:16.431Z"
   },
   {
    "duration": 10,
    "start_time": "2024-02-26T12:26:36.318Z"
   },
   {
    "duration": 13,
    "start_time": "2024-02-26T12:28:31.810Z"
   },
   {
    "duration": 9,
    "start_time": "2024-02-26T12:28:46.383Z"
   },
   {
    "duration": 9,
    "start_time": "2024-02-26T12:30:28.326Z"
   },
   {
    "duration": 8,
    "start_time": "2024-02-26T12:34:44.942Z"
   },
   {
    "duration": 9,
    "start_time": "2024-02-26T12:36:19.928Z"
   },
   {
    "duration": 9,
    "start_time": "2024-02-26T12:36:25.327Z"
   },
   {
    "duration": 7,
    "start_time": "2024-02-26T12:36:55.183Z"
   },
   {
    "duration": 11,
    "start_time": "2024-02-26T12:37:10.582Z"
   },
   {
    "duration": 9,
    "start_time": "2024-02-26T12:37:20.055Z"
   },
   {
    "duration": 39,
    "start_time": "2024-02-26T12:38:19.141Z"
   },
   {
    "duration": 48,
    "start_time": "2024-02-26T12:38:30.254Z"
   },
   {
    "duration": 10,
    "start_time": "2024-02-26T12:39:20.821Z"
   },
   {
    "duration": 13,
    "start_time": "2024-02-26T12:39:23.966Z"
   },
   {
    "duration": 11,
    "start_time": "2024-02-26T12:39:28.102Z"
   },
   {
    "duration": 358,
    "start_time": "2024-02-26T12:41:26.823Z"
   },
   {
    "duration": 183,
    "start_time": "2024-02-26T12:41:27.183Z"
   },
   {
    "duration": 22,
    "start_time": "2024-02-26T12:41:27.370Z"
   },
   {
    "duration": 53,
    "start_time": "2024-02-26T12:41:27.394Z"
   },
   {
    "duration": 18,
    "start_time": "2024-02-26T12:41:27.448Z"
   },
   {
    "duration": 13,
    "start_time": "2024-02-26T12:41:27.467Z"
   },
   {
    "duration": 22,
    "start_time": "2024-02-26T12:41:27.482Z"
   },
   {
    "duration": 14,
    "start_time": "2024-02-26T12:41:27.506Z"
   },
   {
    "duration": 50,
    "start_time": "2024-02-26T12:41:27.523Z"
   },
   {
    "duration": 30,
    "start_time": "2024-02-26T12:41:27.575Z"
   },
   {
    "duration": 37,
    "start_time": "2024-02-26T12:41:27.606Z"
   },
   {
    "duration": 79,
    "start_time": "2024-02-26T12:41:27.644Z"
   },
   {
    "duration": 84,
    "start_time": "2024-02-26T12:41:27.724Z"
   },
   {
    "duration": 63,
    "start_time": "2024-02-26T12:41:27.810Z"
   },
   {
    "duration": 41,
    "start_time": "2024-02-26T12:41:27.875Z"
   },
   {
    "duration": 11,
    "start_time": "2024-02-26T12:41:27.918Z"
   },
   {
    "duration": 58,
    "start_time": "2024-02-26T12:41:27.931Z"
   },
   {
    "duration": 12,
    "start_time": "2024-02-26T12:41:27.991Z"
   },
   {
    "duration": 17,
    "start_time": "2024-02-26T12:41:28.005Z"
   },
   {
    "duration": 28,
    "start_time": "2024-02-26T12:41:28.023Z"
   },
   {
    "duration": 47,
    "start_time": "2024-02-26T12:41:28.053Z"
   },
   {
    "duration": 44,
    "start_time": "2024-02-26T12:41:28.102Z"
   },
   {
    "duration": 47,
    "start_time": "2024-02-26T12:41:28.147Z"
   },
   {
    "duration": 41,
    "start_time": "2024-02-26T12:41:28.195Z"
   },
   {
    "duration": 34,
    "start_time": "2024-02-26T12:41:28.238Z"
   },
   {
    "duration": 41,
    "start_time": "2024-02-26T12:41:28.274Z"
   },
   {
    "duration": 23,
    "start_time": "2024-02-26T12:41:28.318Z"
   },
   {
    "duration": 72,
    "start_time": "2024-02-26T12:41:28.343Z"
   },
   {
    "duration": 76,
    "start_time": "2024-02-26T12:41:28.416Z"
   },
   {
    "duration": 47,
    "start_time": "2024-02-26T12:41:28.493Z"
   },
   {
    "duration": 48,
    "start_time": "2024-02-26T12:41:28.541Z"
   },
   {
    "duration": 53,
    "start_time": "2024-02-26T12:41:28.591Z"
   },
   {
    "duration": 42,
    "start_time": "2024-02-26T12:41:28.646Z"
   },
   {
    "duration": 33,
    "start_time": "2024-02-26T12:41:28.689Z"
   },
   {
    "duration": 90,
    "start_time": "2024-02-26T12:41:28.724Z"
   },
   {
    "duration": 10,
    "start_time": "2024-02-26T12:41:28.815Z"
   },
   {
    "duration": 64,
    "start_time": "2024-02-26T12:41:28.826Z"
   },
   {
    "duration": 25,
    "start_time": "2024-02-26T12:41:28.892Z"
   },
   {
    "duration": 66,
    "start_time": "2024-02-26T12:45:44.077Z"
   },
   {
    "duration": 382,
    "start_time": "2024-02-26T12:45:55.919Z"
   },
   {
    "duration": 171,
    "start_time": "2024-02-26T12:45:56.303Z"
   },
   {
    "duration": 17,
    "start_time": "2024-02-26T12:45:56.475Z"
   },
   {
    "duration": 31,
    "start_time": "2024-02-26T12:45:56.493Z"
   },
   {
    "duration": 2,
    "start_time": "2024-02-26T12:45:56.526Z"
   },
   {
    "duration": 7,
    "start_time": "2024-02-26T12:45:56.530Z"
   },
   {
    "duration": 35,
    "start_time": "2024-02-26T12:45:56.538Z"
   },
   {
    "duration": 4,
    "start_time": "2024-02-26T12:45:56.575Z"
   },
   {
    "duration": 38,
    "start_time": "2024-02-26T12:45:56.581Z"
   },
   {
    "duration": 21,
    "start_time": "2024-02-26T12:45:56.620Z"
   },
   {
    "duration": 40,
    "start_time": "2024-02-26T12:45:56.642Z"
   },
   {
    "duration": 91,
    "start_time": "2024-02-26T12:45:56.684Z"
   },
   {
    "duration": 74,
    "start_time": "2024-02-26T12:45:56.776Z"
   },
   {
    "duration": 64,
    "start_time": "2024-02-26T12:45:56.862Z"
   },
   {
    "duration": 55,
    "start_time": "2024-02-26T12:45:56.927Z"
   },
   {
    "duration": 13,
    "start_time": "2024-02-26T12:45:56.983Z"
   },
   {
    "duration": 56,
    "start_time": "2024-02-26T12:45:56.997Z"
   },
   {
    "duration": 16,
    "start_time": "2024-02-26T12:45:57.055Z"
   },
   {
    "duration": 12,
    "start_time": "2024-02-26T12:45:57.072Z"
   },
   {
    "duration": 12,
    "start_time": "2024-02-26T12:45:57.086Z"
   },
   {
    "duration": 35,
    "start_time": "2024-02-26T12:45:57.099Z"
   },
   {
    "duration": 29,
    "start_time": "2024-02-26T12:45:57.136Z"
   },
   {
    "duration": 22,
    "start_time": "2024-02-26T12:45:57.167Z"
   },
   {
    "duration": 22,
    "start_time": "2024-02-26T12:45:57.191Z"
   },
   {
    "duration": 19,
    "start_time": "2024-02-26T12:45:57.215Z"
   },
   {
    "duration": 15,
    "start_time": "2024-02-26T12:45:57.236Z"
   },
   {
    "duration": 14,
    "start_time": "2024-02-26T12:45:57.252Z"
   },
   {
    "duration": 16,
    "start_time": "2024-02-26T12:45:57.267Z"
   },
   {
    "duration": 51,
    "start_time": "2024-02-26T12:45:57.284Z"
   },
   {
    "duration": 7,
    "start_time": "2024-02-26T12:45:57.336Z"
   },
   {
    "duration": 25,
    "start_time": "2024-02-26T12:45:57.345Z"
   },
   {
    "duration": 20,
    "start_time": "2024-02-26T12:45:57.371Z"
   },
   {
    "duration": 17,
    "start_time": "2024-02-26T12:45:57.393Z"
   },
   {
    "duration": 19,
    "start_time": "2024-02-26T12:45:57.411Z"
   },
   {
    "duration": 52,
    "start_time": "2024-02-26T12:45:57.431Z"
   },
   {
    "duration": 10,
    "start_time": "2024-02-26T12:45:57.485Z"
   },
   {
    "duration": 77,
    "start_time": "2024-02-26T12:45:57.496Z"
   },
   {
    "duration": 0,
    "start_time": "2024-02-26T12:45:57.574Z"
   },
   {
    "duration": 445,
    "start_time": "2024-02-26T12:47:11.924Z"
   },
   {
    "duration": 185,
    "start_time": "2024-02-26T12:47:12.370Z"
   },
   {
    "duration": 25,
    "start_time": "2024-02-26T12:47:12.557Z"
   },
   {
    "duration": 89,
    "start_time": "2024-02-26T12:47:12.584Z"
   },
   {
    "duration": 2,
    "start_time": "2024-02-26T12:47:12.675Z"
   },
   {
    "duration": 9,
    "start_time": "2024-02-26T12:47:12.679Z"
   },
   {
    "duration": 20,
    "start_time": "2024-02-26T12:47:12.689Z"
   },
   {
    "duration": 25,
    "start_time": "2024-02-26T12:47:12.710Z"
   },
   {
    "duration": 51,
    "start_time": "2024-02-26T12:47:12.736Z"
   },
   {
    "duration": 23,
    "start_time": "2024-02-26T12:47:12.790Z"
   },
   {
    "duration": 33,
    "start_time": "2024-02-26T12:47:12.814Z"
   },
   {
    "duration": 76,
    "start_time": "2024-02-26T12:47:12.849Z"
   },
   {
    "duration": 93,
    "start_time": "2024-02-26T12:47:12.927Z"
   },
   {
    "duration": 70,
    "start_time": "2024-02-26T12:47:13.022Z"
   },
   {
    "duration": 61,
    "start_time": "2024-02-26T12:47:13.094Z"
   },
   {
    "duration": 24,
    "start_time": "2024-02-26T12:47:13.157Z"
   },
   {
    "duration": 65,
    "start_time": "2024-02-26T12:47:13.184Z"
   },
   {
    "duration": 20,
    "start_time": "2024-02-26T12:47:13.250Z"
   },
   {
    "duration": 12,
    "start_time": "2024-02-26T12:47:13.271Z"
   },
   {
    "duration": 4,
    "start_time": "2024-02-26T12:47:13.285Z"
   },
   {
    "duration": 35,
    "start_time": "2024-02-26T12:47:13.290Z"
   },
   {
    "duration": 14,
    "start_time": "2024-02-26T12:47:13.327Z"
   },
   {
    "duration": 31,
    "start_time": "2024-02-26T12:47:13.343Z"
   },
   {
    "duration": 20,
    "start_time": "2024-02-26T12:47:13.376Z"
   },
   {
    "duration": 18,
    "start_time": "2024-02-26T12:47:13.398Z"
   },
   {
    "duration": 19,
    "start_time": "2024-02-26T12:47:13.418Z"
   },
   {
    "duration": 29,
    "start_time": "2024-02-26T12:47:13.438Z"
   },
   {
    "duration": 19,
    "start_time": "2024-02-26T12:47:13.470Z"
   },
   {
    "duration": 24,
    "start_time": "2024-02-26T12:47:13.491Z"
   },
   {
    "duration": 11,
    "start_time": "2024-02-26T12:47:13.517Z"
   },
   {
    "duration": 24,
    "start_time": "2024-02-26T12:47:13.530Z"
   },
   {
    "duration": 21,
    "start_time": "2024-02-26T12:47:13.556Z"
   },
   {
    "duration": 22,
    "start_time": "2024-02-26T12:47:13.579Z"
   },
   {
    "duration": 13,
    "start_time": "2024-02-26T12:47:13.602Z"
   },
   {
    "duration": 60,
    "start_time": "2024-02-26T12:47:13.616Z"
   },
   {
    "duration": 10,
    "start_time": "2024-02-26T12:47:13.678Z"
   },
   {
    "duration": 78,
    "start_time": "2024-02-26T12:47:13.690Z"
   },
   {
    "duration": 0,
    "start_time": "2024-02-26T12:47:13.769Z"
   },
   {
    "duration": 392,
    "start_time": "2024-02-26T12:47:43.295Z"
   },
   {
    "duration": 182,
    "start_time": "2024-02-26T12:47:43.689Z"
   },
   {
    "duration": 16,
    "start_time": "2024-02-26T12:47:43.873Z"
   },
   {
    "duration": 84,
    "start_time": "2024-02-26T12:47:43.891Z"
   },
   {
    "duration": 28,
    "start_time": "2024-02-26T12:47:43.978Z"
   },
   {
    "duration": 87,
    "start_time": "2024-02-26T12:47:44.008Z"
   },
   {
    "duration": 56,
    "start_time": "2024-02-26T12:47:44.097Z"
   },
   {
    "duration": 25,
    "start_time": "2024-02-26T12:47:44.155Z"
   },
   {
    "duration": 70,
    "start_time": "2024-02-26T12:47:44.181Z"
   },
   {
    "duration": 76,
    "start_time": "2024-02-26T12:47:44.252Z"
   },
   {
    "duration": 39,
    "start_time": "2024-02-26T12:47:44.329Z"
   },
   {
    "duration": 101,
    "start_time": "2024-02-26T12:47:44.369Z"
   },
   {
    "duration": 80,
    "start_time": "2024-02-26T12:47:44.471Z"
   },
   {
    "duration": 69,
    "start_time": "2024-02-26T12:47:44.554Z"
   },
   {
    "duration": 64,
    "start_time": "2024-02-26T12:47:44.625Z"
   },
   {
    "duration": 11,
    "start_time": "2024-02-26T12:47:44.691Z"
   },
   {
    "duration": 90,
    "start_time": "2024-02-26T12:47:44.704Z"
   },
   {
    "duration": 13,
    "start_time": "2024-02-26T12:47:44.796Z"
   },
   {
    "duration": 39,
    "start_time": "2024-02-26T12:47:44.811Z"
   },
   {
    "duration": 62,
    "start_time": "2024-02-26T12:47:44.851Z"
   },
   {
    "duration": 63,
    "start_time": "2024-02-26T12:47:44.914Z"
   },
   {
    "duration": 80,
    "start_time": "2024-02-26T12:47:44.979Z"
   },
   {
    "duration": 156,
    "start_time": "2024-02-26T12:47:45.060Z"
   },
   {
    "duration": 59,
    "start_time": "2024-02-26T12:47:45.217Z"
   },
   {
    "duration": 119,
    "start_time": "2024-02-26T12:47:45.278Z"
   },
   {
    "duration": 63,
    "start_time": "2024-02-26T12:47:45.399Z"
   },
   {
    "duration": 68,
    "start_time": "2024-02-26T12:47:45.463Z"
   },
   {
    "duration": 53,
    "start_time": "2024-02-26T12:47:45.533Z"
   },
   {
    "duration": 100,
    "start_time": "2024-02-26T12:47:45.588Z"
   },
   {
    "duration": 41,
    "start_time": "2024-02-26T12:47:45.690Z"
   },
   {
    "duration": 59,
    "start_time": "2024-02-26T12:47:45.732Z"
   },
   {
    "duration": 37,
    "start_time": "2024-02-26T12:47:45.793Z"
   },
   {
    "duration": 78,
    "start_time": "2024-02-26T12:47:45.832Z"
   },
   {
    "duration": 58,
    "start_time": "2024-02-26T12:47:45.912Z"
   },
   {
    "duration": 164,
    "start_time": "2024-02-26T12:47:45.973Z"
   },
   {
    "duration": 27,
    "start_time": "2024-02-26T12:47:46.138Z"
   },
   {
    "duration": 102,
    "start_time": "2024-02-26T12:47:46.167Z"
   },
   {
    "duration": 0,
    "start_time": "2024-02-26T12:47:46.271Z"
   },
   {
    "duration": 387,
    "start_time": "2024-02-26T12:47:58.012Z"
   },
   {
    "duration": 174,
    "start_time": "2024-02-26T12:47:58.401Z"
   },
   {
    "duration": 17,
    "start_time": "2024-02-26T12:47:58.578Z"
   },
   {
    "duration": 35,
    "start_time": "2024-02-26T12:47:58.597Z"
   },
   {
    "duration": 18,
    "start_time": "2024-02-26T12:47:58.647Z"
   },
   {
    "duration": 5,
    "start_time": "2024-02-26T12:47:58.667Z"
   },
   {
    "duration": 17,
    "start_time": "2024-02-26T12:47:58.673Z"
   },
   {
    "duration": 17,
    "start_time": "2024-02-26T12:47:58.692Z"
   },
   {
    "duration": 52,
    "start_time": "2024-02-26T12:47:58.711Z"
   },
   {
    "duration": 19,
    "start_time": "2024-02-26T12:47:58.765Z"
   },
   {
    "duration": 44,
    "start_time": "2024-02-26T12:47:58.786Z"
   },
   {
    "duration": 151,
    "start_time": "2024-02-26T12:47:58.831Z"
   },
   {
    "duration": 92,
    "start_time": "2024-02-26T12:47:58.987Z"
   },
   {
    "duration": 62,
    "start_time": "2024-02-26T12:47:59.080Z"
   },
   {
    "duration": 55,
    "start_time": "2024-02-26T12:47:59.144Z"
   },
   {
    "duration": 18,
    "start_time": "2024-02-26T12:47:59.201Z"
   },
   {
    "duration": 88,
    "start_time": "2024-02-26T12:47:59.221Z"
   },
   {
    "duration": 20,
    "start_time": "2024-02-26T12:47:59.311Z"
   },
   {
    "duration": 15,
    "start_time": "2024-02-26T12:47:59.333Z"
   },
   {
    "duration": 14,
    "start_time": "2024-02-26T12:47:59.366Z"
   },
   {
    "duration": 55,
    "start_time": "2024-02-26T12:47:59.382Z"
   },
   {
    "duration": 53,
    "start_time": "2024-02-26T12:47:59.438Z"
   },
   {
    "duration": 121,
    "start_time": "2024-02-26T12:47:59.493Z"
   },
   {
    "duration": 65,
    "start_time": "2024-02-26T12:47:59.616Z"
   },
   {
    "duration": 102,
    "start_time": "2024-02-26T12:47:59.683Z"
   },
   {
    "duration": 69,
    "start_time": "2024-02-26T12:47:59.787Z"
   },
   {
    "duration": 18,
    "start_time": "2024-02-26T12:47:59.857Z"
   },
   {
    "duration": 45,
    "start_time": "2024-02-26T12:47:59.877Z"
   },
   {
    "duration": 72,
    "start_time": "2024-02-26T12:47:59.925Z"
   },
   {
    "duration": 21,
    "start_time": "2024-02-26T12:47:59.999Z"
   },
   {
    "duration": 206,
    "start_time": "2024-02-26T12:48:00.022Z"
   },
   {
    "duration": 256,
    "start_time": "2024-02-26T12:48:00.230Z"
   },
   {
    "duration": 332,
    "start_time": "2024-02-26T12:48:00.488Z"
   },
   {
    "duration": 79,
    "start_time": "2024-02-26T12:48:00.822Z"
   },
   {
    "duration": 106,
    "start_time": "2024-02-26T12:48:00.903Z"
   },
   {
    "duration": 47,
    "start_time": "2024-02-26T12:48:01.011Z"
   },
   {
    "duration": 147,
    "start_time": "2024-02-26T12:48:01.059Z"
   },
   {
    "duration": 89,
    "start_time": "2024-02-26T12:48:01.208Z"
   },
   {
    "duration": 48,
    "start_time": "2024-02-26T12:49:05.556Z"
   },
   {
    "duration": 51,
    "start_time": "2024-02-26T12:49:15.107Z"
   },
   {
    "duration": 11,
    "start_time": "2024-02-26T12:49:22.291Z"
   },
   {
    "duration": 57,
    "start_time": "2024-02-26T12:49:42.547Z"
   },
   {
    "duration": 63,
    "start_time": "2024-02-26T12:49:59.507Z"
   },
   {
    "duration": 369,
    "start_time": "2024-02-26T12:50:12.301Z"
   },
   {
    "duration": 181,
    "start_time": "2024-02-26T12:50:12.673Z"
   },
   {
    "duration": 20,
    "start_time": "2024-02-26T12:50:12.858Z"
   },
   {
    "duration": 37,
    "start_time": "2024-02-26T12:50:12.880Z"
   },
   {
    "duration": 3,
    "start_time": "2024-02-26T12:50:12.918Z"
   },
   {
    "duration": 17,
    "start_time": "2024-02-26T12:50:12.922Z"
   },
   {
    "duration": 25,
    "start_time": "2024-02-26T12:50:12.941Z"
   },
   {
    "duration": 12,
    "start_time": "2024-02-26T12:50:12.967Z"
   },
   {
    "duration": 38,
    "start_time": "2024-02-26T12:50:12.980Z"
   },
   {
    "duration": 23,
    "start_time": "2024-02-26T12:50:13.019Z"
   },
   {
    "duration": 29,
    "start_time": "2024-02-26T12:50:13.044Z"
   },
   {
    "duration": 71,
    "start_time": "2024-02-26T12:50:13.074Z"
   },
   {
    "duration": 88,
    "start_time": "2024-02-26T12:50:13.149Z"
   },
   {
    "duration": 72,
    "start_time": "2024-02-26T12:50:13.239Z"
   },
   {
    "duration": 42,
    "start_time": "2024-02-26T12:50:13.312Z"
   },
   {
    "duration": 11,
    "start_time": "2024-02-26T12:50:13.365Z"
   },
   {
    "duration": 52,
    "start_time": "2024-02-26T12:50:13.377Z"
   },
   {
    "duration": 13,
    "start_time": "2024-02-26T12:50:13.431Z"
   },
   {
    "duration": 25,
    "start_time": "2024-02-26T12:50:13.446Z"
   },
   {
    "duration": 4,
    "start_time": "2024-02-26T12:50:13.472Z"
   },
   {
    "duration": 29,
    "start_time": "2024-02-26T12:50:13.478Z"
   },
   {
    "duration": 20,
    "start_time": "2024-02-26T12:50:13.509Z"
   },
   {
    "duration": 16,
    "start_time": "2024-02-26T12:50:13.531Z"
   },
   {
    "duration": 27,
    "start_time": "2024-02-26T12:50:13.548Z"
   },
   {
    "duration": 16,
    "start_time": "2024-02-26T12:50:13.577Z"
   },
   {
    "duration": 26,
    "start_time": "2024-02-26T12:50:13.595Z"
   },
   {
    "duration": 18,
    "start_time": "2024-02-26T12:50:13.623Z"
   },
   {
    "duration": 25,
    "start_time": "2024-02-26T12:50:13.643Z"
   },
   {
    "duration": 10,
    "start_time": "2024-02-26T12:50:13.669Z"
   },
   {
    "duration": 15,
    "start_time": "2024-02-26T12:50:13.681Z"
   },
   {
    "duration": 32,
    "start_time": "2024-02-26T12:50:13.698Z"
   },
   {
    "duration": 14,
    "start_time": "2024-02-26T12:50:13.732Z"
   },
   {
    "duration": 26,
    "start_time": "2024-02-26T12:50:13.748Z"
   },
   {
    "duration": 11,
    "start_time": "2024-02-26T12:50:13.776Z"
   },
   {
    "duration": 60,
    "start_time": "2024-02-26T12:50:13.788Z"
   },
   {
    "duration": 24,
    "start_time": "2024-02-26T12:50:13.850Z"
   },
   {
    "duration": 47,
    "start_time": "2024-02-26T12:50:13.876Z"
   },
   {
    "duration": 3,
    "start_time": "2024-02-26T12:50:13.925Z"
   },
   {
    "duration": 432,
    "start_time": "2024-02-26T12:51:03.265Z"
   },
   {
    "duration": 184,
    "start_time": "2024-02-26T12:51:03.699Z"
   },
   {
    "duration": 21,
    "start_time": "2024-02-26T12:51:03.886Z"
   },
   {
    "duration": 72,
    "start_time": "2024-02-26T12:51:03.908Z"
   },
   {
    "duration": 52,
    "start_time": "2024-02-26T12:51:03.982Z"
   },
   {
    "duration": 64,
    "start_time": "2024-02-26T12:51:04.035Z"
   },
   {
    "duration": 34,
    "start_time": "2024-02-26T12:51:04.100Z"
   },
   {
    "duration": 71,
    "start_time": "2024-02-26T12:51:04.136Z"
   },
   {
    "duration": 50,
    "start_time": "2024-02-26T12:51:04.209Z"
   },
   {
    "duration": 59,
    "start_time": "2024-02-26T12:51:04.261Z"
   },
   {
    "duration": 28,
    "start_time": "2024-02-26T12:51:04.321Z"
   },
   {
    "duration": 70,
    "start_time": "2024-02-26T12:51:04.350Z"
   },
   {
    "duration": 88,
    "start_time": "2024-02-26T12:51:04.421Z"
   },
   {
    "duration": 75,
    "start_time": "2024-02-26T12:51:04.513Z"
   },
   {
    "duration": 42,
    "start_time": "2024-02-26T12:51:04.589Z"
   },
   {
    "duration": 12,
    "start_time": "2024-02-26T12:51:04.633Z"
   },
   {
    "duration": 48,
    "start_time": "2024-02-26T12:51:04.665Z"
   },
   {
    "duration": 81,
    "start_time": "2024-02-26T12:51:04.715Z"
   },
   {
    "duration": 101,
    "start_time": "2024-02-26T12:51:04.798Z"
   },
   {
    "duration": 76,
    "start_time": "2024-02-26T12:51:04.901Z"
   },
   {
    "duration": 113,
    "start_time": "2024-02-26T12:51:04.979Z"
   },
   {
    "duration": 39,
    "start_time": "2024-02-26T12:51:05.094Z"
   },
   {
    "duration": 37,
    "start_time": "2024-02-26T12:51:05.135Z"
   },
   {
    "duration": 66,
    "start_time": "2024-02-26T12:51:05.174Z"
   },
   {
    "duration": 38,
    "start_time": "2024-02-26T12:51:05.241Z"
   },
   {
    "duration": 75,
    "start_time": "2024-02-26T12:51:05.281Z"
   },
   {
    "duration": 59,
    "start_time": "2024-02-26T12:51:05.358Z"
   },
   {
    "duration": 59,
    "start_time": "2024-02-26T12:51:05.418Z"
   },
   {
    "duration": 121,
    "start_time": "2024-02-26T12:51:05.479Z"
   },
   {
    "duration": 25,
    "start_time": "2024-02-26T12:51:05.602Z"
   },
   {
    "duration": 37,
    "start_time": "2024-02-26T12:51:05.629Z"
   },
   {
    "duration": 20,
    "start_time": "2024-02-26T12:51:05.668Z"
   },
   {
    "duration": 38,
    "start_time": "2024-02-26T12:51:05.690Z"
   },
   {
    "duration": 10,
    "start_time": "2024-02-26T12:51:05.730Z"
   },
   {
    "duration": 49,
    "start_time": "2024-02-26T12:51:05.742Z"
   },
   {
    "duration": 11,
    "start_time": "2024-02-26T12:51:05.793Z"
   },
   {
    "duration": 38,
    "start_time": "2024-02-26T12:51:05.806Z"
   },
   {
    "duration": 28,
    "start_time": "2024-02-26T12:51:05.846Z"
   },
   {
    "duration": 19,
    "start_time": "2024-02-26T12:51:28.001Z"
   },
   {
    "duration": 73,
    "start_time": "2024-02-26T12:51:56.010Z"
   },
   {
    "duration": 26,
    "start_time": "2024-02-26T12:52:06.993Z"
   },
   {
    "duration": 13,
    "start_time": "2024-02-26T12:52:26.329Z"
   },
   {
    "duration": 60,
    "start_time": "2024-02-26T12:53:49.121Z"
   },
   {
    "duration": 15,
    "start_time": "2024-02-26T12:54:08.676Z"
   },
   {
    "duration": 18,
    "start_time": "2024-02-26T12:55:59.369Z"
   },
   {
    "duration": 1365,
    "start_time": "2024-02-26T12:56:51.263Z"
   },
   {
    "duration": 32,
    "start_time": "2024-02-26T12:56:56.937Z"
   },
   {
    "duration": 5,
    "start_time": "2024-02-26T12:57:06.657Z"
   },
   {
    "duration": 1638,
    "start_time": "2024-02-26T12:57:17.184Z"
   },
   {
    "duration": 388,
    "start_time": "2024-02-26T12:57:52.517Z"
   },
   {
    "duration": 185,
    "start_time": "2024-02-26T12:57:52.907Z"
   },
   {
    "duration": 16,
    "start_time": "2024-02-26T12:57:53.094Z"
   },
   {
    "duration": 42,
    "start_time": "2024-02-26T12:57:53.112Z"
   },
   {
    "duration": 11,
    "start_time": "2024-02-26T12:57:53.165Z"
   },
   {
    "duration": 8,
    "start_time": "2024-02-26T12:57:53.177Z"
   },
   {
    "duration": 13,
    "start_time": "2024-02-26T12:57:53.187Z"
   },
   {
    "duration": 8,
    "start_time": "2024-02-26T12:57:53.201Z"
   },
   {
    "duration": 32,
    "start_time": "2024-02-26T12:57:53.211Z"
   },
   {
    "duration": 43,
    "start_time": "2024-02-26T12:57:53.245Z"
   },
   {
    "duration": 34,
    "start_time": "2024-02-26T12:57:53.289Z"
   },
   {
    "duration": 81,
    "start_time": "2024-02-26T12:57:53.324Z"
   },
   {
    "duration": 88,
    "start_time": "2024-02-26T12:57:53.407Z"
   },
   {
    "duration": 58,
    "start_time": "2024-02-26T12:57:53.496Z"
   },
   {
    "duration": 56,
    "start_time": "2024-02-26T12:57:53.555Z"
   },
   {
    "duration": 11,
    "start_time": "2024-02-26T12:57:53.613Z"
   },
   {
    "duration": 62,
    "start_time": "2024-02-26T12:57:53.625Z"
   },
   {
    "duration": 13,
    "start_time": "2024-02-26T12:57:53.688Z"
   },
   {
    "duration": 31,
    "start_time": "2024-02-26T12:57:53.703Z"
   },
   {
    "duration": 8,
    "start_time": "2024-02-26T12:57:53.736Z"
   },
   {
    "duration": 42,
    "start_time": "2024-02-26T12:57:53.746Z"
   },
   {
    "duration": 22,
    "start_time": "2024-02-26T12:57:53.790Z"
   },
   {
    "duration": 30,
    "start_time": "2024-02-26T12:57:53.814Z"
   },
   {
    "duration": 18,
    "start_time": "2024-02-26T12:57:53.845Z"
   },
   {
    "duration": 31,
    "start_time": "2024-02-26T12:57:53.864Z"
   },
   {
    "duration": 14,
    "start_time": "2024-02-26T12:57:53.897Z"
   },
   {
    "duration": 11,
    "start_time": "2024-02-26T12:57:53.913Z"
   },
   {
    "duration": 15,
    "start_time": "2024-02-26T12:57:53.927Z"
   },
   {
    "duration": 30,
    "start_time": "2024-02-26T12:57:53.944Z"
   },
   {
    "duration": 4,
    "start_time": "2024-02-26T12:57:53.977Z"
   },
   {
    "duration": 22,
    "start_time": "2024-02-26T12:57:53.982Z"
   },
   {
    "duration": 14,
    "start_time": "2024-02-26T12:57:54.005Z"
   },
   {
    "duration": 29,
    "start_time": "2024-02-26T12:57:54.020Z"
   },
   {
    "duration": 28,
    "start_time": "2024-02-26T12:57:54.050Z"
   },
   {
    "duration": 1457,
    "start_time": "2024-02-26T12:57:54.080Z"
   },
   {
    "duration": 0,
    "start_time": "2024-02-26T12:57:55.538Z"
   },
   {
    "duration": 0,
    "start_time": "2024-02-26T12:57:55.539Z"
   },
   {
    "duration": 0,
    "start_time": "2024-02-26T12:57:55.540Z"
   },
   {
    "duration": 11,
    "start_time": "2024-02-26T12:58:50.936Z"
   },
   {
    "duration": 1682,
    "start_time": "2024-02-26T13:00:14.346Z"
   },
   {
    "duration": 12,
    "start_time": "2024-02-26T13:00:59.743Z"
   },
   {
    "duration": 11,
    "start_time": "2024-02-26T13:01:41.477Z"
   },
   {
    "duration": 11,
    "start_time": "2024-02-26T13:02:19.365Z"
   },
   {
    "duration": 10,
    "start_time": "2024-02-26T13:02:42.710Z"
   },
   {
    "duration": 4,
    "start_time": "2024-02-26T13:02:47.460Z"
   },
   {
    "duration": 10,
    "start_time": "2024-02-26T13:03:20.597Z"
   },
   {
    "duration": 5,
    "start_time": "2024-02-26T13:03:40.037Z"
   },
   {
    "duration": 8,
    "start_time": "2024-02-26T13:04:11.861Z"
   }
  ],
  "celltoolbar": "Отсутствует",
  "colab": {
   "collapsed_sections": [
    "E0vqbgi9ay0H",
    "VUC88oWjTJw2"
   ],
   "provenance": []
  },
  "kernelspec": {
   "display_name": "Python 3 (ipykernel)",
   "language": "python",
   "name": "python3"
  },
  "language_info": {
   "codemirror_mode": {
    "name": "ipython",
    "version": 3
   },
   "file_extension": ".py",
   "mimetype": "text/x-python",
   "name": "python",
   "nbconvert_exporter": "python",
   "pygments_lexer": "ipython3",
   "version": "3.9.5"
  },
  "toc": {
   "base_numbering": 1,
   "nav_menu": {
    "height": "215px",
    "width": "403px"
   },
   "number_sections": true,
   "sideBar": true,
   "skip_h1_title": true,
   "title_cell": "Table of Contents",
   "title_sidebar": "Contents",
   "toc_cell": false,
   "toc_position": {
    "height": "calc(100% - 180px)",
    "left": "10px",
    "top": "150px",
    "width": "285.825px"
   },
   "toc_section_display": true,
   "toc_window_display": true
  }
 },
 "nbformat": 4,
 "nbformat_minor": 1
}
