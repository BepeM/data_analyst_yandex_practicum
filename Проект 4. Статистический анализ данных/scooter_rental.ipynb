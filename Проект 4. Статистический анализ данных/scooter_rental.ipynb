{
 "cells": [
  {
   "cell_type": "markdown",
   "id": "426a3240",
   "metadata": {},
   "source": [
    "# Проект: Статистический анализ данных"
   ]
  },
  {
   "cell_type": "markdown",
   "id": "63ac0c74",
   "metadata": {},
   "source": [
    "**Вы аналитик популярного сервиса аренды самокатов GoFast. Вам передали данные о некоторых пользователях из нескольких городов, а также об их поездках. Проанализируйте данные и проверьте некоторые гипотезы, которые могут помочь бизнесу вырасти.\n",
    "Чтобы совершать поездки по городу, пользователи сервиса GoFast пользуются мобильным приложением. Сервисом можно пользоваться:**\n",
    "1. без подписки\n",
    "   - абонентская плата отсутствует;\n",
    "   - стоимость одной минуты поездки — 8 рублей;\n",
    "   - стоимость старта (начала поездки) — 50 рублей;\n",
    "2. с подпиской Ultra\n",
    "   - абонентская плата — 199 рублей в месяц;\n",
    "   - стоимость одной минуты поездки — 6 рублей;\n",
    "   - стоимость старта — бесплатно.\n"
   ]
  },
  {
   "cell_type": "code",
   "execution_count": 1,
   "id": "19e370a6",
   "metadata": {},
   "outputs": [],
   "source": [
    "import pandas as pd"
   ]
  },
  {
   "cell_type": "code",
   "execution_count": 2,
   "id": "5eb06886",
   "metadata": {},
   "outputs": [],
   "source": [
    "import matplotlib.pyplot as plt "
   ]
  },
  {
   "cell_type": "code",
   "execution_count": 3,
   "id": "b7e60366",
   "metadata": {},
   "outputs": [],
   "source": [
    "from math import factorial"
   ]
  },
  {
   "cell_type": "code",
   "execution_count": 4,
   "id": "72576667",
   "metadata": {},
   "outputs": [],
   "source": [
    "import numpy as np"
   ]
  },
  {
   "cell_type": "code",
   "execution_count": 5,
   "id": "5fc46703",
   "metadata": {},
   "outputs": [],
   "source": [
    "from scipy import stats as st"
   ]
  },
  {
   "cell_type": "markdown",
   "id": "c42cbe00",
   "metadata": {},
   "source": [
    "#### Шаг 1. Загрузка данных"
   ]
  },
  {
   "cell_type": "markdown",
   "id": "e5ff0cf6",
   "metadata": {},
   "source": [
    "##### Считайте CSV-файлы с данными с помощью библиотеки pandas и сохраните их в датафреймы"
   ]
  },
  {
   "cell_type": "code",
   "execution_count": 6,
   "id": "eff9f206",
   "metadata": {},
   "outputs": [],
   "source": [
    "try:\n",
    "    users = pd.read_csv('/datasets/users_go.csv', sep = ',')\n",
    "except:\n",
    "    users = pd.read_csv('https://code.s3.yandex.net/datasets/users_go.csv', sep=',')"
   ]
  },
  {
   "cell_type": "code",
   "execution_count": 7,
   "id": "701d95c1",
   "metadata": {},
   "outputs": [],
   "source": [
    "try:\n",
    "    rides = pd.read_csv('/datasets/rides_go.csv', sep = ',')\n",
    "except:\n",
    "    rides = pd.read_csv('https://code.s3.yandex.net/datasets/rides_go.csv', sep=',')"
   ]
  },
  {
   "cell_type": "code",
   "execution_count": 8,
   "id": "08c5f1ba",
   "metadata": {},
   "outputs": [],
   "source": [
    "try:\n",
    "    subscriptions = pd.read_csv('/datasets/subscriptions_go.csv', sep = ',')\n",
    "except:\n",
    "    subscriptions = pd.read_csv('https://code.s3.yandex.net/datasets/subscriptions_go.csv', sep=',')"
   ]
  },
  {
   "cell_type": "markdown",
   "id": "603d1a1d",
   "metadata": {},
   "source": [
    "##### Выведите первые строки каждого набора данных. Изучите общую информацию о каждом датафрейме."
   ]
  },
  {
   "cell_type": "code",
   "execution_count": 9,
   "id": "218237ea",
   "metadata": {},
   "outputs": [
    {
     "data": {
      "text/html": [
       "<div>\n",
       "<style scoped>\n",
       "    .dataframe tbody tr th:only-of-type {\n",
       "        vertical-align: middle;\n",
       "    }\n",
       "\n",
       "    .dataframe tbody tr th {\n",
       "        vertical-align: top;\n",
       "    }\n",
       "\n",
       "    .dataframe thead th {\n",
       "        text-align: right;\n",
       "    }\n",
       "</style>\n",
       "<table border=\"1\" class=\"dataframe\">\n",
       "  <thead>\n",
       "    <tr style=\"text-align: right;\">\n",
       "      <th></th>\n",
       "      <th>user_id</th>\n",
       "      <th>name</th>\n",
       "      <th>age</th>\n",
       "      <th>city</th>\n",
       "      <th>subscription_type</th>\n",
       "    </tr>\n",
       "  </thead>\n",
       "  <tbody>\n",
       "    <tr>\n",
       "      <th>0</th>\n",
       "      <td>1</td>\n",
       "      <td>Кира</td>\n",
       "      <td>22</td>\n",
       "      <td>Тюмень</td>\n",
       "      <td>ultra</td>\n",
       "    </tr>\n",
       "    <tr>\n",
       "      <th>1</th>\n",
       "      <td>2</td>\n",
       "      <td>Станислав</td>\n",
       "      <td>31</td>\n",
       "      <td>Омск</td>\n",
       "      <td>ultra</td>\n",
       "    </tr>\n",
       "    <tr>\n",
       "      <th>2</th>\n",
       "      <td>3</td>\n",
       "      <td>Алексей</td>\n",
       "      <td>20</td>\n",
       "      <td>Москва</td>\n",
       "      <td>ultra</td>\n",
       "    </tr>\n",
       "    <tr>\n",
       "      <th>3</th>\n",
       "      <td>4</td>\n",
       "      <td>Константин</td>\n",
       "      <td>26</td>\n",
       "      <td>Ростов-на-Дону</td>\n",
       "      <td>ultra</td>\n",
       "    </tr>\n",
       "    <tr>\n",
       "      <th>4</th>\n",
       "      <td>5</td>\n",
       "      <td>Адель</td>\n",
       "      <td>28</td>\n",
       "      <td>Омск</td>\n",
       "      <td>ultra</td>\n",
       "    </tr>\n",
       "  </tbody>\n",
       "</table>\n",
       "</div>"
      ],
      "text/plain": [
       "   user_id        name  age            city subscription_type\n",
       "0        1        Кира   22          Тюмень             ultra\n",
       "1        2   Станислав   31            Омск             ultra\n",
       "2        3     Алексей   20          Москва             ultra\n",
       "3        4  Константин   26  Ростов-на-Дону             ultra\n",
       "4        5       Адель   28            Омск             ultra"
      ]
     },
     "execution_count": 9,
     "metadata": {},
     "output_type": "execute_result"
    }
   ],
   "source": [
    "users.head()"
   ]
  },
  {
   "cell_type": "code",
   "execution_count": 10,
   "id": "2e0055f5",
   "metadata": {
    "scrolled": true
   },
   "outputs": [
    {
     "name": "stdout",
     "output_type": "stream",
     "text": [
      "<class 'pandas.core.frame.DataFrame'>\n",
      "RangeIndex: 1565 entries, 0 to 1564\n",
      "Data columns (total 5 columns):\n",
      " #   Column             Non-Null Count  Dtype \n",
      "---  ------             --------------  ----- \n",
      " 0   user_id            1565 non-null   int64 \n",
      " 1   name               1565 non-null   object\n",
      " 2   age                1565 non-null   int64 \n",
      " 3   city               1565 non-null   object\n",
      " 4   subscription_type  1565 non-null   object\n",
      "dtypes: int64(2), object(3)\n",
      "memory usage: 61.3+ KB\n"
     ]
    }
   ],
   "source": [
    "users.info()"
   ]
  },
  {
   "cell_type": "code",
   "execution_count": 11,
   "id": "d782d155",
   "metadata": {},
   "outputs": [
    {
     "data": {
      "text/html": [
       "<div>\n",
       "<style scoped>\n",
       "    .dataframe tbody tr th:only-of-type {\n",
       "        vertical-align: middle;\n",
       "    }\n",
       "\n",
       "    .dataframe tbody tr th {\n",
       "        vertical-align: top;\n",
       "    }\n",
       "\n",
       "    .dataframe thead th {\n",
       "        text-align: right;\n",
       "    }\n",
       "</style>\n",
       "<table border=\"1\" class=\"dataframe\">\n",
       "  <thead>\n",
       "    <tr style=\"text-align: right;\">\n",
       "      <th></th>\n",
       "      <th>user_id</th>\n",
       "      <th>distance</th>\n",
       "      <th>duration</th>\n",
       "      <th>date</th>\n",
       "    </tr>\n",
       "  </thead>\n",
       "  <tbody>\n",
       "    <tr>\n",
       "      <th>0</th>\n",
       "      <td>1</td>\n",
       "      <td>4409.919140</td>\n",
       "      <td>25.599769</td>\n",
       "      <td>2021-01-01</td>\n",
       "    </tr>\n",
       "    <tr>\n",
       "      <th>1</th>\n",
       "      <td>1</td>\n",
       "      <td>2617.592153</td>\n",
       "      <td>15.816871</td>\n",
       "      <td>2021-01-18</td>\n",
       "    </tr>\n",
       "    <tr>\n",
       "      <th>2</th>\n",
       "      <td>1</td>\n",
       "      <td>754.159807</td>\n",
       "      <td>6.232113</td>\n",
       "      <td>2021-04-20</td>\n",
       "    </tr>\n",
       "    <tr>\n",
       "      <th>3</th>\n",
       "      <td>1</td>\n",
       "      <td>2694.783254</td>\n",
       "      <td>18.511000</td>\n",
       "      <td>2021-08-11</td>\n",
       "    </tr>\n",
       "    <tr>\n",
       "      <th>4</th>\n",
       "      <td>1</td>\n",
       "      <td>4028.687306</td>\n",
       "      <td>26.265803</td>\n",
       "      <td>2021-08-28</td>\n",
       "    </tr>\n",
       "  </tbody>\n",
       "</table>\n",
       "</div>"
      ],
      "text/plain": [
       "   user_id     distance   duration        date\n",
       "0        1  4409.919140  25.599769  2021-01-01\n",
       "1        1  2617.592153  15.816871  2021-01-18\n",
       "2        1   754.159807   6.232113  2021-04-20\n",
       "3        1  2694.783254  18.511000  2021-08-11\n",
       "4        1  4028.687306  26.265803  2021-08-28"
      ]
     },
     "execution_count": 11,
     "metadata": {},
     "output_type": "execute_result"
    }
   ],
   "source": [
    "rides.head()"
   ]
  },
  {
   "cell_type": "code",
   "execution_count": 12,
   "id": "d1386161",
   "metadata": {},
   "outputs": [
    {
     "name": "stdout",
     "output_type": "stream",
     "text": [
      "<class 'pandas.core.frame.DataFrame'>\n",
      "RangeIndex: 18068 entries, 0 to 18067\n",
      "Data columns (total 4 columns):\n",
      " #   Column    Non-Null Count  Dtype  \n",
      "---  ------    --------------  -----  \n",
      " 0   user_id   18068 non-null  int64  \n",
      " 1   distance  18068 non-null  float64\n",
      " 2   duration  18068 non-null  float64\n",
      " 3   date      18068 non-null  object \n",
      "dtypes: float64(2), int64(1), object(1)\n",
      "memory usage: 564.8+ KB\n"
     ]
    }
   ],
   "source": [
    "rides.info()"
   ]
  },
  {
   "cell_type": "code",
   "execution_count": 13,
   "id": "51bea336",
   "metadata": {},
   "outputs": [
    {
     "data": {
      "text/html": [
       "<div>\n",
       "<style scoped>\n",
       "    .dataframe tbody tr th:only-of-type {\n",
       "        vertical-align: middle;\n",
       "    }\n",
       "\n",
       "    .dataframe tbody tr th {\n",
       "        vertical-align: top;\n",
       "    }\n",
       "\n",
       "    .dataframe thead th {\n",
       "        text-align: right;\n",
       "    }\n",
       "</style>\n",
       "<table border=\"1\" class=\"dataframe\">\n",
       "  <thead>\n",
       "    <tr style=\"text-align: right;\">\n",
       "      <th></th>\n",
       "      <th>subscription_type</th>\n",
       "      <th>minute_price</th>\n",
       "      <th>start_ride_price</th>\n",
       "      <th>subscription_fee</th>\n",
       "    </tr>\n",
       "  </thead>\n",
       "  <tbody>\n",
       "    <tr>\n",
       "      <th>0</th>\n",
       "      <td>free</td>\n",
       "      <td>8</td>\n",
       "      <td>50</td>\n",
       "      <td>0</td>\n",
       "    </tr>\n",
       "    <tr>\n",
       "      <th>1</th>\n",
       "      <td>ultra</td>\n",
       "      <td>6</td>\n",
       "      <td>0</td>\n",
       "      <td>199</td>\n",
       "    </tr>\n",
       "  </tbody>\n",
       "</table>\n",
       "</div>"
      ],
      "text/plain": [
       "  subscription_type  minute_price  start_ride_price  subscription_fee\n",
       "0              free             8                50                 0\n",
       "1             ultra             6                 0               199"
      ]
     },
     "execution_count": 13,
     "metadata": {},
     "output_type": "execute_result"
    }
   ],
   "source": [
    "subscriptions.head()"
   ]
  },
  {
   "cell_type": "code",
   "execution_count": 14,
   "id": "03f57b02",
   "metadata": {},
   "outputs": [
    {
     "name": "stdout",
     "output_type": "stream",
     "text": [
      "<class 'pandas.core.frame.DataFrame'>\n",
      "RangeIndex: 2 entries, 0 to 1\n",
      "Data columns (total 4 columns):\n",
      " #   Column             Non-Null Count  Dtype \n",
      "---  ------             --------------  ----- \n",
      " 0   subscription_type  2 non-null      object\n",
      " 1   minute_price       2 non-null      int64 \n",
      " 2   start_ride_price   2 non-null      int64 \n",
      " 3   subscription_fee   2 non-null      int64 \n",
      "dtypes: int64(3), object(1)\n",
      "memory usage: 196.0+ bytes\n"
     ]
    }
   ],
   "source": [
    "subscriptions.info()"
   ]
  },
  {
   "cell_type": "markdown",
   "id": "3d882de9",
   "metadata": {},
   "source": [
    "***Вывод:*** У нас имеется три таблицы с данными. У таблыцы users 1565 стрики и 5 столбцов. У таблицы rides имеется 18068 строк и 4 столбца. В таблице subscriptions 2 строки и 4 столбца. Пропусков в данных не замечено. Так же имеется общий клюк для таблицы users и rides это user_id, а для таблиц users и subscriptions - subscription_type."
   ]
  },
  {
   "cell_type": "markdown",
   "id": "e95ebca7",
   "metadata": {},
   "source": [
    "#### Шаг 2. Предобработка данных"
   ]
  },
  {
   "cell_type": "markdown",
   "id": "efca3446",
   "metadata": {},
   "source": [
    "##### Приведите столбец date к типу даты pandas."
   ]
  },
  {
   "cell_type": "code",
   "execution_count": 15,
   "id": "95b88874",
   "metadata": {},
   "outputs": [],
   "source": [
    "rides['date'] = pd.to_datetime(rides.date)"
   ]
  },
  {
   "cell_type": "code",
   "execution_count": 16,
   "id": "d044d85d",
   "metadata": {},
   "outputs": [
    {
     "name": "stdout",
     "output_type": "stream",
     "text": [
      "<class 'pandas.core.frame.DataFrame'>\n",
      "RangeIndex: 18068 entries, 0 to 18067\n",
      "Data columns (total 4 columns):\n",
      " #   Column    Non-Null Count  Dtype         \n",
      "---  ------    --------------  -----         \n",
      " 0   user_id   18068 non-null  int64         \n",
      " 1   distance  18068 non-null  float64       \n",
      " 2   duration  18068 non-null  float64       \n",
      " 3   date      18068 non-null  datetime64[ns]\n",
      "dtypes: datetime64[ns](1), float64(2), int64(1)\n",
      "memory usage: 564.8 KB\n"
     ]
    }
   ],
   "source": [
    "rides.info()"
   ]
  },
  {
   "cell_type": "markdown",
   "id": "6c37a26d",
   "metadata": {},
   "source": [
    "##### Создайте новый столбец с номером месяца на основе столбца date."
   ]
  },
  {
   "cell_type": "code",
   "execution_count": 17,
   "id": "a463989b",
   "metadata": {},
   "outputs": [],
   "source": [
    "rides['month'] = pd.to_datetime(rides[\"date\"]).dt.month"
   ]
  },
  {
   "cell_type": "code",
   "execution_count": 18,
   "id": "1011c5bd",
   "metadata": {},
   "outputs": [
    {
     "data": {
      "text/html": [
       "<div>\n",
       "<style scoped>\n",
       "    .dataframe tbody tr th:only-of-type {\n",
       "        vertical-align: middle;\n",
       "    }\n",
       "\n",
       "    .dataframe tbody tr th {\n",
       "        vertical-align: top;\n",
       "    }\n",
       "\n",
       "    .dataframe thead th {\n",
       "        text-align: right;\n",
       "    }\n",
       "</style>\n",
       "<table border=\"1\" class=\"dataframe\">\n",
       "  <thead>\n",
       "    <tr style=\"text-align: right;\">\n",
       "      <th></th>\n",
       "      <th>user_id</th>\n",
       "      <th>distance</th>\n",
       "      <th>duration</th>\n",
       "      <th>date</th>\n",
       "      <th>month</th>\n",
       "    </tr>\n",
       "  </thead>\n",
       "  <tbody>\n",
       "    <tr>\n",
       "      <th>0</th>\n",
       "      <td>1</td>\n",
       "      <td>4409.919140</td>\n",
       "      <td>25.599769</td>\n",
       "      <td>2021-01-01</td>\n",
       "      <td>1</td>\n",
       "    </tr>\n",
       "    <tr>\n",
       "      <th>1</th>\n",
       "      <td>1</td>\n",
       "      <td>2617.592153</td>\n",
       "      <td>15.816871</td>\n",
       "      <td>2021-01-18</td>\n",
       "      <td>1</td>\n",
       "    </tr>\n",
       "    <tr>\n",
       "      <th>2</th>\n",
       "      <td>1</td>\n",
       "      <td>754.159807</td>\n",
       "      <td>6.232113</td>\n",
       "      <td>2021-04-20</td>\n",
       "      <td>4</td>\n",
       "    </tr>\n",
       "    <tr>\n",
       "      <th>3</th>\n",
       "      <td>1</td>\n",
       "      <td>2694.783254</td>\n",
       "      <td>18.511000</td>\n",
       "      <td>2021-08-11</td>\n",
       "      <td>8</td>\n",
       "    </tr>\n",
       "    <tr>\n",
       "      <th>4</th>\n",
       "      <td>1</td>\n",
       "      <td>4028.687306</td>\n",
       "      <td>26.265803</td>\n",
       "      <td>2021-08-28</td>\n",
       "      <td>8</td>\n",
       "    </tr>\n",
       "  </tbody>\n",
       "</table>\n",
       "</div>"
      ],
      "text/plain": [
       "   user_id     distance   duration       date  month\n",
       "0        1  4409.919140  25.599769 2021-01-01      1\n",
       "1        1  2617.592153  15.816871 2021-01-18      1\n",
       "2        1   754.159807   6.232113 2021-04-20      4\n",
       "3        1  2694.783254  18.511000 2021-08-11      8\n",
       "4        1  4028.687306  26.265803 2021-08-28      8"
      ]
     },
     "execution_count": 18,
     "metadata": {},
     "output_type": "execute_result"
    }
   ],
   "source": [
    "rides.head()"
   ]
  },
  {
   "cell_type": "markdown",
   "id": "b85093a2",
   "metadata": {},
   "source": [
    "##### Проверьте наличие пропущенных значений и дубликатов в датафреймах. Обработайте их, если такие значения присутствуют.\n"
   ]
  },
  {
   "cell_type": "code",
   "execution_count": 19,
   "id": "2f3b907c",
   "metadata": {
    "scrolled": true
   },
   "outputs": [
    {
     "data": {
      "text/plain": [
       "31"
      ]
     },
     "execution_count": 19,
     "metadata": {},
     "output_type": "execute_result"
    }
   ],
   "source": [
    "users.duplicated().sum() #имеются явные дубликаты. Удалим их"
   ]
  },
  {
   "cell_type": "code",
   "execution_count": 20,
   "id": "d94c227c",
   "metadata": {},
   "outputs": [
    {
     "data": {
      "text/html": [
       "<div>\n",
       "<style scoped>\n",
       "    .dataframe tbody tr th:only-of-type {\n",
       "        vertical-align: middle;\n",
       "    }\n",
       "\n",
       "    .dataframe tbody tr th {\n",
       "        vertical-align: top;\n",
       "    }\n",
       "\n",
       "    .dataframe thead th {\n",
       "        text-align: right;\n",
       "    }\n",
       "</style>\n",
       "<table border=\"1\" class=\"dataframe\">\n",
       "  <thead>\n",
       "    <tr style=\"text-align: right;\">\n",
       "      <th></th>\n",
       "      <th>user_id</th>\n",
       "      <th>name</th>\n",
       "      <th>age</th>\n",
       "      <th>city</th>\n",
       "      <th>subscription_type</th>\n",
       "    </tr>\n",
       "  </thead>\n",
       "  <tbody>\n",
       "    <tr>\n",
       "      <th>0</th>\n",
       "      <td>1</td>\n",
       "      <td>Кира</td>\n",
       "      <td>22</td>\n",
       "      <td>Тюмень</td>\n",
       "      <td>ultra</td>\n",
       "    </tr>\n",
       "    <tr>\n",
       "      <th>1</th>\n",
       "      <td>2</td>\n",
       "      <td>Станислав</td>\n",
       "      <td>31</td>\n",
       "      <td>Омск</td>\n",
       "      <td>ultra</td>\n",
       "    </tr>\n",
       "    <tr>\n",
       "      <th>2</th>\n",
       "      <td>3</td>\n",
       "      <td>Алексей</td>\n",
       "      <td>20</td>\n",
       "      <td>Москва</td>\n",
       "      <td>ultra</td>\n",
       "    </tr>\n",
       "    <tr>\n",
       "      <th>3</th>\n",
       "      <td>4</td>\n",
       "      <td>Константин</td>\n",
       "      <td>26</td>\n",
       "      <td>Ростов-на-Дону</td>\n",
       "      <td>ultra</td>\n",
       "    </tr>\n",
       "    <tr>\n",
       "      <th>4</th>\n",
       "      <td>5</td>\n",
       "      <td>Адель</td>\n",
       "      <td>28</td>\n",
       "      <td>Омск</td>\n",
       "      <td>ultra</td>\n",
       "    </tr>\n",
       "    <tr>\n",
       "      <th>...</th>\n",
       "      <td>...</td>\n",
       "      <td>...</td>\n",
       "      <td>...</td>\n",
       "      <td>...</td>\n",
       "      <td>...</td>\n",
       "    </tr>\n",
       "    <tr>\n",
       "      <th>1529</th>\n",
       "      <td>1530</td>\n",
       "      <td>Ростислав</td>\n",
       "      <td>29</td>\n",
       "      <td>Сочи</td>\n",
       "      <td>free</td>\n",
       "    </tr>\n",
       "    <tr>\n",
       "      <th>1530</th>\n",
       "      <td>1531</td>\n",
       "      <td>Никита</td>\n",
       "      <td>25</td>\n",
       "      <td>Пятигорск</td>\n",
       "      <td>free</td>\n",
       "    </tr>\n",
       "    <tr>\n",
       "      <th>1531</th>\n",
       "      <td>1532</td>\n",
       "      <td>Алексей</td>\n",
       "      <td>26</td>\n",
       "      <td>Тюмень</td>\n",
       "      <td>free</td>\n",
       "    </tr>\n",
       "    <tr>\n",
       "      <th>1532</th>\n",
       "      <td>1533</td>\n",
       "      <td>Степан</td>\n",
       "      <td>22</td>\n",
       "      <td>Краснодар</td>\n",
       "      <td>free</td>\n",
       "    </tr>\n",
       "    <tr>\n",
       "      <th>1533</th>\n",
       "      <td>1534</td>\n",
       "      <td>Альберт</td>\n",
       "      <td>25</td>\n",
       "      <td>Краснодар</td>\n",
       "      <td>free</td>\n",
       "    </tr>\n",
       "  </tbody>\n",
       "</table>\n",
       "<p>1534 rows × 5 columns</p>\n",
       "</div>"
      ],
      "text/plain": [
       "      user_id        name  age            city subscription_type\n",
       "0           1        Кира   22          Тюмень             ultra\n",
       "1           2   Станислав   31            Омск             ultra\n",
       "2           3     Алексей   20          Москва             ultra\n",
       "3           4  Константин   26  Ростов-на-Дону             ultra\n",
       "4           5       Адель   28            Омск             ultra\n",
       "...       ...         ...  ...             ...               ...\n",
       "1529     1530   Ростислав   29            Сочи              free\n",
       "1530     1531      Никита   25       Пятигорск              free\n",
       "1531     1532     Алексей   26          Тюмень              free\n",
       "1532     1533      Степан   22       Краснодар              free\n",
       "1533     1534     Альберт   25       Краснодар              free\n",
       "\n",
       "[1534 rows x 5 columns]"
      ]
     },
     "execution_count": 20,
     "metadata": {},
     "output_type": "execute_result"
    }
   ],
   "source": [
    "users = users.drop_duplicates().reset_index(drop = True)\n",
    "users"
   ]
  },
  {
   "cell_type": "code",
   "execution_count": 21,
   "id": "e16856b3",
   "metadata": {},
   "outputs": [
    {
     "data": {
      "text/plain": [
       "0"
      ]
     },
     "execution_count": 21,
     "metadata": {},
     "output_type": "execute_result"
    }
   ],
   "source": [
    "rides.duplicated().sum() #дубликатов не замечено или они неявные"
   ]
  },
  {
   "cell_type": "code",
   "execution_count": 22,
   "id": "2be747fb",
   "metadata": {},
   "outputs": [
    {
     "data": {
      "text/plain": [
       "0"
      ]
     },
     "execution_count": 22,
     "metadata": {},
     "output_type": "execute_result"
    }
   ],
   "source": [
    "subscriptions.duplicated().sum() #дубликатов не замечено или они неявные"
   ]
  },
  {
   "cell_type": "code",
   "execution_count": 23,
   "id": "499ba0da",
   "metadata": {},
   "outputs": [
    {
     "data": {
      "text/html": [
       "<style type=\"text/css\">\n",
       "#T_de464_row0_col0, #T_de464_row1_col0, #T_de464_row2_col0, #T_de464_row3_col0, #T_de464_row4_col0 {\n",
       "  background-color: #3b4cc0;\n",
       "  color: #f1f1f1;\n",
       "}\n",
       "</style>\n",
       "<table id=\"T_de464\">\n",
       "  <thead>\n",
       "    <tr>\n",
       "      <th class=\"blank level0\" >&nbsp;</th>\n",
       "      <th id=\"T_de464_level0_col0\" class=\"col_heading level0 col0\" >0</th>\n",
       "    </tr>\n",
       "  </thead>\n",
       "  <tbody>\n",
       "    <tr>\n",
       "      <th id=\"T_de464_level0_row0\" class=\"row_heading level0 row0\" >user_id</th>\n",
       "      <td id=\"T_de464_row0_col0\" class=\"data row0 col0\" >0.000000</td>\n",
       "    </tr>\n",
       "    <tr>\n",
       "      <th id=\"T_de464_level0_row1\" class=\"row_heading level0 row1\" >name</th>\n",
       "      <td id=\"T_de464_row1_col0\" class=\"data row1 col0\" >0.000000</td>\n",
       "    </tr>\n",
       "    <tr>\n",
       "      <th id=\"T_de464_level0_row2\" class=\"row_heading level0 row2\" >age</th>\n",
       "      <td id=\"T_de464_row2_col0\" class=\"data row2 col0\" >0.000000</td>\n",
       "    </tr>\n",
       "    <tr>\n",
       "      <th id=\"T_de464_level0_row3\" class=\"row_heading level0 row3\" >city</th>\n",
       "      <td id=\"T_de464_row3_col0\" class=\"data row3 col0\" >0.000000</td>\n",
       "    </tr>\n",
       "    <tr>\n",
       "      <th id=\"T_de464_level0_row4\" class=\"row_heading level0 row4\" >subscription_type</th>\n",
       "      <td id=\"T_de464_row4_col0\" class=\"data row4 col0\" >0.000000</td>\n",
       "    </tr>\n",
       "  </tbody>\n",
       "</table>\n"
      ],
      "text/plain": [
       "<pandas.io.formats.style.Styler at 0x18d442de650>"
      ]
     },
     "execution_count": 23,
     "metadata": {},
     "output_type": "execute_result"
    }
   ],
   "source": [
    "pd.DataFrame(round(users.isna().mean()*100,1)).style.background_gradient('coolwarm')"
   ]
  },
  {
   "cell_type": "code",
   "execution_count": 24,
   "id": "6398d086",
   "metadata": {},
   "outputs": [
    {
     "data": {
      "text/html": [
       "<style type=\"text/css\">\n",
       "#T_e3dfb_row0_col0, #T_e3dfb_row1_col0, #T_e3dfb_row2_col0, #T_e3dfb_row3_col0, #T_e3dfb_row4_col0 {\n",
       "  background-color: #3b4cc0;\n",
       "  color: #f1f1f1;\n",
       "}\n",
       "</style>\n",
       "<table id=\"T_e3dfb\">\n",
       "  <thead>\n",
       "    <tr>\n",
       "      <th class=\"blank level0\" >&nbsp;</th>\n",
       "      <th id=\"T_e3dfb_level0_col0\" class=\"col_heading level0 col0\" >0</th>\n",
       "    </tr>\n",
       "  </thead>\n",
       "  <tbody>\n",
       "    <tr>\n",
       "      <th id=\"T_e3dfb_level0_row0\" class=\"row_heading level0 row0\" >user_id</th>\n",
       "      <td id=\"T_e3dfb_row0_col0\" class=\"data row0 col0\" >0.000000</td>\n",
       "    </tr>\n",
       "    <tr>\n",
       "      <th id=\"T_e3dfb_level0_row1\" class=\"row_heading level0 row1\" >distance</th>\n",
       "      <td id=\"T_e3dfb_row1_col0\" class=\"data row1 col0\" >0.000000</td>\n",
       "    </tr>\n",
       "    <tr>\n",
       "      <th id=\"T_e3dfb_level0_row2\" class=\"row_heading level0 row2\" >duration</th>\n",
       "      <td id=\"T_e3dfb_row2_col0\" class=\"data row2 col0\" >0.000000</td>\n",
       "    </tr>\n",
       "    <tr>\n",
       "      <th id=\"T_e3dfb_level0_row3\" class=\"row_heading level0 row3\" >date</th>\n",
       "      <td id=\"T_e3dfb_row3_col0\" class=\"data row3 col0\" >0.000000</td>\n",
       "    </tr>\n",
       "    <tr>\n",
       "      <th id=\"T_e3dfb_level0_row4\" class=\"row_heading level0 row4\" >month</th>\n",
       "      <td id=\"T_e3dfb_row4_col0\" class=\"data row4 col0\" >0.000000</td>\n",
       "    </tr>\n",
       "  </tbody>\n",
       "</table>\n"
      ],
      "text/plain": [
       "<pandas.io.formats.style.Styler at 0x18d456881d0>"
      ]
     },
     "execution_count": 24,
     "metadata": {},
     "output_type": "execute_result"
    }
   ],
   "source": [
    "pd.DataFrame(round(rides.isna().mean()*100,1)).style.background_gradient('coolwarm')"
   ]
  },
  {
   "cell_type": "code",
   "execution_count": 25,
   "id": "8f0d0ff2",
   "metadata": {},
   "outputs": [
    {
     "data": {
      "text/html": [
       "<style type=\"text/css\">\n",
       "#T_c3696_row0_col0, #T_c3696_row1_col0, #T_c3696_row2_col0, #T_c3696_row3_col0 {\n",
       "  background-color: #3b4cc0;\n",
       "  color: #f1f1f1;\n",
       "}\n",
       "</style>\n",
       "<table id=\"T_c3696\">\n",
       "  <thead>\n",
       "    <tr>\n",
       "      <th class=\"blank level0\" >&nbsp;</th>\n",
       "      <th id=\"T_c3696_level0_col0\" class=\"col_heading level0 col0\" >0</th>\n",
       "    </tr>\n",
       "  </thead>\n",
       "  <tbody>\n",
       "    <tr>\n",
       "      <th id=\"T_c3696_level0_row0\" class=\"row_heading level0 row0\" >subscription_type</th>\n",
       "      <td id=\"T_c3696_row0_col0\" class=\"data row0 col0\" >0.000000</td>\n",
       "    </tr>\n",
       "    <tr>\n",
       "      <th id=\"T_c3696_level0_row1\" class=\"row_heading level0 row1\" >minute_price</th>\n",
       "      <td id=\"T_c3696_row1_col0\" class=\"data row1 col0\" >0.000000</td>\n",
       "    </tr>\n",
       "    <tr>\n",
       "      <th id=\"T_c3696_level0_row2\" class=\"row_heading level0 row2\" >start_ride_price</th>\n",
       "      <td id=\"T_c3696_row2_col0\" class=\"data row2 col0\" >0.000000</td>\n",
       "    </tr>\n",
       "    <tr>\n",
       "      <th id=\"T_c3696_level0_row3\" class=\"row_heading level0 row3\" >subscription_fee</th>\n",
       "      <td id=\"T_c3696_row3_col0\" class=\"data row3 col0\" >0.000000</td>\n",
       "    </tr>\n",
       "  </tbody>\n",
       "</table>\n"
      ],
      "text/plain": [
       "<pandas.io.formats.style.Styler at 0x18d45b93750>"
      ]
     },
     "execution_count": 25,
     "metadata": {},
     "output_type": "execute_result"
    }
   ],
   "source": [
    "pd.DataFrame(round(subscriptions.isna().mean()*100,1)).style.background_gradient('coolwarm')"
   ]
  },
  {
   "cell_type": "markdown",
   "id": "6207401b",
   "metadata": {},
   "source": [
    "***Вывод:*** Привели столбец date к типу даты pandas. Создали новый столбец с номером месяца. Так же обработали явные дубликаты в таблице users. Пропусков в трех таблицах не было замеченно."
   ]
  },
  {
   "cell_type": "markdown",
   "id": "212593c7",
   "metadata": {},
   "source": [
    "#### Шаг 3. Исследовательский анализ данных"
   ]
  },
  {
   "cell_type": "markdown",
   "id": "6a12eb55",
   "metadata": {},
   "source": [
    "##### Частота встречаемости городов"
   ]
  },
  {
   "cell_type": "code",
   "execution_count": 26,
   "id": "e3a4274c",
   "metadata": {
    "scrolled": true
   },
   "outputs": [
    {
     "data": {
      "image/png": "[encoded data removed]",
      "text/plain": [
       "<Figure size 2000x700 with 1 Axes>"
      ]
     },
     "metadata": {},
     "output_type": "display_data"
    }
   ],
   "source": [
    "t = users.groupby('city').size()/len(users['user_id'])\n",
    "t = t.sort_values()\n",
    "ax = t.plot(kind='barh', color='#86bf99', figsize=(20,7))\n",
    "\n",
    "labels = dict(t)\n",
    "labels\n",
    "\n",
    "i = 0\n",
    "for city in labels:\n",
    "    ax.text(labels[city] + 0.0005, i + 0.05, str(round(labels[city]*100, 2)) + '%', \n",
    "            fontsize = 'large', fontweight='bold', color='blue')\n",
    "    if i < 9.7:\n",
    "        i += 0.98\n",
    "    else:\n",
    "        i += 1.02"
   ]
  },
  {
   "cell_type": "code",
   "execution_count": 27,
   "id": "8a88f5e4",
   "metadata": {},
   "outputs": [
    {
     "data": {
      "image/png": "[encoded data removed]",
      "text/plain": [
       "<Figure size 2000x700 with 1 Axes>"
      ]
     },
     "metadata": {},
     "output_type": "display_data"
    }
   ],
   "source": [
    "t = users['city'].value_counts()\n",
    "t = t.sort_values()\n",
    "ax = t.plot(kind='barh', color='#86bf99', figsize=(20,7))\n",
    "plt.title(\"Частота встречаемости городов\")\n",
    "plt.xlabel(\"Число пользователей в городе\")\n",
    "plt.ylabel(\"Наименования\")\n",
    "labels = dict(t)\n",
    "labels\n",
    "\n",
    "i = 0\n",
    "for city in labels:\n",
    "    ax.text(labels[city] + 0.0005, i + 0.05, str(labels[city]), \n",
    "            fontsize = 'large', fontweight='bold', color='blue')\n",
    "    if i < 9.7:\n",
    "        i += 0.98\n",
    "    else:\n",
    "        i += 1.02"
   ]
  },
  {
   "cell_type": "markdown",
   "id": "48c95b95",
   "metadata": {},
   "source": [
    "**Больше всего пользователей из города Пятигорск**"
   ]
  },
  {
   "cell_type": "markdown",
   "id": "5ad19318",
   "metadata": {},
   "source": [
    "##### Cоотношение пользователей с подпиской и без подписки"
   ]
  },
  {
   "cell_type": "code",
   "execution_count": 28,
   "id": "b0f2770a",
   "metadata": {},
   "outputs": [
    {
     "data": {
      "image/png": "[encoded data removed]",
      "text/plain": [
       "<Figure size 640x480 with 1 Axes>"
      ]
     },
     "metadata": {},
     "output_type": "display_data"
    }
   ],
   "source": [
    "t = users.groupby('subscription_type').size()/len(users['subscription_type'])\n",
    "t = t.sort_values()\n",
    "labels = dict(t)\n",
    "fig, ax = plt.subplots()\n",
    "ax.pie(t, labels=labels, autopct='%1.1f%%', shadow=True, wedgeprops={'lw':1, 'ls':'--','edgecolor':\"k\"}, rotatelabels=True)\n",
    "ax.axis(\"equal\")\n",
    "plt.show()"
   ]
  },
  {
   "cell_type": "markdown",
   "id": "d2fe06fa",
   "metadata": {},
   "source": [
    "**Пользователей с подпиской на 10% меньше, чем пользователей без подписки**"
   ]
  },
  {
   "cell_type": "markdown",
   "id": "1c34631e",
   "metadata": {},
   "source": [
    "##### Возраст пользователей"
   ]
  },
  {
   "cell_type": "code",
   "execution_count": 29,
   "id": "04c9260e",
   "metadata": {
    "scrolled": true
   },
   "outputs": [
    {
     "data": {
      "text/plain": [
       "age\n",
       "12      4\n",
       "13      8\n",
       "14      9\n",
       "15     13\n",
       "16     19\n",
       "17     26\n",
       "18     46\n",
       "19     47\n",
       "20     71\n",
       "21     93\n",
       "22    119\n",
       "23    129\n",
       "24    132\n",
       "25    145\n",
       "26    131\n",
       "27    119\n",
       "28    112\n",
       "29     68\n",
       "30     68\n",
       "31     48\n",
       "32     41\n",
       "33     39\n",
       "34     19\n",
       "35     15\n",
       "36      6\n",
       "37      2\n",
       "38      3\n",
       "39      1\n",
       "43      1\n",
       "dtype: int64"
      ]
     },
     "execution_count": 29,
     "metadata": {},
     "output_type": "execute_result"
    }
   ],
   "source": [
    "t = users.groupby('age').size()\n",
    "t"
   ]
  },
  {
   "cell_type": "code",
   "execution_count": 30,
   "id": "73c7f5d9",
   "metadata": {
    "scrolled": true
   },
   "outputs": [
    {
     "data": {
      "image/png": "[encoded data removed]",
      "text/plain": [
       "<Figure size 1500x500 with 1 Axes>"
      ]
     },
     "metadata": {},
     "output_type": "display_data"
    }
   ],
   "source": [
    "users['age'].hist(bins = len(t)+1 , figsize= (15, 5))\n",
    "plt.title('Возвраст')\n",
    "plt.ylabel('Кол-во людей с данным возврастом')\n",
    "plt.xlabel('Возвраст')\n",
    "plt.show()"
   ]
  },
  {
   "cell_type": "markdown",
   "id": "ee92fbdd",
   "metadata": {},
   "source": [
    "**Видим заметное использование самокатов, категорией людей в возрасте от 20 до 30 лет**"
   ]
  },
  {
   "cell_type": "markdown",
   "id": "ca073f0d",
   "metadata": {},
   "source": [
    "##### Расстояние, которое пользователь преодолел за одну поездку"
   ]
  },
  {
   "cell_type": "code",
   "execution_count": 31,
   "id": "a62ffc1d",
   "metadata": {
    "scrolled": false
   },
   "outputs": [
    {
     "data": {
      "image/png": "[encoded data removed]",
      "text/plain": [
       "<Figure size 1500x1000 with 1 Axes>"
      ]
     },
     "metadata": {},
     "output_type": "display_data"
    }
   ],
   "source": [
    "rides['distance'].hist(bins = 100, figsize = (15, 10))\n",
    "plt.title('Дистанция ')\n",
    "plt.ylabel('Количество поездок на этом растоянии')\n",
    "plt.xlabel('Расстояние в метрах')\n",
    "plt.show()"
   ]
  },
  {
   "cell_type": "markdown",
   "id": "42449309",
   "metadata": {},
   "source": [
    "**На графике видно два пипа активности, на короткие дитснции в районе 600м. И основное использование на расстояние за одну поездку составляет 2 км до 4.5 км**"
   ]
  },
  {
   "cell_type": "markdown",
   "id": "2ad1100d",
   "metadata": {},
   "source": [
    "##### Продолжительность поездок"
   ]
  },
  {
   "cell_type": "code",
   "execution_count": 32,
   "id": "da0d35a0",
   "metadata": {},
   "outputs": [
    {
     "data": {
      "image/png": "[encoded data removed]",
      "text/plain": [
       "<Figure size 1500x500 with 1 Axes>"
      ]
     },
     "metadata": {},
     "output_type": "display_data"
    }
   ],
   "source": [
    "rides['duration'].hist(bins = 50, figsize = (15,5))\n",
    "plt.title('Продолжительность поездок ')\n",
    "plt.ylabel('Количество поездок в интервале времени')\n",
    "plt.xlabel('Время в минутах')\n",
    "plt.show()"
   ]
  },
  {
   "cell_type": "markdown",
   "id": "e2cc7797",
   "metadata": {},
   "source": [
    "**По граффику можно заметить нормальное распределение. Люди в основном используют самокаты от 10 до 25 минут**"
   ]
  },
  {
   "cell_type": "markdown",
   "id": "f68f806a",
   "metadata": {},
   "source": [
    "**Вывод:** \n",
    "   - По графикам можно предположить, что продолжительность поездки напрямую зависит от дистаниции.\n",
    "   - В городах почти в одинаковом кол-ве пользуются техникой. \n",
    "   - Самокатами в большинстве случаев пользуются люди в возрасте от 20 до 30 лет.\n",
    "   - Тех кто пользуется самокатами с подпиской и без практичести одинаковое кол-во."
   ]
  },
  {
   "cell_type": "markdown",
   "id": "4ef51331",
   "metadata": {},
   "source": [
    "#### Шаг 4. Объединение данных"
   ]
  },
  {
   "cell_type": "markdown",
   "id": "f03ee305",
   "metadata": {},
   "source": [
    "##### Объедините данные о пользователях, поездках и подписках в один датафрейм. Для этого воспользуйтесь методом merge()."
   ]
  },
  {
   "cell_type": "code",
   "execution_count": 33,
   "id": "8ff8774c",
   "metadata": {},
   "outputs": [],
   "source": [
    "rides['duration'] = np.ceil(rides['duration']) "
   ]
  },
  {
   "cell_type": "code",
   "execution_count": 34,
   "id": "c371bb00",
   "metadata": {},
   "outputs": [
    {
     "data": {
      "text/html": [
       "<div>\n",
       "<style scoped>\n",
       "    .dataframe tbody tr th:only-of-type {\n",
       "        vertical-align: middle;\n",
       "    }\n",
       "\n",
       "    .dataframe tbody tr th {\n",
       "        vertical-align: top;\n",
       "    }\n",
       "\n",
       "    .dataframe thead th {\n",
       "        text-align: right;\n",
       "    }\n",
       "</style>\n",
       "<table border=\"1\" class=\"dataframe\">\n",
       "  <thead>\n",
       "    <tr style=\"text-align: right;\">\n",
       "      <th></th>\n",
       "      <th>user_id</th>\n",
       "      <th>name</th>\n",
       "      <th>age</th>\n",
       "      <th>city</th>\n",
       "      <th>subscription_type</th>\n",
       "      <th>distance</th>\n",
       "      <th>duration</th>\n",
       "      <th>date</th>\n",
       "      <th>month</th>\n",
       "      <th>minute_price</th>\n",
       "      <th>start_ride_price</th>\n",
       "      <th>subscription_fee</th>\n",
       "    </tr>\n",
       "  </thead>\n",
       "  <tbody>\n",
       "    <tr>\n",
       "      <th>0</th>\n",
       "      <td>1</td>\n",
       "      <td>Кира</td>\n",
       "      <td>22</td>\n",
       "      <td>Тюмень</td>\n",
       "      <td>ultra</td>\n",
       "      <td>4409.919140</td>\n",
       "      <td>26.0</td>\n",
       "      <td>2021-01-01</td>\n",
       "      <td>1</td>\n",
       "      <td>6</td>\n",
       "      <td>0</td>\n",
       "      <td>199</td>\n",
       "    </tr>\n",
       "    <tr>\n",
       "      <th>1</th>\n",
       "      <td>1</td>\n",
       "      <td>Кира</td>\n",
       "      <td>22</td>\n",
       "      <td>Тюмень</td>\n",
       "      <td>ultra</td>\n",
       "      <td>2617.592153</td>\n",
       "      <td>16.0</td>\n",
       "      <td>2021-01-18</td>\n",
       "      <td>1</td>\n",
       "      <td>6</td>\n",
       "      <td>0</td>\n",
       "      <td>199</td>\n",
       "    </tr>\n",
       "    <tr>\n",
       "      <th>2</th>\n",
       "      <td>1</td>\n",
       "      <td>Кира</td>\n",
       "      <td>22</td>\n",
       "      <td>Тюмень</td>\n",
       "      <td>ultra</td>\n",
       "      <td>754.159807</td>\n",
       "      <td>7.0</td>\n",
       "      <td>2021-04-20</td>\n",
       "      <td>4</td>\n",
       "      <td>6</td>\n",
       "      <td>0</td>\n",
       "      <td>199</td>\n",
       "    </tr>\n",
       "    <tr>\n",
       "      <th>3</th>\n",
       "      <td>1</td>\n",
       "      <td>Кира</td>\n",
       "      <td>22</td>\n",
       "      <td>Тюмень</td>\n",
       "      <td>ultra</td>\n",
       "      <td>2694.783254</td>\n",
       "      <td>19.0</td>\n",
       "      <td>2021-08-11</td>\n",
       "      <td>8</td>\n",
       "      <td>6</td>\n",
       "      <td>0</td>\n",
       "      <td>199</td>\n",
       "    </tr>\n",
       "    <tr>\n",
       "      <th>4</th>\n",
       "      <td>1</td>\n",
       "      <td>Кира</td>\n",
       "      <td>22</td>\n",
       "      <td>Тюмень</td>\n",
       "      <td>ultra</td>\n",
       "      <td>4028.687306</td>\n",
       "      <td>27.0</td>\n",
       "      <td>2021-08-28</td>\n",
       "      <td>8</td>\n",
       "      <td>6</td>\n",
       "      <td>0</td>\n",
       "      <td>199</td>\n",
       "    </tr>\n",
       "    <tr>\n",
       "      <th>...</th>\n",
       "      <td>...</td>\n",
       "      <td>...</td>\n",
       "      <td>...</td>\n",
       "      <td>...</td>\n",
       "      <td>...</td>\n",
       "      <td>...</td>\n",
       "      <td>...</td>\n",
       "      <td>...</td>\n",
       "      <td>...</td>\n",
       "      <td>...</td>\n",
       "      <td>...</td>\n",
       "      <td>...</td>\n",
       "    </tr>\n",
       "    <tr>\n",
       "      <th>18063</th>\n",
       "      <td>1534</td>\n",
       "      <td>Альберт</td>\n",
       "      <td>25</td>\n",
       "      <td>Краснодар</td>\n",
       "      <td>free</td>\n",
       "      <td>3781.098080</td>\n",
       "      <td>20.0</td>\n",
       "      <td>2021-11-04</td>\n",
       "      <td>11</td>\n",
       "      <td>8</td>\n",
       "      <td>50</td>\n",
       "      <td>0</td>\n",
       "    </tr>\n",
       "    <tr>\n",
       "      <th>18064</th>\n",
       "      <td>1534</td>\n",
       "      <td>Альберт</td>\n",
       "      <td>25</td>\n",
       "      <td>Краснодар</td>\n",
       "      <td>free</td>\n",
       "      <td>2840.423057</td>\n",
       "      <td>22.0</td>\n",
       "      <td>2021-11-16</td>\n",
       "      <td>11</td>\n",
       "      <td>8</td>\n",
       "      <td>50</td>\n",
       "      <td>0</td>\n",
       "    </tr>\n",
       "    <tr>\n",
       "      <th>18065</th>\n",
       "      <td>1534</td>\n",
       "      <td>Альберт</td>\n",
       "      <td>25</td>\n",
       "      <td>Краснодар</td>\n",
       "      <td>free</td>\n",
       "      <td>3826.185507</td>\n",
       "      <td>19.0</td>\n",
       "      <td>2021-11-18</td>\n",
       "      <td>11</td>\n",
       "      <td>8</td>\n",
       "      <td>50</td>\n",
       "      <td>0</td>\n",
       "    </tr>\n",
       "    <tr>\n",
       "      <th>18066</th>\n",
       "      <td>1534</td>\n",
       "      <td>Альберт</td>\n",
       "      <td>25</td>\n",
       "      <td>Краснодар</td>\n",
       "      <td>free</td>\n",
       "      <td>2902.308661</td>\n",
       "      <td>17.0</td>\n",
       "      <td>2021-11-27</td>\n",
       "      <td>11</td>\n",
       "      <td>8</td>\n",
       "      <td>50</td>\n",
       "      <td>0</td>\n",
       "    </tr>\n",
       "    <tr>\n",
       "      <th>18067</th>\n",
       "      <td>1534</td>\n",
       "      <td>Альберт</td>\n",
       "      <td>25</td>\n",
       "      <td>Краснодар</td>\n",
       "      <td>free</td>\n",
       "      <td>2371.711192</td>\n",
       "      <td>16.0</td>\n",
       "      <td>2021-12-29</td>\n",
       "      <td>12</td>\n",
       "      <td>8</td>\n",
       "      <td>50</td>\n",
       "      <td>0</td>\n",
       "    </tr>\n",
       "  </tbody>\n",
       "</table>\n",
       "<p>18068 rows × 12 columns</p>\n",
       "</div>"
      ],
      "text/plain": [
       "       user_id     name  age       city subscription_type     distance  \\\n",
       "0            1     Кира   22     Тюмень             ultra  4409.919140   \n",
       "1            1     Кира   22     Тюмень             ultra  2617.592153   \n",
       "2            1     Кира   22     Тюмень             ultra   754.159807   \n",
       "3            1     Кира   22     Тюмень             ultra  2694.783254   \n",
       "4            1     Кира   22     Тюмень             ultra  4028.687306   \n",
       "...        ...      ...  ...        ...               ...          ...   \n",
       "18063     1534  Альберт   25  Краснодар              free  3781.098080   \n",
       "18064     1534  Альберт   25  Краснодар              free  2840.423057   \n",
       "18065     1534  Альберт   25  Краснодар              free  3826.185507   \n",
       "18066     1534  Альберт   25  Краснодар              free  2902.308661   \n",
       "18067     1534  Альберт   25  Краснодар              free  2371.711192   \n",
       "\n",
       "       duration       date  month  minute_price  start_ride_price  \\\n",
       "0          26.0 2021-01-01      1             6                 0   \n",
       "1          16.0 2021-01-18      1             6                 0   \n",
       "2           7.0 2021-04-20      4             6                 0   \n",
       "3          19.0 2021-08-11      8             6                 0   \n",
       "4          27.0 2021-08-28      8             6                 0   \n",
       "...         ...        ...    ...           ...               ...   \n",
       "18063      20.0 2021-11-04     11             8                50   \n",
       "18064      22.0 2021-11-16     11             8                50   \n",
       "18065      19.0 2021-11-18     11             8                50   \n",
       "18066      17.0 2021-11-27     11             8                50   \n",
       "18067      16.0 2021-12-29     12             8                50   \n",
       "\n",
       "       subscription_fee  \n",
       "0                   199  \n",
       "1                   199  \n",
       "2                   199  \n",
       "3                   199  \n",
       "4                   199  \n",
       "...                 ...  \n",
       "18063                 0  \n",
       "18064                 0  \n",
       "18065                 0  \n",
       "18066                 0  \n",
       "18067                 0  \n",
       "\n",
       "[18068 rows x 12 columns]"
      ]
     },
     "execution_count": 34,
     "metadata": {},
     "output_type": "execute_result"
    }
   ],
   "source": [
    "users_merge = users.merge(rides, on =  'user_id')\n",
    "users_merge = users_merge.merge(subscriptions , on = 'subscription_type')\n",
    "users_merge"
   ]
  },
  {
   "cell_type": "code",
   "execution_count": 35,
   "id": "f4f574bf",
   "metadata": {
    "scrolled": false
   },
   "outputs": [
    {
     "name": "stdout",
     "output_type": "stream",
     "text": [
      "<class 'pandas.core.frame.DataFrame'>\n",
      "RangeIndex: 18068 entries, 0 to 18067\n",
      "Data columns (total 12 columns):\n",
      " #   Column             Non-Null Count  Dtype         \n",
      "---  ------             --------------  -----         \n",
      " 0   user_id            18068 non-null  int64         \n",
      " 1   name               18068 non-null  object        \n",
      " 2   age                18068 non-null  int64         \n",
      " 3   city               18068 non-null  object        \n",
      " 4   subscription_type  18068 non-null  object        \n",
      " 5   distance           18068 non-null  float64       \n",
      " 6   duration           18068 non-null  float64       \n",
      " 7   date               18068 non-null  datetime64[ns]\n",
      " 8   month              18068 non-null  int32         \n",
      " 9   minute_price       18068 non-null  int64         \n",
      " 10  start_ride_price   18068 non-null  int64         \n",
      " 11  subscription_fee   18068 non-null  int64         \n",
      "dtypes: datetime64[ns](1), float64(2), int32(1), int64(5), object(3)\n",
      "memory usage: 1.6+ MB\n"
     ]
    }
   ],
   "source": [
    "users_merge.info()"
   ]
  },
  {
   "cell_type": "markdown",
   "id": "beff00ad",
   "metadata": {},
   "source": [
    "**Создали новую таблицу users_merge из трех таблиц (users, rides, subscriptions) при помощи метода merge() , данные корректно перенеслись и сохранились в новой таблице**"
   ]
  },
  {
   "cell_type": "markdown",
   "id": "466d996a",
   "metadata": {},
   "source": [
    "##### Создайте ещё два датафрейма из датафрейма, созданного на этапе 4.1:\n",
    "- c данными о пользователях без подписки;\n",
    "- с данными о пользователях с подпиской."
   ]
  },
  {
   "cell_type": "code",
   "execution_count": 36,
   "id": "0bcaf306",
   "metadata": {},
   "outputs": [],
   "source": [
    "data_sub_ultra = users_merge.loc[users_merge['subscription_type'] == 'ultra']"
   ]
  },
  {
   "cell_type": "code",
   "execution_count": 37,
   "id": "c3000e13",
   "metadata": {},
   "outputs": [
    {
     "data": {
      "text/html": [
       "<div>\n",
       "<style scoped>\n",
       "    .dataframe tbody tr th:only-of-type {\n",
       "        vertical-align: middle;\n",
       "    }\n",
       "\n",
       "    .dataframe tbody tr th {\n",
       "        vertical-align: top;\n",
       "    }\n",
       "\n",
       "    .dataframe thead th {\n",
       "        text-align: right;\n",
       "    }\n",
       "</style>\n",
       "<table border=\"1\" class=\"dataframe\">\n",
       "  <thead>\n",
       "    <tr style=\"text-align: right;\">\n",
       "      <th></th>\n",
       "      <th>user_id</th>\n",
       "      <th>name</th>\n",
       "      <th>age</th>\n",
       "      <th>city</th>\n",
       "      <th>subscription_type</th>\n",
       "      <th>distance</th>\n",
       "      <th>duration</th>\n",
       "      <th>date</th>\n",
       "      <th>month</th>\n",
       "      <th>minute_price</th>\n",
       "      <th>start_ride_price</th>\n",
       "      <th>subscription_fee</th>\n",
       "    </tr>\n",
       "  </thead>\n",
       "  <tbody>\n",
       "    <tr>\n",
       "      <th>0</th>\n",
       "      <td>1</td>\n",
       "      <td>Кира</td>\n",
       "      <td>22</td>\n",
       "      <td>Тюмень</td>\n",
       "      <td>ultra</td>\n",
       "      <td>4409.919140</td>\n",
       "      <td>26.0</td>\n",
       "      <td>2021-01-01</td>\n",
       "      <td>1</td>\n",
       "      <td>6</td>\n",
       "      <td>0</td>\n",
       "      <td>199</td>\n",
       "    </tr>\n",
       "    <tr>\n",
       "      <th>1</th>\n",
       "      <td>1</td>\n",
       "      <td>Кира</td>\n",
       "      <td>22</td>\n",
       "      <td>Тюмень</td>\n",
       "      <td>ultra</td>\n",
       "      <td>2617.592153</td>\n",
       "      <td>16.0</td>\n",
       "      <td>2021-01-18</td>\n",
       "      <td>1</td>\n",
       "      <td>6</td>\n",
       "      <td>0</td>\n",
       "      <td>199</td>\n",
       "    </tr>\n",
       "    <tr>\n",
       "      <th>2</th>\n",
       "      <td>1</td>\n",
       "      <td>Кира</td>\n",
       "      <td>22</td>\n",
       "      <td>Тюмень</td>\n",
       "      <td>ultra</td>\n",
       "      <td>754.159807</td>\n",
       "      <td>7.0</td>\n",
       "      <td>2021-04-20</td>\n",
       "      <td>4</td>\n",
       "      <td>6</td>\n",
       "      <td>0</td>\n",
       "      <td>199</td>\n",
       "    </tr>\n",
       "    <tr>\n",
       "      <th>3</th>\n",
       "      <td>1</td>\n",
       "      <td>Кира</td>\n",
       "      <td>22</td>\n",
       "      <td>Тюмень</td>\n",
       "      <td>ultra</td>\n",
       "      <td>2694.783254</td>\n",
       "      <td>19.0</td>\n",
       "      <td>2021-08-11</td>\n",
       "      <td>8</td>\n",
       "      <td>6</td>\n",
       "      <td>0</td>\n",
       "      <td>199</td>\n",
       "    </tr>\n",
       "    <tr>\n",
       "      <th>4</th>\n",
       "      <td>1</td>\n",
       "      <td>Кира</td>\n",
       "      <td>22</td>\n",
       "      <td>Тюмень</td>\n",
       "      <td>ultra</td>\n",
       "      <td>4028.687306</td>\n",
       "      <td>27.0</td>\n",
       "      <td>2021-08-28</td>\n",
       "      <td>8</td>\n",
       "      <td>6</td>\n",
       "      <td>0</td>\n",
       "      <td>199</td>\n",
       "    </tr>\n",
       "    <tr>\n",
       "      <th>...</th>\n",
       "      <td>...</td>\n",
       "      <td>...</td>\n",
       "      <td>...</td>\n",
       "      <td>...</td>\n",
       "      <td>...</td>\n",
       "      <td>...</td>\n",
       "      <td>...</td>\n",
       "      <td>...</td>\n",
       "      <td>...</td>\n",
       "      <td>...</td>\n",
       "      <td>...</td>\n",
       "      <td>...</td>\n",
       "    </tr>\n",
       "    <tr>\n",
       "      <th>6495</th>\n",
       "      <td>699</td>\n",
       "      <td>Оксана</td>\n",
       "      <td>22</td>\n",
       "      <td>Москва</td>\n",
       "      <td>ultra</td>\n",
       "      <td>3973.046497</td>\n",
       "      <td>25.0</td>\n",
       "      <td>2021-08-29</td>\n",
       "      <td>8</td>\n",
       "      <td>6</td>\n",
       "      <td>0</td>\n",
       "      <td>199</td>\n",
       "    </tr>\n",
       "    <tr>\n",
       "      <th>6496</th>\n",
       "      <td>699</td>\n",
       "      <td>Оксана</td>\n",
       "      <td>22</td>\n",
       "      <td>Москва</td>\n",
       "      <td>ultra</td>\n",
       "      <td>3288.702563</td>\n",
       "      <td>16.0</td>\n",
       "      <td>2021-09-12</td>\n",
       "      <td>9</td>\n",
       "      <td>6</td>\n",
       "      <td>0</td>\n",
       "      <td>199</td>\n",
       "    </tr>\n",
       "    <tr>\n",
       "      <th>6497</th>\n",
       "      <td>699</td>\n",
       "      <td>Оксана</td>\n",
       "      <td>22</td>\n",
       "      <td>Москва</td>\n",
       "      <td>ultra</td>\n",
       "      <td>3076.159348</td>\n",
       "      <td>15.0</td>\n",
       "      <td>2021-09-26</td>\n",
       "      <td>9</td>\n",
       "      <td>6</td>\n",
       "      <td>0</td>\n",
       "      <td>199</td>\n",
       "    </tr>\n",
       "    <tr>\n",
       "      <th>6498</th>\n",
       "      <td>699</td>\n",
       "      <td>Оксана</td>\n",
       "      <td>22</td>\n",
       "      <td>Москва</td>\n",
       "      <td>ultra</td>\n",
       "      <td>4707.845501</td>\n",
       "      <td>16.0</td>\n",
       "      <td>2021-10-17</td>\n",
       "      <td>10</td>\n",
       "      <td>6</td>\n",
       "      <td>0</td>\n",
       "      <td>199</td>\n",
       "    </tr>\n",
       "    <tr>\n",
       "      <th>6499</th>\n",
       "      <td>699</td>\n",
       "      <td>Оксана</td>\n",
       "      <td>22</td>\n",
       "      <td>Москва</td>\n",
       "      <td>ultra</td>\n",
       "      <td>3202.890770</td>\n",
       "      <td>26.0</td>\n",
       "      <td>2021-12-03</td>\n",
       "      <td>12</td>\n",
       "      <td>6</td>\n",
       "      <td>0</td>\n",
       "      <td>199</td>\n",
       "    </tr>\n",
       "  </tbody>\n",
       "</table>\n",
       "<p>6500 rows × 12 columns</p>\n",
       "</div>"
      ],
      "text/plain": [
       "      user_id    name  age    city subscription_type     distance  duration  \\\n",
       "0           1    Кира   22  Тюмень             ultra  4409.919140      26.0   \n",
       "1           1    Кира   22  Тюмень             ultra  2617.592153      16.0   \n",
       "2           1    Кира   22  Тюмень             ultra   754.159807       7.0   \n",
       "3           1    Кира   22  Тюмень             ultra  2694.783254      19.0   \n",
       "4           1    Кира   22  Тюмень             ultra  4028.687306      27.0   \n",
       "...       ...     ...  ...     ...               ...          ...       ...   \n",
       "6495      699  Оксана   22  Москва             ultra  3973.046497      25.0   \n",
       "6496      699  Оксана   22  Москва             ultra  3288.702563      16.0   \n",
       "6497      699  Оксана   22  Москва             ultra  3076.159348      15.0   \n",
       "6498      699  Оксана   22  Москва             ultra  4707.845501      16.0   \n",
       "6499      699  Оксана   22  Москва             ultra  3202.890770      26.0   \n",
       "\n",
       "           date  month  minute_price  start_ride_price  subscription_fee  \n",
       "0    2021-01-01      1             6                 0               199  \n",
       "1    2021-01-18      1             6                 0               199  \n",
       "2    2021-04-20      4             6                 0               199  \n",
       "3    2021-08-11      8             6                 0               199  \n",
       "4    2021-08-28      8             6                 0               199  \n",
       "...         ...    ...           ...               ...               ...  \n",
       "6495 2021-08-29      8             6                 0               199  \n",
       "6496 2021-09-12      9             6                 0               199  \n",
       "6497 2021-09-26      9             6                 0               199  \n",
       "6498 2021-10-17     10             6                 0               199  \n",
       "6499 2021-12-03     12             6                 0               199  \n",
       "\n",
       "[6500 rows x 12 columns]"
      ]
     },
     "execution_count": 37,
     "metadata": {},
     "output_type": "execute_result"
    }
   ],
   "source": [
    "data_sub_ultra.reset_index(drop = True)"
   ]
  },
  {
   "cell_type": "code",
   "execution_count": 38,
   "id": "0485273d",
   "metadata": {},
   "outputs": [],
   "source": [
    "data_sub_free = users_merge.loc[users_merge['subscription_type'] == 'free']"
   ]
  },
  {
   "cell_type": "code",
   "execution_count": 39,
   "id": "a6cb1642",
   "metadata": {},
   "outputs": [
    {
     "data": {
      "text/html": [
       "<div>\n",
       "<style scoped>\n",
       "    .dataframe tbody tr th:only-of-type {\n",
       "        vertical-align: middle;\n",
       "    }\n",
       "\n",
       "    .dataframe tbody tr th {\n",
       "        vertical-align: top;\n",
       "    }\n",
       "\n",
       "    .dataframe thead th {\n",
       "        text-align: right;\n",
       "    }\n",
       "</style>\n",
       "<table border=\"1\" class=\"dataframe\">\n",
       "  <thead>\n",
       "    <tr style=\"text-align: right;\">\n",
       "      <th></th>\n",
       "      <th>user_id</th>\n",
       "      <th>name</th>\n",
       "      <th>age</th>\n",
       "      <th>city</th>\n",
       "      <th>subscription_type</th>\n",
       "      <th>distance</th>\n",
       "      <th>duration</th>\n",
       "      <th>date</th>\n",
       "      <th>month</th>\n",
       "      <th>minute_price</th>\n",
       "      <th>start_ride_price</th>\n",
       "      <th>subscription_fee</th>\n",
       "    </tr>\n",
       "  </thead>\n",
       "  <tbody>\n",
       "    <tr>\n",
       "      <th>0</th>\n",
       "      <td>700</td>\n",
       "      <td>Айдар</td>\n",
       "      <td>22</td>\n",
       "      <td>Омск</td>\n",
       "      <td>free</td>\n",
       "      <td>2515.690719</td>\n",
       "      <td>15.0</td>\n",
       "      <td>2021-01-02</td>\n",
       "      <td>1</td>\n",
       "      <td>8</td>\n",
       "      <td>50</td>\n",
       "      <td>0</td>\n",
       "    </tr>\n",
       "    <tr>\n",
       "      <th>1</th>\n",
       "      <td>700</td>\n",
       "      <td>Айдар</td>\n",
       "      <td>22</td>\n",
       "      <td>Омск</td>\n",
       "      <td>free</td>\n",
       "      <td>846.932642</td>\n",
       "      <td>17.0</td>\n",
       "      <td>2021-02-01</td>\n",
       "      <td>2</td>\n",
       "      <td>8</td>\n",
       "      <td>50</td>\n",
       "      <td>0</td>\n",
       "    </tr>\n",
       "    <tr>\n",
       "      <th>2</th>\n",
       "      <td>700</td>\n",
       "      <td>Айдар</td>\n",
       "      <td>22</td>\n",
       "      <td>Омск</td>\n",
       "      <td>free</td>\n",
       "      <td>4004.434142</td>\n",
       "      <td>21.0</td>\n",
       "      <td>2021-02-04</td>\n",
       "      <td>2</td>\n",
       "      <td>8</td>\n",
       "      <td>50</td>\n",
       "      <td>0</td>\n",
       "    </tr>\n",
       "    <tr>\n",
       "      <th>3</th>\n",
       "      <td>700</td>\n",
       "      <td>Айдар</td>\n",
       "      <td>22</td>\n",
       "      <td>Омск</td>\n",
       "      <td>free</td>\n",
       "      <td>1205.911290</td>\n",
       "      <td>10.0</td>\n",
       "      <td>2021-02-10</td>\n",
       "      <td>2</td>\n",
       "      <td>8</td>\n",
       "      <td>50</td>\n",
       "      <td>0</td>\n",
       "    </tr>\n",
       "    <tr>\n",
       "      <th>4</th>\n",
       "      <td>700</td>\n",
       "      <td>Айдар</td>\n",
       "      <td>22</td>\n",
       "      <td>Омск</td>\n",
       "      <td>free</td>\n",
       "      <td>3047.379435</td>\n",
       "      <td>18.0</td>\n",
       "      <td>2021-02-14</td>\n",
       "      <td>2</td>\n",
       "      <td>8</td>\n",
       "      <td>50</td>\n",
       "      <td>0</td>\n",
       "    </tr>\n",
       "    <tr>\n",
       "      <th>...</th>\n",
       "      <td>...</td>\n",
       "      <td>...</td>\n",
       "      <td>...</td>\n",
       "      <td>...</td>\n",
       "      <td>...</td>\n",
       "      <td>...</td>\n",
       "      <td>...</td>\n",
       "      <td>...</td>\n",
       "      <td>...</td>\n",
       "      <td>...</td>\n",
       "      <td>...</td>\n",
       "      <td>...</td>\n",
       "    </tr>\n",
       "    <tr>\n",
       "      <th>11563</th>\n",
       "      <td>1534</td>\n",
       "      <td>Альберт</td>\n",
       "      <td>25</td>\n",
       "      <td>Краснодар</td>\n",
       "      <td>free</td>\n",
       "      <td>3781.098080</td>\n",
       "      <td>20.0</td>\n",
       "      <td>2021-11-04</td>\n",
       "      <td>11</td>\n",
       "      <td>8</td>\n",
       "      <td>50</td>\n",
       "      <td>0</td>\n",
       "    </tr>\n",
       "    <tr>\n",
       "      <th>11564</th>\n",
       "      <td>1534</td>\n",
       "      <td>Альберт</td>\n",
       "      <td>25</td>\n",
       "      <td>Краснодар</td>\n",
       "      <td>free</td>\n",
       "      <td>2840.423057</td>\n",
       "      <td>22.0</td>\n",
       "      <td>2021-11-16</td>\n",
       "      <td>11</td>\n",
       "      <td>8</td>\n",
       "      <td>50</td>\n",
       "      <td>0</td>\n",
       "    </tr>\n",
       "    <tr>\n",
       "      <th>11565</th>\n",
       "      <td>1534</td>\n",
       "      <td>Альберт</td>\n",
       "      <td>25</td>\n",
       "      <td>Краснодар</td>\n",
       "      <td>free</td>\n",
       "      <td>3826.185507</td>\n",
       "      <td>19.0</td>\n",
       "      <td>2021-11-18</td>\n",
       "      <td>11</td>\n",
       "      <td>8</td>\n",
       "      <td>50</td>\n",
       "      <td>0</td>\n",
       "    </tr>\n",
       "    <tr>\n",
       "      <th>11566</th>\n",
       "      <td>1534</td>\n",
       "      <td>Альберт</td>\n",
       "      <td>25</td>\n",
       "      <td>Краснодар</td>\n",
       "      <td>free</td>\n",
       "      <td>2902.308661</td>\n",
       "      <td>17.0</td>\n",
       "      <td>2021-11-27</td>\n",
       "      <td>11</td>\n",
       "      <td>8</td>\n",
       "      <td>50</td>\n",
       "      <td>0</td>\n",
       "    </tr>\n",
       "    <tr>\n",
       "      <th>11567</th>\n",
       "      <td>1534</td>\n",
       "      <td>Альберт</td>\n",
       "      <td>25</td>\n",
       "      <td>Краснодар</td>\n",
       "      <td>free</td>\n",
       "      <td>2371.711192</td>\n",
       "      <td>16.0</td>\n",
       "      <td>2021-12-29</td>\n",
       "      <td>12</td>\n",
       "      <td>8</td>\n",
       "      <td>50</td>\n",
       "      <td>0</td>\n",
       "    </tr>\n",
       "  </tbody>\n",
       "</table>\n",
       "<p>11568 rows × 12 columns</p>\n",
       "</div>"
      ],
      "text/plain": [
       "       user_id     name  age       city subscription_type     distance  \\\n",
       "0          700    Айдар   22       Омск              free  2515.690719   \n",
       "1          700    Айдар   22       Омск              free   846.932642   \n",
       "2          700    Айдар   22       Омск              free  4004.434142   \n",
       "3          700    Айдар   22       Омск              free  1205.911290   \n",
       "4          700    Айдар   22       Омск              free  3047.379435   \n",
       "...        ...      ...  ...        ...               ...          ...   \n",
       "11563     1534  Альберт   25  Краснодар              free  3781.098080   \n",
       "11564     1534  Альберт   25  Краснодар              free  2840.423057   \n",
       "11565     1534  Альберт   25  Краснодар              free  3826.185507   \n",
       "11566     1534  Альберт   25  Краснодар              free  2902.308661   \n",
       "11567     1534  Альберт   25  Краснодар              free  2371.711192   \n",
       "\n",
       "       duration       date  month  minute_price  start_ride_price  \\\n",
       "0          15.0 2021-01-02      1             8                50   \n",
       "1          17.0 2021-02-01      2             8                50   \n",
       "2          21.0 2021-02-04      2             8                50   \n",
       "3          10.0 2021-02-10      2             8                50   \n",
       "4          18.0 2021-02-14      2             8                50   \n",
       "...         ...        ...    ...           ...               ...   \n",
       "11563      20.0 2021-11-04     11             8                50   \n",
       "11564      22.0 2021-11-16     11             8                50   \n",
       "11565      19.0 2021-11-18     11             8                50   \n",
       "11566      17.0 2021-11-27     11             8                50   \n",
       "11567      16.0 2021-12-29     12             8                50   \n",
       "\n",
       "       subscription_fee  \n",
       "0                     0  \n",
       "1                     0  \n",
       "2                     0  \n",
       "3                     0  \n",
       "4                     0  \n",
       "...                 ...  \n",
       "11563                 0  \n",
       "11564                 0  \n",
       "11565                 0  \n",
       "11566                 0  \n",
       "11567                 0  \n",
       "\n",
       "[11568 rows x 12 columns]"
      ]
     },
     "execution_count": 39,
     "metadata": {},
     "output_type": "execute_result"
    }
   ],
   "source": [
    "data_sub_free.reset_index(drop = True)"
   ]
  },
  {
   "cell_type": "code",
   "execution_count": 40,
   "id": "24a8a373",
   "metadata": {},
   "outputs": [
    {
     "name": "stdout",
     "output_type": "stream",
     "text": [
      "18068\n",
      "18068\n"
     ]
    }
   ],
   "source": [
    "print(len(data_sub_ultra)+len(data_sub_free))\n",
    "print(len(users_merge)) #потерь в данных нет"
   ]
  },
  {
   "cell_type": "markdown",
   "id": "899a3bba",
   "metadata": {},
   "source": [
    "**Создали два новых дата фрейма data_sub_free с людьми без подкиски и data_sub_ultra - с подпиской**"
   ]
  },
  {
   "cell_type": "markdown",
   "id": "b0cc51d3",
   "metadata": {},
   "source": [
    "##### Визуализируйте информацию о расстоянии и времени поездок для пользователей обеих категорий."
   ]
  },
  {
   "cell_type": "code",
   "execution_count": 41,
   "id": "362660f2",
   "metadata": {
    "scrolled": true
   },
   "outputs": [
    {
     "data": {
      "image/png": "[encoded data removed]",
      "text/plain": [
       "<Figure size 1500x500 with 1 Axes>"
      ]
     },
     "metadata": {},
     "output_type": "display_data"
    }
   ],
   "source": [
    "data_sub_free['distance'].hist(bins = 50, figsize = (15,5))\n",
    "plt.title('Дистанция без подписки')\n",
    "plt.ylabel('Количество поездок на этом растоянии')\n",
    "plt.xlabel('Расстояние в метрах')\n",
    "plt.show()"
   ]
  },
  {
   "cell_type": "code",
   "execution_count": 42,
   "id": "6af58407",
   "metadata": {},
   "outputs": [
    {
     "data": {
      "image/png": "[encoded data removed]",
      "text/plain": [
       "<Figure size 1500x500 with 1 Axes>"
      ]
     },
     "metadata": {},
     "output_type": "display_data"
    }
   ],
   "source": [
    "data_sub_ultra['distance'].hist(bins = 50, figsize = (15,5))\n",
    "plt.title('Дистанция с подпиской')\n",
    "plt.ylabel('Количество поездок на этом растоянии')\n",
    "plt.xlabel('Расстояние в метрах')\n",
    "plt.show()"
   ]
  },
  {
   "cell_type": "code",
   "execution_count": 43,
   "id": "8893f2f5",
   "metadata": {
    "scrolled": false
   },
   "outputs": [
    {
     "data": {
      "image/png": "[encoded data removed]",
      "text/plain": [
       "<Figure size 1500x500 with 1 Axes>"
      ]
     },
     "metadata": {},
     "output_type": "display_data"
    }
   ],
   "source": [
    "data_sub_free['duration'].hist(bins = 50, figsize = (15,5))\n",
    "plt.title('Продолжительность поездок без подписки')\n",
    "plt.ylabel('Количество поездок в интервале времени')\n",
    "plt.xlabel('Время в минутах')\n",
    "plt.show()"
   ]
  },
  {
   "cell_type": "code",
   "execution_count": 44,
   "id": "c45360c8",
   "metadata": {},
   "outputs": [
    {
     "data": {
      "image/png": "[encoded data removed]",
      "text/plain": [
       "<Figure size 1500x500 with 1 Axes>"
      ]
     },
     "metadata": {},
     "output_type": "display_data"
    }
   ],
   "source": [
    "data_sub_ultra['duration'].hist(bins = 50, figsize = (15,5))\n",
    "plt.title('Продолжительность поездок с подпиской')\n",
    "plt.ylabel('Количество поездок в интервале времени')\n",
    "plt.xlabel('Время в минутах')\n",
    "plt.show()"
   ]
  },
  {
   "cell_type": "markdown",
   "id": "ea7237d2",
   "metadata": {},
   "source": [
    "**Посторили графики для людей имеющих подписку и нет. По растоянию можно заметить разницу в использовании (с подпиской 2.5 км до 4.3 км, без 1.9 км до 4.9 км - еще замечен пик использания на дистанцию до 1 км). По времени анологично с подпиской - 10-27 минут, без подписки 6-29 минут**"
   ]
  },
  {
   "cell_type": "markdown",
   "id": "402d620f",
   "metadata": {},
   "source": [
    "#### Шаг 5. Подсчёт выручки"
   ]
  },
  {
   "cell_type": "markdown",
   "id": "8d62ceef",
   "metadata": {},
   "source": [
    "##### Создайте датафрейм с агрегированными данными о поездках на основе датафрейма с объединёнными данными из шага 4: найдите суммарное расстояние, количество поездок и суммарное время для каждого пользователя за каждый месяц."
   ]
  },
  {
   "cell_type": "code",
   "execution_count": 45,
   "id": "53049e0a",
   "metadata": {},
   "outputs": [
    {
     "data": {
      "text/html": [
       "<div>\n",
       "<style scoped>\n",
       "    .dataframe tbody tr th:only-of-type {\n",
       "        vertical-align: middle;\n",
       "    }\n",
       "\n",
       "    .dataframe tbody tr th {\n",
       "        vertical-align: top;\n",
       "    }\n",
       "\n",
       "    .dataframe thead th {\n",
       "        text-align: right;\n",
       "    }\n",
       "</style>\n",
       "<table border=\"1\" class=\"dataframe\">\n",
       "  <thead>\n",
       "    <tr style=\"text-align: right;\">\n",
       "      <th></th>\n",
       "      <th>user_id</th>\n",
       "      <th>name</th>\n",
       "      <th>age</th>\n",
       "      <th>city</th>\n",
       "      <th>subscription_type</th>\n",
       "      <th>distance</th>\n",
       "      <th>duration</th>\n",
       "      <th>date</th>\n",
       "      <th>month</th>\n",
       "      <th>minute_price</th>\n",
       "      <th>start_ride_price</th>\n",
       "      <th>subscription_fee</th>\n",
       "    </tr>\n",
       "  </thead>\n",
       "  <tbody>\n",
       "    <tr>\n",
       "      <th>0</th>\n",
       "      <td>1</td>\n",
       "      <td>Кира</td>\n",
       "      <td>22</td>\n",
       "      <td>Тюмень</td>\n",
       "      <td>ultra</td>\n",
       "      <td>4409.919140</td>\n",
       "      <td>26.0</td>\n",
       "      <td>2021-01-01</td>\n",
       "      <td>1</td>\n",
       "      <td>6</td>\n",
       "      <td>0</td>\n",
       "      <td>199</td>\n",
       "    </tr>\n",
       "    <tr>\n",
       "      <th>1</th>\n",
       "      <td>1</td>\n",
       "      <td>Кира</td>\n",
       "      <td>22</td>\n",
       "      <td>Тюмень</td>\n",
       "      <td>ultra</td>\n",
       "      <td>2617.592153</td>\n",
       "      <td>16.0</td>\n",
       "      <td>2021-01-18</td>\n",
       "      <td>1</td>\n",
       "      <td>6</td>\n",
       "      <td>0</td>\n",
       "      <td>199</td>\n",
       "    </tr>\n",
       "    <tr>\n",
       "      <th>2</th>\n",
       "      <td>1</td>\n",
       "      <td>Кира</td>\n",
       "      <td>22</td>\n",
       "      <td>Тюмень</td>\n",
       "      <td>ultra</td>\n",
       "      <td>754.159807</td>\n",
       "      <td>7.0</td>\n",
       "      <td>2021-04-20</td>\n",
       "      <td>4</td>\n",
       "      <td>6</td>\n",
       "      <td>0</td>\n",
       "      <td>199</td>\n",
       "    </tr>\n",
       "    <tr>\n",
       "      <th>3</th>\n",
       "      <td>1</td>\n",
       "      <td>Кира</td>\n",
       "      <td>22</td>\n",
       "      <td>Тюмень</td>\n",
       "      <td>ultra</td>\n",
       "      <td>2694.783254</td>\n",
       "      <td>19.0</td>\n",
       "      <td>2021-08-11</td>\n",
       "      <td>8</td>\n",
       "      <td>6</td>\n",
       "      <td>0</td>\n",
       "      <td>199</td>\n",
       "    </tr>\n",
       "    <tr>\n",
       "      <th>4</th>\n",
       "      <td>1</td>\n",
       "      <td>Кира</td>\n",
       "      <td>22</td>\n",
       "      <td>Тюмень</td>\n",
       "      <td>ultra</td>\n",
       "      <td>4028.687306</td>\n",
       "      <td>27.0</td>\n",
       "      <td>2021-08-28</td>\n",
       "      <td>8</td>\n",
       "      <td>6</td>\n",
       "      <td>0</td>\n",
       "      <td>199</td>\n",
       "    </tr>\n",
       "    <tr>\n",
       "      <th>...</th>\n",
       "      <td>...</td>\n",
       "      <td>...</td>\n",
       "      <td>...</td>\n",
       "      <td>...</td>\n",
       "      <td>...</td>\n",
       "      <td>...</td>\n",
       "      <td>...</td>\n",
       "      <td>...</td>\n",
       "      <td>...</td>\n",
       "      <td>...</td>\n",
       "      <td>...</td>\n",
       "      <td>...</td>\n",
       "    </tr>\n",
       "    <tr>\n",
       "      <th>18063</th>\n",
       "      <td>1534</td>\n",
       "      <td>Альберт</td>\n",
       "      <td>25</td>\n",
       "      <td>Краснодар</td>\n",
       "      <td>free</td>\n",
       "      <td>3781.098080</td>\n",
       "      <td>20.0</td>\n",
       "      <td>2021-11-04</td>\n",
       "      <td>11</td>\n",
       "      <td>8</td>\n",
       "      <td>50</td>\n",
       "      <td>0</td>\n",
       "    </tr>\n",
       "    <tr>\n",
       "      <th>18064</th>\n",
       "      <td>1534</td>\n",
       "      <td>Альберт</td>\n",
       "      <td>25</td>\n",
       "      <td>Краснодар</td>\n",
       "      <td>free</td>\n",
       "      <td>2840.423057</td>\n",
       "      <td>22.0</td>\n",
       "      <td>2021-11-16</td>\n",
       "      <td>11</td>\n",
       "      <td>8</td>\n",
       "      <td>50</td>\n",
       "      <td>0</td>\n",
       "    </tr>\n",
       "    <tr>\n",
       "      <th>18065</th>\n",
       "      <td>1534</td>\n",
       "      <td>Альберт</td>\n",
       "      <td>25</td>\n",
       "      <td>Краснодар</td>\n",
       "      <td>free</td>\n",
       "      <td>3826.185507</td>\n",
       "      <td>19.0</td>\n",
       "      <td>2021-11-18</td>\n",
       "      <td>11</td>\n",
       "      <td>8</td>\n",
       "      <td>50</td>\n",
       "      <td>0</td>\n",
       "    </tr>\n",
       "    <tr>\n",
       "      <th>18066</th>\n",
       "      <td>1534</td>\n",
       "      <td>Альберт</td>\n",
       "      <td>25</td>\n",
       "      <td>Краснодар</td>\n",
       "      <td>free</td>\n",
       "      <td>2902.308661</td>\n",
       "      <td>17.0</td>\n",
       "      <td>2021-11-27</td>\n",
       "      <td>11</td>\n",
       "      <td>8</td>\n",
       "      <td>50</td>\n",
       "      <td>0</td>\n",
       "    </tr>\n",
       "    <tr>\n",
       "      <th>18067</th>\n",
       "      <td>1534</td>\n",
       "      <td>Альберт</td>\n",
       "      <td>25</td>\n",
       "      <td>Краснодар</td>\n",
       "      <td>free</td>\n",
       "      <td>2371.711192</td>\n",
       "      <td>16.0</td>\n",
       "      <td>2021-12-29</td>\n",
       "      <td>12</td>\n",
       "      <td>8</td>\n",
       "      <td>50</td>\n",
       "      <td>0</td>\n",
       "    </tr>\n",
       "  </tbody>\n",
       "</table>\n",
       "<p>18068 rows × 12 columns</p>\n",
       "</div>"
      ],
      "text/plain": [
       "       user_id     name  age       city subscription_type     distance  \\\n",
       "0            1     Кира   22     Тюмень             ultra  4409.919140   \n",
       "1            1     Кира   22     Тюмень             ultra  2617.592153   \n",
       "2            1     Кира   22     Тюмень             ultra   754.159807   \n",
       "3            1     Кира   22     Тюмень             ultra  2694.783254   \n",
       "4            1     Кира   22     Тюмень             ultra  4028.687306   \n",
       "...        ...      ...  ...        ...               ...          ...   \n",
       "18063     1534  Альберт   25  Краснодар              free  3781.098080   \n",
       "18064     1534  Альберт   25  Краснодар              free  2840.423057   \n",
       "18065     1534  Альберт   25  Краснодар              free  3826.185507   \n",
       "18066     1534  Альберт   25  Краснодар              free  2902.308661   \n",
       "18067     1534  Альберт   25  Краснодар              free  2371.711192   \n",
       "\n",
       "       duration       date  month  minute_price  start_ride_price  \\\n",
       "0          26.0 2021-01-01      1             6                 0   \n",
       "1          16.0 2021-01-18      1             6                 0   \n",
       "2           7.0 2021-04-20      4             6                 0   \n",
       "3          19.0 2021-08-11      8             6                 0   \n",
       "4          27.0 2021-08-28      8             6                 0   \n",
       "...         ...        ...    ...           ...               ...   \n",
       "18063      20.0 2021-11-04     11             8                50   \n",
       "18064      22.0 2021-11-16     11             8                50   \n",
       "18065      19.0 2021-11-18     11             8                50   \n",
       "18066      17.0 2021-11-27     11             8                50   \n",
       "18067      16.0 2021-12-29     12             8                50   \n",
       "\n",
       "       subscription_fee  \n",
       "0                   199  \n",
       "1                   199  \n",
       "2                   199  \n",
       "3                   199  \n",
       "4                   199  \n",
       "...                 ...  \n",
       "18063                 0  \n",
       "18064                 0  \n",
       "18065                 0  \n",
       "18066                 0  \n",
       "18067                 0  \n",
       "\n",
       "[18068 rows x 12 columns]"
      ]
     },
     "execution_count": 45,
     "metadata": {},
     "output_type": "execute_result"
    }
   ],
   "source": [
    "users_merge"
   ]
  },
  {
   "cell_type": "code",
   "execution_count": 46,
   "id": "7a14bd6a",
   "metadata": {},
   "outputs": [],
   "source": [
    "data_ag = users_merge.groupby(['user_id','month']).agg({'distance': ['sum', 'count'], 'duration': 'sum'}).reset_index()"
   ]
  },
  {
   "cell_type": "code",
   "execution_count": 47,
   "id": "f2c821c0",
   "metadata": {},
   "outputs": [],
   "source": [
    "data_ag.columns = ['_'.join(col).strip() for col in data_ag.columns.values]"
   ]
  },
  {
   "cell_type": "code",
   "execution_count": 48,
   "id": "5486718e",
   "metadata": {},
   "outputs": [
    {
     "data": {
      "text/html": [
       "<div>\n",
       "<style scoped>\n",
       "    .dataframe tbody tr th:only-of-type {\n",
       "        vertical-align: middle;\n",
       "    }\n",
       "\n",
       "    .dataframe tbody tr th {\n",
       "        vertical-align: top;\n",
       "    }\n",
       "\n",
       "    .dataframe thead th {\n",
       "        text-align: right;\n",
       "    }\n",
       "</style>\n",
       "<table border=\"1\" class=\"dataframe\">\n",
       "  <thead>\n",
       "    <tr style=\"text-align: right;\">\n",
       "      <th></th>\n",
       "      <th>user_id_</th>\n",
       "      <th>month_</th>\n",
       "      <th>distance_sum</th>\n",
       "      <th>distance_count</th>\n",
       "      <th>duration_sum</th>\n",
       "    </tr>\n",
       "  </thead>\n",
       "  <tbody>\n",
       "    <tr>\n",
       "      <th>0</th>\n",
       "      <td>1</td>\n",
       "      <td>1</td>\n",
       "      <td>7027.511294</td>\n",
       "      <td>2</td>\n",
       "      <td>42.0</td>\n",
       "    </tr>\n",
       "    <tr>\n",
       "      <th>1</th>\n",
       "      <td>1</td>\n",
       "      <td>4</td>\n",
       "      <td>754.159807</td>\n",
       "      <td>1</td>\n",
       "      <td>7.0</td>\n",
       "    </tr>\n",
       "    <tr>\n",
       "      <th>2</th>\n",
       "      <td>1</td>\n",
       "      <td>8</td>\n",
       "      <td>6723.470560</td>\n",
       "      <td>2</td>\n",
       "      <td>46.0</td>\n",
       "    </tr>\n",
       "    <tr>\n",
       "      <th>3</th>\n",
       "      <td>1</td>\n",
       "      <td>10</td>\n",
       "      <td>5809.911100</td>\n",
       "      <td>2</td>\n",
       "      <td>32.0</td>\n",
       "    </tr>\n",
       "    <tr>\n",
       "      <th>4</th>\n",
       "      <td>1</td>\n",
       "      <td>11</td>\n",
       "      <td>7003.499363</td>\n",
       "      <td>3</td>\n",
       "      <td>56.0</td>\n",
       "    </tr>\n",
       "    <tr>\n",
       "      <th>...</th>\n",
       "      <td>...</td>\n",
       "      <td>...</td>\n",
       "      <td>...</td>\n",
       "      <td>...</td>\n",
       "      <td>...</td>\n",
       "    </tr>\n",
       "    <tr>\n",
       "      <th>11326</th>\n",
       "      <td>1534</td>\n",
       "      <td>6</td>\n",
       "      <td>3409.468534</td>\n",
       "      <td>2</td>\n",
       "      <td>26.0</td>\n",
       "    </tr>\n",
       "    <tr>\n",
       "      <th>11327</th>\n",
       "      <td>1534</td>\n",
       "      <td>8</td>\n",
       "      <td>7622.453034</td>\n",
       "      <td>2</td>\n",
       "      <td>48.0</td>\n",
       "    </tr>\n",
       "    <tr>\n",
       "      <th>11328</th>\n",
       "      <td>1534</td>\n",
       "      <td>9</td>\n",
       "      <td>4928.173852</td>\n",
       "      <td>1</td>\n",
       "      <td>23.0</td>\n",
       "    </tr>\n",
       "    <tr>\n",
       "      <th>11329</th>\n",
       "      <td>1534</td>\n",
       "      <td>11</td>\n",
       "      <td>13350.015305</td>\n",
       "      <td>4</td>\n",
       "      <td>78.0</td>\n",
       "    </tr>\n",
       "    <tr>\n",
       "      <th>11330</th>\n",
       "      <td>1534</td>\n",
       "      <td>12</td>\n",
       "      <td>2371.711192</td>\n",
       "      <td>1</td>\n",
       "      <td>16.0</td>\n",
       "    </tr>\n",
       "  </tbody>\n",
       "</table>\n",
       "<p>11331 rows × 5 columns</p>\n",
       "</div>"
      ],
      "text/plain": [
       "       user_id_  month_  distance_sum  distance_count  duration_sum\n",
       "0             1       1   7027.511294               2          42.0\n",
       "1             1       4    754.159807               1           7.0\n",
       "2             1       8   6723.470560               2          46.0\n",
       "3             1      10   5809.911100               2          32.0\n",
       "4             1      11   7003.499363               3          56.0\n",
       "...         ...     ...           ...             ...           ...\n",
       "11326      1534       6   3409.468534               2          26.0\n",
       "11327      1534       8   7622.453034               2          48.0\n",
       "11328      1534       9   4928.173852               1          23.0\n",
       "11329      1534      11  13350.015305               4          78.0\n",
       "11330      1534      12   2371.711192               1          16.0\n",
       "\n",
       "[11331 rows x 5 columns]"
      ]
     },
     "execution_count": 48,
     "metadata": {},
     "output_type": "execute_result"
    }
   ],
   "source": [
    "data_ag"
   ]
  },
  {
   "cell_type": "markdown",
   "id": "154611c1",
   "metadata": {},
   "source": [
    "**После групировки получилась таблица с 11331 строками и 5 столбцами**"
   ]
  },
  {
   "cell_type": "markdown",
   "id": "08ce9008",
   "metadata": {},
   "source": [
    "##### В этот же датафрейм добавьте столбец с помесячной выручкой, которую принёс каждый пользователь. Для этого обратитесь к информации об условиях оплаты для подписчиков и тех, у кого нет подписки. Продолжительность каждой поездки в каждой строке исходного датафрейма для подсчёта стоимости округляется до следующего целого числа: например, значения 25.3 должны быть преобразованы к 26. "
   ]
  },
  {
   "cell_type": "markdown",
   "id": "672820eb",
   "metadata": {},
   "source": [
    "**Помесячная выручка считается по формуле:** \n",
    "- стоимость старта поездки ×  количество поездок + стоимость одной минуты поездки \n",
    "× общая продолжительность всех поездок в минутах + стоимость подписки."
   ]
  },
  {
   "cell_type": "code",
   "execution_count": 49,
   "id": "4c3e1162",
   "metadata": {},
   "outputs": [
    {
     "data": {
      "text/html": [
       "<div>\n",
       "<style scoped>\n",
       "    .dataframe tbody tr th:only-of-type {\n",
       "        vertical-align: middle;\n",
       "    }\n",
       "\n",
       "    .dataframe tbody tr th {\n",
       "        vertical-align: top;\n",
       "    }\n",
       "\n",
       "    .dataframe thead th {\n",
       "        text-align: right;\n",
       "    }\n",
       "</style>\n",
       "<table border=\"1\" class=\"dataframe\">\n",
       "  <thead>\n",
       "    <tr style=\"text-align: right;\">\n",
       "      <th></th>\n",
       "      <th>user_id_</th>\n",
       "      <th>month_</th>\n",
       "      <th>distance_sum</th>\n",
       "      <th>distance_count</th>\n",
       "      <th>duration_sum</th>\n",
       "    </tr>\n",
       "  </thead>\n",
       "  <tbody>\n",
       "    <tr>\n",
       "      <th>0</th>\n",
       "      <td>1</td>\n",
       "      <td>1</td>\n",
       "      <td>7027.511294</td>\n",
       "      <td>2</td>\n",
       "      <td>42.0</td>\n",
       "    </tr>\n",
       "    <tr>\n",
       "      <th>1</th>\n",
       "      <td>1</td>\n",
       "      <td>4</td>\n",
       "      <td>754.159807</td>\n",
       "      <td>1</td>\n",
       "      <td>7.0</td>\n",
       "    </tr>\n",
       "    <tr>\n",
       "      <th>2</th>\n",
       "      <td>1</td>\n",
       "      <td>8</td>\n",
       "      <td>6723.470560</td>\n",
       "      <td>2</td>\n",
       "      <td>46.0</td>\n",
       "    </tr>\n",
       "    <tr>\n",
       "      <th>3</th>\n",
       "      <td>1</td>\n",
       "      <td>10</td>\n",
       "      <td>5809.911100</td>\n",
       "      <td>2</td>\n",
       "      <td>32.0</td>\n",
       "    </tr>\n",
       "    <tr>\n",
       "      <th>4</th>\n",
       "      <td>1</td>\n",
       "      <td>11</td>\n",
       "      <td>7003.499363</td>\n",
       "      <td>3</td>\n",
       "      <td>56.0</td>\n",
       "    </tr>\n",
       "    <tr>\n",
       "      <th>...</th>\n",
       "      <td>...</td>\n",
       "      <td>...</td>\n",
       "      <td>...</td>\n",
       "      <td>...</td>\n",
       "      <td>...</td>\n",
       "    </tr>\n",
       "    <tr>\n",
       "      <th>11326</th>\n",
       "      <td>1534</td>\n",
       "      <td>6</td>\n",
       "      <td>3409.468534</td>\n",
       "      <td>2</td>\n",
       "      <td>26.0</td>\n",
       "    </tr>\n",
       "    <tr>\n",
       "      <th>11327</th>\n",
       "      <td>1534</td>\n",
       "      <td>8</td>\n",
       "      <td>7622.453034</td>\n",
       "      <td>2</td>\n",
       "      <td>48.0</td>\n",
       "    </tr>\n",
       "    <tr>\n",
       "      <th>11328</th>\n",
       "      <td>1534</td>\n",
       "      <td>9</td>\n",
       "      <td>4928.173852</td>\n",
       "      <td>1</td>\n",
       "      <td>23.0</td>\n",
       "    </tr>\n",
       "    <tr>\n",
       "      <th>11329</th>\n",
       "      <td>1534</td>\n",
       "      <td>11</td>\n",
       "      <td>13350.015305</td>\n",
       "      <td>4</td>\n",
       "      <td>78.0</td>\n",
       "    </tr>\n",
       "    <tr>\n",
       "      <th>11330</th>\n",
       "      <td>1534</td>\n",
       "      <td>12</td>\n",
       "      <td>2371.711192</td>\n",
       "      <td>1</td>\n",
       "      <td>16.0</td>\n",
       "    </tr>\n",
       "  </tbody>\n",
       "</table>\n",
       "<p>11331 rows × 5 columns</p>\n",
       "</div>"
      ],
      "text/plain": [
       "       user_id_  month_  distance_sum  distance_count  duration_sum\n",
       "0             1       1   7027.511294               2          42.0\n",
       "1             1       4    754.159807               1           7.0\n",
       "2             1       8   6723.470560               2          46.0\n",
       "3             1      10   5809.911100               2          32.0\n",
       "4             1      11   7003.499363               3          56.0\n",
       "...         ...     ...           ...             ...           ...\n",
       "11326      1534       6   3409.468534               2          26.0\n",
       "11327      1534       8   7622.453034               2          48.0\n",
       "11328      1534       9   4928.173852               1          23.0\n",
       "11329      1534      11  13350.015305               4          78.0\n",
       "11330      1534      12   2371.711192               1          16.0\n",
       "\n",
       "[11331 rows x 5 columns]"
      ]
     },
     "execution_count": 49,
     "metadata": {},
     "output_type": "execute_result"
    }
   ],
   "source": [
    "data_ag"
   ]
  },
  {
   "cell_type": "code",
   "execution_count": 50,
   "id": "3d2bccc4",
   "metadata": {},
   "outputs": [],
   "source": [
    "data_ag['total_price'] = (users_merge['start_ride_price']* data_ag['distance_count']\n",
    "                          + users_merge['minute_price']* data_ag['duration_sum']\n",
    "                          + users_merge['subscription_fee'])"
   ]
  },
  {
   "cell_type": "code",
   "execution_count": 51,
   "id": "215029df",
   "metadata": {},
   "outputs": [
    {
     "data": {
      "text/html": [
       "<div>\n",
       "<style scoped>\n",
       "    .dataframe tbody tr th:only-of-type {\n",
       "        vertical-align: middle;\n",
       "    }\n",
       "\n",
       "    .dataframe tbody tr th {\n",
       "        vertical-align: top;\n",
       "    }\n",
       "\n",
       "    .dataframe thead th {\n",
       "        text-align: right;\n",
       "    }\n",
       "</style>\n",
       "<table border=\"1\" class=\"dataframe\">\n",
       "  <thead>\n",
       "    <tr style=\"text-align: right;\">\n",
       "      <th></th>\n",
       "      <th>user_id_</th>\n",
       "      <th>month_</th>\n",
       "      <th>distance_sum</th>\n",
       "      <th>distance_count</th>\n",
       "      <th>duration_sum</th>\n",
       "      <th>total_price</th>\n",
       "    </tr>\n",
       "  </thead>\n",
       "  <tbody>\n",
       "    <tr>\n",
       "      <th>0</th>\n",
       "      <td>1</td>\n",
       "      <td>1</td>\n",
       "      <td>7027.511294</td>\n",
       "      <td>2</td>\n",
       "      <td>42.0</td>\n",
       "      <td>451.0</td>\n",
       "    </tr>\n",
       "    <tr>\n",
       "      <th>1</th>\n",
       "      <td>1</td>\n",
       "      <td>4</td>\n",
       "      <td>754.159807</td>\n",
       "      <td>1</td>\n",
       "      <td>7.0</td>\n",
       "      <td>241.0</td>\n",
       "    </tr>\n",
       "    <tr>\n",
       "      <th>2</th>\n",
       "      <td>1</td>\n",
       "      <td>8</td>\n",
       "      <td>6723.470560</td>\n",
       "      <td>2</td>\n",
       "      <td>46.0</td>\n",
       "      <td>475.0</td>\n",
       "    </tr>\n",
       "    <tr>\n",
       "      <th>3</th>\n",
       "      <td>1</td>\n",
       "      <td>10</td>\n",
       "      <td>5809.911100</td>\n",
       "      <td>2</td>\n",
       "      <td>32.0</td>\n",
       "      <td>391.0</td>\n",
       "    </tr>\n",
       "    <tr>\n",
       "      <th>4</th>\n",
       "      <td>1</td>\n",
       "      <td>11</td>\n",
       "      <td>7003.499363</td>\n",
       "      <td>3</td>\n",
       "      <td>56.0</td>\n",
       "      <td>535.0</td>\n",
       "    </tr>\n",
       "    <tr>\n",
       "      <th>...</th>\n",
       "      <td>...</td>\n",
       "      <td>...</td>\n",
       "      <td>...</td>\n",
       "      <td>...</td>\n",
       "      <td>...</td>\n",
       "      <td>...</td>\n",
       "    </tr>\n",
       "    <tr>\n",
       "      <th>11326</th>\n",
       "      <td>1534</td>\n",
       "      <td>6</td>\n",
       "      <td>3409.468534</td>\n",
       "      <td>2</td>\n",
       "      <td>26.0</td>\n",
       "      <td>308.0</td>\n",
       "    </tr>\n",
       "    <tr>\n",
       "      <th>11327</th>\n",
       "      <td>1534</td>\n",
       "      <td>8</td>\n",
       "      <td>7622.453034</td>\n",
       "      <td>2</td>\n",
       "      <td>48.0</td>\n",
       "      <td>484.0</td>\n",
       "    </tr>\n",
       "    <tr>\n",
       "      <th>11328</th>\n",
       "      <td>1534</td>\n",
       "      <td>9</td>\n",
       "      <td>4928.173852</td>\n",
       "      <td>1</td>\n",
       "      <td>23.0</td>\n",
       "      <td>234.0</td>\n",
       "    </tr>\n",
       "    <tr>\n",
       "      <th>11329</th>\n",
       "      <td>1534</td>\n",
       "      <td>11</td>\n",
       "      <td>13350.015305</td>\n",
       "      <td>4</td>\n",
       "      <td>78.0</td>\n",
       "      <td>824.0</td>\n",
       "    </tr>\n",
       "    <tr>\n",
       "      <th>11330</th>\n",
       "      <td>1534</td>\n",
       "      <td>12</td>\n",
       "      <td>2371.711192</td>\n",
       "      <td>1</td>\n",
       "      <td>16.0</td>\n",
       "      <td>178.0</td>\n",
       "    </tr>\n",
       "  </tbody>\n",
       "</table>\n",
       "<p>11331 rows × 6 columns</p>\n",
       "</div>"
      ],
      "text/plain": [
       "       user_id_  month_  distance_sum  distance_count  duration_sum  \\\n",
       "0             1       1   7027.511294               2          42.0   \n",
       "1             1       4    754.159807               1           7.0   \n",
       "2             1       8   6723.470560               2          46.0   \n",
       "3             1      10   5809.911100               2          32.0   \n",
       "4             1      11   7003.499363               3          56.0   \n",
       "...         ...     ...           ...             ...           ...   \n",
       "11326      1534       6   3409.468534               2          26.0   \n",
       "11327      1534       8   7622.453034               2          48.0   \n",
       "11328      1534       9   4928.173852               1          23.0   \n",
       "11329      1534      11  13350.015305               4          78.0   \n",
       "11330      1534      12   2371.711192               1          16.0   \n",
       "\n",
       "       total_price  \n",
       "0            451.0  \n",
       "1            241.0  \n",
       "2            475.0  \n",
       "3            391.0  \n",
       "4            535.0  \n",
       "...            ...  \n",
       "11326        308.0  \n",
       "11327        484.0  \n",
       "11328        234.0  \n",
       "11329        824.0  \n",
       "11330        178.0  \n",
       "\n",
       "[11331 rows x 6 columns]"
      ]
     },
     "execution_count": 51,
     "metadata": {},
     "output_type": "execute_result"
    }
   ],
   "source": [
    "data_ag"
   ]
  },
  {
   "cell_type": "markdown",
   "id": "dc526076",
   "metadata": {},
   "source": [
    "**Добавили столбец с помесячной выручкой, которую принёс каждый пользователь.**"
   ]
  },
  {
   "cell_type": "markdown",
   "id": "41545ac0",
   "metadata": {},
   "source": [
    "#### Проверка гипотез \n",
    "- Продакт-менеджеры сервиса хотят увеличить количество пользователей с подпиской. Для этого они будут проводить различные акции, но сначала нужно выяснить несколько важных моментов."
   ]
  },
  {
   "cell_type": "markdown",
   "id": "c3af026a",
   "metadata": {},
   "source": [
    "##### Важно понять, тратят ли пользователи с подпиской больше времени на поездки? Если да, то пользователи с подпиской могут быть «выгоднее» для компании. Проверьте гипотезу. Используйте исходные данные о продолжительности каждой сессии — отдельно для подписчиков и тех, у кого нет подписки."
   ]
  },
  {
   "cell_type": "markdown",
   "id": "e148dc25",
   "metadata": {},
   "source": [
    "**Будем использовать t-критерий Стьюдента, так как сравниваемые выборки независимы между собой.\n",
    "Гипотеза о равенстве средних двух генеральных совокупностей №1**\n",
    " ***Сформулируем гипотезы:***\n",
    "\n",
    " - H0: Время затраченное на поездки пользователями тарифов «с подпиской» и «без подписки» не различается\n",
    " - H1: Время затраченное на поездки пользователями тарифов «с подпиской» больше времени пользователей «без подписки» "
   ]
  },
  {
   "cell_type": "code",
   "execution_count": 52,
   "id": "9069a412",
   "metadata": {},
   "outputs": [],
   "source": [
    "def delete_outliers(df, column, graphic=0, x = 10, y = 10):\n",
    "    q1 = df[column].quantile(0.25)                 \n",
    "    q3 = df[column].quantile(0.75)\n",
    "    iqr = q3 - q1\n",
    "    iqr_test = (df[column] >= (q1 - 1.5 * iqr)) & (df[column] <= (q3 + 1.5 * iqr))\n",
    "    if graphic == 1:\n",
    "        return df.loc[iqr_test].boxplot([column], figsize=(x,y))\n",
    "    else:\n",
    "        return df.loc[iqr_test] # функция для удаления выбросов"
   ]
  },
  {
   "cell_type": "code",
   "execution_count": 53,
   "id": "824c803a",
   "metadata": {},
   "outputs": [
    {
     "data": {
      "text/plain": [
       "0       26.0\n",
       "1       16.0\n",
       "2        7.0\n",
       "3       19.0\n",
       "4       27.0\n",
       "        ... \n",
       "6495    25.0\n",
       "6496    16.0\n",
       "6497    15.0\n",
       "6498    16.0\n",
       "6499    26.0\n",
       "Name: duration, Length: 6395, dtype: float64"
      ]
     },
     "execution_count": 53,
     "metadata": {},
     "output_type": "execute_result"
    }
   ],
   "source": [
    "data_sub_ultra_duration = delete_outliers(data_sub_ultra ,'duration', 0 )\n",
    "data_sub_ultra_duration = data_sub_ultra_duration['duration']\n",
    "data_sub_ultra_duration"
   ]
  },
  {
   "cell_type": "code",
   "execution_count": 54,
   "id": "8b5d8486",
   "metadata": {
    "scrolled": true
   },
   "outputs": [
    {
     "data": {
      "text/plain": [
       "6500     15.0\n",
       "6501     17.0\n",
       "6502     21.0\n",
       "6503     10.0\n",
       "6504     18.0\n",
       "         ... \n",
       "18063    20.0\n",
       "18064    22.0\n",
       "18065    19.0\n",
       "18066    17.0\n",
       "18067    16.0\n",
       "Name: duration, Length: 11568, dtype: float64"
      ]
     },
     "execution_count": 54,
     "metadata": {},
     "output_type": "execute_result"
    }
   ],
   "source": [
    "data_sub_free_duration = delete_outliers(data_sub_free , 'duration', 0)\n",
    "data_sub_free_duration = data_sub_free['duration']\n",
    "data_sub_free_duration"
   ]
  },
  {
   "cell_type": "code",
   "execution_count": 55,
   "id": "2affe166",
   "metadata": {},
   "outputs": [],
   "source": [
    "alpha = 0.05"
   ]
  },
  {
   "cell_type": "code",
   "execution_count": 56,
   "id": "c7a965b5",
   "metadata": {},
   "outputs": [],
   "source": [
    "results = st.ttest_ind(data_sub_ultra_duration ,data_sub_free_duration, alternative = 'greater')"
   ]
  },
  {
   "cell_type": "code",
   "execution_count": 57,
   "id": "bc3262ec",
   "metadata": {},
   "outputs": [
    {
     "name": "stdout",
     "output_type": "stream",
     "text": [
      "p-значение: 3.2154245755727334e-22\n",
      "Отвергаем нулевую гипотезу\n"
     ]
    }
   ],
   "source": [
    "print('p-значение:', results.pvalue)\n",
    "\n",
    "if (results.pvalue < alpha):\n",
    "    print(\"Отвергаем нулевую гипотезу\")\n",
    "else:\n",
    "    print(\"Не получилось отвергнуть нулевую гипотезу\")"
   ]
  },
  {
   "cell_type": "code",
   "execution_count": 58,
   "id": "ef387149",
   "metadata": {},
   "outputs": [
    {
     "data": {
      "text/plain": [
       "18.786864738076623"
      ]
     },
     "execution_count": 58,
     "metadata": {},
     "output_type": "execute_result"
    }
   ],
   "source": [
    "data_sub_ultra_duration.mean()"
   ]
  },
  {
   "cell_type": "code",
   "execution_count": 59,
   "id": "23ea867b",
   "metadata": {
    "scrolled": true
   },
   "outputs": [
    {
     "data": {
      "text/plain": [
       "17.890992392807746"
      ]
     },
     "execution_count": 59,
     "metadata": {},
     "output_type": "execute_result"
    }
   ],
   "source": [
    "data_sub_free_duration.mean()"
   ]
  },
  {
   "cell_type": "markdown",
   "id": "f573ed00",
   "metadata": {},
   "source": [
    "**Пользователи с подпиской действительно тратят время на поездки больше, значит пользователи с подпиской выгоднее компании**"
   ]
  },
  {
   "cell_type": "markdown",
   "id": "a084fc61",
   "metadata": {},
   "source": [
    "##### Расстояние одной поездки в 3130 метров — оптимальное с точки зрения износа самоката. Можно ли сказать, что среднее расстояние, которое проезжают пользователи с подпиской за одну поездку, не превышает 3130 метров? Проверьте гипотезу и сделайте выводы."
   ]
  },
  {
   "cell_type": "markdown",
   "id": "5bff38b4",
   "metadata": {},
   "source": [
    "***Сформулируем гипотезы:***\n",
    "\n",
    " - H0: Cредняя расстояние одной поездки, которое проезжают пользователи с подпиской за одну поездку равно 3130\n",
    " - H1: Cредняя расстояние одной поездки, которое проезжают пользователи с подпиской за одну поездку больше 3130"
   ]
  },
  {
   "cell_type": "code",
   "execution_count": 60,
   "id": "994875f1",
   "metadata": {},
   "outputs": [
    {
     "data": {
      "text/html": [
       "<div>\n",
       "<style scoped>\n",
       "    .dataframe tbody tr th:only-of-type {\n",
       "        vertical-align: middle;\n",
       "    }\n",
       "\n",
       "    .dataframe tbody tr th {\n",
       "        vertical-align: top;\n",
       "    }\n",
       "\n",
       "    .dataframe thead th {\n",
       "        text-align: right;\n",
       "    }\n",
       "</style>\n",
       "<table border=\"1\" class=\"dataframe\">\n",
       "  <thead>\n",
       "    <tr style=\"text-align: right;\">\n",
       "      <th></th>\n",
       "      <th>user_id</th>\n",
       "      <th>name</th>\n",
       "      <th>age</th>\n",
       "      <th>city</th>\n",
       "      <th>subscription_type</th>\n",
       "      <th>distance</th>\n",
       "      <th>duration</th>\n",
       "      <th>date</th>\n",
       "      <th>month</th>\n",
       "      <th>minute_price</th>\n",
       "      <th>start_ride_price</th>\n",
       "      <th>subscription_fee</th>\n",
       "    </tr>\n",
       "  </thead>\n",
       "  <tbody>\n",
       "    <tr>\n",
       "      <th>0</th>\n",
       "      <td>1</td>\n",
       "      <td>Кира</td>\n",
       "      <td>22</td>\n",
       "      <td>Тюмень</td>\n",
       "      <td>ultra</td>\n",
       "      <td>4409.919140</td>\n",
       "      <td>26.0</td>\n",
       "      <td>2021-01-01</td>\n",
       "      <td>1</td>\n",
       "      <td>6</td>\n",
       "      <td>0</td>\n",
       "      <td>199</td>\n",
       "    </tr>\n",
       "    <tr>\n",
       "      <th>1</th>\n",
       "      <td>1</td>\n",
       "      <td>Кира</td>\n",
       "      <td>22</td>\n",
       "      <td>Тюмень</td>\n",
       "      <td>ultra</td>\n",
       "      <td>2617.592153</td>\n",
       "      <td>16.0</td>\n",
       "      <td>2021-01-18</td>\n",
       "      <td>1</td>\n",
       "      <td>6</td>\n",
       "      <td>0</td>\n",
       "      <td>199</td>\n",
       "    </tr>\n",
       "    <tr>\n",
       "      <th>2</th>\n",
       "      <td>1</td>\n",
       "      <td>Кира</td>\n",
       "      <td>22</td>\n",
       "      <td>Тюмень</td>\n",
       "      <td>ultra</td>\n",
       "      <td>754.159807</td>\n",
       "      <td>7.0</td>\n",
       "      <td>2021-04-20</td>\n",
       "      <td>4</td>\n",
       "      <td>6</td>\n",
       "      <td>0</td>\n",
       "      <td>199</td>\n",
       "    </tr>\n",
       "    <tr>\n",
       "      <th>3</th>\n",
       "      <td>1</td>\n",
       "      <td>Кира</td>\n",
       "      <td>22</td>\n",
       "      <td>Тюмень</td>\n",
       "      <td>ultra</td>\n",
       "      <td>2694.783254</td>\n",
       "      <td>19.0</td>\n",
       "      <td>2021-08-11</td>\n",
       "      <td>8</td>\n",
       "      <td>6</td>\n",
       "      <td>0</td>\n",
       "      <td>199</td>\n",
       "    </tr>\n",
       "    <tr>\n",
       "      <th>4</th>\n",
       "      <td>1</td>\n",
       "      <td>Кира</td>\n",
       "      <td>22</td>\n",
       "      <td>Тюмень</td>\n",
       "      <td>ultra</td>\n",
       "      <td>4028.687306</td>\n",
       "      <td>27.0</td>\n",
       "      <td>2021-08-28</td>\n",
       "      <td>8</td>\n",
       "      <td>6</td>\n",
       "      <td>0</td>\n",
       "      <td>199</td>\n",
       "    </tr>\n",
       "    <tr>\n",
       "      <th>...</th>\n",
       "      <td>...</td>\n",
       "      <td>...</td>\n",
       "      <td>...</td>\n",
       "      <td>...</td>\n",
       "      <td>...</td>\n",
       "      <td>...</td>\n",
       "      <td>...</td>\n",
       "      <td>...</td>\n",
       "      <td>...</td>\n",
       "      <td>...</td>\n",
       "      <td>...</td>\n",
       "      <td>...</td>\n",
       "    </tr>\n",
       "    <tr>\n",
       "      <th>6495</th>\n",
       "      <td>699</td>\n",
       "      <td>Оксана</td>\n",
       "      <td>22</td>\n",
       "      <td>Москва</td>\n",
       "      <td>ultra</td>\n",
       "      <td>3973.046497</td>\n",
       "      <td>25.0</td>\n",
       "      <td>2021-08-29</td>\n",
       "      <td>8</td>\n",
       "      <td>6</td>\n",
       "      <td>0</td>\n",
       "      <td>199</td>\n",
       "    </tr>\n",
       "    <tr>\n",
       "      <th>6496</th>\n",
       "      <td>699</td>\n",
       "      <td>Оксана</td>\n",
       "      <td>22</td>\n",
       "      <td>Москва</td>\n",
       "      <td>ultra</td>\n",
       "      <td>3288.702563</td>\n",
       "      <td>16.0</td>\n",
       "      <td>2021-09-12</td>\n",
       "      <td>9</td>\n",
       "      <td>6</td>\n",
       "      <td>0</td>\n",
       "      <td>199</td>\n",
       "    </tr>\n",
       "    <tr>\n",
       "      <th>6497</th>\n",
       "      <td>699</td>\n",
       "      <td>Оксана</td>\n",
       "      <td>22</td>\n",
       "      <td>Москва</td>\n",
       "      <td>ultra</td>\n",
       "      <td>3076.159348</td>\n",
       "      <td>15.0</td>\n",
       "      <td>2021-09-26</td>\n",
       "      <td>9</td>\n",
       "      <td>6</td>\n",
       "      <td>0</td>\n",
       "      <td>199</td>\n",
       "    </tr>\n",
       "    <tr>\n",
       "      <th>6498</th>\n",
       "      <td>699</td>\n",
       "      <td>Оксана</td>\n",
       "      <td>22</td>\n",
       "      <td>Москва</td>\n",
       "      <td>ultra</td>\n",
       "      <td>4707.845501</td>\n",
       "      <td>16.0</td>\n",
       "      <td>2021-10-17</td>\n",
       "      <td>10</td>\n",
       "      <td>6</td>\n",
       "      <td>0</td>\n",
       "      <td>199</td>\n",
       "    </tr>\n",
       "    <tr>\n",
       "      <th>6499</th>\n",
       "      <td>699</td>\n",
       "      <td>Оксана</td>\n",
       "      <td>22</td>\n",
       "      <td>Москва</td>\n",
       "      <td>ultra</td>\n",
       "      <td>3202.890770</td>\n",
       "      <td>26.0</td>\n",
       "      <td>2021-12-03</td>\n",
       "      <td>12</td>\n",
       "      <td>6</td>\n",
       "      <td>0</td>\n",
       "      <td>199</td>\n",
       "    </tr>\n",
       "  </tbody>\n",
       "</table>\n",
       "<p>6500 rows × 12 columns</p>\n",
       "</div>"
      ],
      "text/plain": [
       "      user_id    name  age    city subscription_type     distance  duration  \\\n",
       "0           1    Кира   22  Тюмень             ultra  4409.919140      26.0   \n",
       "1           1    Кира   22  Тюмень             ultra  2617.592153      16.0   \n",
       "2           1    Кира   22  Тюмень             ultra   754.159807       7.0   \n",
       "3           1    Кира   22  Тюмень             ultra  2694.783254      19.0   \n",
       "4           1    Кира   22  Тюмень             ultra  4028.687306      27.0   \n",
       "...       ...     ...  ...     ...               ...          ...       ...   \n",
       "6495      699  Оксана   22  Москва             ultra  3973.046497      25.0   \n",
       "6496      699  Оксана   22  Москва             ultra  3288.702563      16.0   \n",
       "6497      699  Оксана   22  Москва             ultra  3076.159348      15.0   \n",
       "6498      699  Оксана   22  Москва             ultra  4707.845501      16.0   \n",
       "6499      699  Оксана   22  Москва             ultra  3202.890770      26.0   \n",
       "\n",
       "           date  month  minute_price  start_ride_price  subscription_fee  \n",
       "0    2021-01-01      1             6                 0               199  \n",
       "1    2021-01-18      1             6                 0               199  \n",
       "2    2021-04-20      4             6                 0               199  \n",
       "3    2021-08-11      8             6                 0               199  \n",
       "4    2021-08-28      8             6                 0               199  \n",
       "...         ...    ...           ...               ...               ...  \n",
       "6495 2021-08-29      8             6                 0               199  \n",
       "6496 2021-09-12      9             6                 0               199  \n",
       "6497 2021-09-26      9             6                 0               199  \n",
       "6498 2021-10-17     10             6                 0               199  \n",
       "6499 2021-12-03     12             6                 0               199  \n",
       "\n",
       "[6500 rows x 12 columns]"
      ]
     },
     "execution_count": 60,
     "metadata": {},
     "output_type": "execute_result"
    }
   ],
   "source": [
    "# код ревьюера\n",
    "data_sub_ultra"
   ]
  },
  {
   "cell_type": "code",
   "execution_count": 61,
   "id": "1d813985",
   "metadata": {},
   "outputs": [
    {
     "data": {
      "text/plain": [
       "0       4409.919140\n",
       "1       2617.592153\n",
       "2        754.159807\n",
       "3       2694.783254\n",
       "4       4028.687306\n",
       "           ...     \n",
       "6495    3973.046497\n",
       "6496    3288.702563\n",
       "6497    3076.159348\n",
       "6498    4707.845501\n",
       "6499    3202.890770\n",
       "Name: distance, Length: 6500, dtype: float64"
      ]
     },
     "execution_count": 61,
     "metadata": {},
     "output_type": "execute_result"
    }
   ],
   "source": [
    "data_sub_ultra_distance = data_sub_ultra['distance']\n",
    "data_sub_ultra_distance"
   ]
  },
  {
   "cell_type": "code",
   "execution_count": 62,
   "id": "8f47839a",
   "metadata": {},
   "outputs": [],
   "source": [
    "alpha = .05"
   ]
  },
  {
   "cell_type": "code",
   "execution_count": 63,
   "id": "ba29c978",
   "metadata": {},
   "outputs": [],
   "source": [
    "data_sub_ultra_distance_value = 3130"
   ]
  },
  {
   "cell_type": "code",
   "execution_count": 64,
   "id": "8d4572b8",
   "metadata": {},
   "outputs": [],
   "source": [
    "results = st.ttest_1samp(\n",
    "    data_sub_ultra_distance, \n",
    "    data_sub_ultra_distance_value,\n",
    "      alternative='greater')"
   ]
  },
  {
   "cell_type": "code",
   "execution_count": 65,
   "id": "c76ceaec",
   "metadata": {},
   "outputs": [
    {
     "name": "stdout",
     "output_type": "stream",
     "text": [
      "p-значение: 0.9195368847849785\n",
      "Не отвергаем нулевую гипотезу\n"
     ]
    }
   ],
   "source": [
    "print('p-значение:', results.pvalue)\n",
    "\n",
    "if (results.pvalue < alpha):\n",
    "    print('Отвергаем нулевую гипотезу')\n",
    "else:\n",
    "    print('Не отвергаем нулевую гипотезу') \n"
   ]
  },
  {
   "cell_type": "code",
   "execution_count": 66,
   "id": "cc5bf981",
   "metadata": {},
   "outputs": [
    {
     "data": {
      "text/plain": [
       "3115.4453880370247"
      ]
     },
     "execution_count": 66,
     "metadata": {},
     "output_type": "execute_result"
    }
   ],
   "source": [
    "data_sub_ultra_distance.mean()"
   ]
  },
  {
   "cell_type": "markdown",
   "id": "d8dc5251",
   "metadata": {},
   "source": [
    "**Вывод:** Пользователи с подпиской в среднем проезжают дистанцию меньше , чем 3130 м, из этого следует, что самокаты в большинстве случеев не подвергаются износу."
   ]
  },
  {
   "cell_type": "markdown",
   "id": "885ee3dd",
   "metadata": {},
   "source": [
    "##### Проверьте гипотезу о том, будет ли помесячная выручка от пользователей с подпиской по месяцам выше, чем выручка от пользователей без подписки. Сделайте вывод."
   ]
  },
  {
   "cell_type": "markdown",
   "id": "3a5c4d26",
   "metadata": {},
   "source": [
    "***Сформулируем гипотезы:***\n",
    "\n",
    " - H0: Cредняя помесячная выручка от пользователей с подпиской по месяцам и без одинакова  \n",
    " - H1: Cредняя помесячная выручка от пользователей с подпиской по месяцам больше чем вырочка без подписки  "
   ]
  },
  {
   "cell_type": "code",
   "execution_count": 67,
   "id": "91f4809f",
   "metadata": {},
   "outputs": [
    {
     "data": {
      "text/html": [
       "<div>\n",
       "<style scoped>\n",
       "    .dataframe tbody tr th:only-of-type {\n",
       "        vertical-align: middle;\n",
       "    }\n",
       "\n",
       "    .dataframe tbody tr th {\n",
       "        vertical-align: top;\n",
       "    }\n",
       "\n",
       "    .dataframe thead th {\n",
       "        text-align: right;\n",
       "    }\n",
       "</style>\n",
       "<table border=\"1\" class=\"dataframe\">\n",
       "  <thead>\n",
       "    <tr style=\"text-align: right;\">\n",
       "      <th></th>\n",
       "      <th>user_id_</th>\n",
       "      <th>month_</th>\n",
       "      <th>distance_sum</th>\n",
       "      <th>distance_count</th>\n",
       "      <th>duration_sum</th>\n",
       "      <th>total_price</th>\n",
       "      <th>subscription_type</th>\n",
       "    </tr>\n",
       "  </thead>\n",
       "  <tbody>\n",
       "    <tr>\n",
       "      <th>0</th>\n",
       "      <td>1</td>\n",
       "      <td>1</td>\n",
       "      <td>7027.511294</td>\n",
       "      <td>2</td>\n",
       "      <td>42.0</td>\n",
       "      <td>451.0</td>\n",
       "      <td>ultra</td>\n",
       "    </tr>\n",
       "    <tr>\n",
       "      <th>1</th>\n",
       "      <td>1</td>\n",
       "      <td>4</td>\n",
       "      <td>754.159807</td>\n",
       "      <td>1</td>\n",
       "      <td>7.0</td>\n",
       "      <td>241.0</td>\n",
       "      <td>ultra</td>\n",
       "    </tr>\n",
       "    <tr>\n",
       "      <th>2</th>\n",
       "      <td>1</td>\n",
       "      <td>8</td>\n",
       "      <td>6723.470560</td>\n",
       "      <td>2</td>\n",
       "      <td>46.0</td>\n",
       "      <td>475.0</td>\n",
       "      <td>ultra</td>\n",
       "    </tr>\n",
       "    <tr>\n",
       "      <th>3</th>\n",
       "      <td>1</td>\n",
       "      <td>10</td>\n",
       "      <td>5809.911100</td>\n",
       "      <td>2</td>\n",
       "      <td>32.0</td>\n",
       "      <td>391.0</td>\n",
       "      <td>ultra</td>\n",
       "    </tr>\n",
       "    <tr>\n",
       "      <th>4</th>\n",
       "      <td>1</td>\n",
       "      <td>11</td>\n",
       "      <td>7003.499363</td>\n",
       "      <td>3</td>\n",
       "      <td>56.0</td>\n",
       "      <td>535.0</td>\n",
       "      <td>ultra</td>\n",
       "    </tr>\n",
       "    <tr>\n",
       "      <th>...</th>\n",
       "      <td>...</td>\n",
       "      <td>...</td>\n",
       "      <td>...</td>\n",
       "      <td>...</td>\n",
       "      <td>...</td>\n",
       "      <td>...</td>\n",
       "      <td>...</td>\n",
       "    </tr>\n",
       "    <tr>\n",
       "      <th>11326</th>\n",
       "      <td>1534</td>\n",
       "      <td>6</td>\n",
       "      <td>3409.468534</td>\n",
       "      <td>2</td>\n",
       "      <td>26.0</td>\n",
       "      <td>308.0</td>\n",
       "      <td>free</td>\n",
       "    </tr>\n",
       "    <tr>\n",
       "      <th>11327</th>\n",
       "      <td>1534</td>\n",
       "      <td>8</td>\n",
       "      <td>7622.453034</td>\n",
       "      <td>2</td>\n",
       "      <td>48.0</td>\n",
       "      <td>484.0</td>\n",
       "      <td>free</td>\n",
       "    </tr>\n",
       "    <tr>\n",
       "      <th>11328</th>\n",
       "      <td>1534</td>\n",
       "      <td>9</td>\n",
       "      <td>4928.173852</td>\n",
       "      <td>1</td>\n",
       "      <td>23.0</td>\n",
       "      <td>234.0</td>\n",
       "      <td>free</td>\n",
       "    </tr>\n",
       "    <tr>\n",
       "      <th>11329</th>\n",
       "      <td>1534</td>\n",
       "      <td>11</td>\n",
       "      <td>13350.015305</td>\n",
       "      <td>4</td>\n",
       "      <td>78.0</td>\n",
       "      <td>824.0</td>\n",
       "      <td>free</td>\n",
       "    </tr>\n",
       "    <tr>\n",
       "      <th>11330</th>\n",
       "      <td>1534</td>\n",
       "      <td>12</td>\n",
       "      <td>2371.711192</td>\n",
       "      <td>1</td>\n",
       "      <td>16.0</td>\n",
       "      <td>178.0</td>\n",
       "      <td>free</td>\n",
       "    </tr>\n",
       "  </tbody>\n",
       "</table>\n",
       "<p>11331 rows × 7 columns</p>\n",
       "</div>"
      ],
      "text/plain": [
       "       user_id_  month_  distance_sum  distance_count  duration_sum  \\\n",
       "0             1       1   7027.511294               2          42.0   \n",
       "1             1       4    754.159807               1           7.0   \n",
       "2             1       8   6723.470560               2          46.0   \n",
       "3             1      10   5809.911100               2          32.0   \n",
       "4             1      11   7003.499363               3          56.0   \n",
       "...         ...     ...           ...             ...           ...   \n",
       "11326      1534       6   3409.468534               2          26.0   \n",
       "11327      1534       8   7622.453034               2          48.0   \n",
       "11328      1534       9   4928.173852               1          23.0   \n",
       "11329      1534      11  13350.015305               4          78.0   \n",
       "11330      1534      12   2371.711192               1          16.0   \n",
       "\n",
       "       total_price subscription_type  \n",
       "0            451.0             ultra  \n",
       "1            241.0             ultra  \n",
       "2            475.0             ultra  \n",
       "3            391.0             ultra  \n",
       "4            535.0             ultra  \n",
       "...            ...               ...  \n",
       "11326        308.0              free  \n",
       "11327        484.0              free  \n",
       "11328        234.0              free  \n",
       "11329        824.0              free  \n",
       "11330        178.0              free  \n",
       "\n",
       "[11331 rows x 7 columns]"
      ]
     },
     "execution_count": 67,
     "metadata": {},
     "output_type": "execute_result"
    }
   ],
   "source": [
    "data_ag['subscription_type'] = users_merge['subscription_type']\n",
    "data_ag# добавили в таблицу data_ag столбец с типом подписки"
   ]
  },
  {
   "cell_type": "code",
   "execution_count": 68,
   "id": "7e0a4ff2",
   "metadata": {},
   "outputs": [
    {
     "data": {
      "text/plain": [
       "0       451.0\n",
       "1       241.0\n",
       "2       475.0\n",
       "3       391.0\n",
       "4       535.0\n",
       "        ...  \n",
       "6495    583.0\n",
       "6496    349.0\n",
       "6497    457.0\n",
       "6498    451.0\n",
       "6499    253.0\n",
       "Name: total_price, Length: 6500, dtype: float64"
      ]
     },
     "execution_count": 68,
     "metadata": {},
     "output_type": "execute_result"
    }
   ],
   "source": [
    "data_sub_ultra_price = data_ag.loc[data_ag['subscription_type'] == 'ultra']['total_price']\n",
    "data_sub_ultra_price"
   ]
  },
  {
   "cell_type": "code",
   "execution_count": 69,
   "id": "db281fe7",
   "metadata": {},
   "outputs": [
    {
     "data": {
      "text/plain": [
       "6500     614.0\n",
       "6501     856.0\n",
       "6502     476.0\n",
       "6503      82.0\n",
       "6504     186.0\n",
       "         ...  \n",
       "11326    308.0\n",
       "11327    484.0\n",
       "11328    234.0\n",
       "11329    824.0\n",
       "11330    178.0\n",
       "Name: total_price, Length: 4831, dtype: float64"
      ]
     },
     "execution_count": 69,
     "metadata": {},
     "output_type": "execute_result"
    }
   ],
   "source": [
    "data_sub_free_price = data_ag.loc[data_ag['subscription_type'] == 'free']['total_price']\n",
    "data_sub_free_price"
   ]
  },
  {
   "cell_type": "code",
   "execution_count": 70,
   "id": "ff9ef18a",
   "metadata": {},
   "outputs": [],
   "source": [
    "alpha = .05"
   ]
  },
  {
   "cell_type": "code",
   "execution_count": 71,
   "id": "32b710d2",
   "metadata": {},
   "outputs": [],
   "source": [
    "results = st.ttest_ind(data_sub_ultra_price ,data_sub_free_price, alternative = 'greater')"
   ]
  },
  {
   "cell_type": "code",
   "execution_count": 72,
   "id": "8ff6aa0c",
   "metadata": {},
   "outputs": [
    {
     "name": "stdout",
     "output_type": "stream",
     "text": [
      "p-значение: 1.318341752391833e-51\n",
      "Отвергаем нулевую гипотезу\n"
     ]
    }
   ],
   "source": [
    "print('p-значение:', results.pvalue)\n",
    "\n",
    "if (results.pvalue < alpha):\n",
    "    print(\"Отвергаем нулевую гипотезу\")\n",
    "else:\n",
    "    print(\"Не получилось отвергнуть нулевую гипотезу\")"
   ]
  },
  {
   "cell_type": "code",
   "execution_count": 73,
   "id": "bd2b89bf",
   "metadata": {},
   "outputs": [
    {
     "data": {
      "text/plain": [
       "368.6763076923077"
      ]
     },
     "execution_count": 73,
     "metadata": {},
     "output_type": "execute_result"
    }
   ],
   "source": [
    "data_sub_ultra_price.mean()"
   ]
  },
  {
   "cell_type": "code",
   "execution_count": 74,
   "id": "80b32daa",
   "metadata": {},
   "outputs": [
    {
     "data": {
      "text/plain": [
       "328.34527013040776"
      ]
     },
     "execution_count": 74,
     "metadata": {},
     "output_type": "execute_result"
    }
   ],
   "source": [
    "data_sub_free_price.mean()"
   ]
  },
  {
   "cell_type": "markdown",
   "id": "2116dd28",
   "metadata": {},
   "source": [
    "**Помесячная выручка от пользователей с подпиской по месяцам выше, чем выручка от пользователей без подписки. Это значит, что бизнесу это выгодно. И в этом случае можно увеличить стоимость старта для людей без подписки**"
   ]
  },
  {
   "cell_type": "markdown",
   "id": "47bcc0eb",
   "metadata": {},
   "source": [
    "##### Представьте такую ситуацию: техническая команда сервиса обновила сервера, с которыми взаимодействует мобильное приложение. Она надеется, что из-за этого количество обращений в техподдержку значимо снизилось. Некоторый файл содержит для каждого пользователя данные о количестве обращений до обновления и после него. Какой тест вам понадобился бы для проверки этой гипотезы?"
   ]
  },
  {
   "cell_type": "markdown",
   "id": "d150c689",
   "metadata": {},
   "source": [
    "Для проверки этой гипотезы потребуется двухвыборочный t-тест для зависимых выборок. При двух выборках **df1** и **df2** ,с **alpha = 0.05** и с провосторонней альтернативной гипотезой. **result= st.ttest_les(df1,df2, alternative = 'greater')** \n",
    "\n",
    " При \n",
    " - **print('p-значение:', results.pvalue)**\n",
    " - **if (results.pvalue < alpha):**\n",
    " -   **print(\"Отвергаем нулевую гипотезу\")**\n",
    " - **else:**\n",
    " -   **print(\"Не получилось отвергнуть нулевую гипотезу\")**\n",
    " \n",
    "Этот код проверяет одностороннюю гипотезу: о том, что до изменения (первая выборка) среднее значение переменной в генеральной совокупности было больше, чем после изменения вторая выборка). Метод принимает на вход только выборки одинакового размера."
   ]
  },
  {
   "cell_type": "markdown",
   "id": "5e79d0da",
   "metadata": {},
   "source": [
    "**Вывод:** \n",
    "  - ***Пользователи с подпиской действительно тратят время на поездки больше, значит пользователи с подпиской выгоднее компании***\n",
    "  - ***Пользователи с подпиской в среднем проезжают дистанцию больше, чем 3130 м, из этого следует, что самокаты быстрее износятся***\n",
    "  - ***Помесячная выручка от пользователей с подпиской по месяцам выше, чем выручка от пользователей без подписки. Это значит, что бизнесу это выгодно***\n",
    "  \n",
    "**Предложение для бизнеса:**\n",
    " - Чтобы окупать износостойкость самокатов, можно ввести ограничение по дистанции, если дистанция превышает 3 км добавить к цене за минуту ~2 р.\n",
    " - Чтобы как-то сгладить разницу в помесячной выручке, нужно либо увеличить стартовую цену или цену за минуту пользователям без подписки. Или быть более лояльными к пользователям с подпиский и снизить стоимость подписки.\n",
    " - С уменьшением стоимости подписки, привлечем больше потенциальных пользователей, что увеличит прибыль.  "
   ]
  },
  {
   "cell_type": "markdown",
   "id": "61213c5e",
   "metadata": {},
   "source": [
    "#### Шаг 7. Распределения"
   ]
  },
  {
   "cell_type": "markdown",
   "id": "dc941e7c",
   "metadata": {},
   "source": [
    "##### Отделу маркетинга GoFast поставили задачу: нужно провести акцию с раздачей промокодов на один бесплатный месяц подписки, в рамках которой как минимум 100 существующих клиентов должны продлить эту подписку. То есть по завершении периода действия подписки пользователь может либо отказаться от неё, либо продлить, совершив соответствующий платёж. "
   ]
  },
  {
   "cell_type": "markdown",
   "id": "61c23e6f",
   "metadata": {},
   "source": [
    "***Эта акция уже проводилась ранее и по итогу выяснилось, что после бесплатного пробного периода подписку продлевают 10% пользователей. Выясните, какое минимальное количество промокодов нужно разослать, чтобы вероятность не выполнить план была примерно 5 %. Подберите параметры распределения, описывающего эту ситуацию, постройте график распределения и сформулируйте ответ на вопрос о количестве промокодов.***"
   ]
  },
  {
   "cell_type": "code",
   "execution_count": 75,
   "id": "4bcd9f57",
   "metadata": {},
   "outputs": [
    {
     "data": {
      "image/png": "[encoded data removed]",
      "text/plain": [
       "<Figure size 640x480 with 1 Axes>"
      ]
     },
     "metadata": {},
     "output_type": "display_data"
    }
   ],
   "source": [
    "import matplotlib.pyplot as plt\n",
    "import scipy.stats as stats\n",
    "\n",
    "binom_sim = data = stats.binom.rvs(n = 1000, p =0.1, size = 10000)\n",
    "plt.hist(binom_sim, bins = 10, density = False)\n",
    "plt.title('Биноминальное распределение')\n",
    "plt.ylabel('Количество экспериментов ')\n",
    "plt.xlabel('Кол-во пропусков')\n",
    "plt.show()"
   ]
  },
  {
   "cell_type": "markdown",
   "id": "a090562b",
   "metadata": {},
   "source": [
    "**На графике видно, что примено 50 % набрать 100 новых клиентов , которые захотят продлить эту подписку.**"
   ]
  },
  {
   "cell_type": "code",
   "execution_count": 76,
   "id": "9f63bf00",
   "metadata": {},
   "outputs": [
    {
     "data": {
      "image/png": "[encoded data removed]",
      "text/plain": [
       "<Figure size 640x480 with 1 Axes>"
      ]
     },
     "metadata": {},
     "output_type": "display_data"
    }
   ],
   "source": [
    "binom_sim = data = stats.binom.rvs(n = 1100, p =0.1, size = 10000)\n",
    "plt.hist(binom_sim, bins = 10, density = False)\n",
    "plt.title('Биноминальное распределение')\n",
    "plt.ylabel('Количество экспериментов ')\n",
    "plt.xlabel('Кол-во пропусков')\n",
    "plt.show()"
   ]
  },
  {
   "cell_type": "markdown",
   "id": "30b9a0e2",
   "metadata": {},
   "source": [
    "**На графике видно, что примено 20 % не набрать 100 новых клиентов, которые захотят продлить эту подписку. И этого нам все равно мало**"
   ]
  },
  {
   "cell_type": "code",
   "execution_count": 77,
   "id": "0d0f43f4",
   "metadata": {},
   "outputs": [
    {
     "data": {
      "image/png": "[encoded data removed]",
      "text/plain": [
       "<Figure size 640x480 with 1 Axes>"
      ]
     },
     "metadata": {},
     "output_type": "display_data"
    }
   ],
   "source": [
    "binom_sim = data = stats.binom.rvs(n = 1200, p =0.1, size = 10000)\n",
    "plt.hist(binom_sim, bins = 10, density = False)\n",
    "plt.title('Биноминальное распределение')\n",
    "plt.ylabel('Количество экспериментов ')\n",
    "plt.xlabel('Кол-во пропусков')\n",
    "plt.show()"
   ]
  },
  {
   "cell_type": "markdown",
   "id": "1dae95df",
   "metadata": {},
   "source": [
    "**На графике видно, что примено 5 % не набрать 100 новых клиентов, которые захотят продлить эту подписку. Будем работать со значением в 1200 промокодов на один бесплатный месяц подписки**"
   ]
  },
  {
   "cell_type": "code",
   "execution_count": 78,
   "id": "dc17102c",
   "metadata": {},
   "outputs": [
    {
     "name": "stdout",
     "output_type": "stream",
     "text": [
      "0.027145914183427298\n"
     ]
    }
   ],
   "source": [
    "n = 1200\n",
    "p = 0.1\n",
    "mu = n*p\n",
    "sigma = np.sqrt(n*p*(1-p))\n",
    "distr = st.norm(mu, sigma)\n",
    "x = 100\n",
    "\n",
    "# считаем вероятность получить значение меньше x\n",
    "result = distr.cdf(x)\n",
    "print(result)"
   ]
  },
  {
   "cell_type": "markdown",
   "id": "65ec42b6",
   "metadata": {},
   "source": [
    "**При количестве 1200 промокодов  вероятность не выполнить план равно 2,71 %. Значит можем проверить для меньшего кол-ва промокодов примено для 1170**"
   ]
  },
  {
   "cell_type": "code",
   "execution_count": 79,
   "id": "04401fb4",
   "metadata": {},
   "outputs": [
    {
     "name": "stdout",
     "output_type": "stream",
     "text": [
      "0.04879359652776027\n"
     ]
    }
   ],
   "source": [
    "n = 1170\n",
    "p = 0.1\n",
    "mu = n*p\n",
    "sigma = np.sqrt(n*p*(1-p))\n",
    "distr = st.norm(mu, sigma)\n",
    "x = 100\n",
    "\n",
    "# считаем вероятность получить значение меньше x\n",
    "result = distr.cdf(x)\n",
    "print(result)"
   ]
  },
  {
   "cell_type": "code",
   "execution_count": 80,
   "id": "c963f14e",
   "metadata": {},
   "outputs": [
    {
     "data": {
      "text/plain": [
       "0.75"
      ]
     },
     "execution_count": 80,
     "metadata": {},
     "output_type": "execute_result"
    }
   ],
   "source": [
    "#Код ревьюера\n",
    "\n",
    "st.binom(2, 0.5).cdf(1)"
   ]
  },
  {
   "cell_type": "markdown",
   "id": "bf370b8e",
   "metadata": {},
   "source": [
    "**При количестве 1170 промокодов вероятность не выполнить план равно 4.88 % что примерно равно 5 %. Что от нас и требовалось.**"
   ]
  },
  {
   "cell_type": "markdown",
   "id": "92c6a46b",
   "metadata": {},
   "source": [
    "**Вывод:**\n",
    "\n",
    "**То есть по завершении периода действия подписки можно с уверенность в 95% сказать, что 100 пользователей продлят подписку, если количество промокодов будет не ниже 1170**"
   ]
  }
 ],
 "metadata": {
  "ExecuteTimeLog": [
   {
    "duration": 826,
    "start_time": "2024-03-20T12:48:26.327Z"
   },
   {
    "duration": 90,
    "start_time": "2024-03-20T12:49:22.840Z"
   },
   {
    "duration": 29,
    "start_time": "2024-03-20T12:50:21.327Z"
   },
   {
    "duration": 165,
    "start_time": "2024-03-20T12:50:21.576Z"
   },
   {
    "duration": 57,
    "start_time": "2024-03-20T12:50:21.783Z"
   },
   {
    "duration": 11,
    "start_time": "2024-03-20T12:50:44.920Z"
   },
   {
    "duration": 34,
    "start_time": "2024-03-20T12:50:51.359Z"
   },
   {
    "duration": 29,
    "start_time": "2024-03-20T12:50:54.384Z"
   },
   {
    "duration": 8,
    "start_time": "2024-03-20T12:50:57.358Z"
   },
   {
    "duration": 8,
    "start_time": "2024-03-20T12:51:15.136Z"
   },
   {
    "duration": 6,
    "start_time": "2024-03-20T12:51:26.048Z"
   },
   {
    "duration": 39,
    "start_time": "2024-03-20T12:51:29.736Z"
   },
   {
    "duration": 9,
    "start_time": "2024-03-20T12:51:30.952Z"
   },
   {
    "duration": 115,
    "start_time": "2024-03-20T12:53:27.512Z"
   },
   {
    "duration": 96,
    "start_time": "2024-03-20T12:53:44.559Z"
   },
   {
    "duration": 27,
    "start_time": "2024-03-20T12:53:54.135Z"
   },
   {
    "duration": 6,
    "start_time": "2024-03-20T12:53:59.127Z"
   },
   {
    "duration": 8,
    "start_time": "2024-03-20T12:54:02.168Z"
   },
   {
    "duration": 28,
    "start_time": "2024-03-20T12:55:50.985Z"
   },
   {
    "duration": 9,
    "start_time": "2024-03-20T12:55:51.326Z"
   },
   {
    "duration": 39,
    "start_time": "2024-03-20T12:56:27.343Z"
   },
   {
    "duration": 9,
    "start_time": "2024-03-20T12:56:27.815Z"
   },
   {
    "duration": 27,
    "start_time": "2024-03-20T12:57:30.984Z"
   },
   {
    "duration": 7,
    "start_time": "2024-03-20T12:57:31.631Z"
   },
   {
    "duration": 2,
    "start_time": "2024-03-20T12:58:44.744Z"
   },
   {
    "duration": 3,
    "start_time": "2024-03-20T12:58:44.966Z"
   },
   {
    "duration": 2,
    "start_time": "2024-03-20T12:58:45.207Z"
   },
   {
    "duration": 29,
    "start_time": "2024-03-20T12:58:46.535Z"
   },
   {
    "duration": 9,
    "start_time": "2024-03-20T12:58:46.720Z"
   },
   {
    "duration": 28,
    "start_time": "2024-03-20T12:58:46.936Z"
   },
   {
    "duration": 9,
    "start_time": "2024-03-20T12:58:47.638Z"
   },
   {
    "duration": 27,
    "start_time": "2024-03-20T12:58:47.854Z"
   },
   {
    "duration": 7,
    "start_time": "2024-03-20T12:58:48.374Z"
   },
   {
    "duration": 12,
    "start_time": "2024-03-20T12:59:56.926Z"
   },
   {
    "duration": 12,
    "start_time": "2024-03-20T13:00:45.255Z"
   },
   {
    "duration": 11,
    "start_time": "2024-03-20T13:02:29.557Z"
   },
   {
    "duration": 6,
    "start_time": "2024-03-20T13:09:19.077Z"
   },
   {
    "duration": 7,
    "start_time": "2024-03-20T13:10:06.533Z"
   },
   {
    "duration": 74,
    "start_time": "2024-03-20T13:10:51.061Z"
   },
   {
    "duration": 8,
    "start_time": "2024-03-20T13:10:53.853Z"
   },
   {
    "duration": 8,
    "start_time": "2024-03-20T13:10:58.517Z"
   },
   {
    "duration": 15,
    "start_time": "2024-03-20T13:11:03.429Z"
   },
   {
    "duration": 7,
    "start_time": "2024-03-20T13:11:43.708Z"
   },
   {
    "duration": 14,
    "start_time": "2024-03-20T13:11:54.293Z"
   },
   {
    "duration": 10,
    "start_time": "2024-03-20T13:12:01.701Z"
   },
   {
    "duration": 13,
    "start_time": "2024-03-20T13:12:05.317Z"
   },
   {
    "duration": 16,
    "start_time": "2024-03-20T13:12:11.581Z"
   },
   {
    "duration": 14,
    "start_time": "2024-03-20T13:12:14.565Z"
   },
   {
    "duration": 9,
    "start_time": "2024-03-20T13:12:50.956Z"
   },
   {
    "duration": 6,
    "start_time": "2024-03-20T13:13:06.157Z"
   },
   {
    "duration": 377,
    "start_time": "2024-03-20T13:22:25.441Z"
   },
   {
    "duration": 262,
    "start_time": "2024-03-20T13:22:25.820Z"
   },
   {
    "duration": 2,
    "start_time": "2024-03-20T13:22:26.084Z"
   },
   {
    "duration": 35,
    "start_time": "2024-03-20T13:22:26.088Z"
   },
   {
    "duration": 31,
    "start_time": "2024-03-20T13:22:26.125Z"
   },
   {
    "duration": 16,
    "start_time": "2024-03-20T13:22:26.157Z"
   },
   {
    "duration": 22,
    "start_time": "2024-03-20T13:22:26.174Z"
   },
   {
    "duration": 11,
    "start_time": "2024-03-20T13:22:26.198Z"
   },
   {
    "duration": 15,
    "start_time": "2024-03-20T13:22:26.211Z"
   },
   {
    "duration": 15,
    "start_time": "2024-03-20T13:22:26.228Z"
   },
   {
    "duration": 7,
    "start_time": "2024-03-20T13:22:26.245Z"
   },
   {
    "duration": 33,
    "start_time": "2024-03-20T13:22:26.254Z"
   },
   {
    "duration": 7,
    "start_time": "2024-03-20T13:22:26.289Z"
   },
   {
    "duration": 15,
    "start_time": "2024-03-20T13:22:26.299Z"
   },
   {
    "duration": 10,
    "start_time": "2024-03-20T13:22:26.316Z"
   },
   {
    "duration": 5,
    "start_time": "2024-03-20T13:22:26.328Z"
   },
   {
    "duration": 50,
    "start_time": "2024-03-20T13:25:32.419Z"
   },
   {
    "duration": 13,
    "start_time": "2024-03-20T13:25:34.235Z"
   },
   {
    "duration": 11,
    "start_time": "2024-03-20T13:25:35.668Z"
   },
   {
    "duration": 156,
    "start_time": "2024-03-20T13:28:40.394Z"
   },
   {
    "duration": 7,
    "start_time": "2024-03-20T13:28:43.527Z"
   },
   {
    "duration": 148,
    "start_time": "2024-03-20T13:28:58.499Z"
   },
   {
    "duration": 132,
    "start_time": "2024-03-20T13:29:07.371Z"
   },
   {
    "duration": 9,
    "start_time": "2024-03-20T13:29:10.289Z"
   },
   {
    "duration": 62,
    "start_time": "2024-03-20T13:29:23.371Z"
   },
   {
    "duration": 27,
    "start_time": "2024-03-20T13:29:24.754Z"
   },
   {
    "duration": 9,
    "start_time": "2024-03-20T13:29:28.603Z"
   },
   {
    "duration": 11,
    "start_time": "2024-03-20T13:29:33.731Z"
   },
   {
    "duration": 112,
    "start_time": "2024-03-20T13:29:41.891Z"
   },
   {
    "duration": 11,
    "start_time": "2024-03-20T13:29:43.778Z"
   },
   {
    "duration": 8,
    "start_time": "2024-03-20T13:29:47.611Z"
   },
   {
    "duration": 12,
    "start_time": "2024-03-20T13:29:48.945Z"
   },
   {
    "duration": 429,
    "start_time": "2024-03-20T13:29:57.679Z"
   },
   {
    "duration": 313,
    "start_time": "2024-03-20T13:29:58.110Z"
   },
   {
    "duration": 2,
    "start_time": "2024-03-20T13:29:58.425Z"
   },
   {
    "duration": 43,
    "start_time": "2024-03-20T13:29:58.429Z"
   },
   {
    "duration": 30,
    "start_time": "2024-03-20T13:29:58.474Z"
   },
   {
    "duration": 16,
    "start_time": "2024-03-20T13:29:58.505Z"
   },
   {
    "duration": 13,
    "start_time": "2024-03-20T13:29:58.523Z"
   },
   {
    "duration": 10,
    "start_time": "2024-03-20T13:29:58.537Z"
   },
   {
    "duration": 10,
    "start_time": "2024-03-20T13:29:58.548Z"
   },
   {
    "duration": 16,
    "start_time": "2024-03-20T13:29:58.559Z"
   },
   {
    "duration": 16,
    "start_time": "2024-03-20T13:29:58.576Z"
   },
   {
    "duration": 16,
    "start_time": "2024-03-20T13:29:58.594Z"
   },
   {
    "duration": 138,
    "start_time": "2024-03-20T13:29:58.612Z"
   },
   {
    "duration": 0,
    "start_time": "2024-03-20T13:29:58.752Z"
   },
   {
    "duration": 0,
    "start_time": "2024-03-20T13:29:58.753Z"
   },
   {
    "duration": 0,
    "start_time": "2024-03-20T13:29:58.754Z"
   },
   {
    "duration": 0,
    "start_time": "2024-03-20T13:29:58.755Z"
   },
   {
    "duration": 0,
    "start_time": "2024-03-20T13:29:58.756Z"
   },
   {
    "duration": 0,
    "start_time": "2024-03-20T13:29:58.756Z"
   },
   {
    "duration": 0,
    "start_time": "2024-03-20T13:29:58.757Z"
   },
   {
    "duration": 8,
    "start_time": "2024-03-20T13:30:51.948Z"
   },
   {
    "duration": 10,
    "start_time": "2024-03-20T13:31:04.579Z"
   },
   {
    "duration": 11,
    "start_time": "2024-03-20T13:31:14.115Z"
   },
   {
    "duration": 9,
    "start_time": "2024-03-20T13:32:04.787Z"
   },
   {
    "duration": 9,
    "start_time": "2024-03-20T13:33:25.810Z"
   },
   {
    "duration": 9,
    "start_time": "2024-03-20T13:33:35.018Z"
   },
   {
    "duration": 9,
    "start_time": "2024-03-20T13:39:39.313Z"
   },
   {
    "duration": 11,
    "start_time": "2024-03-20T13:40:11.753Z"
   },
   {
    "duration": 7,
    "start_time": "2024-03-20T13:40:19.433Z"
   },
   {
    "duration": 8,
    "start_time": "2024-03-20T13:40:24.664Z"
   },
   {
    "duration": 9,
    "start_time": "2024-03-20T13:40:28.633Z"
   },
   {
    "duration": 9,
    "start_time": "2024-03-20T13:40:32.962Z"
   },
   {
    "duration": 10,
    "start_time": "2024-03-20T13:41:58.921Z"
   },
   {
    "duration": 8,
    "start_time": "2024-03-20T13:42:13.705Z"
   },
   {
    "duration": 8,
    "start_time": "2024-03-20T13:42:22.665Z"
   },
   {
    "duration": 464,
    "start_time": "2024-03-20T13:45:53.953Z"
   },
   {
    "duration": 427,
    "start_time": "2024-03-20T13:46:05.046Z"
   },
   {
    "duration": 491,
    "start_time": "2024-03-20T13:46:11.608Z"
   },
   {
    "duration": 11,
    "start_time": "2024-03-20T13:46:38.567Z"
   },
   {
    "duration": 13,
    "start_time": "2024-03-20T13:46:52.008Z"
   },
   {
    "duration": 7,
    "start_time": "2024-03-20T13:46:57.776Z"
   },
   {
    "duration": 15,
    "start_time": "2024-03-20T13:49:43.720Z"
   },
   {
    "duration": 9,
    "start_time": "2024-03-20T13:49:46.422Z"
   },
   {
    "duration": 6,
    "start_time": "2024-03-20T13:50:06.680Z"
   },
   {
    "duration": 395,
    "start_time": "2024-03-20T13:50:16.913Z"
   },
   {
    "duration": 248,
    "start_time": "2024-03-20T13:50:17.310Z"
   },
   {
    "duration": 3,
    "start_time": "2024-03-20T13:50:17.559Z"
   },
   {
    "duration": 32,
    "start_time": "2024-03-20T13:50:17.563Z"
   },
   {
    "duration": 29,
    "start_time": "2024-03-20T13:50:17.597Z"
   },
   {
    "duration": 16,
    "start_time": "2024-03-20T13:50:17.628Z"
   },
   {
    "duration": 12,
    "start_time": "2024-03-20T13:50:17.645Z"
   },
   {
    "duration": 13,
    "start_time": "2024-03-20T13:50:17.658Z"
   },
   {
    "duration": 10,
    "start_time": "2024-03-20T13:50:17.672Z"
   },
   {
    "duration": 15,
    "start_time": "2024-03-20T13:50:17.683Z"
   },
   {
    "duration": 7,
    "start_time": "2024-03-20T13:50:17.699Z"
   },
   {
    "duration": 28,
    "start_time": "2024-03-20T13:50:17.707Z"
   },
   {
    "duration": 17,
    "start_time": "2024-03-20T13:50:17.737Z"
   },
   {
    "duration": 40,
    "start_time": "2024-03-20T13:50:17.756Z"
   },
   {
    "duration": 15,
    "start_time": "2024-03-20T13:50:17.797Z"
   },
   {
    "duration": 8,
    "start_time": "2024-03-20T13:50:17.814Z"
   },
   {
    "duration": 20,
    "start_time": "2024-03-20T13:50:17.823Z"
   },
   {
    "duration": 26,
    "start_time": "2024-03-20T13:50:17.844Z"
   },
   {
    "duration": 8,
    "start_time": "2024-03-20T13:50:17.872Z"
   },
   {
    "duration": 19,
    "start_time": "2024-03-20T13:50:17.881Z"
   },
   {
    "duration": 69,
    "start_time": "2024-03-20T13:50:17.901Z"
   },
   {
    "duration": 18,
    "start_time": "2024-03-20T13:50:17.972Z"
   },
   {
    "duration": 12,
    "start_time": "2024-03-20T13:50:17.992Z"
   },
   {
    "duration": 15,
    "start_time": "2024-03-20T13:56:00.464Z"
   },
   {
    "duration": 75,
    "start_time": "2024-03-20T13:56:05.327Z"
   },
   {
    "duration": 13,
    "start_time": "2024-03-20T13:56:07.776Z"
   },
   {
    "duration": 11,
    "start_time": "2024-03-20T13:56:24.343Z"
   },
   {
    "duration": 8,
    "start_time": "2024-03-20T13:56:40.737Z"
   },
   {
    "duration": 8,
    "start_time": "2024-03-20T13:56:45.927Z"
   },
   {
    "duration": 8,
    "start_time": "2024-03-20T13:56:53.135Z"
   },
   {
    "duration": 4,
    "start_time": "2024-03-20T13:57:33.999Z"
   },
   {
    "duration": 7,
    "start_time": "2024-03-20T13:58:23.446Z"
   },
   {
    "duration": 3,
    "start_time": "2024-03-20T13:58:26.295Z"
   },
   {
    "duration": 4,
    "start_time": "2024-03-20T13:58:29.183Z"
   },
   {
    "duration": 5,
    "start_time": "2024-03-20T13:59:11.807Z"
   },
   {
    "duration": 6,
    "start_time": "2024-03-20T13:59:55.812Z"
   },
   {
    "duration": 6,
    "start_time": "2024-03-20T13:59:59.689Z"
   },
   {
    "duration": 7,
    "start_time": "2024-03-20T14:00:15.126Z"
   },
   {
    "duration": 5,
    "start_time": "2024-03-20T14:00:37.662Z"
   },
   {
    "duration": 8,
    "start_time": "2024-03-20T14:00:45.374Z"
   },
   {
    "duration": 4,
    "start_time": "2024-03-20T14:00:48.982Z"
   },
   {
    "duration": 6,
    "start_time": "2024-03-20T14:00:58.334Z"
   },
   {
    "duration": 7,
    "start_time": "2024-03-20T14:01:00.872Z"
   },
   {
    "duration": 4,
    "start_time": "2024-03-20T14:01:10.374Z"
   },
   {
    "duration": 6,
    "start_time": "2024-03-20T14:01:13.184Z"
   },
   {
    "duration": 13,
    "start_time": "2024-03-20T14:01:28.286Z"
   },
   {
    "duration": 5,
    "start_time": "2024-03-20T14:01:33.318Z"
   },
   {
    "duration": 15,
    "start_time": "2024-03-20T14:01:35.782Z"
   },
   {
    "duration": 6,
    "start_time": "2024-03-20T14:01:43.774Z"
   },
   {
    "duration": 8,
    "start_time": "2024-03-20T14:01:53.254Z"
   },
   {
    "duration": 8,
    "start_time": "2024-03-20T14:02:05.511Z"
   },
   {
    "duration": 7,
    "start_time": "2024-03-20T14:02:22.494Z"
   },
   {
    "duration": 14,
    "start_time": "2024-03-20T14:03:50.806Z"
   },
   {
    "duration": 7,
    "start_time": "2024-03-20T14:04:41.895Z"
   },
   {
    "duration": 8,
    "start_time": "2024-03-20T14:04:55.733Z"
   },
   {
    "duration": 8,
    "start_time": "2024-03-20T14:05:01.726Z"
   },
   {
    "duration": 8,
    "start_time": "2024-03-20T14:05:08.597Z"
   },
   {
    "duration": 13,
    "start_time": "2024-03-20T14:05:16.020Z"
   },
   {
    "duration": 5,
    "start_time": "2024-03-20T14:05:40.503Z"
   },
   {
    "duration": 8,
    "start_time": "2024-03-20T14:05:44.086Z"
   },
   {
    "duration": 7,
    "start_time": "2024-03-20T14:06:01.135Z"
   },
   {
    "duration": 8,
    "start_time": "2024-03-20T14:06:22.190Z"
   },
   {
    "duration": 11,
    "start_time": "2024-03-20T14:06:56.421Z"
   },
   {
    "duration": 9,
    "start_time": "2024-03-20T14:07:14.173Z"
   },
   {
    "duration": 11,
    "start_time": "2024-03-20T14:07:19.861Z"
   },
   {
    "duration": 9,
    "start_time": "2024-03-20T14:07:44.861Z"
   },
   {
    "duration": 8,
    "start_time": "2024-03-20T14:07:53.484Z"
   },
   {
    "duration": 6,
    "start_time": "2024-03-20T14:07:59.869Z"
   },
   {
    "duration": 13,
    "start_time": "2024-03-20T14:08:00.462Z"
   },
   {
    "duration": 8,
    "start_time": "2024-03-20T14:08:03.010Z"
   },
   {
    "duration": 6,
    "start_time": "2024-03-20T14:08:23.533Z"
   },
   {
    "duration": 196,
    "start_time": "2024-03-20T14:11:39.341Z"
   },
   {
    "duration": 153,
    "start_time": "2024-03-20T14:11:50.076Z"
   },
   {
    "duration": 222,
    "start_time": "2024-03-20T14:12:09.996Z"
   },
   {
    "duration": 150,
    "start_time": "2024-03-20T14:12:22.741Z"
   },
   {
    "duration": 400,
    "start_time": "2024-03-20T14:12:28.612Z"
   },
   {
    "duration": 254,
    "start_time": "2024-03-20T14:12:29.014Z"
   },
   {
    "duration": 2,
    "start_time": "2024-03-20T14:12:29.270Z"
   },
   {
    "duration": 47,
    "start_time": "2024-03-20T14:12:29.274Z"
   },
   {
    "duration": 30,
    "start_time": "2024-03-20T14:12:29.323Z"
   },
   {
    "duration": 16,
    "start_time": "2024-03-20T14:12:29.355Z"
   },
   {
    "duration": 17,
    "start_time": "2024-03-20T14:12:29.372Z"
   },
   {
    "duration": 37,
    "start_time": "2024-03-20T14:12:29.391Z"
   },
   {
    "duration": 15,
    "start_time": "2024-03-20T14:12:29.429Z"
   },
   {
    "duration": 19,
    "start_time": "2024-03-20T14:12:29.446Z"
   },
   {
    "duration": 29,
    "start_time": "2024-03-20T14:12:29.466Z"
   },
   {
    "duration": 25,
    "start_time": "2024-03-20T14:12:29.497Z"
   },
   {
    "duration": 14,
    "start_time": "2024-03-20T14:12:29.523Z"
   },
   {
    "duration": 20,
    "start_time": "2024-03-20T14:12:29.540Z"
   },
   {
    "duration": 16,
    "start_time": "2024-03-20T14:12:29.561Z"
   },
   {
    "duration": 12,
    "start_time": "2024-03-20T14:12:29.578Z"
   },
   {
    "duration": 9,
    "start_time": "2024-03-20T14:12:29.591Z"
   },
   {
    "duration": 15,
    "start_time": "2024-03-20T14:12:29.601Z"
   },
   {
    "duration": 18,
    "start_time": "2024-03-20T14:12:29.617Z"
   },
   {
    "duration": 8,
    "start_time": "2024-03-20T14:12:29.637Z"
   },
   {
    "duration": 54,
    "start_time": "2024-03-20T14:12:29.647Z"
   },
   {
    "duration": 11,
    "start_time": "2024-03-20T14:12:29.702Z"
   },
   {
    "duration": 11,
    "start_time": "2024-03-20T14:12:29.714Z"
   },
   {
    "duration": 10,
    "start_time": "2024-03-20T14:12:29.726Z"
   },
   {
    "duration": 184,
    "start_time": "2024-03-20T14:12:29.738Z"
   },
   {
    "duration": 6,
    "start_time": "2024-03-20T14:12:29.924Z"
   },
   {
    "duration": 224,
    "start_time": "2024-03-20T14:13:15.349Z"
   },
   {
    "duration": 208,
    "start_time": "2024-03-20T14:13:21.469Z"
   },
   {
    "duration": 4,
    "start_time": "2024-03-20T14:14:20.477Z"
   },
   {
    "duration": 5,
    "start_time": "2024-03-20T14:14:27.956Z"
   },
   {
    "duration": 152,
    "start_time": "2024-03-20T14:14:28.404Z"
   },
   {
    "duration": 146,
    "start_time": "2024-03-20T14:14:33.708Z"
   },
   {
    "duration": 186,
    "start_time": "2024-03-20T14:15:08.628Z"
   },
   {
    "duration": 171,
    "start_time": "2024-03-20T14:15:24.758Z"
   },
   {
    "duration": 163,
    "start_time": "2024-03-20T14:15:31.933Z"
   },
   {
    "duration": 165,
    "start_time": "2024-03-20T14:15:40.877Z"
   },
   {
    "duration": 163,
    "start_time": "2024-03-20T14:17:10.451Z"
   },
   {
    "duration": 134,
    "start_time": "2024-03-20T14:17:13.930Z"
   },
   {
    "duration": 162,
    "start_time": "2024-03-20T14:17:17.771Z"
   },
   {
    "duration": 148,
    "start_time": "2024-03-20T14:17:21.874Z"
   },
   {
    "duration": 238,
    "start_time": "2024-03-20T14:17:26.044Z"
   },
   {
    "duration": 1811,
    "start_time": "2024-03-20T14:18:33.562Z"
   },
   {
    "duration": 193,
    "start_time": "2024-03-20T14:19:21.924Z"
   },
   {
    "duration": 202,
    "start_time": "2024-03-20T14:19:35.201Z"
   },
   {
    "duration": 191,
    "start_time": "2024-03-20T14:19:38.738Z"
   },
   {
    "duration": 194,
    "start_time": "2024-03-20T14:19:42.545Z"
   },
   {
    "duration": 202,
    "start_time": "2024-03-20T14:19:47.050Z"
   },
   {
    "duration": 200,
    "start_time": "2024-03-20T14:19:51.009Z"
   },
   {
    "duration": 210,
    "start_time": "2024-03-20T14:19:54.059Z"
   },
   {
    "duration": 7,
    "start_time": "2024-03-20T14:20:04.121Z"
   },
   {
    "duration": 7,
    "start_time": "2024-03-20T14:21:57.307Z"
   },
   {
    "duration": 147,
    "start_time": "2024-03-20T14:23:23.680Z"
   },
   {
    "duration": 102,
    "start_time": "2024-03-20T14:25:54.320Z"
   },
   {
    "duration": 7,
    "start_time": "2024-03-20T14:26:03.096Z"
   },
   {
    "duration": 150,
    "start_time": "2024-03-20T14:26:27.895Z"
   },
   {
    "duration": 407,
    "start_time": "2024-03-20T14:26:39.003Z"
   },
   {
    "duration": 252,
    "start_time": "2024-03-20T14:26:39.412Z"
   },
   {
    "duration": 2,
    "start_time": "2024-03-20T14:26:39.666Z"
   },
   {
    "duration": 55,
    "start_time": "2024-03-20T14:26:39.670Z"
   },
   {
    "duration": 28,
    "start_time": "2024-03-20T14:26:39.727Z"
   },
   {
    "duration": 17,
    "start_time": "2024-03-20T14:26:39.756Z"
   },
   {
    "duration": 12,
    "start_time": "2024-03-20T14:26:39.774Z"
   },
   {
    "duration": 21,
    "start_time": "2024-03-20T14:26:39.787Z"
   },
   {
    "duration": 31,
    "start_time": "2024-03-20T14:26:39.810Z"
   },
   {
    "duration": 20,
    "start_time": "2024-03-20T14:26:39.842Z"
   },
   {
    "duration": 13,
    "start_time": "2024-03-20T14:26:39.864Z"
   },
   {
    "duration": 30,
    "start_time": "2024-03-20T14:26:39.879Z"
   },
   {
    "duration": 23,
    "start_time": "2024-03-20T14:26:39.911Z"
   },
   {
    "duration": 37,
    "start_time": "2024-03-20T14:26:39.938Z"
   },
   {
    "duration": 34,
    "start_time": "2024-03-20T14:26:39.977Z"
   },
   {
    "duration": 29,
    "start_time": "2024-03-20T14:26:40.013Z"
   },
   {
    "duration": 29,
    "start_time": "2024-03-20T14:26:40.044Z"
   },
   {
    "duration": 31,
    "start_time": "2024-03-20T14:26:40.075Z"
   },
   {
    "duration": 12,
    "start_time": "2024-03-20T14:26:40.108Z"
   },
   {
    "duration": 14,
    "start_time": "2024-03-20T14:26:40.121Z"
   },
   {
    "duration": 52,
    "start_time": "2024-03-20T14:26:40.136Z"
   },
   {
    "duration": 11,
    "start_time": "2024-03-20T14:26:40.190Z"
   },
   {
    "duration": 31,
    "start_time": "2024-03-20T14:26:40.203Z"
   },
   {
    "duration": 272,
    "start_time": "2024-03-20T14:26:40.236Z"
   },
   {
    "duration": 7,
    "start_time": "2024-03-20T14:26:40.509Z"
   },
   {
    "duration": 186,
    "start_time": "2024-03-20T14:26:40.517Z"
   },
   {
    "duration": 257,
    "start_time": "2024-03-20T14:26:49.632Z"
   },
   {
    "duration": 214,
    "start_time": "2024-03-20T14:28:46.510Z"
   },
   {
    "duration": 69,
    "start_time": "2024-03-20T14:29:16.079Z"
   },
   {
    "duration": 71,
    "start_time": "2024-03-20T14:29:33.326Z"
   },
   {
    "duration": 174,
    "start_time": "2024-03-20T14:30:56.974Z"
   },
   {
    "duration": 109,
    "start_time": "2024-03-20T14:31:55.046Z"
   },
   {
    "duration": 89,
    "start_time": "2024-03-20T14:32:44.934Z"
   },
   {
    "duration": 88,
    "start_time": "2024-03-20T14:32:54.110Z"
   },
   {
    "duration": 399,
    "start_time": "2024-03-20T14:33:29.049Z"
   },
   {
    "duration": 268,
    "start_time": "2024-03-20T14:33:29.450Z"
   },
   {
    "duration": 2,
    "start_time": "2024-03-20T14:33:29.719Z"
   },
   {
    "duration": 41,
    "start_time": "2024-03-20T14:33:29.723Z"
   },
   {
    "duration": 30,
    "start_time": "2024-03-20T14:33:29.766Z"
   },
   {
    "duration": 16,
    "start_time": "2024-03-20T14:33:29.797Z"
   },
   {
    "duration": 12,
    "start_time": "2024-03-20T14:33:29.814Z"
   },
   {
    "duration": 10,
    "start_time": "2024-03-20T14:33:29.828Z"
   },
   {
    "duration": 15,
    "start_time": "2024-03-20T14:33:29.840Z"
   },
   {
    "duration": 27,
    "start_time": "2024-03-20T14:33:29.857Z"
   },
   {
    "duration": 13,
    "start_time": "2024-03-20T14:33:29.886Z"
   },
   {
    "duration": 12,
    "start_time": "2024-03-20T14:33:29.900Z"
   },
   {
    "duration": 14,
    "start_time": "2024-03-20T14:33:29.914Z"
   },
   {
    "duration": 9,
    "start_time": "2024-03-20T14:33:29.931Z"
   },
   {
    "duration": 17,
    "start_time": "2024-03-20T14:33:29.941Z"
   },
   {
    "duration": 8,
    "start_time": "2024-03-20T14:33:29.960Z"
   },
   {
    "duration": 20,
    "start_time": "2024-03-20T14:33:29.970Z"
   },
   {
    "duration": 15,
    "start_time": "2024-03-20T14:33:29.991Z"
   },
   {
    "duration": 9,
    "start_time": "2024-03-20T14:33:30.008Z"
   },
   {
    "duration": 40,
    "start_time": "2024-03-20T14:33:30.018Z"
   },
   {
    "duration": 90,
    "start_time": "2024-03-20T14:33:30.060Z"
   },
   {
    "duration": 16,
    "start_time": "2024-03-20T14:33:30.152Z"
   },
   {
    "duration": 73,
    "start_time": "2024-03-20T14:33:30.170Z"
   },
   {
    "duration": 297,
    "start_time": "2024-03-20T14:33:30.245Z"
   },
   {
    "duration": 101,
    "start_time": "2024-03-20T14:33:30.544Z"
   },
   {
    "duration": 6,
    "start_time": "2024-03-20T14:34:20.157Z"
   },
   {
    "duration": 185,
    "start_time": "2024-03-20T14:34:41.545Z"
   },
   {
    "duration": 257,
    "start_time": "2024-03-20T14:34:53.478Z"
   },
   {
    "duration": 232,
    "start_time": "2024-03-20T14:34:58.588Z"
   },
   {
    "duration": 2230,
    "start_time": "2024-03-20T14:35:27.533Z"
   },
   {
    "duration": 79,
    "start_time": "2024-03-20T14:36:09.932Z"
   },
   {
    "duration": 7,
    "start_time": "2024-03-20T14:36:29.356Z"
   },
   {
    "duration": 4,
    "start_time": "2024-03-20T14:36:34.037Z"
   },
   {
    "duration": 4,
    "start_time": "2024-03-20T14:36:42.052Z"
   },
   {
    "duration": 4,
    "start_time": "2024-03-20T14:36:48.916Z"
   },
   {
    "duration": 161,
    "start_time": "2024-03-20T14:36:55.245Z"
   },
   {
    "duration": 193,
    "start_time": "2024-03-20T14:37:13.748Z"
   },
   {
    "duration": 174,
    "start_time": "2024-03-20T14:37:23.404Z"
   },
   {
    "duration": 175,
    "start_time": "2024-03-20T14:37:35.086Z"
   },
   {
    "duration": 193,
    "start_time": "2024-03-20T14:38:30.132Z"
   },
   {
    "duration": 186,
    "start_time": "2024-03-20T14:38:47.037Z"
   },
   {
    "duration": 5,
    "start_time": "2024-03-20T14:38:54.227Z"
   },
   {
    "duration": 201,
    "start_time": "2024-03-20T14:39:10.339Z"
   },
   {
    "duration": 174,
    "start_time": "2024-03-20T14:39:43.267Z"
   },
   {
    "duration": 178,
    "start_time": "2024-03-20T14:40:05.163Z"
   },
   {
    "duration": 7,
    "start_time": "2024-03-20T14:40:37.522Z"
   },
   {
    "duration": 4,
    "start_time": "2024-03-20T14:40:45.131Z"
   },
   {
    "duration": 149,
    "start_time": "2024-03-20T14:40:53.763Z"
   },
   {
    "duration": 7,
    "start_time": "2024-03-20T14:41:00.883Z"
   },
   {
    "duration": 270,
    "start_time": "2024-03-20T14:41:38.899Z"
   },
   {
    "duration": 162,
    "start_time": "2024-03-20T14:41:58.594Z"
   },
   {
    "duration": 180,
    "start_time": "2024-03-20T14:42:13.938Z"
   },
   {
    "duration": 181,
    "start_time": "2024-03-20T14:42:45.611Z"
   },
   {
    "duration": 180,
    "start_time": "2024-03-20T14:42:58.395Z"
   },
   {
    "duration": 165,
    "start_time": "2024-03-20T14:43:03.507Z"
   },
   {
    "duration": 181,
    "start_time": "2024-03-20T14:43:07.547Z"
   },
   {
    "duration": 174,
    "start_time": "2024-03-20T14:43:39.315Z"
   },
   {
    "duration": 179,
    "start_time": "2024-03-20T14:43:51.275Z"
   },
   {
    "duration": 192,
    "start_time": "2024-03-20T14:44:38.834Z"
   },
   {
    "duration": 191,
    "start_time": "2024-03-20T14:44:55.410Z"
   },
   {
    "duration": 191,
    "start_time": "2024-03-20T14:45:11.322Z"
   },
   {
    "duration": 4,
    "start_time": "2024-03-20T14:45:51.242Z"
   },
   {
    "duration": 9,
    "start_time": "2024-03-20T14:45:55.809Z"
   },
   {
    "duration": 6,
    "start_time": "2024-03-20T14:46:01.201Z"
   },
   {
    "duration": 10,
    "start_time": "2024-03-20T14:49:03.659Z"
   },
   {
    "duration": 7,
    "start_time": "2024-03-20T14:49:26.817Z"
   },
   {
    "duration": 10,
    "start_time": "2024-03-20T14:49:46.225Z"
   },
   {
    "duration": 12,
    "start_time": "2024-03-20T14:52:44.513Z"
   },
   {
    "duration": 6,
    "start_time": "2024-03-20T14:54:31.083Z"
   },
   {
    "duration": 12,
    "start_time": "2024-03-20T14:55:49.080Z"
   },
   {
    "duration": 10,
    "start_time": "2024-03-20T14:55:56.422Z"
   },
   {
    "duration": 13,
    "start_time": "2024-03-20T14:56:01.200Z"
   },
   {
    "duration": 12,
    "start_time": "2024-03-20T14:56:38.616Z"
   },
   {
    "duration": 11,
    "start_time": "2024-03-20T14:56:50.400Z"
   },
   {
    "duration": 16,
    "start_time": "2024-03-20T14:56:57.705Z"
   },
   {
    "duration": 12,
    "start_time": "2024-03-20T14:57:04.960Z"
   },
   {
    "duration": 20,
    "start_time": "2024-03-20T14:57:23.752Z"
   },
   {
    "duration": 147,
    "start_time": "2024-03-20T14:58:46.553Z"
   },
   {
    "duration": 410,
    "start_time": "2024-03-20T14:58:53.825Z"
   },
   {
    "duration": 1553,
    "start_time": "2024-03-20T14:58:57.256Z"
   },
   {
    "duration": 1660,
    "start_time": "2024-03-20T14:59:17.184Z"
   },
   {
    "duration": 1704,
    "start_time": "2024-03-20T14:59:30.976Z"
   },
   {
    "duration": 365,
    "start_time": "2024-03-20T15:01:11.753Z"
   },
   {
    "duration": 349,
    "start_time": "2024-03-20T15:01:39.025Z"
   },
   {
    "duration": 11,
    "start_time": "2024-03-20T15:01:51.829Z"
   },
   {
    "duration": 11,
    "start_time": "2024-03-20T15:02:39.864Z"
   },
   {
    "duration": 11,
    "start_time": "2024-03-20T15:02:50.256Z"
   },
   {
    "duration": 14,
    "start_time": "2024-03-20T15:02:59.521Z"
   },
   {
    "duration": 17,
    "start_time": "2024-03-20T15:03:04.392Z"
   },
   {
    "duration": 12,
    "start_time": "2024-03-20T15:03:17.560Z"
   },
   {
    "duration": 6,
    "start_time": "2024-03-20T15:07:04.690Z"
   },
   {
    "duration": 150,
    "start_time": "2024-03-20T15:07:08.711Z"
   },
   {
    "duration": 152,
    "start_time": "2024-03-20T15:07:20.953Z"
   },
   {
    "duration": 175,
    "start_time": "2024-03-20T15:07:24.103Z"
   },
   {
    "duration": 185,
    "start_time": "2024-03-20T15:07:27.296Z"
   },
   {
    "duration": 208,
    "start_time": "2024-03-20T15:07:30.881Z"
   },
   {
    "duration": 219,
    "start_time": "2024-03-20T15:07:41.927Z"
   },
   {
    "duration": 237,
    "start_time": "2024-03-20T15:13:49.776Z"
   },
   {
    "duration": 14,
    "start_time": "2024-03-20T15:26:53.403Z"
   },
   {
    "duration": 30,
    "start_time": "2024-03-20T15:26:56.906Z"
   },
   {
    "duration": 9,
    "start_time": "2024-03-20T15:27:14.506Z"
   },
   {
    "duration": 26,
    "start_time": "2024-03-20T15:27:20.659Z"
   },
   {
    "duration": 11,
    "start_time": "2024-03-20T15:28:06.667Z"
   },
   {
    "duration": 43,
    "start_time": "2024-03-20T15:28:11.579Z"
   },
   {
    "duration": 109,
    "start_time": "2024-03-20T15:28:39.891Z"
   },
   {
    "duration": 14,
    "start_time": "2024-03-20T15:29:38.106Z"
   },
   {
    "duration": 31,
    "start_time": "2024-03-20T15:29:39.931Z"
   },
   {
    "duration": 29,
    "start_time": "2024-03-20T15:29:54.025Z"
   },
   {
    "duration": 30,
    "start_time": "2024-03-20T15:30:25.449Z"
   },
   {
    "duration": 31,
    "start_time": "2024-03-20T15:30:30.835Z"
   },
   {
    "duration": 32,
    "start_time": "2024-03-20T15:30:32.361Z"
   },
   {
    "duration": 49,
    "start_time": "2024-03-20T15:30:55.256Z"
   },
   {
    "duration": 32,
    "start_time": "2024-03-20T15:30:58.520Z"
   },
   {
    "duration": 40,
    "start_time": "2024-03-20T15:31:21.953Z"
   },
   {
    "duration": 58,
    "start_time": "2024-03-20T15:31:34.121Z"
   },
   {
    "duration": 8,
    "start_time": "2024-03-20T15:31:48.145Z"
   },
   {
    "duration": 26,
    "start_time": "2024-03-20T15:31:59.272Z"
   },
   {
    "duration": 429,
    "start_time": "2024-03-20T15:33:06.319Z"
   },
   {
    "duration": 287,
    "start_time": "2024-03-20T15:33:06.751Z"
   },
   {
    "duration": 3,
    "start_time": "2024-03-20T15:33:07.040Z"
   },
   {
    "duration": 37,
    "start_time": "2024-03-20T15:33:07.045Z"
   },
   {
    "duration": 30,
    "start_time": "2024-03-20T15:33:07.085Z"
   },
   {
    "duration": 16,
    "start_time": "2024-03-20T15:33:07.117Z"
   },
   {
    "duration": 14,
    "start_time": "2024-03-20T15:33:07.135Z"
   },
   {
    "duration": 14,
    "start_time": "2024-03-20T15:33:07.151Z"
   },
   {
    "duration": 19,
    "start_time": "2024-03-20T15:33:07.167Z"
   },
   {
    "duration": 17,
    "start_time": "2024-03-20T15:33:07.188Z"
   },
   {
    "duration": 9,
    "start_time": "2024-03-20T15:33:07.207Z"
   },
   {
    "duration": 19,
    "start_time": "2024-03-20T15:33:07.218Z"
   },
   {
    "duration": 21,
    "start_time": "2024-03-20T15:33:07.239Z"
   },
   {
    "duration": 10,
    "start_time": "2024-03-20T15:33:07.264Z"
   },
   {
    "duration": 18,
    "start_time": "2024-03-20T15:33:07.288Z"
   },
   {
    "duration": 17,
    "start_time": "2024-03-20T15:33:07.308Z"
   },
   {
    "duration": 16,
    "start_time": "2024-03-20T15:33:07.327Z"
   },
   {
    "duration": 14,
    "start_time": "2024-03-20T15:33:07.345Z"
   },
   {
    "duration": 27,
    "start_time": "2024-03-20T15:33:07.361Z"
   },
   {
    "duration": 6,
    "start_time": "2024-03-20T15:33:07.390Z"
   },
   {
    "duration": 57,
    "start_time": "2024-03-20T15:33:07.397Z"
   },
   {
    "duration": 12,
    "start_time": "2024-03-20T15:33:07.456Z"
   },
   {
    "duration": 28,
    "start_time": "2024-03-20T15:33:07.487Z"
   },
   {
    "duration": 236,
    "start_time": "2024-03-20T15:33:07.517Z"
   },
   {
    "duration": 97,
    "start_time": "2024-03-20T15:33:07.755Z"
   },
   {
    "duration": 8,
    "start_time": "2024-03-20T15:33:07.855Z"
   },
   {
    "duration": 289,
    "start_time": "2024-03-20T15:33:07.865Z"
   },
   {
    "duration": 381,
    "start_time": "2024-03-20T15:33:08.156Z"
   },
   {
    "duration": 257,
    "start_time": "2024-03-20T15:33:08.538Z"
   },
   {
    "duration": 25,
    "start_time": "2024-03-20T15:33:08.799Z"
   },
   {
    "duration": 24,
    "start_time": "2024-03-20T15:33:08.826Z"
   },
   {
    "duration": 36,
    "start_time": "2024-03-20T15:33:08.852Z"
   },
   {
    "duration": 415,
    "start_time": "2024-03-20T15:36:11.950Z"
   },
   {
    "duration": 272,
    "start_time": "2024-03-20T15:36:12.367Z"
   },
   {
    "duration": 3,
    "start_time": "2024-03-20T15:36:12.640Z"
   },
   {
    "duration": 33,
    "start_time": "2024-03-20T15:36:12.644Z"
   },
   {
    "duration": 31,
    "start_time": "2024-03-20T15:36:12.679Z"
   },
   {
    "duration": 16,
    "start_time": "2024-03-20T15:36:12.712Z"
   },
   {
    "duration": 12,
    "start_time": "2024-03-20T15:36:12.730Z"
   },
   {
    "duration": 12,
    "start_time": "2024-03-20T15:36:12.743Z"
   },
   {
    "duration": 9,
    "start_time": "2024-03-20T15:36:12.756Z"
   },
   {
    "duration": 21,
    "start_time": "2024-03-20T15:36:12.767Z"
   },
   {
    "duration": 7,
    "start_time": "2024-03-20T15:36:12.790Z"
   },
   {
    "duration": 14,
    "start_time": "2024-03-20T15:36:12.799Z"
   },
   {
    "duration": 8,
    "start_time": "2024-03-20T15:36:12.814Z"
   },
   {
    "duration": 10,
    "start_time": "2024-03-20T15:36:12.824Z"
   },
   {
    "duration": 14,
    "start_time": "2024-03-20T15:36:12.836Z"
   },
   {
    "duration": 42,
    "start_time": "2024-03-20T15:36:12.851Z"
   },
   {
    "duration": 6,
    "start_time": "2024-03-20T15:36:12.894Z"
   },
   {
    "duration": 16,
    "start_time": "2024-03-20T15:36:12.901Z"
   },
   {
    "duration": 8,
    "start_time": "2024-03-20T15:36:12.919Z"
   },
   {
    "duration": 6,
    "start_time": "2024-03-20T15:36:12.928Z"
   },
   {
    "duration": 77,
    "start_time": "2024-03-20T15:36:12.936Z"
   },
   {
    "duration": 11,
    "start_time": "2024-03-20T15:36:13.015Z"
   },
   {
    "duration": 17,
    "start_time": "2024-03-20T15:36:13.027Z"
   },
   {
    "duration": 256,
    "start_time": "2024-03-20T15:36:13.046Z"
   },
   {
    "duration": 98,
    "start_time": "2024-03-20T15:36:13.303Z"
   },
   {
    "duration": 6,
    "start_time": "2024-03-20T15:36:13.402Z"
   },
   {
    "duration": 272,
    "start_time": "2024-03-20T15:36:13.409Z"
   },
   {
    "duration": 334,
    "start_time": "2024-03-20T15:36:13.682Z"
   },
   {
    "duration": 234,
    "start_time": "2024-03-20T15:36:14.017Z"
   },
   {
    "duration": 43,
    "start_time": "2024-03-20T15:36:14.253Z"
   },
   {
    "duration": 14,
    "start_time": "2024-03-20T15:36:14.297Z"
   },
   {
    "duration": 429,
    "start_time": "2024-03-21T09:08:14.071Z"
   },
   {
    "duration": 450,
    "start_time": "2024-03-21T09:08:14.502Z"
   },
   {
    "duration": 3,
    "start_time": "2024-03-21T09:08:14.954Z"
   },
   {
    "duration": 103,
    "start_time": "2024-03-21T09:08:14.959Z"
   },
   {
    "duration": 160,
    "start_time": "2024-03-21T09:08:15.064Z"
   },
   {
    "duration": 55,
    "start_time": "2024-03-21T09:08:15.226Z"
   },
   {
    "duration": 68,
    "start_time": "2024-03-21T09:08:15.283Z"
   },
   {
    "duration": 98,
    "start_time": "2024-03-21T09:08:15.352Z"
   },
   {
    "duration": 69,
    "start_time": "2024-03-21T09:08:15.452Z"
   },
   {
    "duration": 41,
    "start_time": "2024-03-21T09:08:15.524Z"
   },
   {
    "duration": 8,
    "start_time": "2024-03-21T09:08:15.567Z"
   },
   {
    "duration": 34,
    "start_time": "2024-03-21T09:08:15.576Z"
   },
   {
    "duration": 41,
    "start_time": "2024-03-21T09:08:15.612Z"
   },
   {
    "duration": 31,
    "start_time": "2024-03-21T09:08:15.655Z"
   },
   {
    "duration": 26,
    "start_time": "2024-03-21T09:08:15.688Z"
   },
   {
    "duration": 58,
    "start_time": "2024-03-21T09:08:15.715Z"
   },
   {
    "duration": 30,
    "start_time": "2024-03-21T09:08:15.774Z"
   },
   {
    "duration": 30,
    "start_time": "2024-03-21T09:08:15.806Z"
   },
   {
    "duration": 27,
    "start_time": "2024-03-21T09:08:15.837Z"
   },
   {
    "duration": 47,
    "start_time": "2024-03-21T09:08:15.865Z"
   },
   {
    "duration": 96,
    "start_time": "2024-03-21T09:08:15.913Z"
   },
   {
    "duration": 12,
    "start_time": "2024-03-21T09:08:16.010Z"
   },
   {
    "duration": 10,
    "start_time": "2024-03-21T09:08:16.024Z"
   },
   {
    "duration": 241,
    "start_time": "2024-03-21T09:08:16.035Z"
   },
   {
    "duration": 90,
    "start_time": "2024-03-21T09:08:16.279Z"
   },
   {
    "duration": 6,
    "start_time": "2024-03-21T09:08:16.380Z"
   },
   {
    "duration": 277,
    "start_time": "2024-03-21T09:08:16.388Z"
   },
   {
    "duration": 351,
    "start_time": "2024-03-21T09:08:16.669Z"
   },
   {
    "duration": 238,
    "start_time": "2024-03-21T09:08:17.022Z"
   },
   {
    "duration": 40,
    "start_time": "2024-03-21T09:08:17.261Z"
   },
   {
    "duration": 18,
    "start_time": "2024-03-21T09:08:17.303Z"
   },
   {
    "duration": 7,
    "start_time": "2024-03-21T09:09:15.114Z"
   },
   {
    "duration": 13,
    "start_time": "2024-03-21T09:09:21.154Z"
   },
   {
    "duration": 8,
    "start_time": "2024-03-21T09:11:14.217Z"
   },
   {
    "duration": 5,
    "start_time": "2024-03-21T09:11:15.985Z"
   },
   {
    "duration": 19,
    "start_time": "2024-03-21T09:11:22.297Z"
   },
   {
    "duration": 28,
    "start_time": "2024-03-21T09:11:39.376Z"
   },
   {
    "duration": 26,
    "start_time": "2024-03-21T09:11:59.217Z"
   },
   {
    "duration": 4,
    "start_time": "2024-03-21T09:12:32.169Z"
   },
   {
    "duration": 4,
    "start_time": "2024-03-21T09:12:52.769Z"
   },
   {
    "duration": 4,
    "start_time": "2024-03-21T09:12:55.361Z"
   },
   {
    "duration": 4,
    "start_time": "2024-03-21T09:13:07.936Z"
   },
   {
    "duration": 3,
    "start_time": "2024-03-21T09:13:26.273Z"
   },
   {
    "duration": 136,
    "start_time": "2024-03-21T09:15:49.040Z"
   },
   {
    "duration": 133,
    "start_time": "2024-03-21T09:16:22.688Z"
   },
   {
    "duration": 168,
    "start_time": "2024-03-21T09:16:31.534Z"
   },
   {
    "duration": 178,
    "start_time": "2024-03-21T09:16:35.128Z"
   },
   {
    "duration": 194,
    "start_time": "2024-03-21T09:16:53.072Z"
   },
   {
    "duration": 232,
    "start_time": "2024-03-21T09:17:02.897Z"
   },
   {
    "duration": 323,
    "start_time": "2024-03-21T09:17:11.873Z"
   },
   {
    "duration": 220,
    "start_time": "2024-03-21T09:18:34.872Z"
   },
   {
    "duration": 220,
    "start_time": "2024-03-21T09:18:51.408Z"
   },
   {
    "duration": 222,
    "start_time": "2024-03-21T09:19:10.744Z"
   },
   {
    "duration": 219,
    "start_time": "2024-03-21T09:19:19.680Z"
   },
   {
    "duration": 224,
    "start_time": "2024-03-21T09:19:57.032Z"
   },
   {
    "duration": 212,
    "start_time": "2024-03-21T09:19:58.768Z"
   },
   {
    "duration": 219,
    "start_time": "2024-03-21T09:23:26.776Z"
   },
   {
    "duration": 20,
    "start_time": "2024-03-21T09:35:44.219Z"
   },
   {
    "duration": 11,
    "start_time": "2024-03-21T09:37:52.618Z"
   },
   {
    "duration": 11,
    "start_time": "2024-03-21T09:37:57.322Z"
   },
   {
    "duration": 127,
    "start_time": "2024-03-21T09:38:54.914Z"
   },
   {
    "duration": 13,
    "start_time": "2024-03-21T09:38:58.586Z"
   },
   {
    "duration": 19,
    "start_time": "2024-03-21T09:39:00.490Z"
   },
   {
    "duration": 18,
    "start_time": "2024-03-21T09:39:29.969Z"
   },
   {
    "duration": 107,
    "start_time": "2024-03-21T09:39:31.753Z"
   },
   {
    "duration": 11,
    "start_time": "2024-03-21T09:39:59.570Z"
   },
   {
    "duration": 13,
    "start_time": "2024-03-21T09:40:03.840Z"
   },
   {
    "duration": 79,
    "start_time": "2024-03-21T09:42:02.952Z"
   },
   {
    "duration": 122,
    "start_time": "2024-03-21T09:46:37.551Z"
   },
   {
    "duration": 3,
    "start_time": "2024-03-21T09:47:32.846Z"
   },
   {
    "duration": 14,
    "start_time": "2024-03-21T09:47:35.854Z"
   },
   {
    "duration": 398,
    "start_time": "2024-03-21T09:51:11.607Z"
   },
   {
    "duration": 275,
    "start_time": "2024-03-21T09:51:12.006Z"
   },
   {
    "duration": 3,
    "start_time": "2024-03-21T09:51:12.282Z"
   },
   {
    "duration": 39,
    "start_time": "2024-03-21T09:51:12.286Z"
   },
   {
    "duration": 30,
    "start_time": "2024-03-21T09:51:12.327Z"
   },
   {
    "duration": 15,
    "start_time": "2024-03-21T09:51:12.359Z"
   },
   {
    "duration": 20,
    "start_time": "2024-03-21T09:51:12.376Z"
   },
   {
    "duration": 14,
    "start_time": "2024-03-21T09:51:12.398Z"
   },
   {
    "duration": 31,
    "start_time": "2024-03-21T09:51:12.413Z"
   },
   {
    "duration": 12,
    "start_time": "2024-03-21T09:51:12.446Z"
   },
   {
    "duration": 13,
    "start_time": "2024-03-21T09:51:12.460Z"
   },
   {
    "duration": 23,
    "start_time": "2024-03-21T09:51:12.474Z"
   },
   {
    "duration": 28,
    "start_time": "2024-03-21T09:51:12.499Z"
   },
   {
    "duration": 17,
    "start_time": "2024-03-21T09:51:12.531Z"
   },
   {
    "duration": 21,
    "start_time": "2024-03-21T09:51:12.550Z"
   },
   {
    "duration": 13,
    "start_time": "2024-03-21T09:51:12.573Z"
   },
   {
    "duration": 16,
    "start_time": "2024-03-21T09:51:12.587Z"
   },
   {
    "duration": 17,
    "start_time": "2024-03-21T09:51:12.604Z"
   },
   {
    "duration": 21,
    "start_time": "2024-03-21T09:51:12.622Z"
   },
   {
    "duration": 9,
    "start_time": "2024-03-21T09:51:12.645Z"
   },
   {
    "duration": 73,
    "start_time": "2024-03-21T09:51:12.655Z"
   },
   {
    "duration": 12,
    "start_time": "2024-03-21T09:51:12.730Z"
   },
   {
    "duration": 40,
    "start_time": "2024-03-21T09:51:12.744Z"
   },
   {
    "duration": 241,
    "start_time": "2024-03-21T09:51:12.785Z"
   },
   {
    "duration": 112,
    "start_time": "2024-03-21T09:51:13.027Z"
   },
   {
    "duration": 8,
    "start_time": "2024-03-21T09:51:13.141Z"
   },
   {
    "duration": 256,
    "start_time": "2024-03-21T09:51:13.151Z"
   },
   {
    "duration": 324,
    "start_time": "2024-03-21T09:51:13.410Z"
   },
   {
    "duration": 238,
    "start_time": "2024-03-21T09:51:13.736Z"
   },
   {
    "duration": 35,
    "start_time": "2024-03-21T09:51:13.976Z"
   },
   {
    "duration": 15,
    "start_time": "2024-03-21T09:51:14.014Z"
   },
   {
    "duration": 8,
    "start_time": "2024-03-21T09:51:14.031Z"
   },
   {
    "duration": 47,
    "start_time": "2024-03-21T09:51:14.041Z"
   },
   {
    "duration": 6,
    "start_time": "2024-03-21T09:51:14.090Z"
   },
   {
    "duration": 20,
    "start_time": "2024-03-21T09:51:14.098Z"
   },
   {
    "duration": 4,
    "start_time": "2024-03-21T09:51:14.120Z"
   },
   {
    "duration": 254,
    "start_time": "2024-03-21T09:51:14.126Z"
   },
   {
    "duration": 236,
    "start_time": "2024-03-21T09:51:14.382Z"
   },
   {
    "duration": 244,
    "start_time": "2024-03-21T09:51:14.620Z"
   },
   {
    "duration": 239,
    "start_time": "2024-03-21T09:51:14.866Z"
   },
   {
    "duration": 19,
    "start_time": "2024-03-21T09:51:15.108Z"
   },
   {
    "duration": 65,
    "start_time": "2024-03-21T09:51:15.128Z"
   },
   {
    "duration": 39,
    "start_time": "2024-03-21T09:51:15.195Z"
   },
   {
    "duration": 57,
    "start_time": "2024-03-21T09:51:15.236Z"
   },
   {
    "duration": 75,
    "start_time": "2024-03-21T09:59:27.803Z"
   },
   {
    "duration": 3,
    "start_time": "2024-03-21T09:59:35.427Z"
   },
   {
    "duration": 19,
    "start_time": "2024-03-21T09:59:38.347Z"
   },
   {
    "duration": 20,
    "start_time": "2024-03-21T09:59:49.940Z"
   },
   {
    "duration": 20,
    "start_time": "2024-03-21T09:59:55.667Z"
   },
   {
    "duration": 4,
    "start_time": "2024-03-21T09:59:56.499Z"
   },
   {
    "duration": 15,
    "start_time": "2024-03-21T09:59:56.787Z"
   },
   {
    "duration": 3,
    "start_time": "2024-03-21T10:00:00.403Z"
   },
   {
    "duration": 19,
    "start_time": "2024-03-21T10:00:01.051Z"
   },
   {
    "duration": 36,
    "start_time": "2024-03-21T10:03:53.427Z"
   },
   {
    "duration": 44,
    "start_time": "2024-03-21T10:03:58.572Z"
   },
   {
    "duration": 14,
    "start_time": "2024-03-21T10:04:31.777Z"
   },
   {
    "duration": 12,
    "start_time": "2024-03-21T10:04:39.810Z"
   },
   {
    "duration": 31,
    "start_time": "2024-03-21T10:05:48.474Z"
   },
   {
    "duration": 15,
    "start_time": "2024-03-21T10:06:16.946Z"
   },
   {
    "duration": 388,
    "start_time": "2024-03-21T10:06:22.318Z"
   },
   {
    "duration": 257,
    "start_time": "2024-03-21T10:06:22.708Z"
   },
   {
    "duration": 3,
    "start_time": "2024-03-21T10:06:22.967Z"
   },
   {
    "duration": 30,
    "start_time": "2024-03-21T10:06:22.979Z"
   },
   {
    "duration": 29,
    "start_time": "2024-03-21T10:06:23.011Z"
   },
   {
    "duration": 15,
    "start_time": "2024-03-21T10:06:23.042Z"
   },
   {
    "duration": 11,
    "start_time": "2024-03-21T10:06:23.059Z"
   },
   {
    "duration": 12,
    "start_time": "2024-03-21T10:06:23.071Z"
   },
   {
    "duration": 10,
    "start_time": "2024-03-21T10:06:23.085Z"
   },
   {
    "duration": 14,
    "start_time": "2024-03-21T10:06:23.097Z"
   },
   {
    "duration": 7,
    "start_time": "2024-03-21T10:06:23.113Z"
   },
   {
    "duration": 25,
    "start_time": "2024-03-21T10:06:23.121Z"
   },
   {
    "duration": 8,
    "start_time": "2024-03-21T10:06:23.148Z"
   },
   {
    "duration": 23,
    "start_time": "2024-03-21T10:06:23.157Z"
   },
   {
    "duration": 17,
    "start_time": "2024-03-21T10:06:23.182Z"
   },
   {
    "duration": 11,
    "start_time": "2024-03-21T10:06:23.200Z"
   },
   {
    "duration": 7,
    "start_time": "2024-03-21T10:06:23.213Z"
   },
   {
    "duration": 14,
    "start_time": "2024-03-21T10:06:23.222Z"
   },
   {
    "duration": 43,
    "start_time": "2024-03-21T10:06:23.238Z"
   },
   {
    "duration": 5,
    "start_time": "2024-03-21T10:06:23.283Z"
   },
   {
    "duration": 68,
    "start_time": "2024-03-21T10:06:23.289Z"
   },
   {
    "duration": 12,
    "start_time": "2024-03-21T10:06:23.358Z"
   },
   {
    "duration": 21,
    "start_time": "2024-03-21T10:06:23.371Z"
   },
   {
    "duration": 252,
    "start_time": "2024-03-21T10:06:23.395Z"
   },
   {
    "duration": 97,
    "start_time": "2024-03-21T10:06:23.649Z"
   },
   {
    "duration": 6,
    "start_time": "2024-03-21T10:06:23.748Z"
   },
   {
    "duration": 262,
    "start_time": "2024-03-21T10:06:23.755Z"
   },
   {
    "duration": 335,
    "start_time": "2024-03-21T10:06:24.021Z"
   },
   {
    "duration": 246,
    "start_time": "2024-03-21T10:06:24.358Z"
   },
   {
    "duration": 42,
    "start_time": "2024-03-21T10:06:24.605Z"
   },
   {
    "duration": 32,
    "start_time": "2024-03-21T10:06:24.649Z"
   },
   {
    "duration": 29,
    "start_time": "2024-03-21T10:06:24.683Z"
   },
   {
    "duration": 13,
    "start_time": "2024-03-21T10:06:24.714Z"
   },
   {
    "duration": 5,
    "start_time": "2024-03-21T10:06:24.728Z"
   },
   {
    "duration": 47,
    "start_time": "2024-03-21T10:06:24.734Z"
   },
   {
    "duration": 6,
    "start_time": "2024-03-21T10:06:24.782Z"
   },
   {
    "duration": 22,
    "start_time": "2024-03-21T10:06:24.790Z"
   },
   {
    "duration": 3,
    "start_time": "2024-03-21T10:06:24.814Z"
   },
   {
    "duration": 280,
    "start_time": "2024-03-21T10:06:24.818Z"
   },
   {
    "duration": 222,
    "start_time": "2024-03-21T10:06:25.100Z"
   },
   {
    "duration": 225,
    "start_time": "2024-03-21T10:06:25.324Z"
   },
   {
    "duration": 238,
    "start_time": "2024-03-21T10:06:25.550Z"
   },
   {
    "duration": 18,
    "start_time": "2024-03-21T10:06:25.790Z"
   },
   {
    "duration": 22,
    "start_time": "2024-03-21T10:06:25.809Z"
   },
   {
    "duration": 3,
    "start_time": "2024-03-21T10:06:25.833Z"
   },
   {
    "duration": 18,
    "start_time": "2024-03-21T10:06:25.837Z"
   },
   {
    "duration": 3,
    "start_time": "2024-03-21T10:06:25.857Z"
   },
   {
    "duration": 15,
    "start_time": "2024-03-21T10:06:25.879Z"
   },
   {
    "duration": 3,
    "start_time": "2024-03-21T10:06:48.553Z"
   },
   {
    "duration": 15,
    "start_time": "2024-03-21T10:07:06.655Z"
   },
   {
    "duration": 30,
    "start_time": "2024-03-21T10:07:06.944Z"
   },
   {
    "duration": 14,
    "start_time": "2024-03-21T10:07:08.633Z"
   },
   {
    "duration": 5,
    "start_time": "2024-03-21T10:07:10.393Z"
   },
   {
    "duration": 19,
    "start_time": "2024-03-21T10:07:11.585Z"
   },
   {
    "duration": 6,
    "start_time": "2024-03-21T10:07:12.817Z"
   },
   {
    "duration": 18,
    "start_time": "2024-03-21T10:07:13.441Z"
   },
   {
    "duration": 3,
    "start_time": "2024-03-21T10:07:14.713Z"
   },
   {
    "duration": 41,
    "start_time": "2024-03-21T10:07:29.417Z"
   },
   {
    "duration": 15,
    "start_time": "2024-03-21T10:07:39.017Z"
   },
   {
    "duration": 15,
    "start_time": "2024-03-21T10:07:45.289Z"
   },
   {
    "duration": 425,
    "start_time": "2024-03-21T10:07:55.772Z"
   },
   {
    "duration": 272,
    "start_time": "2024-03-21T10:07:56.199Z"
   },
   {
    "duration": 3,
    "start_time": "2024-03-21T10:07:56.472Z"
   },
   {
    "duration": 33,
    "start_time": "2024-03-21T10:07:56.479Z"
   },
   {
    "duration": 30,
    "start_time": "2024-03-21T10:07:56.515Z"
   },
   {
    "duration": 16,
    "start_time": "2024-03-21T10:07:56.546Z"
   },
   {
    "duration": 19,
    "start_time": "2024-03-21T10:07:56.564Z"
   },
   {
    "duration": 11,
    "start_time": "2024-03-21T10:07:56.585Z"
   },
   {
    "duration": 27,
    "start_time": "2024-03-21T10:07:56.598Z"
   },
   {
    "duration": 52,
    "start_time": "2024-03-21T10:07:56.626Z"
   },
   {
    "duration": 10,
    "start_time": "2024-03-21T10:07:56.680Z"
   },
   {
    "duration": 33,
    "start_time": "2024-03-21T10:07:56.692Z"
   },
   {
    "duration": 25,
    "start_time": "2024-03-21T10:07:56.727Z"
   },
   {
    "duration": 15,
    "start_time": "2024-03-21T10:07:56.755Z"
   },
   {
    "duration": 32,
    "start_time": "2024-03-21T10:07:56.771Z"
   },
   {
    "duration": 26,
    "start_time": "2024-03-21T10:07:56.805Z"
   },
   {
    "duration": 12,
    "start_time": "2024-03-21T10:07:56.832Z"
   },
   {
    "duration": 13,
    "start_time": "2024-03-21T10:07:56.845Z"
   },
   {
    "duration": 7,
    "start_time": "2024-03-21T10:07:56.860Z"
   },
   {
    "duration": 6,
    "start_time": "2024-03-21T10:07:56.869Z"
   },
   {
    "duration": 72,
    "start_time": "2024-03-21T10:07:56.876Z"
   },
   {
    "duration": 11,
    "start_time": "2024-03-21T10:07:56.949Z"
   },
   {
    "duration": 11,
    "start_time": "2024-03-21T10:07:56.962Z"
   },
   {
    "duration": 220,
    "start_time": "2024-03-21T10:07:56.975Z"
   },
   {
    "duration": 110,
    "start_time": "2024-03-21T10:07:57.197Z"
   },
   {
    "duration": 14,
    "start_time": "2024-03-21T10:07:57.310Z"
   },
   {
    "duration": 256,
    "start_time": "2024-03-21T10:07:57.327Z"
   },
   {
    "duration": 329,
    "start_time": "2024-03-21T10:07:57.584Z"
   },
   {
    "duration": 236,
    "start_time": "2024-03-21T10:07:57.914Z"
   },
   {
    "duration": 38,
    "start_time": "2024-03-21T10:07:58.151Z"
   },
   {
    "duration": 14,
    "start_time": "2024-03-21T10:07:58.191Z"
   },
   {
    "duration": 20,
    "start_time": "2024-03-21T10:07:58.207Z"
   },
   {
    "duration": 13,
    "start_time": "2024-03-21T10:07:58.228Z"
   },
   {
    "duration": 5,
    "start_time": "2024-03-21T10:07:58.243Z"
   },
   {
    "duration": 39,
    "start_time": "2024-03-21T10:07:58.249Z"
   },
   {
    "duration": 5,
    "start_time": "2024-03-21T10:07:58.290Z"
   },
   {
    "duration": 30,
    "start_time": "2024-03-21T10:07:58.296Z"
   },
   {
    "duration": 4,
    "start_time": "2024-03-21T10:07:58.327Z"
   },
   {
    "duration": 250,
    "start_time": "2024-03-21T10:07:58.332Z"
   },
   {
    "duration": 245,
    "start_time": "2024-03-21T10:07:58.583Z"
   },
   {
    "duration": 235,
    "start_time": "2024-03-21T10:07:58.832Z"
   },
   {
    "duration": 249,
    "start_time": "2024-03-21T10:07:59.069Z"
   },
   {
    "duration": 19,
    "start_time": "2024-03-21T10:07:59.319Z"
   },
   {
    "duration": 15,
    "start_time": "2024-03-21T10:07:59.339Z"
   },
   {
    "duration": 3,
    "start_time": "2024-03-21T10:07:59.356Z"
   },
   {
    "duration": 14,
    "start_time": "2024-03-21T10:07:59.380Z"
   },
   {
    "duration": 4,
    "start_time": "2024-03-21T10:07:59.395Z"
   },
   {
    "duration": 27,
    "start_time": "2024-03-21T10:07:59.400Z"
   },
   {
    "duration": 15,
    "start_time": "2024-03-21T10:08:23.633Z"
   },
   {
    "duration": 419,
    "start_time": "2024-03-21T10:08:29.046Z"
   },
   {
    "duration": 270,
    "start_time": "2024-03-21T10:08:29.467Z"
   },
   {
    "duration": 3,
    "start_time": "2024-03-21T10:08:29.738Z"
   },
   {
    "duration": 42,
    "start_time": "2024-03-21T10:08:29.742Z"
   },
   {
    "duration": 30,
    "start_time": "2024-03-21T10:08:29.786Z"
   },
   {
    "duration": 16,
    "start_time": "2024-03-21T10:08:29.817Z"
   },
   {
    "duration": 13,
    "start_time": "2024-03-21T10:08:29.834Z"
   },
   {
    "duration": 15,
    "start_time": "2024-03-21T10:08:29.849Z"
   },
   {
    "duration": 27,
    "start_time": "2024-03-21T10:08:29.866Z"
   },
   {
    "duration": 18,
    "start_time": "2024-03-21T10:08:29.895Z"
   },
   {
    "duration": 12,
    "start_time": "2024-03-21T10:08:29.915Z"
   },
   {
    "duration": 33,
    "start_time": "2024-03-21T10:08:29.929Z"
   },
   {
    "duration": 18,
    "start_time": "2024-03-21T10:08:29.964Z"
   },
   {
    "duration": 28,
    "start_time": "2024-03-21T10:08:29.986Z"
   },
   {
    "duration": 79,
    "start_time": "2024-03-21T10:08:30.016Z"
   },
   {
    "duration": 98,
    "start_time": "2024-03-21T10:08:30.098Z"
   },
   {
    "duration": 136,
    "start_time": "2024-03-21T10:08:30.197Z"
   },
   {
    "duration": 153,
    "start_time": "2024-03-21T10:08:30.335Z"
   },
   {
    "duration": 239,
    "start_time": "2024-03-21T10:08:30.490Z"
   },
   {
    "duration": 187,
    "start_time": "2024-03-21T10:08:30.730Z"
   },
   {
    "duration": 127,
    "start_time": "2024-03-21T10:08:30.920Z"
   },
   {
    "duration": 52,
    "start_time": "2024-03-21T10:08:31.049Z"
   },
   {
    "duration": 57,
    "start_time": "2024-03-21T10:08:31.102Z"
   },
   {
    "duration": 290,
    "start_time": "2024-03-21T10:08:31.160Z"
   },
   {
    "duration": 95,
    "start_time": "2024-03-21T10:08:31.451Z"
   },
   {
    "duration": 5,
    "start_time": "2024-03-21T10:08:31.548Z"
   },
   {
    "duration": 333,
    "start_time": "2024-03-21T10:08:31.555Z"
   },
   {
    "duration": 343,
    "start_time": "2024-03-21T10:08:31.890Z"
   },
   {
    "duration": 237,
    "start_time": "2024-03-21T10:08:32.234Z"
   },
   {
    "duration": 39,
    "start_time": "2024-03-21T10:08:32.473Z"
   },
   {
    "duration": 15,
    "start_time": "2024-03-21T10:08:32.514Z"
   },
   {
    "duration": 30,
    "start_time": "2024-03-21T10:08:32.531Z"
   },
   {
    "duration": 26,
    "start_time": "2024-03-21T10:08:32.562Z"
   },
   {
    "duration": 5,
    "start_time": "2024-03-21T10:08:32.590Z"
   },
   {
    "duration": 20,
    "start_time": "2024-03-21T10:08:32.596Z"
   },
   {
    "duration": 7,
    "start_time": "2024-03-21T10:08:32.618Z"
   },
   {
    "duration": 29,
    "start_time": "2024-03-21T10:08:32.627Z"
   },
   {
    "duration": 22,
    "start_time": "2024-03-21T10:08:32.658Z"
   },
   {
    "duration": 245,
    "start_time": "2024-03-21T10:08:32.682Z"
   },
   {
    "duration": 231,
    "start_time": "2024-03-21T10:08:32.929Z"
   },
   {
    "duration": 238,
    "start_time": "2024-03-21T10:08:33.164Z"
   },
   {
    "duration": 246,
    "start_time": "2024-03-21T10:08:33.404Z"
   },
   {
    "duration": 18,
    "start_time": "2024-03-21T10:08:33.651Z"
   },
   {
    "duration": 22,
    "start_time": "2024-03-21T10:08:33.671Z"
   },
   {
    "duration": 9,
    "start_time": "2024-03-21T10:08:33.694Z"
   },
   {
    "duration": 20,
    "start_time": "2024-03-21T10:08:33.705Z"
   },
   {
    "duration": 3,
    "start_time": "2024-03-21T10:08:33.727Z"
   },
   {
    "duration": 30,
    "start_time": "2024-03-21T10:08:33.732Z"
   },
   {
    "duration": 4,
    "start_time": "2024-03-21T10:16:15.113Z"
   },
   {
    "duration": 21,
    "start_time": "2024-03-21T10:16:17.952Z"
   },
   {
    "duration": 6,
    "start_time": "2024-03-21T10:18:25.810Z"
   },
   {
    "duration": 108,
    "start_time": "2024-03-21T10:19:51.377Z"
   },
   {
    "duration": 123,
    "start_time": "2024-03-21T10:19:57.457Z"
   },
   {
    "duration": 7,
    "start_time": "2024-03-21T10:20:05.320Z"
   },
   {
    "duration": 17,
    "start_time": "2024-03-21T10:20:09.049Z"
   },
   {
    "duration": 6,
    "start_time": "2024-03-21T10:20:36.776Z"
   },
   {
    "duration": 17,
    "start_time": "2024-03-21T10:20:42.247Z"
   },
   {
    "duration": 19,
    "start_time": "2024-03-21T10:20:51.104Z"
   },
   {
    "duration": 7,
    "start_time": "2024-03-21T10:21:01.448Z"
   },
   {
    "duration": 17,
    "start_time": "2024-03-21T10:21:01.800Z"
   },
   {
    "duration": 130,
    "start_time": "2024-03-21T10:22:05.480Z"
   },
   {
    "duration": 14,
    "start_time": "2024-03-21T10:22:31.177Z"
   },
   {
    "duration": 11,
    "start_time": "2024-03-21T10:22:37.504Z"
   },
   {
    "duration": 10,
    "start_time": "2024-03-21T10:22:43.048Z"
   },
   {
    "duration": 19,
    "start_time": "2024-03-21T10:22:58.783Z"
   },
   {
    "duration": 5,
    "start_time": "2024-03-21T10:23:15.605Z"
   },
   {
    "duration": 4,
    "start_time": "2024-03-21T10:23:17.903Z"
   },
   {
    "duration": 24,
    "start_time": "2024-03-21T10:23:20.216Z"
   },
   {
    "duration": 23,
    "start_time": "2024-03-21T10:24:10.311Z"
   },
   {
    "duration": 4,
    "start_time": "2024-03-21T10:24:11.471Z"
   },
   {
    "duration": 13,
    "start_time": "2024-03-21T10:24:11.800Z"
   },
   {
    "duration": 4,
    "start_time": "2024-03-21T10:24:22.223Z"
   },
   {
    "duration": 5,
    "start_time": "2024-03-21T10:24:22.511Z"
   },
   {
    "duration": 8,
    "start_time": "2024-03-21T10:24:23.711Z"
   },
   {
    "duration": 18,
    "start_time": "2024-03-21T10:24:23.950Z"
   },
   {
    "duration": 22,
    "start_time": "2024-03-21T10:25:16.143Z"
   },
   {
    "duration": 4,
    "start_time": "2024-03-21T10:25:16.406Z"
   },
   {
    "duration": 16,
    "start_time": "2024-03-21T10:25:16.798Z"
   },
   {
    "duration": 38,
    "start_time": "2024-03-21T10:25:27.487Z"
   },
   {
    "duration": 3,
    "start_time": "2024-03-21T10:25:27.950Z"
   },
   {
    "duration": 15,
    "start_time": "2024-03-21T10:25:28.399Z"
   },
   {
    "duration": 23,
    "start_time": "2024-03-21T10:25:56.918Z"
   },
   {
    "duration": 5,
    "start_time": "2024-03-21T10:25:57.158Z"
   },
   {
    "duration": 16,
    "start_time": "2024-03-21T10:25:57.366Z"
   },
   {
    "duration": 4,
    "start_time": "2024-03-21T10:26:16.398Z"
   },
   {
    "duration": 7,
    "start_time": "2024-03-21T10:26:16.639Z"
   },
   {
    "duration": 8,
    "start_time": "2024-03-21T10:26:16.910Z"
   },
   {
    "duration": 17,
    "start_time": "2024-03-21T10:26:17.374Z"
   },
   {
    "duration": 15,
    "start_time": "2024-03-21T10:28:09.822Z"
   },
   {
    "duration": 4,
    "start_time": "2024-03-21T10:28:10.135Z"
   },
   {
    "duration": 20,
    "start_time": "2024-03-21T10:28:10.542Z"
   },
   {
    "duration": 3,
    "start_time": "2024-03-21T10:28:15.352Z"
   },
   {
    "duration": 4,
    "start_time": "2024-03-21T10:28:15.662Z"
   },
   {
    "duration": 8,
    "start_time": "2024-03-21T10:28:15.880Z"
   },
   {
    "duration": 22,
    "start_time": "2024-03-21T10:28:16.055Z"
   },
   {
    "duration": 370,
    "start_time": "2024-03-21T10:28:26.031Z"
   },
   {
    "duration": 291,
    "start_time": "2024-03-21T10:28:26.403Z"
   },
   {
    "duration": 2,
    "start_time": "2024-03-21T10:28:26.696Z"
   },
   {
    "duration": 31,
    "start_time": "2024-03-21T10:28:26.700Z"
   },
   {
    "duration": 30,
    "start_time": "2024-03-21T10:28:26.733Z"
   },
   {
    "duration": 16,
    "start_time": "2024-03-21T10:28:26.765Z"
   },
   {
    "duration": 16,
    "start_time": "2024-03-21T10:28:26.782Z"
   },
   {
    "duration": 15,
    "start_time": "2024-03-21T10:28:26.800Z"
   },
   {
    "duration": 17,
    "start_time": "2024-03-21T10:28:26.816Z"
   },
   {
    "duration": 16,
    "start_time": "2024-03-21T10:28:26.834Z"
   },
   {
    "duration": 30,
    "start_time": "2024-03-21T10:28:26.852Z"
   },
   {
    "duration": 21,
    "start_time": "2024-03-21T10:28:26.883Z"
   },
   {
    "duration": 19,
    "start_time": "2024-03-21T10:28:26.906Z"
   },
   {
    "duration": 28,
    "start_time": "2024-03-21T10:28:26.928Z"
   },
   {
    "duration": 20,
    "start_time": "2024-03-21T10:28:26.958Z"
   },
   {
    "duration": 10,
    "start_time": "2024-03-21T10:28:26.979Z"
   },
   {
    "duration": 13,
    "start_time": "2024-03-21T10:28:26.991Z"
   },
   {
    "duration": 13,
    "start_time": "2024-03-21T10:28:27.005Z"
   },
   {
    "duration": 7,
    "start_time": "2024-03-21T10:28:27.020Z"
   },
   {
    "duration": 4,
    "start_time": "2024-03-21T10:28:27.029Z"
   },
   {
    "duration": 69,
    "start_time": "2024-03-21T10:28:27.034Z"
   },
   {
    "duration": 12,
    "start_time": "2024-03-21T10:28:27.105Z"
   },
   {
    "duration": 11,
    "start_time": "2024-03-21T10:28:27.118Z"
   },
   {
    "duration": 251,
    "start_time": "2024-03-21T10:28:27.131Z"
   },
   {
    "duration": 98,
    "start_time": "2024-03-21T10:28:27.384Z"
   },
   {
    "duration": 6,
    "start_time": "2024-03-21T10:28:27.483Z"
   },
   {
    "duration": 255,
    "start_time": "2024-03-21T10:28:27.490Z"
   },
   {
    "duration": 329,
    "start_time": "2024-03-21T10:28:27.747Z"
   },
   {
    "duration": 234,
    "start_time": "2024-03-21T10:28:28.079Z"
   },
   {
    "duration": 32,
    "start_time": "2024-03-21T10:28:28.315Z"
   },
   {
    "duration": 36,
    "start_time": "2024-03-21T10:28:28.349Z"
   },
   {
    "duration": 12,
    "start_time": "2024-03-21T10:28:28.387Z"
   },
   {
    "duration": 19,
    "start_time": "2024-03-21T10:28:28.402Z"
   },
   {
    "duration": 32,
    "start_time": "2024-03-21T10:28:28.423Z"
   },
   {
    "duration": 24,
    "start_time": "2024-03-21T10:28:28.457Z"
   },
   {
    "duration": 3,
    "start_time": "2024-03-21T10:28:28.483Z"
   },
   {
    "duration": 244,
    "start_time": "2024-03-21T10:28:28.488Z"
   },
   {
    "duration": 213,
    "start_time": "2024-03-21T10:28:28.733Z"
   },
   {
    "duration": 241,
    "start_time": "2024-03-21T10:28:28.948Z"
   },
   {
    "duration": 231,
    "start_time": "2024-03-21T10:28:29.191Z"
   },
   {
    "duration": 20,
    "start_time": "2024-03-21T10:28:29.426Z"
   },
   {
    "duration": 37,
    "start_time": "2024-03-21T10:28:29.448Z"
   },
   {
    "duration": 3,
    "start_time": "2024-03-21T10:28:29.487Z"
   },
   {
    "duration": 17,
    "start_time": "2024-03-21T10:28:29.492Z"
   },
   {
    "duration": 26,
    "start_time": "2024-03-21T10:28:29.511Z"
   },
   {
    "duration": 8,
    "start_time": "2024-03-21T10:28:29.539Z"
   },
   {
    "duration": 9,
    "start_time": "2024-03-21T10:28:29.548Z"
   },
   {
    "duration": 14,
    "start_time": "2024-03-21T10:28:29.559Z"
   },
   {
    "duration": 4,
    "start_time": "2024-03-21T10:29:43.862Z"
   },
   {
    "duration": 5,
    "start_time": "2024-03-21T10:29:44.222Z"
   },
   {
    "duration": 8,
    "start_time": "2024-03-21T10:29:45.534Z"
   },
   {
    "duration": 7,
    "start_time": "2024-03-21T10:30:01.303Z"
   },
   {
    "duration": 17,
    "start_time": "2024-03-21T10:30:01.910Z"
   },
   {
    "duration": 8,
    "start_time": "2024-03-21T10:30:14.471Z"
   },
   {
    "duration": 16,
    "start_time": "2024-03-21T10:30:14.790Z"
   },
   {
    "duration": 4,
    "start_time": "2024-03-21T10:31:35.430Z"
   },
   {
    "duration": 15,
    "start_time": "2024-03-21T10:31:38.285Z"
   },
   {
    "duration": 9,
    "start_time": "2024-03-21T10:33:44.020Z"
   },
   {
    "duration": 16,
    "start_time": "2024-03-21T10:33:44.214Z"
   },
   {
    "duration": 127,
    "start_time": "2024-03-21T10:35:12.751Z"
   },
   {
    "duration": 109,
    "start_time": "2024-03-21T10:35:24.918Z"
   },
   {
    "duration": 81,
    "start_time": "2024-03-21T10:35:31.310Z"
   },
   {
    "duration": 8,
    "start_time": "2024-03-21T10:35:37.229Z"
   },
   {
    "duration": 15,
    "start_time": "2024-03-21T10:35:50.718Z"
   },
   {
    "duration": 3,
    "start_time": "2024-03-21T10:36:11.318Z"
   },
   {
    "duration": 3,
    "start_time": "2024-03-21T10:36:20.341Z"
   },
   {
    "duration": 5,
    "start_time": "2024-03-21T10:36:23.091Z"
   },
   {
    "duration": 16,
    "start_time": "2024-03-21T10:36:26.036Z"
   },
   {
    "duration": 16,
    "start_time": "2024-03-21T10:38:06.285Z"
   },
   {
    "duration": 6,
    "start_time": "2024-03-21T10:38:22.101Z"
   },
   {
    "duration": 25,
    "start_time": "2024-03-21T10:38:24.278Z"
   },
   {
    "duration": 5,
    "start_time": "2024-03-21T10:38:56.635Z"
   },
   {
    "duration": 1620,
    "start_time": "2024-03-21T10:40:03.788Z"
   },
   {
    "duration": 1570,
    "start_time": "2024-03-21T10:40:21.227Z"
   },
   {
    "duration": 1546,
    "start_time": "2024-03-21T10:40:27.628Z"
   },
   {
    "duration": 1572,
    "start_time": "2024-03-21T10:40:45.667Z"
   },
   {
    "duration": 1543,
    "start_time": "2024-03-21T10:40:53.022Z"
   },
   {
    "duration": 1515,
    "start_time": "2024-03-21T10:40:57.731Z"
   },
   {
    "duration": 1592,
    "start_time": "2024-03-21T10:41:01.019Z"
   },
   {
    "duration": 1553,
    "start_time": "2024-03-21T10:41:19.003Z"
   },
   {
    "duration": 17,
    "start_time": "2024-03-21T10:41:30.603Z"
   },
   {
    "duration": 7,
    "start_time": "2024-03-21T10:41:41.082Z"
   },
   {
    "duration": 7,
    "start_time": "2024-03-21T10:41:46.978Z"
   },
   {
    "duration": 12,
    "start_time": "2024-03-21T10:43:34.563Z"
   },
   {
    "duration": 6,
    "start_time": "2024-03-21T10:43:39.697Z"
   },
   {
    "duration": 11,
    "start_time": "2024-03-21T10:43:47.600Z"
   },
   {
    "duration": 9,
    "start_time": "2024-03-21T10:44:24.640Z"
   },
   {
    "duration": 4,
    "start_time": "2024-03-21T10:44:33.321Z"
   },
   {
    "duration": 5,
    "start_time": "2024-03-21T10:44:47.400Z"
   },
   {
    "duration": 11,
    "start_time": "2024-03-21T10:44:52.553Z"
   },
   {
    "duration": 11,
    "start_time": "2024-03-21T10:45:06.969Z"
   },
   {
    "duration": 6,
    "start_time": "2024-03-21T10:45:17.529Z"
   },
   {
    "duration": 5,
    "start_time": "2024-03-21T10:45:24.433Z"
   },
   {
    "duration": 12,
    "start_time": "2024-03-21T10:47:23.960Z"
   },
   {
    "duration": 15,
    "start_time": "2024-03-21T10:51:46.006Z"
   },
   {
    "duration": 408,
    "start_time": "2024-03-21T10:51:54.528Z"
   },
   {
    "duration": 292,
    "start_time": "2024-03-21T10:51:54.938Z"
   },
   {
    "duration": 2,
    "start_time": "2024-03-21T10:51:55.232Z"
   },
   {
    "duration": 35,
    "start_time": "2024-03-21T10:51:55.236Z"
   },
   {
    "duration": 29,
    "start_time": "2024-03-21T10:51:55.272Z"
   },
   {
    "duration": 16,
    "start_time": "2024-03-21T10:51:55.303Z"
   },
   {
    "duration": 11,
    "start_time": "2024-03-21T10:51:55.320Z"
   },
   {
    "duration": 13,
    "start_time": "2024-03-21T10:51:55.333Z"
   },
   {
    "duration": 12,
    "start_time": "2024-03-21T10:51:55.348Z"
   },
   {
    "duration": 22,
    "start_time": "2024-03-21T10:51:55.363Z"
   },
   {
    "duration": 8,
    "start_time": "2024-03-21T10:51:55.387Z"
   },
   {
    "duration": 17,
    "start_time": "2024-03-21T10:51:55.396Z"
   },
   {
    "duration": 23,
    "start_time": "2024-03-21T10:51:55.415Z"
   },
   {
    "duration": 13,
    "start_time": "2024-03-21T10:51:55.439Z"
   },
   {
    "duration": 16,
    "start_time": "2024-03-21T10:51:55.453Z"
   },
   {
    "duration": 9,
    "start_time": "2024-03-21T10:51:55.479Z"
   },
   {
    "duration": 6,
    "start_time": "2024-03-21T10:51:55.490Z"
   },
   {
    "duration": 15,
    "start_time": "2024-03-21T10:51:55.498Z"
   },
   {
    "duration": 7,
    "start_time": "2024-03-21T10:51:55.514Z"
   },
   {
    "duration": 7,
    "start_time": "2024-03-21T10:51:55.523Z"
   },
   {
    "duration": 84,
    "start_time": "2024-03-21T10:51:55.532Z"
   },
   {
    "duration": 11,
    "start_time": "2024-03-21T10:51:55.618Z"
   },
   {
    "duration": 10,
    "start_time": "2024-03-21T10:51:55.631Z"
   },
   {
    "duration": 246,
    "start_time": "2024-03-21T10:51:55.643Z"
   },
   {
    "duration": 102,
    "start_time": "2024-03-21T10:51:55.890Z"
   },
   {
    "duration": 6,
    "start_time": "2024-03-21T10:51:55.994Z"
   },
   {
    "duration": 254,
    "start_time": "2024-03-21T10:51:56.002Z"
   },
   {
    "duration": 355,
    "start_time": "2024-03-21T10:51:56.260Z"
   },
   {
    "duration": 243,
    "start_time": "2024-03-21T10:51:56.616Z"
   },
   {
    "duration": 38,
    "start_time": "2024-03-21T10:51:56.860Z"
   },
   {
    "duration": 13,
    "start_time": "2024-03-21T10:51:56.900Z"
   },
   {
    "duration": 7,
    "start_time": "2024-03-21T10:51:56.914Z"
   },
   {
    "duration": 32,
    "start_time": "2024-03-21T10:51:56.923Z"
   },
   {
    "duration": 20,
    "start_time": "2024-03-21T10:51:56.957Z"
   },
   {
    "duration": 23,
    "start_time": "2024-03-21T10:51:56.978Z"
   },
   {
    "duration": 3,
    "start_time": "2024-03-21T10:51:57.003Z"
   },
   {
    "duration": 242,
    "start_time": "2024-03-21T10:51:57.008Z"
   },
   {
    "duration": 233,
    "start_time": "2024-03-21T10:51:57.251Z"
   },
   {
    "duration": 243,
    "start_time": "2024-03-21T10:51:57.485Z"
   },
   {
    "duration": 250,
    "start_time": "2024-03-21T10:51:57.730Z"
   },
   {
    "duration": 18,
    "start_time": "2024-03-21T10:51:57.982Z"
   },
   {
    "duration": 31,
    "start_time": "2024-03-21T10:51:58.001Z"
   },
   {
    "duration": 24,
    "start_time": "2024-03-21T10:51:58.034Z"
   },
   {
    "duration": 25,
    "start_time": "2024-03-21T10:51:58.060Z"
   },
   {
    "duration": 13,
    "start_time": "2024-03-21T10:51:58.088Z"
   },
   {
    "duration": 24,
    "start_time": "2024-03-21T10:51:58.104Z"
   },
   {
    "duration": 20,
    "start_time": "2024-03-21T10:51:58.130Z"
   },
   {
    "duration": 102,
    "start_time": "2024-03-21T10:51:58.152Z"
   },
   {
    "duration": 0,
    "start_time": "2024-03-21T10:51:58.255Z"
   },
   {
    "duration": 0,
    "start_time": "2024-03-21T10:51:58.257Z"
   },
   {
    "duration": 0,
    "start_time": "2024-03-21T10:51:58.258Z"
   },
   {
    "duration": 4,
    "start_time": "2024-03-21T10:53:45.070Z"
   },
   {
    "duration": 10,
    "start_time": "2024-03-21T10:53:48.188Z"
   },
   {
    "duration": 11,
    "start_time": "2024-03-21T10:54:13.278Z"
   },
   {
    "duration": 1487,
    "start_time": "2024-03-21T10:54:18.157Z"
   },
   {
    "duration": 10,
    "start_time": "2024-03-21T10:54:19.836Z"
   },
   {
    "duration": 3,
    "start_time": "2024-03-21T10:54:21.100Z"
   },
   {
    "duration": 10,
    "start_time": "2024-03-21T10:54:49.388Z"
   },
   {
    "duration": 11,
    "start_time": "2024-03-21T10:54:49.763Z"
   },
   {
    "duration": 5,
    "start_time": "2024-03-21T10:54:50.051Z"
   },
   {
    "duration": 18,
    "start_time": "2024-03-21T10:55:51.603Z"
   },
   {
    "duration": 21,
    "start_time": "2024-03-21T10:56:22.836Z"
   },
   {
    "duration": 20,
    "start_time": "2024-03-21T10:56:42.854Z"
   },
   {
    "duration": 27,
    "start_time": "2024-03-21T10:57:29.667Z"
   },
   {
    "duration": 6,
    "start_time": "2024-03-21T10:57:59.139Z"
   },
   {
    "duration": 11,
    "start_time": "2024-03-21T10:57:59.555Z"
   },
   {
    "duration": 17,
    "start_time": "2024-03-21T10:58:01.715Z"
   },
   {
    "duration": 5,
    "start_time": "2024-03-21T10:58:01.972Z"
   },
   {
    "duration": 20,
    "start_time": "2024-03-21T10:58:07.451Z"
   },
   {
    "duration": 22,
    "start_time": "2024-03-21T10:58:12.764Z"
   },
   {
    "duration": 15,
    "start_time": "2024-03-21T10:58:28.779Z"
   },
   {
    "duration": 8,
    "start_time": "2024-03-21T10:58:45.195Z"
   },
   {
    "duration": 364,
    "start_time": "2024-03-21T10:59:09.523Z"
   },
   {
    "duration": 254,
    "start_time": "2024-03-21T10:59:09.889Z"
   },
   {
    "duration": 2,
    "start_time": "2024-03-21T10:59:10.145Z"
   },
   {
    "duration": 41,
    "start_time": "2024-03-21T10:59:10.148Z"
   },
   {
    "duration": 29,
    "start_time": "2024-03-21T10:59:10.191Z"
   },
   {
    "duration": 15,
    "start_time": "2024-03-21T10:59:10.222Z"
   },
   {
    "duration": 13,
    "start_time": "2024-03-21T10:59:10.238Z"
   },
   {
    "duration": 30,
    "start_time": "2024-03-21T10:59:10.253Z"
   },
   {
    "duration": 28,
    "start_time": "2024-03-21T10:59:10.285Z"
   },
   {
    "duration": 20,
    "start_time": "2024-03-21T10:59:10.314Z"
   },
   {
    "duration": 22,
    "start_time": "2024-03-21T10:59:10.335Z"
   },
   {
    "duration": 29,
    "start_time": "2024-03-21T10:59:10.358Z"
   },
   {
    "duration": 44,
    "start_time": "2024-03-21T10:59:10.389Z"
   },
   {
    "duration": 19,
    "start_time": "2024-03-21T10:59:10.436Z"
   },
   {
    "duration": 39,
    "start_time": "2024-03-21T10:59:10.456Z"
   },
   {
    "duration": 29,
    "start_time": "2024-03-21T10:59:10.496Z"
   },
   {
    "duration": 35,
    "start_time": "2024-03-21T10:59:10.527Z"
   },
   {
    "duration": 37,
    "start_time": "2024-03-21T10:59:10.564Z"
   },
   {
    "duration": 21,
    "start_time": "2024-03-21T10:59:10.603Z"
   },
   {
    "duration": 23,
    "start_time": "2024-03-21T10:59:10.626Z"
   },
   {
    "duration": 87,
    "start_time": "2024-03-21T10:59:10.650Z"
   },
   {
    "duration": 12,
    "start_time": "2024-03-21T10:59:10.738Z"
   },
   {
    "duration": 23,
    "start_time": "2024-03-21T10:59:10.751Z"
   },
   {
    "duration": 261,
    "start_time": "2024-03-21T10:59:10.775Z"
   },
   {
    "duration": 99,
    "start_time": "2024-03-21T10:59:11.037Z"
   },
   {
    "duration": 6,
    "start_time": "2024-03-21T10:59:11.138Z"
   },
   {
    "duration": 271,
    "start_time": "2024-03-21T10:59:11.146Z"
   },
   {
    "duration": 328,
    "start_time": "2024-03-21T10:59:11.419Z"
   },
   {
    "duration": 235,
    "start_time": "2024-03-21T10:59:11.748Z"
   },
   {
    "duration": 32,
    "start_time": "2024-03-21T10:59:11.984Z"
   },
   {
    "duration": 16,
    "start_time": "2024-03-21T10:59:12.019Z"
   },
   {
    "duration": 9,
    "start_time": "2024-03-21T10:59:12.037Z"
   },
   {
    "duration": 55,
    "start_time": "2024-03-21T10:59:12.048Z"
   },
   {
    "duration": 23,
    "start_time": "2024-03-21T10:59:12.106Z"
   },
   {
    "duration": 40,
    "start_time": "2024-03-21T10:59:12.131Z"
   },
   {
    "duration": 7,
    "start_time": "2024-03-21T10:59:12.172Z"
   },
   {
    "duration": 248,
    "start_time": "2024-03-21T10:59:12.182Z"
   },
   {
    "duration": 250,
    "start_time": "2024-03-21T10:59:12.432Z"
   },
   {
    "duration": 235,
    "start_time": "2024-03-21T10:59:12.685Z"
   },
   {
    "duration": 243,
    "start_time": "2024-03-21T10:59:12.922Z"
   },
   {
    "duration": 25,
    "start_time": "2024-03-21T10:59:13.170Z"
   },
   {
    "duration": 16,
    "start_time": "2024-03-21T10:59:13.197Z"
   },
   {
    "duration": 3,
    "start_time": "2024-03-21T10:59:13.215Z"
   },
   {
    "duration": 19,
    "start_time": "2024-03-21T10:59:13.220Z"
   },
   {
    "duration": 4,
    "start_time": "2024-03-21T10:59:13.241Z"
   },
   {
    "duration": 39,
    "start_time": "2024-03-21T10:59:13.247Z"
   },
   {
    "duration": 16,
    "start_time": "2024-03-21T10:59:13.288Z"
   },
   {
    "duration": 18,
    "start_time": "2024-03-21T10:59:13.306Z"
   },
   {
    "duration": 21,
    "start_time": "2024-03-21T10:59:13.326Z"
   },
   {
    "duration": 39,
    "start_time": "2024-03-21T10:59:13.349Z"
   },
   {
    "duration": 23,
    "start_time": "2024-03-21T10:59:13.390Z"
   },
   {
    "duration": 12,
    "start_time": "2024-03-21T10:59:13.415Z"
   },
   {
    "duration": 16,
    "start_time": "2024-03-21T10:59:13.429Z"
   },
   {
    "duration": 415,
    "start_time": "2024-03-21T10:59:21.402Z"
   },
   {
    "duration": 259,
    "start_time": "2024-03-21T10:59:21.819Z"
   },
   {
    "duration": 3,
    "start_time": "2024-03-21T10:59:22.080Z"
   },
   {
    "duration": 42,
    "start_time": "2024-03-21T10:59:22.085Z"
   },
   {
    "duration": 30,
    "start_time": "2024-03-21T10:59:22.130Z"
   },
   {
    "duration": 16,
    "start_time": "2024-03-21T10:59:22.161Z"
   },
   {
    "duration": 13,
    "start_time": "2024-03-21T10:59:22.178Z"
   },
   {
    "duration": 23,
    "start_time": "2024-03-21T10:59:22.192Z"
   },
   {
    "duration": 40,
    "start_time": "2024-03-21T10:59:22.217Z"
   },
   {
    "duration": 25,
    "start_time": "2024-03-21T10:59:22.259Z"
   },
   {
    "duration": 37,
    "start_time": "2024-03-21T10:59:22.286Z"
   },
   {
    "duration": 14,
    "start_time": "2024-03-21T10:59:22.324Z"
   },
   {
    "duration": 33,
    "start_time": "2024-03-21T10:59:22.339Z"
   },
   {
    "duration": 22,
    "start_time": "2024-03-21T10:59:22.375Z"
   },
   {
    "duration": 15,
    "start_time": "2024-03-21T10:59:22.399Z"
   },
   {
    "duration": 15,
    "start_time": "2024-03-21T10:59:22.415Z"
   },
   {
    "duration": 8,
    "start_time": "2024-03-21T10:59:22.432Z"
   },
   {
    "duration": 28,
    "start_time": "2024-03-21T10:59:22.442Z"
   },
   {
    "duration": 15,
    "start_time": "2024-03-21T10:59:22.472Z"
   },
   {
    "duration": 15,
    "start_time": "2024-03-21T10:59:22.489Z"
   },
   {
    "duration": 71,
    "start_time": "2024-03-21T10:59:22.506Z"
   },
   {
    "duration": 12,
    "start_time": "2024-03-21T10:59:22.579Z"
   },
   {
    "duration": 12,
    "start_time": "2024-03-21T10:59:22.593Z"
   },
   {
    "duration": 263,
    "start_time": "2024-03-21T10:59:22.606Z"
   },
   {
    "duration": 94,
    "start_time": "2024-03-21T10:59:22.871Z"
   },
   {
    "duration": 17,
    "start_time": "2024-03-21T10:59:22.967Z"
   },
   {
    "duration": 263,
    "start_time": "2024-03-21T10:59:22.986Z"
   },
   {
    "duration": 312,
    "start_time": "2024-03-21T10:59:23.251Z"
   },
   {
    "duration": 241,
    "start_time": "2024-03-21T10:59:23.564Z"
   },
   {
    "duration": 30,
    "start_time": "2024-03-21T10:59:23.806Z"
   },
   {
    "duration": 16,
    "start_time": "2024-03-21T10:59:23.838Z"
   },
   {
    "duration": 27,
    "start_time": "2024-03-21T10:59:23.855Z"
   },
   {
    "duration": 24,
    "start_time": "2024-03-21T10:59:23.883Z"
   },
   {
    "duration": 8,
    "start_time": "2024-03-21T10:59:23.909Z"
   },
   {
    "duration": 49,
    "start_time": "2024-03-21T10:59:23.918Z"
   },
   {
    "duration": 3,
    "start_time": "2024-03-21T10:59:23.968Z"
   },
   {
    "duration": 248,
    "start_time": "2024-03-21T10:59:23.973Z"
   },
   {
    "duration": 225,
    "start_time": "2024-03-21T10:59:24.223Z"
   },
   {
    "duration": 266,
    "start_time": "2024-03-21T10:59:24.450Z"
   },
   {
    "duration": 240,
    "start_time": "2024-03-21T10:59:24.718Z"
   },
   {
    "duration": 23,
    "start_time": "2024-03-21T10:59:24.963Z"
   },
   {
    "duration": 37,
    "start_time": "2024-03-21T10:59:24.988Z"
   },
   {
    "duration": 19,
    "start_time": "2024-03-21T10:59:25.026Z"
   },
   {
    "duration": 29,
    "start_time": "2024-03-21T10:59:25.046Z"
   },
   {
    "duration": 35,
    "start_time": "2024-03-21T10:59:25.077Z"
   },
   {
    "duration": 31,
    "start_time": "2024-03-21T10:59:25.114Z"
   },
   {
    "duration": 36,
    "start_time": "2024-03-21T10:59:25.147Z"
   },
   {
    "duration": 19,
    "start_time": "2024-03-21T10:59:25.184Z"
   },
   {
    "duration": 24,
    "start_time": "2024-03-21T10:59:25.204Z"
   },
   {
    "duration": 34,
    "start_time": "2024-03-21T10:59:25.229Z"
   },
   {
    "duration": 18,
    "start_time": "2024-03-21T10:59:25.264Z"
   },
   {
    "duration": 37,
    "start_time": "2024-03-21T10:59:25.284Z"
   },
   {
    "duration": 5,
    "start_time": "2024-03-21T11:10:03.080Z"
   },
   {
    "duration": 22,
    "start_time": "2024-03-21T11:10:56.687Z"
   },
   {
    "duration": 24,
    "start_time": "2024-03-21T11:11:43.839Z"
   },
   {
    "duration": 29,
    "start_time": "2024-03-21T11:12:10.568Z"
   },
   {
    "duration": 21,
    "start_time": "2024-03-21T11:13:47.368Z"
   },
   {
    "duration": 9,
    "start_time": "2024-03-21T11:13:56.847Z"
   },
   {
    "duration": 21,
    "start_time": "2024-03-21T11:14:00.902Z"
   },
   {
    "duration": 12,
    "start_time": "2024-03-21T11:14:49.767Z"
   },
   {
    "duration": 25,
    "start_time": "2024-03-21T11:15:03.110Z"
   },
   {
    "duration": 9,
    "start_time": "2024-03-21T11:15:40.479Z"
   },
   {
    "duration": 6,
    "start_time": "2024-03-21T11:19:50.509Z"
   },
   {
    "duration": 1266,
    "start_time": "2024-03-21T11:19:50.933Z"
   },
   {
    "duration": 1128,
    "start_time": "2024-03-21T11:20:05.973Z"
   },
   {
    "duration": 0,
    "start_time": "2024-03-21T11:20:07.102Z"
   },
   {
    "duration": 447,
    "start_time": "2024-03-21T11:20:11.568Z"
   },
   {
    "duration": 293,
    "start_time": "2024-03-21T11:20:12.017Z"
   },
   {
    "duration": 3,
    "start_time": "2024-03-21T11:20:12.311Z"
   },
   {
    "duration": 32,
    "start_time": "2024-03-21T11:20:12.316Z"
   },
   {
    "duration": 31,
    "start_time": "2024-03-21T11:20:12.350Z"
   },
   {
    "duration": 17,
    "start_time": "2024-03-21T11:20:12.383Z"
   },
   {
    "duration": 17,
    "start_time": "2024-03-21T11:20:12.402Z"
   },
   {
    "duration": 23,
    "start_time": "2024-03-21T11:20:12.421Z"
   },
   {
    "duration": 11,
    "start_time": "2024-03-21T11:20:12.446Z"
   },
   {
    "duration": 31,
    "start_time": "2024-03-21T11:20:12.458Z"
   },
   {
    "duration": 10,
    "start_time": "2024-03-21T11:20:12.491Z"
   },
   {
    "duration": 28,
    "start_time": "2024-03-21T11:20:12.503Z"
   },
   {
    "duration": 12,
    "start_time": "2024-03-21T11:20:12.533Z"
   },
   {
    "duration": 31,
    "start_time": "2024-03-21T11:20:12.550Z"
   },
   {
    "duration": 22,
    "start_time": "2024-03-21T11:20:12.583Z"
   },
   {
    "duration": 19,
    "start_time": "2024-03-21T11:20:12.607Z"
   },
   {
    "duration": 37,
    "start_time": "2024-03-21T11:20:12.629Z"
   },
   {
    "duration": 15,
    "start_time": "2024-03-21T11:20:12.668Z"
   },
   {
    "duration": 12,
    "start_time": "2024-03-21T11:20:12.685Z"
   },
   {
    "duration": 6,
    "start_time": "2024-03-21T11:20:12.699Z"
   },
   {
    "duration": 73,
    "start_time": "2024-03-21T11:20:12.707Z"
   },
   {
    "duration": 12,
    "start_time": "2024-03-21T11:20:12.782Z"
   },
   {
    "duration": 11,
    "start_time": "2024-03-21T11:20:12.796Z"
   },
   {
    "duration": 258,
    "start_time": "2024-03-21T11:20:12.809Z"
   },
   {
    "duration": 97,
    "start_time": "2024-03-21T11:20:13.068Z"
   },
   {
    "duration": 15,
    "start_time": "2024-03-21T11:20:13.166Z"
   },
   {
    "duration": 269,
    "start_time": "2024-03-21T11:20:13.184Z"
   },
   {
    "duration": 346,
    "start_time": "2024-03-21T11:20:13.455Z"
   },
   {
    "duration": 249,
    "start_time": "2024-03-21T11:20:13.802Z"
   },
   {
    "duration": 44,
    "start_time": "2024-03-21T11:20:14.053Z"
   },
   {
    "duration": 21,
    "start_time": "2024-03-21T11:20:14.099Z"
   },
   {
    "duration": 8,
    "start_time": "2024-03-21T11:20:14.122Z"
   },
   {
    "duration": 36,
    "start_time": "2024-03-21T11:20:14.132Z"
   },
   {
    "duration": 12,
    "start_time": "2024-03-21T11:20:14.181Z"
   },
   {
    "duration": 39,
    "start_time": "2024-03-21T11:20:14.195Z"
   },
   {
    "duration": 6,
    "start_time": "2024-03-21T11:20:14.235Z"
   },
   {
    "duration": 240,
    "start_time": "2024-03-21T11:20:14.243Z"
   },
   {
    "duration": 264,
    "start_time": "2024-03-21T11:20:14.485Z"
   },
   {
    "duration": 242,
    "start_time": "2024-03-21T11:20:14.751Z"
   },
   {
    "duration": 261,
    "start_time": "2024-03-21T11:20:14.995Z"
   },
   {
    "duration": 36,
    "start_time": "2024-03-21T11:20:15.262Z"
   },
   {
    "duration": 59,
    "start_time": "2024-03-21T11:20:15.300Z"
   },
   {
    "duration": 41,
    "start_time": "2024-03-21T11:20:15.361Z"
   },
   {
    "duration": 57,
    "start_time": "2024-03-21T11:20:15.405Z"
   },
   {
    "duration": 60,
    "start_time": "2024-03-21T11:20:15.464Z"
   },
   {
    "duration": 45,
    "start_time": "2024-03-21T11:20:15.525Z"
   },
   {
    "duration": 78,
    "start_time": "2024-03-21T11:20:15.571Z"
   },
   {
    "duration": 31,
    "start_time": "2024-03-21T11:20:15.651Z"
   },
   {
    "duration": 43,
    "start_time": "2024-03-21T11:20:15.684Z"
   },
   {
    "duration": 52,
    "start_time": "2024-03-21T11:20:15.729Z"
   },
   {
    "duration": 35,
    "start_time": "2024-03-21T11:20:15.783Z"
   },
   {
    "duration": 50,
    "start_time": "2024-03-21T11:20:15.819Z"
   },
   {
    "duration": 29,
    "start_time": "2024-03-21T11:20:15.871Z"
   },
   {
    "duration": 38,
    "start_time": "2024-03-21T11:20:15.902Z"
   },
   {
    "duration": 35,
    "start_time": "2024-03-21T11:20:15.942Z"
   },
   {
    "duration": 1247,
    "start_time": "2024-03-21T11:21:27.765Z"
   },
   {
    "duration": 1174,
    "start_time": "2024-03-21T11:21:32.916Z"
   },
   {
    "duration": 1151,
    "start_time": "2024-03-21T11:21:45.812Z"
   },
   {
    "duration": 463,
    "start_time": "2024-03-21T11:21:58.746Z"
   },
   {
    "duration": 322,
    "start_time": "2024-03-21T11:21:59.211Z"
   },
   {
    "duration": 2,
    "start_time": "2024-03-21T11:21:59.535Z"
   },
   {
    "duration": 34,
    "start_time": "2024-03-21T11:21:59.539Z"
   },
   {
    "duration": 29,
    "start_time": "2024-03-21T11:21:59.575Z"
   },
   {
    "duration": 15,
    "start_time": "2024-03-21T11:21:59.606Z"
   },
   {
    "duration": 14,
    "start_time": "2024-03-21T11:21:59.623Z"
   },
   {
    "duration": 12,
    "start_time": "2024-03-21T11:21:59.638Z"
   },
   {
    "duration": 11,
    "start_time": "2024-03-21T11:21:59.652Z"
   },
   {
    "duration": 18,
    "start_time": "2024-03-21T11:21:59.665Z"
   },
   {
    "duration": 6,
    "start_time": "2024-03-21T11:21:59.685Z"
   },
   {
    "duration": 12,
    "start_time": "2024-03-21T11:21:59.693Z"
   },
   {
    "duration": 9,
    "start_time": "2024-03-21T11:21:59.706Z"
   },
   {
    "duration": 12,
    "start_time": "2024-03-21T11:21:59.718Z"
   },
   {
    "duration": 16,
    "start_time": "2024-03-21T11:21:59.731Z"
   },
   {
    "duration": 10,
    "start_time": "2024-03-21T11:21:59.779Z"
   },
   {
    "duration": 10,
    "start_time": "2024-03-21T11:21:59.791Z"
   },
   {
    "duration": 19,
    "start_time": "2024-03-21T11:21:59.803Z"
   },
   {
    "duration": 10,
    "start_time": "2024-03-21T11:21:59.824Z"
   },
   {
    "duration": 5,
    "start_time": "2024-03-21T11:21:59.836Z"
   },
   {
    "duration": 85,
    "start_time": "2024-03-21T11:21:59.843Z"
   },
   {
    "duration": 12,
    "start_time": "2024-03-21T11:21:59.930Z"
   },
   {
    "duration": 34,
    "start_time": "2024-03-21T11:21:59.944Z"
   },
   {
    "duration": 246,
    "start_time": "2024-03-21T11:21:59.980Z"
   },
   {
    "duration": 110,
    "start_time": "2024-03-21T11:22:00.228Z"
   },
   {
    "duration": 31,
    "start_time": "2024-03-21T11:22:00.339Z"
   },
   {
    "duration": 338,
    "start_time": "2024-03-21T11:22:00.371Z"
   },
   {
    "duration": 392,
    "start_time": "2024-03-21T11:22:00.711Z"
   },
   {
    "duration": 242,
    "start_time": "2024-03-21T11:22:01.105Z"
   },
   {
    "duration": 43,
    "start_time": "2024-03-21T11:22:01.348Z"
   },
   {
    "duration": 65,
    "start_time": "2024-03-21T11:22:01.393Z"
   },
   {
    "duration": 52,
    "start_time": "2024-03-21T11:22:01.460Z"
   },
   {
    "duration": 38,
    "start_time": "2024-03-21T11:22:01.514Z"
   },
   {
    "duration": 33,
    "start_time": "2024-03-21T11:22:01.554Z"
   },
   {
    "duration": 209,
    "start_time": "2024-03-21T11:22:01.589Z"
   },
   {
    "duration": 241,
    "start_time": "2024-03-21T11:22:01.800Z"
   },
   {
    "duration": 324,
    "start_time": "2024-03-21T11:22:02.043Z"
   },
   {
    "duration": 358,
    "start_time": "2024-03-21T11:22:02.369Z"
   },
   {
    "duration": 244,
    "start_time": "2024-03-21T11:22:02.729Z"
   },
   {
    "duration": 258,
    "start_time": "2024-03-21T11:22:02.980Z"
   },
   {
    "duration": 19,
    "start_time": "2024-03-21T11:22:03.242Z"
   },
   {
    "duration": 31,
    "start_time": "2024-03-21T11:22:03.263Z"
   },
   {
    "duration": 5,
    "start_time": "2024-03-21T11:22:03.296Z"
   },
   {
    "duration": 47,
    "start_time": "2024-03-21T11:22:03.303Z"
   },
   {
    "duration": 4,
    "start_time": "2024-03-21T11:22:03.352Z"
   },
   {
    "duration": 25,
    "start_time": "2024-03-21T11:22:03.358Z"
   },
   {
    "duration": 23,
    "start_time": "2024-03-21T11:22:03.385Z"
   },
   {
    "duration": 14,
    "start_time": "2024-03-21T11:22:03.411Z"
   },
   {
    "duration": 29,
    "start_time": "2024-03-21T11:22:03.427Z"
   },
   {
    "duration": 12,
    "start_time": "2024-03-21T11:22:03.481Z"
   },
   {
    "duration": 16,
    "start_time": "2024-03-21T11:22:03.495Z"
   },
   {
    "duration": 40,
    "start_time": "2024-03-21T11:22:03.513Z"
   },
   {
    "duration": 8,
    "start_time": "2024-03-21T11:22:03.555Z"
   },
   {
    "duration": 15,
    "start_time": "2024-03-21T11:22:03.564Z"
   },
   {
    "duration": 18,
    "start_time": "2024-03-21T11:22:03.581Z"
   },
   {
    "duration": 3,
    "start_time": "2024-03-21T11:22:41.916Z"
   },
   {
    "duration": 92,
    "start_time": "2024-03-21T11:22:59.012Z"
   },
   {
    "duration": 560,
    "start_time": "2024-03-21T11:23:28.445Z"
   },
   {
    "duration": 5,
    "start_time": "2024-03-21T11:23:39.691Z"
   },
   {
    "duration": 4,
    "start_time": "2024-03-21T11:24:30.293Z"
   },
   {
    "duration": 5,
    "start_time": "2024-03-21T11:25:33.443Z"
   },
   {
    "duration": 4,
    "start_time": "2024-03-21T11:26:52.923Z"
   },
   {
    "duration": 5,
    "start_time": "2024-03-21T11:27:03.658Z"
   },
   {
    "duration": 4,
    "start_time": "2024-03-21T11:28:05.563Z"
   },
   {
    "duration": 4,
    "start_time": "2024-03-21T11:28:08.418Z"
   },
   {
    "duration": 4,
    "start_time": "2024-03-21T11:28:20.219Z"
   },
   {
    "duration": 3,
    "start_time": "2024-03-21T11:28:21.052Z"
   },
   {
    "duration": 387,
    "start_time": "2024-03-21T11:28:25.230Z"
   },
   {
    "duration": 263,
    "start_time": "2024-03-21T11:28:25.619Z"
   },
   {
    "duration": 3,
    "start_time": "2024-03-21T11:28:25.884Z"
   },
   {
    "duration": 474,
    "start_time": "2024-03-21T11:28:25.889Z"
   },
   {
    "duration": 31,
    "start_time": "2024-03-21T11:28:26.365Z"
   },
   {
    "duration": 29,
    "start_time": "2024-03-21T11:28:26.398Z"
   },
   {
    "duration": 16,
    "start_time": "2024-03-21T11:28:26.429Z"
   },
   {
    "duration": 12,
    "start_time": "2024-03-21T11:28:26.447Z"
   },
   {
    "duration": 13,
    "start_time": "2024-03-21T11:28:26.461Z"
   },
   {
    "duration": 28,
    "start_time": "2024-03-21T11:28:26.477Z"
   },
   {
    "duration": 15,
    "start_time": "2024-03-21T11:28:26.507Z"
   },
   {
    "duration": 16,
    "start_time": "2024-03-21T11:28:26.524Z"
   },
   {
    "duration": 14,
    "start_time": "2024-03-21T11:28:26.542Z"
   },
   {
    "duration": 29,
    "start_time": "2024-03-21T11:28:26.558Z"
   },
   {
    "duration": 19,
    "start_time": "2024-03-21T11:28:26.589Z"
   },
   {
    "duration": 16,
    "start_time": "2024-03-21T11:28:26.609Z"
   },
   {
    "duration": 11,
    "start_time": "2024-03-21T11:28:26.627Z"
   },
   {
    "duration": 11,
    "start_time": "2024-03-21T11:28:26.640Z"
   },
   {
    "duration": 23,
    "start_time": "2024-03-21T11:28:26.653Z"
   },
   {
    "duration": 20,
    "start_time": "2024-03-21T11:28:26.679Z"
   },
   {
    "duration": 15,
    "start_time": "2024-03-21T11:28:26.701Z"
   },
   {
    "duration": 64,
    "start_time": "2024-03-21T11:28:26.718Z"
   },
   {
    "duration": 13,
    "start_time": "2024-03-21T11:28:26.784Z"
   },
   {
    "duration": 12,
    "start_time": "2024-03-21T11:28:26.798Z"
   },
   {
    "duration": 254,
    "start_time": "2024-03-21T11:28:26.811Z"
   },
   {
    "duration": 99,
    "start_time": "2024-03-21T11:28:27.067Z"
   },
   {
    "duration": 16,
    "start_time": "2024-03-21T11:28:27.168Z"
   },
   {
    "duration": 239,
    "start_time": "2024-03-21T11:28:27.187Z"
   },
   {
    "duration": 329,
    "start_time": "2024-03-21T11:28:27.428Z"
   },
   {
    "duration": 249,
    "start_time": "2024-03-21T11:28:27.758Z"
   },
   {
    "duration": 33,
    "start_time": "2024-03-21T11:28:28.008Z"
   },
   {
    "duration": 15,
    "start_time": "2024-03-21T11:28:28.042Z"
   },
   {
    "duration": 10,
    "start_time": "2024-03-21T11:28:28.080Z"
   },
   {
    "duration": 20,
    "start_time": "2024-03-21T11:28:28.092Z"
   },
   {
    "duration": 6,
    "start_time": "2024-03-21T11:28:28.113Z"
   },
   {
    "duration": 115,
    "start_time": "2024-03-21T11:28:28.121Z"
   },
   {
    "duration": 4,
    "start_time": "2024-03-21T11:28:28.237Z"
   },
   {
    "duration": 239,
    "start_time": "2024-03-21T11:28:28.242Z"
   },
   {
    "duration": 265,
    "start_time": "2024-03-21T11:28:28.483Z"
   },
   {
    "duration": 237,
    "start_time": "2024-03-21T11:28:28.750Z"
   },
   {
    "duration": 226,
    "start_time": "2024-03-21T11:28:28.989Z"
   },
   {
    "duration": 18,
    "start_time": "2024-03-21T11:28:29.216Z"
   },
   {
    "duration": 15,
    "start_time": "2024-03-21T11:28:29.235Z"
   },
   {
    "duration": 3,
    "start_time": "2024-03-21T11:28:29.251Z"
   },
   {
    "duration": 26,
    "start_time": "2024-03-21T11:28:29.256Z"
   },
   {
    "duration": 7,
    "start_time": "2024-03-21T11:28:29.283Z"
   },
   {
    "duration": 13,
    "start_time": "2024-03-21T11:28:29.292Z"
   },
   {
    "duration": 15,
    "start_time": "2024-03-21T11:28:29.307Z"
   },
   {
    "duration": 13,
    "start_time": "2024-03-21T11:28:29.324Z"
   },
   {
    "duration": 42,
    "start_time": "2024-03-21T11:28:29.339Z"
   },
   {
    "duration": 13,
    "start_time": "2024-03-21T11:28:29.383Z"
   },
   {
    "duration": 6,
    "start_time": "2024-03-21T11:28:29.398Z"
   },
   {
    "duration": 22,
    "start_time": "2024-03-21T11:28:29.405Z"
   },
   {
    "duration": 6,
    "start_time": "2024-03-21T11:28:29.429Z"
   },
   {
    "duration": 16,
    "start_time": "2024-03-21T11:28:29.437Z"
   },
   {
    "duration": 10,
    "start_time": "2024-03-21T11:28:29.455Z"
   },
   {
    "duration": 2,
    "start_time": "2024-03-21T11:28:29.481Z"
   },
   {
    "duration": 11,
    "start_time": "2024-03-21T11:28:29.485Z"
   },
   {
    "duration": 5,
    "start_time": "2024-03-21T11:28:29.497Z"
   },
   {
    "duration": 7,
    "start_time": "2024-03-21T11:28:29.503Z"
   },
   {
    "duration": 9,
    "start_time": "2024-03-21T11:28:29.512Z"
   },
   {
    "duration": 1283,
    "start_time": "2024-03-21T11:32:59.226Z"
   },
   {
    "duration": 392,
    "start_time": "2024-03-21T11:33:04.929Z"
   },
   {
    "duration": 255,
    "start_time": "2024-03-21T11:33:05.323Z"
   },
   {
    "duration": 2,
    "start_time": "2024-03-21T11:33:05.580Z"
   },
   {
    "duration": 455,
    "start_time": "2024-03-21T11:33:05.584Z"
   },
   {
    "duration": 30,
    "start_time": "2024-03-21T11:33:06.041Z"
   },
   {
    "duration": 28,
    "start_time": "2024-03-21T11:33:06.073Z"
   },
   {
    "duration": 15,
    "start_time": "2024-03-21T11:33:06.103Z"
   },
   {
    "duration": 11,
    "start_time": "2024-03-21T11:33:06.120Z"
   },
   {
    "duration": 46,
    "start_time": "2024-03-21T11:33:06.133Z"
   },
   {
    "duration": 14,
    "start_time": "2024-03-21T11:33:06.181Z"
   },
   {
    "duration": 39,
    "start_time": "2024-03-21T11:33:06.197Z"
   },
   {
    "duration": 7,
    "start_time": "2024-03-21T11:33:06.238Z"
   },
   {
    "duration": 13,
    "start_time": "2024-03-21T11:33:06.247Z"
   },
   {
    "duration": 34,
    "start_time": "2024-03-21T11:33:06.262Z"
   },
   {
    "duration": 17,
    "start_time": "2024-03-21T11:33:06.297Z"
   },
   {
    "duration": 29,
    "start_time": "2024-03-21T11:33:06.316Z"
   },
   {
    "duration": 12,
    "start_time": "2024-03-21T11:33:06.347Z"
   },
   {
    "duration": 6,
    "start_time": "2024-03-21T11:33:06.360Z"
   },
   {
    "duration": 22,
    "start_time": "2024-03-21T11:33:06.367Z"
   },
   {
    "duration": 8,
    "start_time": "2024-03-21T11:33:06.390Z"
   },
   {
    "duration": 5,
    "start_time": "2024-03-21T11:33:06.399Z"
   },
   {
    "duration": 57,
    "start_time": "2024-03-21T11:33:06.406Z"
   },
   {
    "duration": 12,
    "start_time": "2024-03-21T11:33:06.480Z"
   },
   {
    "duration": 12,
    "start_time": "2024-03-21T11:33:06.494Z"
   },
   {
    "duration": 270,
    "start_time": "2024-03-21T11:33:06.507Z"
   },
   {
    "duration": 102,
    "start_time": "2024-03-21T11:33:06.778Z"
   },
   {
    "duration": 6,
    "start_time": "2024-03-21T11:33:06.881Z"
   },
   {
    "duration": 205,
    "start_time": "2024-03-21T11:33:06.891Z"
   },
   {
    "duration": 340,
    "start_time": "2024-03-21T11:33:07.098Z"
   },
   {
    "duration": 226,
    "start_time": "2024-03-21T11:33:07.440Z"
   },
   {
    "duration": 37,
    "start_time": "2024-03-21T11:33:07.667Z"
   },
   {
    "duration": 13,
    "start_time": "2024-03-21T11:33:07.705Z"
   },
   {
    "duration": 11,
    "start_time": "2024-03-21T11:33:07.719Z"
   },
   {
    "duration": 28,
    "start_time": "2024-03-21T11:33:07.731Z"
   },
   {
    "duration": 5,
    "start_time": "2024-03-21T11:33:07.761Z"
   },
   {
    "duration": 115,
    "start_time": "2024-03-21T11:33:07.767Z"
   },
   {
    "duration": 3,
    "start_time": "2024-03-21T11:33:07.884Z"
   },
   {
    "duration": 236,
    "start_time": "2024-03-21T11:33:07.888Z"
   },
   {
    "duration": 237,
    "start_time": "2024-03-21T11:33:08.125Z"
   },
   {
    "duration": 227,
    "start_time": "2024-03-21T11:33:08.363Z"
   },
   {
    "duration": 251,
    "start_time": "2024-03-21T11:33:08.591Z"
   },
   {
    "duration": 18,
    "start_time": "2024-03-21T11:33:08.843Z"
   },
   {
    "duration": 27,
    "start_time": "2024-03-21T11:33:08.863Z"
   },
   {
    "duration": 3,
    "start_time": "2024-03-21T11:33:08.892Z"
   },
   {
    "duration": 38,
    "start_time": "2024-03-21T11:33:08.896Z"
   },
   {
    "duration": 25,
    "start_time": "2024-03-21T11:33:08.935Z"
   },
   {
    "duration": 17,
    "start_time": "2024-03-21T11:33:08.962Z"
   },
   {
    "duration": 14,
    "start_time": "2024-03-21T11:33:08.981Z"
   },
   {
    "duration": 14,
    "start_time": "2024-03-21T11:33:08.996Z"
   },
   {
    "duration": 22,
    "start_time": "2024-03-21T11:33:09.011Z"
   },
   {
    "duration": 17,
    "start_time": "2024-03-21T11:33:09.034Z"
   },
   {
    "duration": 3,
    "start_time": "2024-03-21T11:33:09.053Z"
   },
   {
    "duration": 26,
    "start_time": "2024-03-21T11:33:09.058Z"
   },
   {
    "duration": 4,
    "start_time": "2024-03-21T11:33:09.085Z"
   },
   {
    "duration": 39,
    "start_time": "2024-03-21T11:33:09.090Z"
   },
   {
    "duration": 11,
    "start_time": "2024-03-21T11:33:09.130Z"
   },
   {
    "duration": 19,
    "start_time": "2024-03-21T11:33:09.143Z"
   },
   {
    "duration": 26,
    "start_time": "2024-03-21T11:33:09.163Z"
   },
   {
    "duration": 16,
    "start_time": "2024-03-21T11:33:09.190Z"
   },
   {
    "duration": 14,
    "start_time": "2024-03-21T11:33:09.208Z"
   },
   {
    "duration": 9,
    "start_time": "2024-03-21T11:33:09.224Z"
   },
   {
    "duration": 1280,
    "start_time": "2024-03-21T11:33:09.234Z"
   },
   {
    "duration": 5,
    "start_time": "2024-03-21T11:33:25.641Z"
   },
   {
    "duration": 9,
    "start_time": "2024-03-21T11:34:17.849Z"
   },
   {
    "duration": 9,
    "start_time": "2024-03-21T11:34:52.665Z"
   },
   {
    "duration": 1177,
    "start_time": "2024-03-21T11:34:54.265Z"
   },
   {
    "duration": 449,
    "start_time": "2024-03-21T11:34:59.465Z"
   },
   {
    "duration": 272,
    "start_time": "2024-03-21T11:34:59.916Z"
   },
   {
    "duration": 3,
    "start_time": "2024-03-21T11:35:00.190Z"
   },
   {
    "duration": 670,
    "start_time": "2024-03-21T11:35:00.195Z"
   },
   {
    "duration": 30,
    "start_time": "2024-03-21T11:35:00.868Z"
   },
   {
    "duration": 168,
    "start_time": "2024-03-21T11:35:00.900Z"
   },
   {
    "duration": 160,
    "start_time": "2024-03-21T11:35:01.070Z"
   },
   {
    "duration": 167,
    "start_time": "2024-03-21T11:35:01.231Z"
   },
   {
    "duration": 101,
    "start_time": "2024-03-21T11:35:01.400Z"
   },
   {
    "duration": 76,
    "start_time": "2024-03-21T11:35:01.503Z"
   },
   {
    "duration": 71,
    "start_time": "2024-03-21T11:35:01.581Z"
   },
   {
    "duration": 64,
    "start_time": "2024-03-21T11:35:01.654Z"
   },
   {
    "duration": 76,
    "start_time": "2024-03-21T11:35:01.720Z"
   },
   {
    "duration": 73,
    "start_time": "2024-03-21T11:35:01.800Z"
   },
   {
    "duration": 98,
    "start_time": "2024-03-21T11:35:01.874Z"
   },
   {
    "duration": 95,
    "start_time": "2024-03-21T11:35:01.973Z"
   },
   {
    "duration": 74,
    "start_time": "2024-03-21T11:35:02.070Z"
   },
   {
    "duration": 495,
    "start_time": "2024-03-21T11:35:02.145Z"
   },
   {
    "duration": 374,
    "start_time": "2024-03-21T11:35:02.641Z"
   },
   {
    "duration": 221,
    "start_time": "2024-03-21T11:35:03.016Z"
   },
   {
    "duration": 31,
    "start_time": "2024-03-21T11:35:03.239Z"
   },
   {
    "duration": 64,
    "start_time": "2024-03-21T11:35:03.272Z"
   },
   {
    "duration": 12,
    "start_time": "2024-03-21T11:35:03.338Z"
   },
   {
    "duration": 21,
    "start_time": "2024-03-21T11:35:03.351Z"
   },
   {
    "duration": 240,
    "start_time": "2024-03-21T11:35:03.373Z"
   },
   {
    "duration": 103,
    "start_time": "2024-03-21T11:35:03.615Z"
   },
   {
    "duration": 6,
    "start_time": "2024-03-21T11:35:03.720Z"
   },
   {
    "duration": 229,
    "start_time": "2024-03-21T11:35:03.727Z"
   },
   {
    "duration": 347,
    "start_time": "2024-03-21T11:35:03.958Z"
   },
   {
    "duration": 256,
    "start_time": "2024-03-21T11:35:04.307Z"
   },
   {
    "duration": 42,
    "start_time": "2024-03-21T11:35:04.565Z"
   },
   {
    "duration": 14,
    "start_time": "2024-03-21T11:35:04.609Z"
   },
   {
    "duration": 22,
    "start_time": "2024-03-21T11:35:04.625Z"
   },
   {
    "duration": 20,
    "start_time": "2024-03-21T11:35:04.649Z"
   },
   {
    "duration": 8,
    "start_time": "2024-03-21T11:35:04.681Z"
   },
   {
    "duration": 125,
    "start_time": "2024-03-21T11:35:04.690Z"
   },
   {
    "duration": 3,
    "start_time": "2024-03-21T11:35:04.816Z"
   },
   {
    "duration": 260,
    "start_time": "2024-03-21T11:35:04.821Z"
   },
   {
    "duration": 226,
    "start_time": "2024-03-21T11:35:05.083Z"
   },
   {
    "duration": 238,
    "start_time": "2024-03-21T11:35:05.311Z"
   },
   {
    "duration": 248,
    "start_time": "2024-03-21T11:35:05.553Z"
   },
   {
    "duration": 21,
    "start_time": "2024-03-21T11:35:05.802Z"
   },
   {
    "duration": 29,
    "start_time": "2024-03-21T11:35:05.824Z"
   },
   {
    "duration": 24,
    "start_time": "2024-03-21T11:35:05.855Z"
   },
   {
    "duration": 53,
    "start_time": "2024-03-21T11:35:05.880Z"
   },
   {
    "duration": 26,
    "start_time": "2024-03-21T11:35:05.935Z"
   },
   {
    "duration": 15,
    "start_time": "2024-03-21T11:35:05.963Z"
   },
   {
    "duration": 17,
    "start_time": "2024-03-21T11:35:05.980Z"
   },
   {
    "duration": 16,
    "start_time": "2024-03-21T11:35:05.999Z"
   },
   {
    "duration": 24,
    "start_time": "2024-03-21T11:35:06.016Z"
   },
   {
    "duration": 23,
    "start_time": "2024-03-21T11:35:06.042Z"
   },
   {
    "duration": 13,
    "start_time": "2024-03-21T11:35:06.067Z"
   },
   {
    "duration": 56,
    "start_time": "2024-03-21T11:35:06.083Z"
   },
   {
    "duration": 17,
    "start_time": "2024-03-21T11:35:06.141Z"
   },
   {
    "duration": 34,
    "start_time": "2024-03-21T11:35:06.159Z"
   },
   {
    "duration": 136,
    "start_time": "2024-03-21T11:35:06.194Z"
   },
   {
    "duration": 0,
    "start_time": "2024-03-21T11:35:06.332Z"
   },
   {
    "duration": 0,
    "start_time": "2024-03-21T11:35:06.333Z"
   },
   {
    "duration": 0,
    "start_time": "2024-03-21T11:35:06.334Z"
   },
   {
    "duration": 0,
    "start_time": "2024-03-21T11:35:06.335Z"
   },
   {
    "duration": 0,
    "start_time": "2024-03-21T11:35:06.337Z"
   },
   {
    "duration": 0,
    "start_time": "2024-03-21T11:35:06.338Z"
   },
   {
    "duration": 0,
    "start_time": "2024-03-21T11:35:06.339Z"
   },
   {
    "duration": 10,
    "start_time": "2024-03-21T11:35:18.544Z"
   },
   {
    "duration": 5,
    "start_time": "2024-03-21T11:35:34.656Z"
   },
   {
    "duration": 11,
    "start_time": "2024-03-21T11:35:38.672Z"
   },
   {
    "duration": 5,
    "start_time": "2024-03-21T11:35:39.504Z"
   },
   {
    "duration": 5,
    "start_time": "2024-03-21T11:35:39.751Z"
   },
   {
    "duration": 388,
    "start_time": "2024-03-21T11:35:45.330Z"
   },
   {
    "duration": 261,
    "start_time": "2024-03-21T11:35:45.721Z"
   },
   {
    "duration": 3,
    "start_time": "2024-03-21T11:35:45.984Z"
   },
   {
    "duration": 458,
    "start_time": "2024-03-21T11:35:45.989Z"
   },
   {
    "duration": 29,
    "start_time": "2024-03-21T11:35:46.450Z"
   },
   {
    "duration": 29,
    "start_time": "2024-03-21T11:35:46.481Z"
   },
   {
    "duration": 16,
    "start_time": "2024-03-21T11:35:46.511Z"
   },
   {
    "duration": 11,
    "start_time": "2024-03-21T11:35:46.529Z"
   },
   {
    "duration": 55,
    "start_time": "2024-03-21T11:35:46.542Z"
   },
   {
    "duration": 22,
    "start_time": "2024-03-21T11:35:46.599Z"
   },
   {
    "duration": 51,
    "start_time": "2024-03-21T11:35:46.622Z"
   },
   {
    "duration": 34,
    "start_time": "2024-03-21T11:35:46.675Z"
   },
   {
    "duration": 38,
    "start_time": "2024-03-21T11:35:46.711Z"
   },
   {
    "duration": 25,
    "start_time": "2024-03-21T11:35:46.755Z"
   },
   {
    "duration": 15,
    "start_time": "2024-03-21T11:35:46.783Z"
   },
   {
    "duration": 20,
    "start_time": "2024-03-21T11:35:46.801Z"
   },
   {
    "duration": 22,
    "start_time": "2024-03-21T11:35:46.822Z"
   },
   {
    "duration": 11,
    "start_time": "2024-03-21T11:35:46.845Z"
   },
   {
    "duration": 28,
    "start_time": "2024-03-21T11:35:46.858Z"
   },
   {
    "duration": 9,
    "start_time": "2024-03-21T11:35:46.887Z"
   },
   {
    "duration": 12,
    "start_time": "2024-03-21T11:35:46.898Z"
   },
   {
    "duration": 70,
    "start_time": "2024-03-21T11:35:46.912Z"
   },
   {
    "duration": 13,
    "start_time": "2024-03-21T11:35:46.984Z"
   },
   {
    "duration": 13,
    "start_time": "2024-03-21T11:35:46.998Z"
   },
   {
    "duration": 273,
    "start_time": "2024-03-21T11:35:47.012Z"
   },
   {
    "duration": 113,
    "start_time": "2024-03-21T11:35:47.287Z"
   },
   {
    "duration": 7,
    "start_time": "2024-03-21T11:35:47.402Z"
   },
   {
    "duration": 214,
    "start_time": "2024-03-21T11:35:47.411Z"
   },
   {
    "duration": 337,
    "start_time": "2024-03-21T11:35:47.627Z"
   },
   {
    "duration": 240,
    "start_time": "2024-03-21T11:35:47.966Z"
   },
   {
    "duration": 31,
    "start_time": "2024-03-21T11:35:48.208Z"
   },
   {
    "duration": 16,
    "start_time": "2024-03-21T11:35:48.241Z"
   },
   {
    "duration": 10,
    "start_time": "2024-03-21T11:35:48.279Z"
   },
   {
    "duration": 40,
    "start_time": "2024-03-21T11:35:48.291Z"
   },
   {
    "duration": 7,
    "start_time": "2024-03-21T11:35:48.333Z"
   },
   {
    "duration": 95,
    "start_time": "2024-03-21T11:35:48.343Z"
   },
   {
    "duration": 3,
    "start_time": "2024-03-21T11:35:48.440Z"
   },
   {
    "duration": 289,
    "start_time": "2024-03-21T11:35:48.444Z"
   },
   {
    "duration": 233,
    "start_time": "2024-03-21T11:35:48.734Z"
   },
   {
    "duration": 226,
    "start_time": "2024-03-21T11:35:48.969Z"
   },
   {
    "duration": 243,
    "start_time": "2024-03-21T11:35:49.199Z"
   },
   {
    "duration": 18,
    "start_time": "2024-03-21T11:35:49.444Z"
   },
   {
    "duration": 27,
    "start_time": "2024-03-21T11:35:49.463Z"
   },
   {
    "duration": 3,
    "start_time": "2024-03-21T11:35:49.492Z"
   },
   {
    "duration": 16,
    "start_time": "2024-03-21T11:35:49.496Z"
   },
   {
    "duration": 4,
    "start_time": "2024-03-21T11:35:49.513Z"
   },
   {
    "duration": 12,
    "start_time": "2024-03-21T11:35:49.518Z"
   },
   {
    "duration": 50,
    "start_time": "2024-03-21T11:35:49.531Z"
   },
   {
    "duration": 18,
    "start_time": "2024-03-21T11:35:49.583Z"
   },
   {
    "duration": 15,
    "start_time": "2024-03-21T11:35:49.602Z"
   },
   {
    "duration": 30,
    "start_time": "2024-03-21T11:35:49.618Z"
   },
   {
    "duration": 5,
    "start_time": "2024-03-21T11:35:49.649Z"
   },
   {
    "duration": 11,
    "start_time": "2024-03-21T11:35:49.656Z"
   },
   {
    "duration": 14,
    "start_time": "2024-03-21T11:35:49.668Z"
   },
   {
    "duration": 14,
    "start_time": "2024-03-21T11:35:49.685Z"
   },
   {
    "duration": 12,
    "start_time": "2024-03-21T11:35:49.702Z"
   },
   {
    "duration": 3,
    "start_time": "2024-03-21T11:35:49.716Z"
   },
   {
    "duration": 7,
    "start_time": "2024-03-21T11:35:49.721Z"
   },
   {
    "duration": 4,
    "start_time": "2024-03-21T11:35:49.730Z"
   },
   {
    "duration": 44,
    "start_time": "2024-03-21T11:35:49.736Z"
   },
   {
    "duration": 6,
    "start_time": "2024-03-21T11:35:49.782Z"
   },
   {
    "duration": 22,
    "start_time": "2024-03-21T11:35:49.790Z"
   },
   {
    "duration": 8,
    "start_time": "2024-03-21T11:35:49.814Z"
   },
   {
    "duration": 1285,
    "start_time": "2024-03-21T11:36:34.128Z"
   },
   {
    "duration": 422,
    "start_time": "2024-03-21T11:36:39.764Z"
   },
   {
    "duration": 252,
    "start_time": "2024-03-21T11:36:40.188Z"
   },
   {
    "duration": 3,
    "start_time": "2024-03-21T11:36:40.441Z"
   },
   {
    "duration": 514,
    "start_time": "2024-03-21T11:36:40.446Z"
   },
   {
    "duration": 30,
    "start_time": "2024-03-21T11:36:40.963Z"
   },
   {
    "duration": 28,
    "start_time": "2024-03-21T11:36:40.994Z"
   },
   {
    "duration": 15,
    "start_time": "2024-03-21T11:36:41.024Z"
   },
   {
    "duration": 11,
    "start_time": "2024-03-21T11:36:41.040Z"
   },
   {
    "duration": 11,
    "start_time": "2024-03-21T11:36:41.052Z"
   },
   {
    "duration": 9,
    "start_time": "2024-03-21T11:36:41.065Z"
   },
   {
    "duration": 10,
    "start_time": "2024-03-21T11:36:41.076Z"
   },
   {
    "duration": 6,
    "start_time": "2024-03-21T11:36:41.088Z"
   },
   {
    "duration": 10,
    "start_time": "2024-03-21T11:36:41.096Z"
   },
   {
    "duration": 16,
    "start_time": "2024-03-21T11:36:41.109Z"
   },
   {
    "duration": 12,
    "start_time": "2024-03-21T11:36:41.126Z"
   },
   {
    "duration": 40,
    "start_time": "2024-03-21T11:36:41.140Z"
   },
   {
    "duration": 10,
    "start_time": "2024-03-21T11:36:41.182Z"
   },
   {
    "duration": 12,
    "start_time": "2024-03-21T11:36:41.194Z"
   },
   {
    "duration": 15,
    "start_time": "2024-03-21T11:36:41.208Z"
   },
   {
    "duration": 8,
    "start_time": "2024-03-21T11:36:41.225Z"
   },
   {
    "duration": 13,
    "start_time": "2024-03-21T11:36:41.235Z"
   },
   {
    "duration": 75,
    "start_time": "2024-03-21T11:36:41.250Z"
   },
   {
    "duration": 12,
    "start_time": "2024-03-21T11:36:41.326Z"
   },
   {
    "duration": 10,
    "start_time": "2024-03-21T11:36:41.340Z"
   },
   {
    "duration": 238,
    "start_time": "2024-03-21T11:36:41.352Z"
   },
   {
    "duration": 98,
    "start_time": "2024-03-21T11:36:41.592Z"
   },
   {
    "duration": 6,
    "start_time": "2024-03-21T11:36:41.691Z"
   },
   {
    "duration": 207,
    "start_time": "2024-03-21T11:36:41.698Z"
   },
   {
    "duration": 372,
    "start_time": "2024-03-21T11:36:41.906Z"
   },
   {
    "duration": 240,
    "start_time": "2024-03-21T11:36:42.280Z"
   },
   {
    "duration": 33,
    "start_time": "2024-03-21T11:36:42.522Z"
   },
   {
    "duration": 33,
    "start_time": "2024-03-21T11:36:42.556Z"
   },
   {
    "duration": 8,
    "start_time": "2024-03-21T11:36:42.590Z"
   },
   {
    "duration": 29,
    "start_time": "2024-03-21T11:36:42.600Z"
   },
   {
    "duration": 5,
    "start_time": "2024-03-21T11:36:42.631Z"
   },
   {
    "duration": 106,
    "start_time": "2024-03-21T11:36:42.638Z"
   },
   {
    "duration": 4,
    "start_time": "2024-03-21T11:36:42.745Z"
   },
   {
    "duration": 235,
    "start_time": "2024-03-21T11:36:42.751Z"
   },
   {
    "duration": 219,
    "start_time": "2024-03-21T11:36:42.988Z"
   },
   {
    "duration": 229,
    "start_time": "2024-03-21T11:36:43.209Z"
   },
   {
    "duration": 256,
    "start_time": "2024-03-21T11:36:43.442Z"
   },
   {
    "duration": 19,
    "start_time": "2024-03-21T11:36:43.700Z"
   },
   {
    "duration": 16,
    "start_time": "2024-03-21T11:36:43.720Z"
   },
   {
    "duration": 4,
    "start_time": "2024-03-21T11:36:43.737Z"
   },
   {
    "duration": 39,
    "start_time": "2024-03-21T11:36:43.742Z"
   },
   {
    "duration": 4,
    "start_time": "2024-03-21T11:36:43.783Z"
   },
   {
    "duration": 20,
    "start_time": "2024-03-21T11:36:43.789Z"
   },
   {
    "duration": 27,
    "start_time": "2024-03-21T11:36:43.810Z"
   },
   {
    "duration": 14,
    "start_time": "2024-03-21T11:36:43.839Z"
   },
   {
    "duration": 22,
    "start_time": "2024-03-21T11:36:43.855Z"
   },
   {
    "duration": 10,
    "start_time": "2024-03-21T11:36:43.879Z"
   },
   {
    "duration": 3,
    "start_time": "2024-03-21T11:36:43.891Z"
   },
   {
    "duration": 10,
    "start_time": "2024-03-21T11:36:43.896Z"
   },
   {
    "duration": 9,
    "start_time": "2024-03-21T11:36:43.908Z"
   },
   {
    "duration": 10,
    "start_time": "2024-03-21T11:36:43.918Z"
   },
   {
    "duration": 7,
    "start_time": "2024-03-21T11:36:43.930Z"
   },
   {
    "duration": 2,
    "start_time": "2024-03-21T11:36:43.939Z"
   },
   {
    "duration": 38,
    "start_time": "2024-03-21T11:36:43.943Z"
   },
   {
    "duration": 5,
    "start_time": "2024-03-21T11:36:43.983Z"
   },
   {
    "duration": 12,
    "start_time": "2024-03-21T11:36:43.989Z"
   },
   {
    "duration": 6,
    "start_time": "2024-03-21T11:36:44.002Z"
   },
   {
    "duration": 23,
    "start_time": "2024-03-21T11:36:44.010Z"
   },
   {
    "duration": 22,
    "start_time": "2024-03-21T11:36:44.035Z"
   },
   {
    "duration": 227,
    "start_time": "2024-03-21T11:36:47.656Z"
   },
   {
    "duration": 402,
    "start_time": "2024-03-21T11:36:52.411Z"
   },
   {
    "duration": 284,
    "start_time": "2024-03-21T11:36:52.815Z"
   },
   {
    "duration": 3,
    "start_time": "2024-03-21T11:36:53.100Z"
   },
   {
    "duration": 451,
    "start_time": "2024-03-21T11:36:53.104Z"
   },
   {
    "duration": 30,
    "start_time": "2024-03-21T11:36:53.557Z"
   },
   {
    "duration": 29,
    "start_time": "2024-03-21T11:36:53.589Z"
   },
   {
    "duration": 20,
    "start_time": "2024-03-21T11:36:53.620Z"
   },
   {
    "duration": 12,
    "start_time": "2024-03-21T11:36:53.641Z"
   },
   {
    "duration": 12,
    "start_time": "2024-03-21T11:36:53.654Z"
   },
   {
    "duration": 19,
    "start_time": "2024-03-21T11:36:53.667Z"
   },
   {
    "duration": 23,
    "start_time": "2024-03-21T11:36:53.687Z"
   },
   {
    "duration": 19,
    "start_time": "2024-03-21T11:36:53.711Z"
   },
   {
    "duration": 16,
    "start_time": "2024-03-21T11:36:53.732Z"
   },
   {
    "duration": 11,
    "start_time": "2024-03-21T11:36:53.751Z"
   },
   {
    "duration": 23,
    "start_time": "2024-03-21T11:36:53.764Z"
   },
   {
    "duration": 15,
    "start_time": "2024-03-21T11:36:53.789Z"
   },
   {
    "duration": 23,
    "start_time": "2024-03-21T11:36:53.805Z"
   },
   {
    "duration": 9,
    "start_time": "2024-03-21T11:36:53.830Z"
   },
   {
    "duration": 21,
    "start_time": "2024-03-21T11:36:53.840Z"
   },
   {
    "duration": 8,
    "start_time": "2024-03-21T11:36:53.863Z"
   },
   {
    "duration": 11,
    "start_time": "2024-03-21T11:36:53.873Z"
   },
   {
    "duration": 56,
    "start_time": "2024-03-21T11:36:53.885Z"
   },
   {
    "duration": 13,
    "start_time": "2024-03-21T11:36:53.943Z"
   },
   {
    "duration": 32,
    "start_time": "2024-03-21T11:36:53.957Z"
   },
   {
    "duration": 240,
    "start_time": "2024-03-21T11:36:53.991Z"
   },
   {
    "duration": 102,
    "start_time": "2024-03-21T11:36:54.233Z"
   },
   {
    "duration": 6,
    "start_time": "2024-03-21T11:36:54.337Z"
   },
   {
    "duration": 231,
    "start_time": "2024-03-21T11:36:54.344Z"
   },
   {
    "duration": 317,
    "start_time": "2024-03-21T11:36:54.579Z"
   },
   {
    "duration": 227,
    "start_time": "2024-03-21T11:36:54.898Z"
   },
   {
    "duration": 29,
    "start_time": "2024-03-21T11:36:55.127Z"
   },
   {
    "duration": 26,
    "start_time": "2024-03-21T11:36:55.158Z"
   },
   {
    "duration": 8,
    "start_time": "2024-03-21T11:36:55.185Z"
   },
   {
    "duration": 17,
    "start_time": "2024-03-21T11:36:55.194Z"
   },
   {
    "duration": 5,
    "start_time": "2024-03-21T11:36:55.213Z"
   },
   {
    "duration": 110,
    "start_time": "2024-03-21T11:36:55.219Z"
   },
   {
    "duration": 4,
    "start_time": "2024-03-21T11:36:55.331Z"
   },
   {
    "duration": 234,
    "start_time": "2024-03-21T11:36:55.336Z"
   },
   {
    "duration": 201,
    "start_time": "2024-03-21T11:36:55.572Z"
   },
   {
    "duration": 246,
    "start_time": "2024-03-21T11:36:55.780Z"
   },
   {
    "duration": 238,
    "start_time": "2024-03-21T11:36:56.030Z"
   },
   {
    "duration": 21,
    "start_time": "2024-03-21T11:36:56.270Z"
   },
   {
    "duration": 33,
    "start_time": "2024-03-21T11:36:56.293Z"
   },
   {
    "duration": 3,
    "start_time": "2024-03-21T11:36:56.328Z"
   },
   {
    "duration": 25,
    "start_time": "2024-03-21T11:36:56.332Z"
   },
   {
    "duration": 12,
    "start_time": "2024-03-21T11:36:56.359Z"
   },
   {
    "duration": 22,
    "start_time": "2024-03-21T11:36:56.372Z"
   },
   {
    "duration": 34,
    "start_time": "2024-03-21T11:36:56.396Z"
   },
   {
    "duration": 20,
    "start_time": "2024-03-21T11:36:56.432Z"
   },
   {
    "duration": 33,
    "start_time": "2024-03-21T11:36:56.454Z"
   },
   {
    "duration": 25,
    "start_time": "2024-03-21T11:36:56.489Z"
   },
   {
    "duration": 6,
    "start_time": "2024-03-21T11:36:56.516Z"
   },
   {
    "duration": 64,
    "start_time": "2024-03-21T11:36:56.524Z"
   },
   {
    "duration": 8,
    "start_time": "2024-03-21T11:36:56.590Z"
   },
   {
    "duration": 14,
    "start_time": "2024-03-21T11:36:56.600Z"
   },
   {
    "duration": 9,
    "start_time": "2024-03-21T11:36:56.616Z"
   },
   {
    "duration": 5,
    "start_time": "2024-03-21T11:36:56.627Z"
   },
   {
    "duration": 10,
    "start_time": "2024-03-21T11:36:56.633Z"
   },
   {
    "duration": 6,
    "start_time": "2024-03-21T11:36:56.645Z"
   },
   {
    "duration": 8,
    "start_time": "2024-03-21T11:36:56.653Z"
   },
   {
    "duration": 6,
    "start_time": "2024-03-21T11:36:56.662Z"
   },
   {
    "duration": 18,
    "start_time": "2024-03-21T11:36:56.680Z"
   },
   {
    "duration": 338,
    "start_time": "2024-03-21T11:36:56.699Z"
   },
   {
    "duration": 10,
    "start_time": "2024-03-21T11:37:04.200Z"
   },
   {
    "duration": 10,
    "start_time": "2024-03-21T11:37:09.376Z"
   },
   {
    "duration": 9,
    "start_time": "2024-03-21T11:37:12.199Z"
   },
   {
    "duration": 4,
    "start_time": "2024-03-21T11:38:58.712Z"
   },
   {
    "duration": 4,
    "start_time": "2024-03-21T11:38:59.216Z"
   },
   {
    "duration": 4,
    "start_time": "2024-03-21T11:39:00.695Z"
   },
   {
    "duration": 7,
    "start_time": "2024-03-21T11:39:07.088Z"
   },
   {
    "duration": 3,
    "start_time": "2024-03-21T11:39:16.328Z"
   },
   {
    "duration": 4,
    "start_time": "2024-03-21T11:39:17.040Z"
   },
   {
    "duration": 4,
    "start_time": "2024-03-21T11:39:25.967Z"
   },
   {
    "duration": 4,
    "start_time": "2024-03-21T11:39:26.535Z"
   },
   {
    "duration": 5,
    "start_time": "2024-03-21T11:39:27.159Z"
   },
   {
    "duration": 5,
    "start_time": "2024-03-21T11:39:28.103Z"
   },
   {
    "duration": 468,
    "start_time": "2024-03-21T11:39:37.071Z"
   },
   {
    "duration": 277,
    "start_time": "2024-03-21T11:39:37.541Z"
   },
   {
    "duration": 3,
    "start_time": "2024-03-21T11:39:37.820Z"
   },
   {
    "duration": 533,
    "start_time": "2024-03-21T11:39:37.824Z"
   },
   {
    "duration": 34,
    "start_time": "2024-03-21T11:39:38.359Z"
   },
   {
    "duration": 28,
    "start_time": "2024-03-21T11:39:38.396Z"
   },
   {
    "duration": 15,
    "start_time": "2024-03-21T11:39:38.426Z"
   },
   {
    "duration": 12,
    "start_time": "2024-03-21T11:39:38.443Z"
   },
   {
    "duration": 13,
    "start_time": "2024-03-21T11:39:38.457Z"
   },
   {
    "duration": 10,
    "start_time": "2024-03-21T11:39:38.472Z"
   },
   {
    "duration": 21,
    "start_time": "2024-03-21T11:39:38.484Z"
   },
   {
    "duration": 8,
    "start_time": "2024-03-21T11:39:38.507Z"
   },
   {
    "duration": 15,
    "start_time": "2024-03-21T11:39:38.517Z"
   },
   {
    "duration": 8,
    "start_time": "2024-03-21T11:39:38.536Z"
   },
   {
    "duration": 34,
    "start_time": "2024-03-21T11:39:38.546Z"
   },
   {
    "duration": 22,
    "start_time": "2024-03-21T11:39:38.583Z"
   },
   {
    "duration": 13,
    "start_time": "2024-03-21T11:39:38.606Z"
   },
   {
    "duration": 28,
    "start_time": "2024-03-21T11:39:38.621Z"
   },
   {
    "duration": 56,
    "start_time": "2024-03-21T11:39:38.652Z"
   },
   {
    "duration": 11,
    "start_time": "2024-03-21T11:39:38.711Z"
   },
   {
    "duration": 13,
    "start_time": "2024-03-21T11:39:38.724Z"
   },
   {
    "duration": 74,
    "start_time": "2024-03-21T11:39:38.739Z"
   },
   {
    "duration": 11,
    "start_time": "2024-03-21T11:39:38.815Z"
   },
   {
    "duration": 22,
    "start_time": "2024-03-21T11:39:38.827Z"
   },
   {
    "duration": 255,
    "start_time": "2024-03-21T11:39:38.850Z"
   },
   {
    "duration": 108,
    "start_time": "2024-03-21T11:39:39.107Z"
   },
   {
    "duration": 5,
    "start_time": "2024-03-21T11:39:39.217Z"
   },
   {
    "duration": 220,
    "start_time": "2024-03-21T11:39:39.223Z"
   },
   {
    "duration": 353,
    "start_time": "2024-03-21T11:39:39.444Z"
   },
   {
    "duration": 250,
    "start_time": "2024-03-21T11:39:39.799Z"
   },
   {
    "duration": 47,
    "start_time": "2024-03-21T11:39:40.051Z"
   },
   {
    "duration": 13,
    "start_time": "2024-03-21T11:39:40.100Z"
   },
   {
    "duration": 8,
    "start_time": "2024-03-21T11:39:40.115Z"
   },
   {
    "duration": 17,
    "start_time": "2024-03-21T11:39:40.124Z"
   },
   {
    "duration": 12,
    "start_time": "2024-03-21T11:39:40.142Z"
   },
   {
    "duration": 114,
    "start_time": "2024-03-21T11:39:40.155Z"
   },
   {
    "duration": 11,
    "start_time": "2024-03-21T11:39:40.271Z"
   },
   {
    "duration": 248,
    "start_time": "2024-03-21T11:39:40.284Z"
   },
   {
    "duration": 226,
    "start_time": "2024-03-21T11:39:40.534Z"
   },
   {
    "duration": 240,
    "start_time": "2024-03-21T11:39:40.761Z"
   },
   {
    "duration": 246,
    "start_time": "2024-03-21T11:39:41.005Z"
   },
   {
    "duration": 29,
    "start_time": "2024-03-21T11:39:41.252Z"
   },
   {
    "duration": 25,
    "start_time": "2024-03-21T11:39:41.284Z"
   },
   {
    "duration": 4,
    "start_time": "2024-03-21T11:39:41.311Z"
   },
   {
    "duration": 31,
    "start_time": "2024-03-21T11:39:41.316Z"
   },
   {
    "duration": 8,
    "start_time": "2024-03-21T11:39:41.349Z"
   },
   {
    "duration": 16,
    "start_time": "2024-03-21T11:39:41.359Z"
   },
   {
    "duration": 24,
    "start_time": "2024-03-21T11:39:41.377Z"
   },
   {
    "duration": 15,
    "start_time": "2024-03-21T11:39:41.403Z"
   },
   {
    "duration": 43,
    "start_time": "2024-03-21T11:39:41.419Z"
   },
   {
    "duration": 20,
    "start_time": "2024-03-21T11:39:41.464Z"
   },
   {
    "duration": 6,
    "start_time": "2024-03-21T11:39:41.485Z"
   },
   {
    "duration": 17,
    "start_time": "2024-03-21T11:39:41.493Z"
   },
   {
    "duration": 12,
    "start_time": "2024-03-21T11:39:41.511Z"
   },
   {
    "duration": 11,
    "start_time": "2024-03-21T11:39:41.525Z"
   },
   {
    "duration": 11,
    "start_time": "2024-03-21T11:39:41.537Z"
   },
   {
    "duration": 9,
    "start_time": "2024-03-21T11:39:41.550Z"
   },
   {
    "duration": 20,
    "start_time": "2024-03-21T11:39:41.560Z"
   },
   {
    "duration": 11,
    "start_time": "2024-03-21T11:39:41.582Z"
   },
   {
    "duration": 24,
    "start_time": "2024-03-21T11:39:41.595Z"
   },
   {
    "duration": 7,
    "start_time": "2024-03-21T11:39:41.621Z"
   },
   {
    "duration": 32,
    "start_time": "2024-03-21T11:39:41.629Z"
   },
   {
    "duration": 18,
    "start_time": "2024-03-21T11:39:41.663Z"
   },
   {
    "duration": 10,
    "start_time": "2024-03-21T11:42:53.751Z"
   },
   {
    "duration": 2,
    "start_time": "2024-03-21T11:43:08.806Z"
   },
   {
    "duration": 3,
    "start_time": "2024-03-21T11:46:20.735Z"
   },
   {
    "duration": 3,
    "start_time": "2024-03-21T11:46:50.917Z"
   },
   {
    "duration": 4,
    "start_time": "2024-03-21T11:47:04.717Z"
   },
   {
    "duration": 5,
    "start_time": "2024-03-21T11:47:17.006Z"
   },
   {
    "duration": 4,
    "start_time": "2024-03-21T11:47:40.399Z"
   },
   {
    "duration": 4,
    "start_time": "2024-03-21T11:47:40.701Z"
   },
   {
    "duration": 22,
    "start_time": "2024-03-21T12:27:15.055Z"
   },
   {
    "duration": 15,
    "start_time": "2024-03-21T12:27:57.750Z"
   },
   {
    "duration": 5,
    "start_time": "2024-03-21T12:28:48.182Z"
   },
   {
    "duration": 17,
    "start_time": "2024-03-21T12:28:53.790Z"
   },
   {
    "duration": 17,
    "start_time": "2024-03-21T12:29:10.750Z"
   },
   {
    "duration": 17,
    "start_time": "2024-03-21T12:29:22.518Z"
   },
   {
    "duration": 17,
    "start_time": "2024-03-21T12:29:25.701Z"
   },
   {
    "duration": 426,
    "start_time": "2024-03-21T12:29:30.469Z"
   },
   {
    "duration": 291,
    "start_time": "2024-03-21T12:29:30.897Z"
   },
   {
    "duration": 2,
    "start_time": "2024-03-21T12:29:31.190Z"
   },
   {
    "duration": 549,
    "start_time": "2024-03-21T12:29:31.194Z"
   },
   {
    "duration": 30,
    "start_time": "2024-03-21T12:29:31.745Z"
   },
   {
    "duration": 56,
    "start_time": "2024-03-21T12:29:31.776Z"
   },
   {
    "duration": 16,
    "start_time": "2024-03-21T12:29:31.833Z"
   },
   {
    "duration": 27,
    "start_time": "2024-03-21T12:29:31.850Z"
   },
   {
    "duration": 33,
    "start_time": "2024-03-21T12:29:31.878Z"
   },
   {
    "duration": 24,
    "start_time": "2024-03-21T12:29:31.914Z"
   },
   {
    "duration": 19,
    "start_time": "2024-03-21T12:29:31.939Z"
   },
   {
    "duration": 26,
    "start_time": "2024-03-21T12:29:31.959Z"
   },
   {
    "duration": 59,
    "start_time": "2024-03-21T12:29:31.987Z"
   },
   {
    "duration": 50,
    "start_time": "2024-03-21T12:29:32.048Z"
   },
   {
    "duration": 21,
    "start_time": "2024-03-21T12:29:32.100Z"
   },
   {
    "duration": 26,
    "start_time": "2024-03-21T12:29:32.122Z"
   },
   {
    "duration": 34,
    "start_time": "2024-03-21T12:29:32.149Z"
   },
   {
    "duration": 38,
    "start_time": "2024-03-21T12:29:32.184Z"
   },
   {
    "duration": 24,
    "start_time": "2024-03-21T12:29:32.223Z"
   },
   {
    "duration": 8,
    "start_time": "2024-03-21T12:29:32.248Z"
   },
   {
    "duration": 10,
    "start_time": "2024-03-21T12:29:32.257Z"
   },
   {
    "duration": 58,
    "start_time": "2024-03-21T12:29:32.268Z"
   },
   {
    "duration": 12,
    "start_time": "2024-03-21T12:29:32.327Z"
   },
   {
    "duration": 11,
    "start_time": "2024-03-21T12:29:32.340Z"
   },
   {
    "duration": 259,
    "start_time": "2024-03-21T12:29:32.352Z"
   },
   {
    "duration": 103,
    "start_time": "2024-03-21T12:29:32.613Z"
   },
   {
    "duration": 8,
    "start_time": "2024-03-21T12:29:32.719Z"
   },
   {
    "duration": 222,
    "start_time": "2024-03-21T12:29:32.733Z"
   },
   {
    "duration": 323,
    "start_time": "2024-03-21T12:29:32.957Z"
   },
   {
    "duration": 239,
    "start_time": "2024-03-21T12:29:33.282Z"
   },
   {
    "duration": 30,
    "start_time": "2024-03-21T12:29:33.522Z"
   },
   {
    "duration": 32,
    "start_time": "2024-03-21T12:29:33.553Z"
   },
   {
    "duration": 7,
    "start_time": "2024-03-21T12:29:33.586Z"
   },
   {
    "duration": 20,
    "start_time": "2024-03-21T12:29:33.595Z"
   },
   {
    "duration": 10,
    "start_time": "2024-03-21T12:29:33.617Z"
   },
   {
    "duration": 115,
    "start_time": "2024-03-21T12:29:33.628Z"
   },
   {
    "duration": 4,
    "start_time": "2024-03-21T12:29:33.745Z"
   },
   {
    "duration": 287,
    "start_time": "2024-03-21T12:29:33.751Z"
   },
   {
    "duration": 229,
    "start_time": "2024-03-21T12:29:34.040Z"
   },
   {
    "duration": 244,
    "start_time": "2024-03-21T12:29:34.270Z"
   },
   {
    "duration": 255,
    "start_time": "2024-03-21T12:29:34.515Z"
   },
   {
    "duration": 22,
    "start_time": "2024-03-21T12:29:34.771Z"
   },
   {
    "duration": 14,
    "start_time": "2024-03-21T12:29:34.795Z"
   },
   {
    "duration": 11,
    "start_time": "2024-03-21T12:29:34.811Z"
   },
   {
    "duration": 20,
    "start_time": "2024-03-21T12:29:34.823Z"
   },
   {
    "duration": 5,
    "start_time": "2024-03-21T12:29:34.844Z"
   },
   {
    "duration": 14,
    "start_time": "2024-03-21T12:29:34.851Z"
   },
   {
    "duration": 33,
    "start_time": "2024-03-21T12:29:34.867Z"
   },
   {
    "duration": 16,
    "start_time": "2024-03-21T12:29:34.901Z"
   },
   {
    "duration": 39,
    "start_time": "2024-03-21T12:29:34.919Z"
   },
   {
    "duration": 14,
    "start_time": "2024-03-21T12:29:34.960Z"
   },
   {
    "duration": 5,
    "start_time": "2024-03-21T12:29:34.976Z"
   },
   {
    "duration": 23,
    "start_time": "2024-03-21T12:29:34.983Z"
   },
   {
    "duration": 14,
    "start_time": "2024-03-21T12:29:35.008Z"
   },
   {
    "duration": 57,
    "start_time": "2024-03-21T12:29:35.024Z"
   },
   {
    "duration": 10,
    "start_time": "2024-03-21T12:29:35.083Z"
   },
   {
    "duration": 22,
    "start_time": "2024-03-21T12:29:35.095Z"
   },
   {
    "duration": 13,
    "start_time": "2024-03-21T12:29:35.118Z"
   },
   {
    "duration": 22,
    "start_time": "2024-03-21T12:29:35.133Z"
   },
   {
    "duration": 12,
    "start_time": "2024-03-21T12:29:35.156Z"
   },
   {
    "duration": 7,
    "start_time": "2024-03-21T12:29:35.169Z"
   },
   {
    "duration": 17,
    "start_time": "2024-03-21T12:29:35.178Z"
   },
   {
    "duration": 3,
    "start_time": "2024-03-21T12:29:35.196Z"
   },
   {
    "duration": 5,
    "start_time": "2024-03-21T12:29:35.200Z"
   },
   {
    "duration": 5,
    "start_time": "2024-03-21T12:29:35.207Z"
   },
   {
    "duration": 6,
    "start_time": "2024-03-21T12:29:35.213Z"
   },
   {
    "duration": 8,
    "start_time": "2024-03-21T12:29:35.220Z"
   },
   {
    "duration": 113,
    "start_time": "2024-03-21T12:29:35.230Z"
   },
   {
    "duration": 0,
    "start_time": "2024-03-21T12:29:35.345Z"
   },
   {
    "duration": 17,
    "start_time": "2024-03-21T12:29:39.390Z"
   },
   {
    "duration": 16,
    "start_time": "2024-03-21T12:29:54.142Z"
   },
   {
    "duration": 9,
    "start_time": "2024-03-21T12:30:45.350Z"
   },
   {
    "duration": 7,
    "start_time": "2024-03-21T12:30:50.581Z"
   },
   {
    "duration": 21,
    "start_time": "2024-03-21T12:30:56.762Z"
   },
   {
    "duration": 11,
    "start_time": "2024-03-21T12:32:17.989Z"
   },
   {
    "duration": 17,
    "start_time": "2024-03-21T12:32:27.812Z"
   },
   {
    "duration": 12,
    "start_time": "2024-03-21T12:32:36.644Z"
   },
   {
    "duration": 11,
    "start_time": "2024-03-21T12:33:05.021Z"
   },
   {
    "duration": 27,
    "start_time": "2024-03-21T12:33:28.428Z"
   },
   {
    "duration": 8,
    "start_time": "2024-03-21T12:33:34.220Z"
   },
   {
    "duration": 3,
    "start_time": "2024-03-21T12:34:08.012Z"
   },
   {
    "duration": 4,
    "start_time": "2024-03-21T12:34:33.780Z"
   },
   {
    "duration": 18,
    "start_time": "2024-03-21T12:34:35.188Z"
   },
   {
    "duration": 8,
    "start_time": "2024-03-21T12:34:36.316Z"
   },
   {
    "duration": 21,
    "start_time": "2024-03-21T12:35:05.459Z"
   },
   {
    "duration": 9,
    "start_time": "2024-03-21T12:35:58.898Z"
   },
   {
    "duration": 2,
    "start_time": "2024-03-21T12:37:04.219Z"
   },
   {
    "duration": 96,
    "start_time": "2024-03-21T12:39:56.130Z"
   },
   {
    "duration": 8,
    "start_time": "2024-03-21T12:40:31.282Z"
   },
   {
    "duration": 20,
    "start_time": "2024-03-21T12:40:47.194Z"
   },
   {
    "duration": 12,
    "start_time": "2024-03-21T12:41:14.361Z"
   },
   {
    "duration": 15,
    "start_time": "2024-03-21T12:41:16.928Z"
   },
   {
    "duration": 10,
    "start_time": "2024-03-21T12:42:31.425Z"
   },
   {
    "duration": 7,
    "start_time": "2024-03-21T12:42:36.072Z"
   },
   {
    "duration": 8,
    "start_time": "2024-03-21T12:42:49.761Z"
   },
   {
    "duration": 16,
    "start_time": "2024-03-21T12:43:58.360Z"
   },
   {
    "duration": 3,
    "start_time": "2024-03-21T12:47:13.015Z"
   },
   {
    "duration": 4,
    "start_time": "2024-03-21T12:47:13.687Z"
   },
   {
    "duration": 4,
    "start_time": "2024-03-21T12:47:35.310Z"
   },
   {
    "duration": 4,
    "start_time": "2024-03-21T12:47:42.406Z"
   },
   {
    "duration": 113,
    "start_time": "2024-03-21T12:59:38.901Z"
   },
   {
    "duration": 421,
    "start_time": "2024-03-21T13:10:31.106Z"
   },
   {
    "duration": 293,
    "start_time": "2024-03-21T13:10:31.529Z"
   },
   {
    "duration": 3,
    "start_time": "2024-03-21T13:10:31.824Z"
   },
   {
    "duration": 525,
    "start_time": "2024-03-21T13:10:31.829Z"
   },
   {
    "duration": 35,
    "start_time": "2024-03-21T13:10:32.357Z"
   },
   {
    "duration": 30,
    "start_time": "2024-03-21T13:10:32.395Z"
   },
   {
    "duration": 16,
    "start_time": "2024-03-21T13:10:32.426Z"
   },
   {
    "duration": 19,
    "start_time": "2024-03-21T13:10:32.444Z"
   },
   {
    "duration": 30,
    "start_time": "2024-03-21T13:10:32.464Z"
   },
   {
    "duration": 14,
    "start_time": "2024-03-21T13:10:32.496Z"
   },
   {
    "duration": 32,
    "start_time": "2024-03-21T13:10:32.511Z"
   },
   {
    "duration": 15,
    "start_time": "2024-03-21T13:10:32.545Z"
   },
   {
    "duration": 31,
    "start_time": "2024-03-21T13:10:32.562Z"
   },
   {
    "duration": 22,
    "start_time": "2024-03-21T13:10:32.598Z"
   },
   {
    "duration": 12,
    "start_time": "2024-03-21T13:10:32.622Z"
   },
   {
    "duration": 22,
    "start_time": "2024-03-21T13:10:32.635Z"
   },
   {
    "duration": 35,
    "start_time": "2024-03-21T13:10:32.658Z"
   },
   {
    "duration": 47,
    "start_time": "2024-03-21T13:10:32.695Z"
   },
   {
    "duration": 38,
    "start_time": "2024-03-21T13:10:32.743Z"
   },
   {
    "duration": 13,
    "start_time": "2024-03-21T13:10:32.784Z"
   },
   {
    "duration": 5,
    "start_time": "2024-03-21T13:10:32.800Z"
   },
   {
    "duration": 58,
    "start_time": "2024-03-21T13:10:32.806Z"
   },
   {
    "duration": 18,
    "start_time": "2024-03-21T13:10:32.881Z"
   },
   {
    "duration": 11,
    "start_time": "2024-03-21T13:10:32.901Z"
   },
   {
    "duration": 266,
    "start_time": "2024-03-21T13:10:32.914Z"
   },
   {
    "duration": 116,
    "start_time": "2024-03-21T13:10:33.182Z"
   },
   {
    "duration": 6,
    "start_time": "2024-03-21T13:10:33.300Z"
   },
   {
    "duration": 221,
    "start_time": "2024-03-21T13:10:33.307Z"
   },
   {
    "duration": 335,
    "start_time": "2024-03-21T13:10:33.530Z"
   },
   {
    "duration": 254,
    "start_time": "2024-03-21T13:10:33.867Z"
   },
   {
    "duration": 29,
    "start_time": "2024-03-21T13:10:34.123Z"
   },
   {
    "duration": 30,
    "start_time": "2024-03-21T13:10:34.153Z"
   },
   {
    "duration": 10,
    "start_time": "2024-03-21T13:10:34.186Z"
   },
   {
    "duration": 20,
    "start_time": "2024-03-21T13:10:34.197Z"
   },
   {
    "duration": 5,
    "start_time": "2024-03-21T13:10:34.218Z"
   },
   {
    "duration": 113,
    "start_time": "2024-03-21T13:10:34.225Z"
   },
   {
    "duration": 4,
    "start_time": "2024-03-21T13:10:34.339Z"
   },
   {
    "duration": 270,
    "start_time": "2024-03-21T13:10:34.345Z"
   },
   {
    "duration": 261,
    "start_time": "2024-03-21T13:10:34.616Z"
   },
   {
    "duration": 252,
    "start_time": "2024-03-21T13:10:34.880Z"
   },
   {
    "duration": 266,
    "start_time": "2024-03-21T13:10:35.137Z"
   },
   {
    "duration": 19,
    "start_time": "2024-03-21T13:10:35.405Z"
   },
   {
    "duration": 16,
    "start_time": "2024-03-21T13:10:35.426Z"
   },
   {
    "duration": 4,
    "start_time": "2024-03-21T13:10:35.444Z"
   },
   {
    "duration": 47,
    "start_time": "2024-03-21T13:10:35.449Z"
   },
   {
    "duration": 3,
    "start_time": "2024-03-21T13:10:35.498Z"
   },
   {
    "duration": 16,
    "start_time": "2024-03-21T13:10:35.502Z"
   },
   {
    "duration": 16,
    "start_time": "2024-03-21T13:10:35.519Z"
   },
   {
    "duration": 28,
    "start_time": "2024-03-21T13:10:35.537Z"
   },
   {
    "duration": 20,
    "start_time": "2024-03-21T13:10:35.567Z"
   },
   {
    "duration": 17,
    "start_time": "2024-03-21T13:10:35.589Z"
   },
   {
    "duration": 4,
    "start_time": "2024-03-21T13:10:35.607Z"
   },
   {
    "duration": 17,
    "start_time": "2024-03-21T13:10:35.613Z"
   },
   {
    "duration": 4,
    "start_time": "2024-03-21T13:10:35.631Z"
   },
   {
    "duration": 13,
    "start_time": "2024-03-21T13:10:35.637Z"
   },
   {
    "duration": 38,
    "start_time": "2024-03-21T13:10:35.651Z"
   },
   {
    "duration": 4,
    "start_time": "2024-03-21T13:10:35.691Z"
   },
   {
    "duration": 6,
    "start_time": "2024-03-21T13:10:35.697Z"
   },
   {
    "duration": 3,
    "start_time": "2024-03-21T13:10:35.705Z"
   },
   {
    "duration": 5,
    "start_time": "2024-03-21T13:10:35.710Z"
   },
   {
    "duration": 4,
    "start_time": "2024-03-21T13:10:35.716Z"
   },
   {
    "duration": 9,
    "start_time": "2024-03-21T13:10:35.722Z"
   },
   {
    "duration": 9,
    "start_time": "2024-03-21T13:10:35.733Z"
   },
   {
    "duration": 20,
    "start_time": "2024-03-21T13:10:35.743Z"
   },
   {
    "duration": 11,
    "start_time": "2024-03-21T13:10:35.765Z"
   },
   {
    "duration": 5,
    "start_time": "2024-03-21T13:10:35.781Z"
   },
   {
    "duration": 16,
    "start_time": "2024-03-21T13:10:35.787Z"
   },
   {
    "duration": 11,
    "start_time": "2024-03-21T13:10:35.805Z"
   },
   {
    "duration": 19,
    "start_time": "2024-03-21T13:10:35.818Z"
   },
   {
    "duration": 15,
    "start_time": "2024-03-21T13:10:35.838Z"
   },
   {
    "duration": 6,
    "start_time": "2024-03-21T13:10:35.854Z"
   },
   {
    "duration": 11,
    "start_time": "2024-03-21T13:10:35.880Z"
   },
   {
    "duration": 24,
    "start_time": "2024-03-21T13:10:35.894Z"
   },
   {
    "duration": 11,
    "start_time": "2024-03-21T13:10:35.920Z"
   },
   {
    "duration": 5,
    "start_time": "2024-03-21T13:10:35.933Z"
   },
   {
    "duration": 6,
    "start_time": "2024-03-21T13:10:35.940Z"
   },
   {
    "duration": 9,
    "start_time": "2024-03-21T13:10:35.947Z"
   },
   {
    "duration": 3,
    "start_time": "2024-03-21T13:31:06.246Z"
   },
   {
    "duration": 3,
    "start_time": "2024-03-21T13:42:27.240Z"
   },
   {
    "duration": 3,
    "start_time": "2024-03-21T13:43:53.967Z"
   },
   {
    "duration": 439,
    "start_time": "2024-03-21T13:43:57.565Z"
   },
   {
    "duration": 266,
    "start_time": "2024-03-21T13:43:58.006Z"
   },
   {
    "duration": 2,
    "start_time": "2024-03-21T13:43:58.274Z"
   },
   {
    "duration": 587,
    "start_time": "2024-03-21T13:43:58.281Z"
   },
   {
    "duration": 29,
    "start_time": "2024-03-21T13:43:58.870Z"
   },
   {
    "duration": 29,
    "start_time": "2024-03-21T13:43:58.901Z"
   },
   {
    "duration": 16,
    "start_time": "2024-03-21T13:43:58.931Z"
   },
   {
    "duration": 12,
    "start_time": "2024-03-21T13:43:58.948Z"
   },
   {
    "duration": 12,
    "start_time": "2024-03-21T13:43:58.961Z"
   },
   {
    "duration": 13,
    "start_time": "2024-03-21T13:43:58.976Z"
   },
   {
    "duration": 13,
    "start_time": "2024-03-21T13:43:58.990Z"
   },
   {
    "duration": 7,
    "start_time": "2024-03-21T13:43:59.005Z"
   },
   {
    "duration": 17,
    "start_time": "2024-03-21T13:43:59.013Z"
   },
   {
    "duration": 8,
    "start_time": "2024-03-21T13:43:59.032Z"
   },
   {
    "duration": 20,
    "start_time": "2024-03-21T13:43:59.042Z"
   },
   {
    "duration": 27,
    "start_time": "2024-03-21T13:43:59.063Z"
   },
   {
    "duration": 12,
    "start_time": "2024-03-21T13:43:59.092Z"
   },
   {
    "duration": 23,
    "start_time": "2024-03-21T13:43:59.106Z"
   },
   {
    "duration": 17,
    "start_time": "2024-03-21T13:43:59.131Z"
   },
   {
    "duration": 15,
    "start_time": "2024-03-21T13:43:59.150Z"
   },
   {
    "duration": 10,
    "start_time": "2024-03-21T13:43:59.166Z"
   },
   {
    "duration": 60,
    "start_time": "2024-03-21T13:43:59.178Z"
   },
   {
    "duration": 11,
    "start_time": "2024-03-21T13:43:59.240Z"
   },
   {
    "duration": 28,
    "start_time": "2024-03-21T13:43:59.253Z"
   },
   {
    "duration": 246,
    "start_time": "2024-03-21T13:43:59.282Z"
   },
   {
    "duration": 97,
    "start_time": "2024-03-21T13:43:59.530Z"
   },
   {
    "duration": 7,
    "start_time": "2024-03-21T13:43:59.629Z"
   },
   {
    "duration": 229,
    "start_time": "2024-03-21T13:43:59.642Z"
   },
   {
    "duration": 332,
    "start_time": "2024-03-21T13:43:59.873Z"
   },
   {
    "duration": 268,
    "start_time": "2024-03-21T13:44:00.207Z"
   },
   {
    "duration": 32,
    "start_time": "2024-03-21T13:44:00.480Z"
   },
   {
    "duration": 133,
    "start_time": "2024-03-21T13:44:00.513Z"
   },
   {
    "duration": 73,
    "start_time": "2024-03-21T13:44:00.647Z"
   },
   {
    "duration": 75,
    "start_time": "2024-03-21T13:44:00.722Z"
   },
   {
    "duration": 57,
    "start_time": "2024-03-21T13:44:00.798Z"
   },
   {
    "duration": 132,
    "start_time": "2024-03-21T13:44:00.857Z"
   },
   {
    "duration": 4,
    "start_time": "2024-03-21T13:44:00.991Z"
   },
   {
    "duration": 303,
    "start_time": "2024-03-21T13:44:00.996Z"
   },
   {
    "duration": 236,
    "start_time": "2024-03-21T13:44:01.300Z"
   },
   {
    "duration": 259,
    "start_time": "2024-03-21T13:44:01.538Z"
   },
   {
    "duration": 440,
    "start_time": "2024-03-21T13:44:01.799Z"
   },
   {
    "duration": 20,
    "start_time": "2024-03-21T13:44:02.241Z"
   },
   {
    "duration": 42,
    "start_time": "2024-03-21T13:44:02.263Z"
   },
   {
    "duration": 19,
    "start_time": "2024-03-21T13:44:02.307Z"
   },
   {
    "duration": 36,
    "start_time": "2024-03-21T13:44:02.328Z"
   },
   {
    "duration": 12,
    "start_time": "2024-03-21T13:44:02.366Z"
   },
   {
    "duration": 34,
    "start_time": "2024-03-21T13:44:02.380Z"
   },
   {
    "duration": 32,
    "start_time": "2024-03-21T13:44:02.416Z"
   },
   {
    "duration": 43,
    "start_time": "2024-03-21T13:44:02.449Z"
   },
   {
    "duration": 42,
    "start_time": "2024-03-21T13:44:02.494Z"
   },
   {
    "duration": 34,
    "start_time": "2024-03-21T13:44:02.538Z"
   },
   {
    "duration": 24,
    "start_time": "2024-03-21T13:44:02.574Z"
   },
   {
    "duration": 20,
    "start_time": "2024-03-21T13:44:02.600Z"
   },
   {
    "duration": 8,
    "start_time": "2024-03-21T13:44:02.622Z"
   },
   {
    "duration": 13,
    "start_time": "2024-03-21T13:44:02.631Z"
   },
   {
    "duration": 9,
    "start_time": "2024-03-21T13:44:02.646Z"
   },
   {
    "duration": 42,
    "start_time": "2024-03-21T13:44:02.657Z"
   },
   {
    "duration": 15,
    "start_time": "2024-03-21T13:44:02.701Z"
   },
   {
    "duration": 24,
    "start_time": "2024-03-21T13:44:02.718Z"
   },
   {
    "duration": 7,
    "start_time": "2024-03-21T13:44:02.744Z"
   },
   {
    "duration": 16,
    "start_time": "2024-03-21T13:44:02.753Z"
   },
   {
    "duration": 26,
    "start_time": "2024-03-21T13:44:02.771Z"
   },
   {
    "duration": 20,
    "start_time": "2024-03-21T13:44:02.799Z"
   },
   {
    "duration": 14,
    "start_time": "2024-03-21T13:44:02.820Z"
   },
   {
    "duration": 26,
    "start_time": "2024-03-21T13:44:02.835Z"
   },
   {
    "duration": 43,
    "start_time": "2024-03-21T13:44:02.863Z"
   },
   {
    "duration": 29,
    "start_time": "2024-03-21T13:44:02.907Z"
   },
   {
    "duration": 36,
    "start_time": "2024-03-21T13:44:02.937Z"
   },
   {
    "duration": 54,
    "start_time": "2024-03-21T13:44:02.975Z"
   },
   {
    "duration": 37,
    "start_time": "2024-03-21T13:44:03.031Z"
   },
   {
    "duration": 19,
    "start_time": "2024-03-21T13:44:03.070Z"
   },
   {
    "duration": 23,
    "start_time": "2024-03-21T13:44:03.091Z"
   },
   {
    "duration": 10,
    "start_time": "2024-03-21T13:44:03.116Z"
   },
   {
    "duration": 19,
    "start_time": "2024-03-21T13:44:03.128Z"
   },
   {
    "duration": 16,
    "start_time": "2024-03-21T13:44:03.149Z"
   },
   {
    "duration": 36,
    "start_time": "2024-03-21T13:44:03.167Z"
   },
   {
    "duration": 27,
    "start_time": "2024-03-21T13:44:03.205Z"
   },
   {
    "duration": 19,
    "start_time": "2024-03-21T13:44:03.234Z"
   },
   {
    "duration": 1534,
    "start_time": "2024-03-21T13:44:45.719Z"
   },
   {
    "duration": 1661,
    "start_time": "2024-03-21T13:45:01.863Z"
   },
   {
    "duration": 372,
    "start_time": "2024-03-21T13:45:19.494Z"
   },
   {
    "duration": 293,
    "start_time": "2024-03-21T13:45:27.031Z"
   },
   {
    "duration": 1635,
    "start_time": "2024-03-21T13:45:32.279Z"
   },
   {
    "duration": 1754,
    "start_time": "2024-03-21T13:45:39.310Z"
   },
   {
    "duration": 191,
    "start_time": "2024-03-21T13:46:03.015Z"
   },
   {
    "duration": 200,
    "start_time": "2024-03-21T13:46:06.639Z"
   },
   {
    "duration": 1742,
    "start_time": "2024-03-21T13:46:17.831Z"
   },
   {
    "duration": 10,
    "start_time": "2024-03-21T13:46:30.270Z"
   },
   {
    "duration": 12,
    "start_time": "2024-03-21T13:48:01.006Z"
   },
   {
    "duration": 9,
    "start_time": "2024-03-21T13:48:19.806Z"
   },
   {
    "duration": 8,
    "start_time": "2024-03-21T13:48:26.621Z"
   },
   {
    "duration": 88,
    "start_time": "2024-03-21T13:48:41.710Z"
   },
   {
    "duration": 69,
    "start_time": "2024-03-21T13:48:44.246Z"
   },
   {
    "duration": 421,
    "start_time": "2024-03-21T13:48:59.451Z"
   },
   {
    "duration": 265,
    "start_time": "2024-03-21T13:48:59.874Z"
   },
   {
    "duration": 3,
    "start_time": "2024-03-21T13:49:00.141Z"
   },
   {
    "duration": 503,
    "start_time": "2024-03-21T13:49:00.146Z"
   },
   {
    "duration": 30,
    "start_time": "2024-03-21T13:49:00.651Z"
   },
   {
    "duration": 244,
    "start_time": "2024-03-21T13:49:00.682Z"
   },
   {
    "duration": 42,
    "start_time": "2024-03-21T13:49:00.927Z"
   },
   {
    "duration": 99,
    "start_time": "2024-03-21T13:49:00.971Z"
   },
   {
    "duration": 120,
    "start_time": "2024-03-21T13:49:01.072Z"
   },
   {
    "duration": 340,
    "start_time": "2024-03-21T13:49:01.195Z"
   },
   {
    "duration": 274,
    "start_time": "2024-03-21T13:49:01.537Z"
   },
   {
    "duration": 60,
    "start_time": "2024-03-21T13:49:01.813Z"
   },
   {
    "duration": 80,
    "start_time": "2024-03-21T13:49:01.875Z"
   },
   {
    "duration": 147,
    "start_time": "2024-03-21T13:49:01.956Z"
   },
   {
    "duration": 85,
    "start_time": "2024-03-21T13:49:02.105Z"
   },
   {
    "duration": 97,
    "start_time": "2024-03-21T13:49:02.192Z"
   },
   {
    "duration": 44,
    "start_time": "2024-03-21T13:49:02.291Z"
   },
   {
    "duration": 20,
    "start_time": "2024-03-21T13:49:02.337Z"
   },
   {
    "duration": 87,
    "start_time": "2024-03-21T13:49:02.359Z"
   },
   {
    "duration": 33,
    "start_time": "2024-03-21T13:49:02.447Z"
   },
   {
    "duration": 68,
    "start_time": "2024-03-21T13:49:02.482Z"
   },
   {
    "duration": 251,
    "start_time": "2024-03-21T13:49:02.552Z"
   },
   {
    "duration": 13,
    "start_time": "2024-03-21T13:49:02.805Z"
   },
   {
    "duration": 50,
    "start_time": "2024-03-21T13:49:02.821Z"
   },
   {
    "duration": 270,
    "start_time": "2024-03-21T13:49:02.873Z"
   },
   {
    "duration": 129,
    "start_time": "2024-03-21T13:49:03.145Z"
   },
   {
    "duration": 7,
    "start_time": "2024-03-21T13:49:03.280Z"
   },
   {
    "duration": 230,
    "start_time": "2024-03-21T13:49:03.293Z"
   },
   {
    "duration": 335,
    "start_time": "2024-03-21T13:49:03.526Z"
   },
   {
    "duration": 242,
    "start_time": "2024-03-21T13:49:03.864Z"
   },
   {
    "duration": 33,
    "start_time": "2024-03-21T13:49:04.108Z"
   },
   {
    "duration": 38,
    "start_time": "2024-03-21T13:49:04.143Z"
   },
   {
    "duration": 9,
    "start_time": "2024-03-21T13:49:04.183Z"
   },
   {
    "duration": 19,
    "start_time": "2024-03-21T13:49:04.194Z"
   },
   {
    "duration": 6,
    "start_time": "2024-03-21T13:49:04.215Z"
   },
   {
    "duration": 116,
    "start_time": "2024-03-21T13:49:04.223Z"
   },
   {
    "duration": 4,
    "start_time": "2024-03-21T13:49:04.342Z"
   },
   {
    "duration": 251,
    "start_time": "2024-03-21T13:49:04.348Z"
   },
   {
    "duration": 281,
    "start_time": "2024-03-21T13:49:04.601Z"
   },
   {
    "duration": 224,
    "start_time": "2024-03-21T13:49:04.884Z"
   },
   {
    "duration": 238,
    "start_time": "2024-03-21T13:49:05.109Z"
   },
   {
    "duration": 19,
    "start_time": "2024-03-21T13:49:05.348Z"
   },
   {
    "duration": 30,
    "start_time": "2024-03-21T13:49:05.368Z"
   },
   {
    "duration": 6,
    "start_time": "2024-03-21T13:49:05.399Z"
   },
   {
    "duration": 17,
    "start_time": "2024-03-21T13:49:05.406Z"
   },
   {
    "duration": 18,
    "start_time": "2024-03-21T13:49:05.425Z"
   },
   {
    "duration": 14,
    "start_time": "2024-03-21T13:49:05.445Z"
   },
   {
    "duration": 20,
    "start_time": "2024-03-21T13:49:05.460Z"
   },
   {
    "duration": 16,
    "start_time": "2024-03-21T13:49:05.482Z"
   },
   {
    "duration": 15,
    "start_time": "2024-03-21T13:49:05.500Z"
   },
   {
    "duration": 11,
    "start_time": "2024-03-21T13:49:05.517Z"
   },
   {
    "duration": 7,
    "start_time": "2024-03-21T13:49:05.529Z"
   },
   {
    "duration": 12,
    "start_time": "2024-03-21T13:49:05.537Z"
   },
   {
    "duration": 7,
    "start_time": "2024-03-21T13:49:05.550Z"
   },
   {
    "duration": 11,
    "start_time": "2024-03-21T13:49:05.579Z"
   },
   {
    "duration": 15,
    "start_time": "2024-03-21T13:49:05.591Z"
   },
   {
    "duration": 17,
    "start_time": "2024-03-21T13:49:05.608Z"
   },
   {
    "duration": 15,
    "start_time": "2024-03-21T13:49:05.626Z"
   },
   {
    "duration": 7,
    "start_time": "2024-03-21T13:49:05.643Z"
   },
   {
    "duration": 4,
    "start_time": "2024-03-21T13:49:05.651Z"
   },
   {
    "duration": 5,
    "start_time": "2024-03-21T13:49:05.657Z"
   },
   {
    "duration": 17,
    "start_time": "2024-03-21T13:49:05.664Z"
   },
   {
    "duration": 3,
    "start_time": "2024-03-21T13:49:05.682Z"
   },
   {
    "duration": 9,
    "start_time": "2024-03-21T13:49:05.686Z"
   },
   {
    "duration": 4,
    "start_time": "2024-03-21T13:49:05.697Z"
   },
   {
    "duration": 5,
    "start_time": "2024-03-21T13:49:05.702Z"
   },
   {
    "duration": 12,
    "start_time": "2024-03-21T13:49:05.708Z"
   },
   {
    "duration": 5,
    "start_time": "2024-03-21T13:49:05.721Z"
   },
   {
    "duration": 18,
    "start_time": "2024-03-21T13:49:05.727Z"
   },
   {
    "duration": 34,
    "start_time": "2024-03-21T13:49:05.747Z"
   },
   {
    "duration": 7,
    "start_time": "2024-03-21T13:49:05.783Z"
   },
   {
    "duration": 9,
    "start_time": "2024-03-21T13:49:05.791Z"
   },
   {
    "duration": 5,
    "start_time": "2024-03-21T13:49:05.802Z"
   },
   {
    "duration": 6,
    "start_time": "2024-03-21T13:49:05.809Z"
   },
   {
    "duration": 13,
    "start_time": "2024-03-21T13:49:05.816Z"
   },
   {
    "duration": 12,
    "start_time": "2024-03-21T13:49:05.831Z"
   },
   {
    "duration": 5,
    "start_time": "2024-03-21T13:49:05.844Z"
   },
   {
    "duration": 170,
    "start_time": "2024-03-21T13:49:05.851Z"
   },
   {
    "duration": 53,
    "start_time": "2024-03-21T13:49:11.245Z"
   },
   {
    "duration": 42,
    "start_time": "2024-03-21T13:49:14.686Z"
   },
   {
    "duration": 40,
    "start_time": "2024-03-21T13:49:27.710Z"
   },
   {
    "duration": 245,
    "start_time": "2024-03-21T13:49:30.325Z"
   },
   {
    "duration": 45,
    "start_time": "2024-03-21T13:49:43.222Z"
   },
   {
    "duration": 77,
    "start_time": "2024-03-21T13:49:46.406Z"
   },
   {
    "duration": 43,
    "start_time": "2024-03-21T13:49:50.358Z"
   },
   {
    "duration": 1541,
    "start_time": "2024-03-21T13:49:53.390Z"
   },
   {
    "duration": 42,
    "start_time": "2024-03-21T13:50:50.916Z"
   },
   {
    "duration": 1812,
    "start_time": "2024-03-21T13:50:54.099Z"
   },
   {
    "duration": 9,
    "start_time": "2024-03-21T13:51:07.373Z"
   },
   {
    "duration": 12,
    "start_time": "2024-03-21T13:52:01.293Z"
   },
   {
    "duration": 101,
    "start_time": "2024-03-21T14:07:10.536Z"
   },
   {
    "duration": 94,
    "start_time": "2024-03-21T14:07:23.664Z"
   },
   {
    "duration": 92,
    "start_time": "2024-03-21T14:07:32.569Z"
   },
   {
    "duration": 427,
    "start_time": "2024-03-21T14:07:36.673Z"
   },
   {
    "duration": 279,
    "start_time": "2024-03-21T14:07:37.101Z"
   },
   {
    "duration": 3,
    "start_time": "2024-03-21T14:07:37.381Z"
   },
   {
    "duration": 113,
    "start_time": "2024-03-21T14:07:37.386Z"
   },
   {
    "duration": 0,
    "start_time": "2024-03-21T14:07:37.503Z"
   },
   {
    "duration": 0,
    "start_time": "2024-03-21T14:07:37.504Z"
   },
   {
    "duration": 0,
    "start_time": "2024-03-21T14:07:37.505Z"
   },
   {
    "duration": 0,
    "start_time": "2024-03-21T14:07:37.507Z"
   },
   {
    "duration": 0,
    "start_time": "2024-03-21T14:07:37.508Z"
   },
   {
    "duration": 0,
    "start_time": "2024-03-21T14:07:37.509Z"
   },
   {
    "duration": 0,
    "start_time": "2024-03-21T14:07:37.510Z"
   },
   {
    "duration": 0,
    "start_time": "2024-03-21T14:07:37.511Z"
   },
   {
    "duration": 0,
    "start_time": "2024-03-21T14:07:37.512Z"
   },
   {
    "duration": 0,
    "start_time": "2024-03-21T14:07:37.513Z"
   },
   {
    "duration": 0,
    "start_time": "2024-03-21T14:07:37.514Z"
   },
   {
    "duration": 0,
    "start_time": "2024-03-21T14:07:37.515Z"
   },
   {
    "duration": 0,
    "start_time": "2024-03-21T14:07:37.516Z"
   },
   {
    "duration": 0,
    "start_time": "2024-03-21T14:07:37.517Z"
   },
   {
    "duration": 0,
    "start_time": "2024-03-21T14:07:37.518Z"
   },
   {
    "duration": 0,
    "start_time": "2024-03-21T14:07:37.519Z"
   },
   {
    "duration": 0,
    "start_time": "2024-03-21T14:07:37.520Z"
   },
   {
    "duration": 0,
    "start_time": "2024-03-21T14:07:37.521Z"
   },
   {
    "duration": 0,
    "start_time": "2024-03-21T14:07:37.522Z"
   },
   {
    "duration": 0,
    "start_time": "2024-03-21T14:07:37.523Z"
   },
   {
    "duration": 0,
    "start_time": "2024-03-21T14:07:37.524Z"
   },
   {
    "duration": 0,
    "start_time": "2024-03-21T14:07:37.525Z"
   },
   {
    "duration": 0,
    "start_time": "2024-03-21T14:07:37.526Z"
   },
   {
    "duration": 0,
    "start_time": "2024-03-21T14:07:37.527Z"
   },
   {
    "duration": 0,
    "start_time": "2024-03-21T14:07:37.528Z"
   },
   {
    "duration": 0,
    "start_time": "2024-03-21T14:07:37.529Z"
   },
   {
    "duration": 0,
    "start_time": "2024-03-21T14:07:37.531Z"
   },
   {
    "duration": 0,
    "start_time": "2024-03-21T14:07:37.532Z"
   },
   {
    "duration": 0,
    "start_time": "2024-03-21T14:07:37.533Z"
   },
   {
    "duration": 0,
    "start_time": "2024-03-21T14:07:37.534Z"
   },
   {
    "duration": 0,
    "start_time": "2024-03-21T14:07:37.535Z"
   },
   {
    "duration": 0,
    "start_time": "2024-03-21T14:07:37.536Z"
   },
   {
    "duration": 0,
    "start_time": "2024-03-21T14:07:37.537Z"
   },
   {
    "duration": 0,
    "start_time": "2024-03-21T14:07:37.538Z"
   },
   {
    "duration": 0,
    "start_time": "2024-03-21T14:07:37.539Z"
   },
   {
    "duration": 0,
    "start_time": "2024-03-21T14:07:37.540Z"
   },
   {
    "duration": 0,
    "start_time": "2024-03-21T14:07:37.541Z"
   },
   {
    "duration": 0,
    "start_time": "2024-03-21T14:07:37.541Z"
   },
   {
    "duration": 0,
    "start_time": "2024-03-21T14:07:37.542Z"
   },
   {
    "duration": 0,
    "start_time": "2024-03-21T14:07:37.542Z"
   },
   {
    "duration": 0,
    "start_time": "2024-03-21T14:07:37.543Z"
   },
   {
    "duration": 0,
    "start_time": "2024-03-21T14:07:37.544Z"
   },
   {
    "duration": 0,
    "start_time": "2024-03-21T14:07:37.583Z"
   },
   {
    "duration": 0,
    "start_time": "2024-03-21T14:07:37.584Z"
   },
   {
    "duration": 0,
    "start_time": "2024-03-21T14:07:37.586Z"
   },
   {
    "duration": 0,
    "start_time": "2024-03-21T14:07:37.587Z"
   },
   {
    "duration": 0,
    "start_time": "2024-03-21T14:07:37.589Z"
   },
   {
    "duration": 0,
    "start_time": "2024-03-21T14:07:37.591Z"
   },
   {
    "duration": 0,
    "start_time": "2024-03-21T14:07:37.592Z"
   },
   {
    "duration": 0,
    "start_time": "2024-03-21T14:07:37.593Z"
   },
   {
    "duration": 0,
    "start_time": "2024-03-21T14:07:37.595Z"
   },
   {
    "duration": 0,
    "start_time": "2024-03-21T14:07:37.596Z"
   },
   {
    "duration": 0,
    "start_time": "2024-03-21T14:07:37.598Z"
   },
   {
    "duration": 0,
    "start_time": "2024-03-21T14:07:37.599Z"
   },
   {
    "duration": 0,
    "start_time": "2024-03-21T14:07:37.600Z"
   },
   {
    "duration": 0,
    "start_time": "2024-03-21T14:07:37.603Z"
   },
   {
    "duration": 0,
    "start_time": "2024-03-21T14:07:37.604Z"
   },
   {
    "duration": 1,
    "start_time": "2024-03-21T14:07:37.605Z"
   },
   {
    "duration": 0,
    "start_time": "2024-03-21T14:07:37.607Z"
   },
   {
    "duration": 0,
    "start_time": "2024-03-21T14:07:37.609Z"
   },
   {
    "duration": 0,
    "start_time": "2024-03-21T14:07:37.610Z"
   },
   {
    "duration": 0,
    "start_time": "2024-03-21T14:07:37.611Z"
   },
   {
    "duration": 0,
    "start_time": "2024-03-21T14:07:37.612Z"
   },
   {
    "duration": 0,
    "start_time": "2024-03-21T14:07:37.614Z"
   },
   {
    "duration": 0,
    "start_time": "2024-03-21T14:07:37.615Z"
   },
   {
    "duration": 0,
    "start_time": "2024-03-21T14:07:37.616Z"
   },
   {
    "duration": 0,
    "start_time": "2024-03-21T14:07:37.680Z"
   },
   {
    "duration": 0,
    "start_time": "2024-03-21T14:07:37.682Z"
   },
   {
    "duration": 0,
    "start_time": "2024-03-21T14:07:37.682Z"
   },
   {
    "duration": 0,
    "start_time": "2024-03-21T14:07:37.684Z"
   },
   {
    "duration": 0,
    "start_time": "2024-03-21T14:07:37.685Z"
   },
   {
    "duration": 0,
    "start_time": "2024-03-21T14:07:37.686Z"
   },
   {
    "duration": 0,
    "start_time": "2024-03-21T14:07:37.688Z"
   },
   {
    "duration": 0,
    "start_time": "2024-03-21T14:07:37.689Z"
   },
   {
    "duration": 0,
    "start_time": "2024-03-21T14:07:37.690Z"
   },
   {
    "duration": 442,
    "start_time": "2024-03-21T14:08:14.961Z"
   },
   {
    "duration": 267,
    "start_time": "2024-03-21T14:08:15.406Z"
   },
   {
    "duration": 3,
    "start_time": "2024-03-21T14:08:15.674Z"
   },
   {
    "duration": 96,
    "start_time": "2024-03-21T14:08:15.680Z"
   },
   {
    "duration": 0,
    "start_time": "2024-03-21T14:08:15.781Z"
   },
   {
    "duration": 0,
    "start_time": "2024-03-21T14:08:15.783Z"
   },
   {
    "duration": 0,
    "start_time": "2024-03-21T14:08:15.784Z"
   },
   {
    "duration": 0,
    "start_time": "2024-03-21T14:08:15.786Z"
   },
   {
    "duration": 1,
    "start_time": "2024-03-21T14:08:15.787Z"
   },
   {
    "duration": 0,
    "start_time": "2024-03-21T14:08:15.789Z"
   },
   {
    "duration": 0,
    "start_time": "2024-03-21T14:08:15.791Z"
   },
   {
    "duration": 0,
    "start_time": "2024-03-21T14:08:15.792Z"
   },
   {
    "duration": 0,
    "start_time": "2024-03-21T14:08:15.794Z"
   },
   {
    "duration": 0,
    "start_time": "2024-03-21T14:08:15.795Z"
   },
   {
    "duration": 0,
    "start_time": "2024-03-21T14:08:15.796Z"
   },
   {
    "duration": 0,
    "start_time": "2024-03-21T14:08:15.798Z"
   },
   {
    "duration": 0,
    "start_time": "2024-03-21T14:08:15.799Z"
   },
   {
    "duration": 0,
    "start_time": "2024-03-21T14:08:15.801Z"
   },
   {
    "duration": 0,
    "start_time": "2024-03-21T14:08:15.802Z"
   },
   {
    "duration": 0,
    "start_time": "2024-03-21T14:08:15.804Z"
   },
   {
    "duration": 0,
    "start_time": "2024-03-21T14:08:15.805Z"
   },
   {
    "duration": 0,
    "start_time": "2024-03-21T14:08:15.806Z"
   },
   {
    "duration": 0,
    "start_time": "2024-03-21T14:08:15.807Z"
   },
   {
    "duration": 0,
    "start_time": "2024-03-21T14:08:15.808Z"
   },
   {
    "duration": 0,
    "start_time": "2024-03-21T14:08:15.810Z"
   },
   {
    "duration": 0,
    "start_time": "2024-03-21T14:08:15.812Z"
   },
   {
    "duration": 0,
    "start_time": "2024-03-21T14:08:15.813Z"
   },
   {
    "duration": 0,
    "start_time": "2024-03-21T14:08:15.814Z"
   },
   {
    "duration": 0,
    "start_time": "2024-03-21T14:08:15.815Z"
   },
   {
    "duration": 0,
    "start_time": "2024-03-21T14:08:15.816Z"
   },
   {
    "duration": 0,
    "start_time": "2024-03-21T14:08:15.816Z"
   },
   {
    "duration": 0,
    "start_time": "2024-03-21T14:08:15.817Z"
   },
   {
    "duration": 0,
    "start_time": "2024-03-21T14:08:15.819Z"
   },
   {
    "duration": 0,
    "start_time": "2024-03-21T14:08:15.820Z"
   },
   {
    "duration": 0,
    "start_time": "2024-03-21T14:08:15.881Z"
   },
   {
    "duration": 0,
    "start_time": "2024-03-21T14:08:15.882Z"
   },
   {
    "duration": 0,
    "start_time": "2024-03-21T14:08:15.884Z"
   },
   {
    "duration": 1,
    "start_time": "2024-03-21T14:08:15.885Z"
   },
   {
    "duration": 0,
    "start_time": "2024-03-21T14:08:15.887Z"
   },
   {
    "duration": 0,
    "start_time": "2024-03-21T14:08:15.889Z"
   },
   {
    "duration": 0,
    "start_time": "2024-03-21T14:08:15.890Z"
   },
   {
    "duration": 0,
    "start_time": "2024-03-21T14:08:15.891Z"
   },
   {
    "duration": 0,
    "start_time": "2024-03-21T14:08:15.892Z"
   },
   {
    "duration": 0,
    "start_time": "2024-03-21T14:08:15.894Z"
   },
   {
    "duration": 0,
    "start_time": "2024-03-21T14:08:15.895Z"
   },
   {
    "duration": 0,
    "start_time": "2024-03-21T14:08:15.896Z"
   },
   {
    "duration": 0,
    "start_time": "2024-03-21T14:08:15.898Z"
   },
   {
    "duration": 1,
    "start_time": "2024-03-21T14:08:15.899Z"
   },
   {
    "duration": 0,
    "start_time": "2024-03-21T14:08:15.901Z"
   },
   {
    "duration": 0,
    "start_time": "2024-03-21T14:08:15.902Z"
   },
   {
    "duration": 0,
    "start_time": "2024-03-21T14:08:15.904Z"
   },
   {
    "duration": 0,
    "start_time": "2024-03-21T14:08:15.905Z"
   },
   {
    "duration": 0,
    "start_time": "2024-03-21T14:08:15.907Z"
   },
   {
    "duration": 0,
    "start_time": "2024-03-21T14:08:15.912Z"
   },
   {
    "duration": 0,
    "start_time": "2024-03-21T14:08:15.913Z"
   },
   {
    "duration": 0,
    "start_time": "2024-03-21T14:08:15.915Z"
   },
   {
    "duration": 0,
    "start_time": "2024-03-21T14:08:15.916Z"
   },
   {
    "duration": 0,
    "start_time": "2024-03-21T14:08:15.918Z"
   },
   {
    "duration": 0,
    "start_time": "2024-03-21T14:08:15.919Z"
   },
   {
    "duration": 0,
    "start_time": "2024-03-21T14:08:15.982Z"
   },
   {
    "duration": 0,
    "start_time": "2024-03-21T14:08:15.984Z"
   },
   {
    "duration": 0,
    "start_time": "2024-03-21T14:08:15.986Z"
   },
   {
    "duration": 0,
    "start_time": "2024-03-21T14:08:15.987Z"
   },
   {
    "duration": 0,
    "start_time": "2024-03-21T14:08:15.989Z"
   },
   {
    "duration": 0,
    "start_time": "2024-03-21T14:08:15.990Z"
   },
   {
    "duration": 0,
    "start_time": "2024-03-21T14:08:15.992Z"
   },
   {
    "duration": 0,
    "start_time": "2024-03-21T14:08:15.993Z"
   },
   {
    "duration": 0,
    "start_time": "2024-03-21T14:08:15.995Z"
   },
   {
    "duration": 0,
    "start_time": "2024-03-21T14:08:15.997Z"
   },
   {
    "duration": 0,
    "start_time": "2024-03-21T14:08:15.999Z"
   },
   {
    "duration": 0,
    "start_time": "2024-03-21T14:08:16.000Z"
   },
   {
    "duration": 0,
    "start_time": "2024-03-21T14:08:16.002Z"
   },
   {
    "duration": 0,
    "start_time": "2024-03-21T14:08:16.003Z"
   },
   {
    "duration": 0,
    "start_time": "2024-03-21T14:08:16.005Z"
   },
   {
    "duration": 0,
    "start_time": "2024-03-21T14:08:16.006Z"
   },
   {
    "duration": 0,
    "start_time": "2024-03-21T14:08:16.008Z"
   },
   {
    "duration": 0,
    "start_time": "2024-03-21T14:08:16.009Z"
   },
   {
    "duration": 0,
    "start_time": "2024-03-21T14:08:16.017Z"
   },
   {
    "duration": 0,
    "start_time": "2024-03-21T14:08:16.018Z"
   },
   {
    "duration": 144,
    "start_time": "2024-03-21T14:08:39.410Z"
   },
   {
    "duration": 98,
    "start_time": "2024-03-21T14:08:45.336Z"
   },
   {
    "duration": 135,
    "start_time": "2024-03-21T14:09:10.768Z"
   },
   {
    "duration": 97,
    "start_time": "2024-03-21T14:09:20.257Z"
   },
   {
    "duration": 0,
    "start_time": "2024-03-21T14:09:20.359Z"
   },
   {
    "duration": 0,
    "start_time": "2024-03-21T14:09:20.360Z"
   },
   {
    "duration": 0,
    "start_time": "2024-03-21T14:09:20.361Z"
   },
   {
    "duration": 0,
    "start_time": "2024-03-21T14:09:20.363Z"
   },
   {
    "duration": 0,
    "start_time": "2024-03-21T14:09:20.364Z"
   },
   {
    "duration": 0,
    "start_time": "2024-03-21T14:09:20.365Z"
   },
   {
    "duration": 0,
    "start_time": "2024-03-21T14:09:20.366Z"
   },
   {
    "duration": 0,
    "start_time": "2024-03-21T14:09:20.367Z"
   },
   {
    "duration": 0,
    "start_time": "2024-03-21T14:09:20.369Z"
   },
   {
    "duration": 0,
    "start_time": "2024-03-21T14:09:20.370Z"
   },
   {
    "duration": 0,
    "start_time": "2024-03-21T14:09:20.372Z"
   },
   {
    "duration": 0,
    "start_time": "2024-03-21T14:09:20.373Z"
   },
   {
    "duration": 0,
    "start_time": "2024-03-21T14:09:20.374Z"
   },
   {
    "duration": 0,
    "start_time": "2024-03-21T14:09:20.375Z"
   },
   {
    "duration": 0,
    "start_time": "2024-03-21T14:09:20.376Z"
   },
   {
    "duration": 0,
    "start_time": "2024-03-21T14:09:20.376Z"
   },
   {
    "duration": 0,
    "start_time": "2024-03-21T14:09:20.377Z"
   },
   {
    "duration": 0,
    "start_time": "2024-03-21T14:09:20.378Z"
   },
   {
    "duration": 0,
    "start_time": "2024-03-21T14:09:20.378Z"
   },
   {
    "duration": 0,
    "start_time": "2024-03-21T14:09:20.379Z"
   },
   {
    "duration": 0,
    "start_time": "2024-03-21T14:09:20.379Z"
   },
   {
    "duration": 0,
    "start_time": "2024-03-21T14:09:20.380Z"
   },
   {
    "duration": 0,
    "start_time": "2024-03-21T14:09:20.381Z"
   },
   {
    "duration": 0,
    "start_time": "2024-03-21T14:09:20.382Z"
   },
   {
    "duration": 0,
    "start_time": "2024-03-21T14:09:20.383Z"
   },
   {
    "duration": 0,
    "start_time": "2024-03-21T14:09:20.384Z"
   },
   {
    "duration": 0,
    "start_time": "2024-03-21T14:09:20.386Z"
   },
   {
    "duration": 0,
    "start_time": "2024-03-21T14:09:20.387Z"
   },
   {
    "duration": 0,
    "start_time": "2024-03-21T14:09:20.388Z"
   },
   {
    "duration": 0,
    "start_time": "2024-03-21T14:09:20.389Z"
   },
   {
    "duration": 0,
    "start_time": "2024-03-21T14:09:20.390Z"
   },
   {
    "duration": 0,
    "start_time": "2024-03-21T14:09:20.391Z"
   },
   {
    "duration": 0,
    "start_time": "2024-03-21T14:09:20.393Z"
   },
   {
    "duration": 0,
    "start_time": "2024-03-21T14:09:20.393Z"
   },
   {
    "duration": 0,
    "start_time": "2024-03-21T14:09:20.395Z"
   },
   {
    "duration": 0,
    "start_time": "2024-03-21T14:09:20.396Z"
   },
   {
    "duration": 0,
    "start_time": "2024-03-21T14:09:20.397Z"
   },
   {
    "duration": 0,
    "start_time": "2024-03-21T14:09:20.398Z"
   },
   {
    "duration": 0,
    "start_time": "2024-03-21T14:09:20.399Z"
   },
   {
    "duration": 0,
    "start_time": "2024-03-21T14:09:20.401Z"
   },
   {
    "duration": 0,
    "start_time": "2024-03-21T14:09:20.402Z"
   },
   {
    "duration": 0,
    "start_time": "2024-03-21T14:09:20.403Z"
   },
   {
    "duration": 0,
    "start_time": "2024-03-21T14:09:20.404Z"
   },
   {
    "duration": 0,
    "start_time": "2024-03-21T14:09:20.405Z"
   },
   {
    "duration": 0,
    "start_time": "2024-03-21T14:09:20.406Z"
   },
   {
    "duration": 0,
    "start_time": "2024-03-21T14:09:20.408Z"
   },
   {
    "duration": 0,
    "start_time": "2024-03-21T14:09:20.411Z"
   },
   {
    "duration": 0,
    "start_time": "2024-03-21T14:09:20.413Z"
   },
   {
    "duration": 0,
    "start_time": "2024-03-21T14:09:20.414Z"
   },
   {
    "duration": 0,
    "start_time": "2024-03-21T14:09:20.415Z"
   },
   {
    "duration": 0,
    "start_time": "2024-03-21T14:09:20.416Z"
   },
   {
    "duration": 0,
    "start_time": "2024-03-21T14:09:20.417Z"
   },
   {
    "duration": 0,
    "start_time": "2024-03-21T14:09:20.418Z"
   },
   {
    "duration": 0,
    "start_time": "2024-03-21T14:09:20.419Z"
   },
   {
    "duration": 0,
    "start_time": "2024-03-21T14:09:20.420Z"
   },
   {
    "duration": 0,
    "start_time": "2024-03-21T14:09:20.421Z"
   },
   {
    "duration": 0,
    "start_time": "2024-03-21T14:09:20.481Z"
   },
   {
    "duration": 0,
    "start_time": "2024-03-21T14:09:20.482Z"
   },
   {
    "duration": 0,
    "start_time": "2024-03-21T14:09:20.484Z"
   },
   {
    "duration": 0,
    "start_time": "2024-03-21T14:09:20.485Z"
   },
   {
    "duration": 0,
    "start_time": "2024-03-21T14:09:20.488Z"
   },
   {
    "duration": 0,
    "start_time": "2024-03-21T14:09:20.489Z"
   },
   {
    "duration": 0,
    "start_time": "2024-03-21T14:09:20.491Z"
   },
   {
    "duration": 0,
    "start_time": "2024-03-21T14:09:20.492Z"
   },
   {
    "duration": 0,
    "start_time": "2024-03-21T14:09:20.493Z"
   },
   {
    "duration": 0,
    "start_time": "2024-03-21T14:09:20.494Z"
   },
   {
    "duration": 0,
    "start_time": "2024-03-21T14:09:20.495Z"
   },
   {
    "duration": 0,
    "start_time": "2024-03-21T14:09:20.497Z"
   },
   {
    "duration": 0,
    "start_time": "2024-03-21T14:09:20.498Z"
   },
   {
    "duration": 0,
    "start_time": "2024-03-21T14:09:20.499Z"
   },
   {
    "duration": 0,
    "start_time": "2024-03-21T14:09:20.500Z"
   },
   {
    "duration": 0,
    "start_time": "2024-03-21T14:09:20.501Z"
   },
   {
    "duration": 0,
    "start_time": "2024-03-21T14:09:20.502Z"
   },
   {
    "duration": 0,
    "start_time": "2024-03-21T14:09:20.504Z"
   },
   {
    "duration": 0,
    "start_time": "2024-03-21T14:09:20.505Z"
   },
   {
    "duration": 0,
    "start_time": "2024-03-21T14:09:20.506Z"
   },
   {
    "duration": 0,
    "start_time": "2024-03-21T14:09:20.508Z"
   },
   {
    "duration": 0,
    "start_time": "2024-03-21T14:09:20.509Z"
   },
   {
    "duration": 97,
    "start_time": "2024-03-21T14:09:48.089Z"
   },
   {
    "duration": 440,
    "start_time": "2024-03-21T14:10:08.074Z"
   },
   {
    "duration": 300,
    "start_time": "2024-03-21T14:10:08.516Z"
   },
   {
    "duration": 3,
    "start_time": "2024-03-21T14:10:08.817Z"
   },
   {
    "duration": 5,
    "start_time": "2024-03-21T14:10:08.822Z"
   },
   {
    "duration": 524,
    "start_time": "2024-03-21T14:10:08.829Z"
   },
   {
    "duration": 31,
    "start_time": "2024-03-21T14:10:09.355Z"
   },
   {
    "duration": 29,
    "start_time": "2024-03-21T14:10:09.388Z"
   },
   {
    "duration": 17,
    "start_time": "2024-03-21T14:10:09.419Z"
   },
   {
    "duration": 26,
    "start_time": "2024-03-21T14:10:09.437Z"
   },
   {
    "duration": 15,
    "start_time": "2024-03-21T14:10:09.467Z"
   },
   {
    "duration": 12,
    "start_time": "2024-03-21T14:10:09.484Z"
   },
   {
    "duration": 14,
    "start_time": "2024-03-21T14:10:09.498Z"
   },
   {
    "duration": 7,
    "start_time": "2024-03-21T14:10:09.514Z"
   },
   {
    "duration": 11,
    "start_time": "2024-03-21T14:10:09.523Z"
   },
   {
    "duration": 13,
    "start_time": "2024-03-21T14:10:09.536Z"
   },
   {
    "duration": 11,
    "start_time": "2024-03-21T14:10:09.580Z"
   },
   {
    "duration": 15,
    "start_time": "2024-03-21T14:10:09.593Z"
   },
   {
    "duration": 14,
    "start_time": "2024-03-21T14:10:09.610Z"
   },
   {
    "duration": 6,
    "start_time": "2024-03-21T14:10:09.626Z"
   },
   {
    "duration": 14,
    "start_time": "2024-03-21T14:10:09.634Z"
   },
   {
    "duration": 37,
    "start_time": "2024-03-21T14:10:09.650Z"
   },
   {
    "duration": 5,
    "start_time": "2024-03-21T14:10:09.688Z"
   },
   {
    "duration": 56,
    "start_time": "2024-03-21T14:10:09.695Z"
   },
   {
    "duration": 38,
    "start_time": "2024-03-21T14:10:09.753Z"
   },
   {
    "duration": 22,
    "start_time": "2024-03-21T14:10:09.792Z"
   },
   {
    "duration": 248,
    "start_time": "2024-03-21T14:10:09.815Z"
   },
   {
    "duration": 99,
    "start_time": "2024-03-21T14:10:10.065Z"
   },
   {
    "duration": 15,
    "start_time": "2024-03-21T14:10:10.169Z"
   },
   {
    "duration": 235,
    "start_time": "2024-03-21T14:10:10.186Z"
   },
   {
    "duration": 393,
    "start_time": "2024-03-21T14:10:10.423Z"
   },
   {
    "duration": 265,
    "start_time": "2024-03-21T14:10:10.818Z"
   },
   {
    "duration": 34,
    "start_time": "2024-03-21T14:10:11.085Z"
   },
   {
    "duration": 16,
    "start_time": "2024-03-21T14:10:11.121Z"
   },
   {
    "duration": 9,
    "start_time": "2024-03-21T14:10:11.139Z"
   },
   {
    "duration": 48,
    "start_time": "2024-03-21T14:10:11.150Z"
   },
   {
    "duration": 6,
    "start_time": "2024-03-21T14:10:11.200Z"
   },
   {
    "duration": 113,
    "start_time": "2024-03-21T14:10:11.208Z"
   },
   {
    "duration": 3,
    "start_time": "2024-03-21T14:10:11.323Z"
   },
   {
    "duration": 248,
    "start_time": "2024-03-21T14:10:11.328Z"
   },
   {
    "duration": 232,
    "start_time": "2024-03-21T14:10:11.577Z"
   },
   {
    "duration": 246,
    "start_time": "2024-03-21T14:10:11.811Z"
   },
   {
    "duration": 271,
    "start_time": "2024-03-21T14:10:12.059Z"
   },
   {
    "duration": 21,
    "start_time": "2024-03-21T14:10:12.332Z"
   },
   {
    "duration": 35,
    "start_time": "2024-03-21T14:10:12.354Z"
   },
   {
    "duration": 4,
    "start_time": "2024-03-21T14:10:12.391Z"
   },
   {
    "duration": 17,
    "start_time": "2024-03-21T14:10:12.396Z"
   },
   {
    "duration": 26,
    "start_time": "2024-03-21T14:10:12.415Z"
   },
   {
    "duration": 21,
    "start_time": "2024-03-21T14:10:12.443Z"
   },
   {
    "duration": 34,
    "start_time": "2024-03-21T14:10:12.465Z"
   },
   {
    "duration": 24,
    "start_time": "2024-03-21T14:10:12.501Z"
   },
   {
    "duration": 14,
    "start_time": "2024-03-21T14:10:12.528Z"
   },
   {
    "duration": 28,
    "start_time": "2024-03-21T14:10:12.544Z"
   },
   {
    "duration": 10,
    "start_time": "2024-03-21T14:10:12.574Z"
   },
   {
    "duration": 38,
    "start_time": "2024-03-21T14:10:12.586Z"
   },
   {
    "duration": 22,
    "start_time": "2024-03-21T14:10:12.626Z"
   },
   {
    "duration": 29,
    "start_time": "2024-03-21T14:10:12.651Z"
   },
   {
    "duration": 24,
    "start_time": "2024-03-21T14:10:12.682Z"
   },
   {
    "duration": 16,
    "start_time": "2024-03-21T14:10:12.708Z"
   },
   {
    "duration": 21,
    "start_time": "2024-03-21T14:10:12.726Z"
   },
   {
    "duration": 11,
    "start_time": "2024-03-21T14:10:12.748Z"
   },
   {
    "duration": 38,
    "start_time": "2024-03-21T14:10:12.761Z"
   },
   {
    "duration": 6,
    "start_time": "2024-03-21T14:10:12.801Z"
   },
   {
    "duration": 10,
    "start_time": "2024-03-21T14:10:12.808Z"
   },
   {
    "duration": 2,
    "start_time": "2024-03-21T14:10:12.820Z"
   },
   {
    "duration": 5,
    "start_time": "2024-03-21T14:10:12.823Z"
   },
   {
    "duration": 9,
    "start_time": "2024-03-21T14:10:12.829Z"
   },
   {
    "duration": 9,
    "start_time": "2024-03-21T14:10:12.840Z"
   },
   {
    "duration": 5,
    "start_time": "2024-03-21T14:10:12.851Z"
   },
   {
    "duration": 4,
    "start_time": "2024-03-21T14:10:12.858Z"
   },
   {
    "duration": 32,
    "start_time": "2024-03-21T14:10:12.863Z"
   },
   {
    "duration": 16,
    "start_time": "2024-03-21T14:10:12.896Z"
   },
   {
    "duration": 6,
    "start_time": "2024-03-21T14:10:12.914Z"
   },
   {
    "duration": 17,
    "start_time": "2024-03-21T14:10:12.923Z"
   },
   {
    "duration": 8,
    "start_time": "2024-03-21T14:10:12.942Z"
   },
   {
    "duration": 6,
    "start_time": "2024-03-21T14:10:12.951Z"
   },
   {
    "duration": 4,
    "start_time": "2024-03-21T14:10:12.980Z"
   },
   {
    "duration": 10,
    "start_time": "2024-03-21T14:10:12.986Z"
   },
   {
    "duration": 7,
    "start_time": "2024-03-21T14:10:12.998Z"
   },
   {
    "duration": 92,
    "start_time": "2024-03-21T14:10:13.007Z"
   },
   {
    "duration": 0,
    "start_time": "2024-03-21T14:10:13.101Z"
   },
   {
    "duration": 101,
    "start_time": "2024-03-21T14:12:26.672Z"
   },
   {
    "duration": 13,
    "start_time": "2024-03-21T14:12:57.879Z"
   },
   {
    "duration": 10,
    "start_time": "2024-03-21T14:13:15.695Z"
   },
   {
    "duration": 10,
    "start_time": "2024-03-21T14:13:18.512Z"
   },
   {
    "duration": 1588,
    "start_time": "2024-03-21T14:14:14.086Z"
   },
   {
    "duration": 1613,
    "start_time": "2024-03-21T14:14:23.166Z"
   },
   {
    "duration": 1606,
    "start_time": "2024-03-21T14:15:26.423Z"
   },
   {
    "duration": 1565,
    "start_time": "2024-03-21T14:15:54.742Z"
   },
   {
    "duration": 9,
    "start_time": "2024-03-21T14:22:40.340Z"
   },
   {
    "duration": 9,
    "start_time": "2024-03-21T14:22:45.980Z"
   },
   {
    "duration": 4,
    "start_time": "2024-03-21T14:23:58.468Z"
   },
   {
    "duration": 3,
    "start_time": "2024-03-21T14:24:10.604Z"
   },
   {
    "duration": 6,
    "start_time": "2024-03-21T14:24:44.948Z"
   },
   {
    "duration": 6,
    "start_time": "2024-03-21T14:25:17.395Z"
   },
   {
    "duration": 6,
    "start_time": "2024-03-21T14:25:24.228Z"
   },
   {
    "duration": 6,
    "start_time": "2024-03-21T14:26:00.652Z"
   },
   {
    "duration": 6,
    "start_time": "2024-03-21T14:26:03.778Z"
   },
   {
    "duration": 5,
    "start_time": "2024-03-21T14:26:23.963Z"
   },
   {
    "duration": 6,
    "start_time": "2024-03-21T14:26:29.723Z"
   },
   {
    "duration": 6,
    "start_time": "2024-03-21T14:26:32.867Z"
   },
   {
    "duration": 5,
    "start_time": "2024-03-21T14:26:36.564Z"
   },
   {
    "duration": 6,
    "start_time": "2024-03-21T14:26:40.594Z"
   },
   {
    "duration": 6,
    "start_time": "2024-03-21T14:26:50.211Z"
   },
   {
    "duration": 7,
    "start_time": "2024-03-21T14:26:56.300Z"
   },
   {
    "duration": 5,
    "start_time": "2024-03-21T14:27:48.376Z"
   },
   {
    "duration": 7,
    "start_time": "2024-03-21T14:27:58.204Z"
   },
   {
    "duration": 7,
    "start_time": "2024-03-21T14:28:01.539Z"
   },
   {
    "duration": 6,
    "start_time": "2024-03-21T14:28:05.523Z"
   },
   {
    "duration": 6,
    "start_time": "2024-03-21T14:28:46.691Z"
   },
   {
    "duration": 6,
    "start_time": "2024-03-21T14:28:53.307Z"
   },
   {
    "duration": 5,
    "start_time": "2024-03-21T14:29:08.881Z"
   },
   {
    "duration": 6,
    "start_time": "2024-03-21T14:29:15.346Z"
   },
   {
    "duration": 7,
    "start_time": "2024-03-21T14:29:18.898Z"
   },
   {
    "duration": 5,
    "start_time": "2024-03-21T14:29:21.114Z"
   },
   {
    "duration": 5,
    "start_time": "2024-03-21T14:29:23.185Z"
   },
   {
    "duration": 4,
    "start_time": "2024-03-21T14:29:51.698Z"
   },
   {
    "duration": 3,
    "start_time": "2024-03-21T14:30:09.864Z"
   },
   {
    "duration": 4,
    "start_time": "2024-03-21T14:30:20.618Z"
   },
   {
    "duration": 5,
    "start_time": "2024-03-21T14:30:34.385Z"
   },
   {
    "duration": 6,
    "start_time": "2024-03-21T14:33:12.242Z"
   },
   {
    "duration": 6,
    "start_time": "2024-03-21T14:33:33.098Z"
   },
   {
    "duration": 471,
    "start_time": "2024-03-21T15:49:13.056Z"
   },
   {
    "duration": 429,
    "start_time": "2024-03-21T15:49:13.529Z"
   },
   {
    "duration": 3,
    "start_time": "2024-03-21T15:49:13.960Z"
   },
   {
    "duration": 10,
    "start_time": "2024-03-21T15:49:13.965Z"
   },
   {
    "duration": 521,
    "start_time": "2024-03-21T15:49:13.976Z"
   },
   {
    "duration": 88,
    "start_time": "2024-03-21T15:49:14.498Z"
   },
   {
    "duration": 157,
    "start_time": "2024-03-21T15:49:14.587Z"
   },
   {
    "duration": 55,
    "start_time": "2024-03-21T15:49:14.746Z"
   },
   {
    "duration": 12,
    "start_time": "2024-03-21T15:49:14.803Z"
   },
   {
    "duration": 15,
    "start_time": "2024-03-21T15:49:14.817Z"
   },
   {
    "duration": 44,
    "start_time": "2024-03-21T15:49:14.834Z"
   },
   {
    "duration": 28,
    "start_time": "2024-03-21T15:49:14.880Z"
   },
   {
    "duration": 6,
    "start_time": "2024-03-21T15:49:14.910Z"
   },
   {
    "duration": 14,
    "start_time": "2024-03-21T15:49:14.918Z"
   },
   {
    "duration": 7,
    "start_time": "2024-03-21T15:49:14.933Z"
   },
   {
    "duration": 17,
    "start_time": "2024-03-21T15:49:14.942Z"
   },
   {
    "duration": 20,
    "start_time": "2024-03-21T15:49:14.960Z"
   },
   {
    "duration": 10,
    "start_time": "2024-03-21T15:49:14.982Z"
   },
   {
    "duration": 31,
    "start_time": "2024-03-21T15:49:14.993Z"
   },
   {
    "duration": 58,
    "start_time": "2024-03-21T15:49:15.026Z"
   },
   {
    "duration": 34,
    "start_time": "2024-03-21T15:49:15.085Z"
   },
   {
    "duration": 47,
    "start_time": "2024-03-21T15:49:15.121Z"
   },
   {
    "duration": 99,
    "start_time": "2024-03-21T15:49:15.169Z"
   },
   {
    "duration": 12,
    "start_time": "2024-03-21T15:49:15.269Z"
   },
   {
    "duration": 42,
    "start_time": "2024-03-21T15:49:15.282Z"
   },
   {
    "duration": 290,
    "start_time": "2024-03-21T15:49:15.325Z"
   },
   {
    "duration": 93,
    "start_time": "2024-03-21T15:49:15.616Z"
   },
   {
    "duration": 5,
    "start_time": "2024-03-21T15:49:15.713Z"
   },
   {
    "duration": 201,
    "start_time": "2024-03-21T15:49:15.719Z"
   },
   {
    "duration": 320,
    "start_time": "2024-03-21T15:49:15.921Z"
   },
   {
    "duration": 226,
    "start_time": "2024-03-21T15:49:16.243Z"
   },
   {
    "duration": 34,
    "start_time": "2024-03-21T15:49:16.470Z"
   },
   {
    "duration": 13,
    "start_time": "2024-03-21T15:49:16.505Z"
   },
   {
    "duration": 6,
    "start_time": "2024-03-21T15:49:16.520Z"
   },
   {
    "duration": 18,
    "start_time": "2024-03-21T15:49:16.528Z"
   },
   {
    "duration": 15,
    "start_time": "2024-03-21T15:49:16.547Z"
   },
   {
    "duration": 100,
    "start_time": "2024-03-21T15:49:16.563Z"
   },
   {
    "duration": 4,
    "start_time": "2024-03-21T15:49:16.664Z"
   },
   {
    "duration": 258,
    "start_time": "2024-03-21T15:49:16.669Z"
   },
   {
    "duration": 215,
    "start_time": "2024-03-21T15:49:16.928Z"
   },
   {
    "duration": 223,
    "start_time": "2024-03-21T15:49:17.144Z"
   },
   {
    "duration": 229,
    "start_time": "2024-03-21T15:49:17.368Z"
   },
   {
    "duration": 17,
    "start_time": "2024-03-21T15:49:17.599Z"
   },
   {
    "duration": 16,
    "start_time": "2024-03-21T15:49:17.617Z"
   },
   {
    "duration": 2,
    "start_time": "2024-03-21T15:49:17.635Z"
   },
   {
    "duration": 15,
    "start_time": "2024-03-21T15:49:17.639Z"
   },
   {
    "duration": 32,
    "start_time": "2024-03-21T15:49:17.655Z"
   },
   {
    "duration": 8,
    "start_time": "2024-03-21T15:49:17.689Z"
   },
   {
    "duration": 23,
    "start_time": "2024-03-21T15:49:17.698Z"
   },
   {
    "duration": 21,
    "start_time": "2024-03-21T15:49:17.722Z"
   },
   {
    "duration": 17,
    "start_time": "2024-03-21T15:49:17.745Z"
   },
   {
    "duration": 10,
    "start_time": "2024-03-21T15:49:17.763Z"
   },
   {
    "duration": 3,
    "start_time": "2024-03-21T15:49:17.774Z"
   },
   {
    "duration": 16,
    "start_time": "2024-03-21T15:49:17.779Z"
   },
   {
    "duration": 4,
    "start_time": "2024-03-21T15:49:17.796Z"
   },
   {
    "duration": 15,
    "start_time": "2024-03-21T15:49:17.801Z"
   },
   {
    "duration": 9,
    "start_time": "2024-03-21T15:49:17.817Z"
   },
   {
    "duration": 4,
    "start_time": "2024-03-21T15:49:17.827Z"
   },
   {
    "duration": 9,
    "start_time": "2024-03-21T15:49:17.832Z"
   },
   {
    "duration": 7,
    "start_time": "2024-03-21T15:49:17.842Z"
   },
   {
    "duration": 6,
    "start_time": "2024-03-21T15:49:17.850Z"
   },
   {
    "duration": 31,
    "start_time": "2024-03-21T15:49:17.857Z"
   },
   {
    "duration": 18,
    "start_time": "2024-03-21T15:49:17.890Z"
   },
   {
    "duration": 51,
    "start_time": "2024-03-21T16:08:50.078Z"
   },
   {
    "duration": 450,
    "start_time": "2024-03-21T16:08:53.669Z"
   },
   {
    "duration": 418,
    "start_time": "2024-03-21T16:08:54.121Z"
   },
   {
    "duration": 3,
    "start_time": "2024-03-21T16:08:54.541Z"
   },
   {
    "duration": 4,
    "start_time": "2024-03-21T16:08:54.546Z"
   },
   {
    "duration": 496,
    "start_time": "2024-03-21T16:08:54.552Z"
   },
   {
    "duration": 89,
    "start_time": "2024-03-21T16:08:55.050Z"
   },
   {
    "duration": 152,
    "start_time": "2024-03-21T16:08:55.140Z"
   },
   {
    "duration": 59,
    "start_time": "2024-03-21T16:08:55.294Z"
   },
   {
    "duration": 12,
    "start_time": "2024-03-21T16:08:55.354Z"
   },
   {
    "duration": 12,
    "start_time": "2024-03-21T16:08:55.369Z"
   },
   {
    "duration": 16,
    "start_time": "2024-03-21T16:08:55.382Z"
   },
   {
    "duration": 11,
    "start_time": "2024-03-21T16:08:55.399Z"
   },
   {
    "duration": 7,
    "start_time": "2024-03-21T16:08:55.412Z"
   },
   {
    "duration": 10,
    "start_time": "2024-03-21T16:08:55.420Z"
   },
   {
    "duration": 7,
    "start_time": "2024-03-21T16:08:55.432Z"
   },
   {
    "duration": 35,
    "start_time": "2024-03-21T16:08:55.441Z"
   },
   {
    "duration": 15,
    "start_time": "2024-03-21T16:08:55.478Z"
   },
   {
    "duration": 9,
    "start_time": "2024-03-21T16:08:55.495Z"
   },
   {
    "duration": 6,
    "start_time": "2024-03-21T16:08:55.505Z"
   },
   {
    "duration": 13,
    "start_time": "2024-03-21T16:08:55.513Z"
   },
   {
    "duration": 7,
    "start_time": "2024-03-21T16:08:55.527Z"
   },
   {
    "duration": 5,
    "start_time": "2024-03-21T16:08:55.572Z"
   },
   {
    "duration": 55,
    "start_time": "2024-03-21T16:08:55.579Z"
   },
   {
    "duration": 12,
    "start_time": "2024-03-21T16:08:55.636Z"
   },
   {
    "duration": 33,
    "start_time": "2024-03-21T16:08:55.649Z"
   },
   {
    "duration": 235,
    "start_time": "2024-03-21T16:08:55.683Z"
   },
   {
    "duration": 7,
    "start_time": "2024-03-21T16:08:55.920Z"
   },
   {
    "duration": 110,
    "start_time": "2024-03-21T16:08:55.931Z"
   },
   {
    "duration": 5,
    "start_time": "2024-03-21T16:08:56.043Z"
   },
   {
    "duration": 207,
    "start_time": "2024-03-21T16:08:56.050Z"
   },
   {
    "duration": 329,
    "start_time": "2024-03-21T16:08:56.258Z"
   },
   {
    "duration": 232,
    "start_time": "2024-03-21T16:08:56.589Z"
   },
   {
    "duration": 30,
    "start_time": "2024-03-21T16:08:56.823Z"
   },
   {
    "duration": 28,
    "start_time": "2024-03-21T16:08:56.855Z"
   },
   {
    "duration": 7,
    "start_time": "2024-03-21T16:08:56.884Z"
   },
   {
    "duration": 18,
    "start_time": "2024-03-21T16:08:56.892Z"
   },
   {
    "duration": 7,
    "start_time": "2024-03-21T16:08:56.912Z"
   },
   {
    "duration": 116,
    "start_time": "2024-03-21T16:08:56.920Z"
   },
   {
    "duration": 4,
    "start_time": "2024-03-21T16:08:57.038Z"
   },
   {
    "duration": 267,
    "start_time": "2024-03-21T16:08:57.043Z"
   },
   {
    "duration": 237,
    "start_time": "2024-03-21T16:08:57.312Z"
   },
   {
    "duration": 227,
    "start_time": "2024-03-21T16:08:57.550Z"
   },
   {
    "duration": 244,
    "start_time": "2024-03-21T16:08:57.779Z"
   },
   {
    "duration": 20,
    "start_time": "2024-03-21T16:08:58.024Z"
   },
   {
    "duration": 35,
    "start_time": "2024-03-21T16:08:58.046Z"
   },
   {
    "duration": 4,
    "start_time": "2024-03-21T16:08:58.082Z"
   },
   {
    "duration": 15,
    "start_time": "2024-03-21T16:08:58.088Z"
   },
   {
    "duration": 4,
    "start_time": "2024-03-21T16:08:58.105Z"
   },
   {
    "duration": 23,
    "start_time": "2024-03-21T16:08:58.110Z"
   },
   {
    "duration": 17,
    "start_time": "2024-03-21T16:08:58.135Z"
   },
   {
    "duration": 30,
    "start_time": "2024-03-21T16:08:58.153Z"
   },
   {
    "duration": 24,
    "start_time": "2024-03-21T16:08:58.184Z"
   },
   {
    "duration": 10,
    "start_time": "2024-03-21T16:08:58.210Z"
   },
   {
    "duration": 4,
    "start_time": "2024-03-21T16:08:58.221Z"
   },
   {
    "duration": 10,
    "start_time": "2024-03-21T16:08:58.227Z"
   },
   {
    "duration": 4,
    "start_time": "2024-03-21T16:08:58.238Z"
   },
   {
    "duration": 30,
    "start_time": "2024-03-21T16:08:58.244Z"
   },
   {
    "duration": 8,
    "start_time": "2024-03-21T16:08:58.276Z"
   },
   {
    "duration": 3,
    "start_time": "2024-03-21T16:08:58.286Z"
   },
   {
    "duration": 6,
    "start_time": "2024-03-21T16:08:58.290Z"
   },
   {
    "duration": 7,
    "start_time": "2024-03-21T16:08:58.298Z"
   },
   {
    "duration": 7,
    "start_time": "2024-03-21T16:08:58.306Z"
   },
   {
    "duration": 20,
    "start_time": "2024-03-21T16:08:58.314Z"
   },
   {
    "duration": 20,
    "start_time": "2024-03-21T16:08:58.336Z"
   },
   {
    "duration": 26,
    "start_time": "2024-03-21T16:08:58.357Z"
   },
   {
    "duration": 2,
    "start_time": "2024-03-21T16:08:58.385Z"
   },
   {
    "duration": 4,
    "start_time": "2024-03-21T16:08:58.388Z"
   },
   {
    "duration": 6,
    "start_time": "2024-03-21T16:08:58.393Z"
   },
   {
    "duration": 4,
    "start_time": "2024-03-21T16:08:58.400Z"
   },
   {
    "duration": 4,
    "start_time": "2024-03-21T16:08:58.405Z"
   },
   {
    "duration": 3,
    "start_time": "2024-03-21T16:08:58.411Z"
   },
   {
    "duration": 20,
    "start_time": "2024-03-21T16:08:58.415Z"
   },
   {
    "duration": 43,
    "start_time": "2024-03-21T16:08:58.436Z"
   },
   {
    "duration": 6,
    "start_time": "2024-03-21T16:08:58.480Z"
   },
   {
    "duration": 8,
    "start_time": "2024-03-21T16:08:58.487Z"
   },
   {
    "duration": 5,
    "start_time": "2024-03-21T16:08:58.496Z"
   },
   {
    "duration": 6,
    "start_time": "2024-03-21T16:08:58.502Z"
   },
   {
    "duration": 15,
    "start_time": "2024-03-21T16:08:58.509Z"
   },
   {
    "duration": 12,
    "start_time": "2024-03-21T16:08:58.526Z"
   },
   {
    "duration": 7,
    "start_time": "2024-03-21T16:08:58.539Z"
   },
   {
    "duration": 12,
    "start_time": "2024-03-21T16:09:23.691Z"
   },
   {
    "duration": 121,
    "start_time": "2024-03-21T16:09:40.099Z"
   },
   {
    "duration": 4,
    "start_time": "2024-03-21T16:09:56.635Z"
   },
   {
    "duration": 5,
    "start_time": "2024-03-21T16:09:58.780Z"
   },
   {
    "duration": 203,
    "start_time": "2024-03-21T16:10:14.291Z"
   },
   {
    "duration": 166,
    "start_time": "2024-03-21T16:10:26.746Z"
   },
   {
    "duration": 170,
    "start_time": "2024-03-21T16:10:49.331Z"
   },
   {
    "duration": 213,
    "start_time": "2024-03-21T16:12:21.010Z"
   },
   {
    "duration": 236,
    "start_time": "2024-03-21T16:12:41.971Z"
   },
   {
    "duration": 293,
    "start_time": "2024-03-21T16:13:01.244Z"
   },
   {
    "duration": 224,
    "start_time": "2024-03-21T16:13:07.634Z"
   },
   {
    "duration": 228,
    "start_time": "2024-03-21T16:13:32.907Z"
   },
   {
    "duration": 223,
    "start_time": "2024-03-21T16:13:51.618Z"
   },
   {
    "duration": 229,
    "start_time": "2024-03-21T16:13:56.266Z"
   },
   {
    "duration": 210,
    "start_time": "2024-03-21T16:14:01.082Z"
   },
   {
    "duration": 216,
    "start_time": "2024-03-21T16:14:13.426Z"
   },
   {
    "duration": 259,
    "start_time": "2024-03-21T16:14:27.898Z"
   },
   {
    "duration": 5,
    "start_time": "2024-03-21T16:14:50.532Z"
   },
   {
    "duration": 100,
    "start_time": "2024-03-21T16:14:52.823Z"
   },
   {
    "duration": 211,
    "start_time": "2024-03-21T16:15:05.666Z"
   },
   {
    "duration": 397,
    "start_time": "2024-03-21T16:15:29.021Z"
   },
   {
    "duration": 266,
    "start_time": "2024-03-21T16:15:29.420Z"
   },
   {
    "duration": 2,
    "start_time": "2024-03-21T16:15:29.688Z"
   },
   {
    "duration": 8,
    "start_time": "2024-03-21T16:15:29.692Z"
   },
   {
    "duration": 487,
    "start_time": "2024-03-21T16:15:29.701Z"
   },
   {
    "duration": 36,
    "start_time": "2024-03-21T16:15:30.190Z"
   },
   {
    "duration": 172,
    "start_time": "2024-03-21T16:15:30.229Z"
   },
   {
    "duration": 78,
    "start_time": "2024-03-21T16:15:30.403Z"
   },
   {
    "duration": 69,
    "start_time": "2024-03-21T16:15:30.483Z"
   },
   {
    "duration": 29,
    "start_time": "2024-03-21T16:15:30.555Z"
   },
   {
    "duration": 50,
    "start_time": "2024-03-21T16:15:30.586Z"
   },
   {
    "duration": 62,
    "start_time": "2024-03-21T16:15:30.637Z"
   },
   {
    "duration": 33,
    "start_time": "2024-03-21T16:15:30.700Z"
   },
   {
    "duration": 44,
    "start_time": "2024-03-21T16:15:30.734Z"
   },
   {
    "duration": 68,
    "start_time": "2024-03-21T16:15:30.780Z"
   },
   {
    "duration": 84,
    "start_time": "2024-03-21T16:15:30.850Z"
   },
   {
    "duration": 60,
    "start_time": "2024-03-21T16:15:30.936Z"
   },
   {
    "duration": 45,
    "start_time": "2024-03-21T16:15:30.997Z"
   },
   {
    "duration": 42,
    "start_time": "2024-03-21T16:15:31.043Z"
   },
   {
    "duration": 45,
    "start_time": "2024-03-21T16:15:31.087Z"
   },
   {
    "duration": 48,
    "start_time": "2024-03-21T16:15:31.134Z"
   },
   {
    "duration": 15,
    "start_time": "2024-03-21T16:15:31.184Z"
   },
   {
    "duration": 79,
    "start_time": "2024-03-21T16:15:31.201Z"
   },
   {
    "duration": 12,
    "start_time": "2024-03-21T16:15:31.281Z"
   },
   {
    "duration": 37,
    "start_time": "2024-03-21T16:15:31.295Z"
   },
   {
    "duration": 260,
    "start_time": "2024-03-21T16:15:31.333Z"
   },
   {
    "duration": 238,
    "start_time": "2024-03-21T16:15:31.595Z"
   },
   {
    "duration": 107,
    "start_time": "2024-03-21T16:15:31.838Z"
   },
   {
    "duration": 6,
    "start_time": "2024-03-21T16:15:31.947Z"
   },
   {
    "duration": 233,
    "start_time": "2024-03-21T16:15:31.954Z"
   },
   {
    "duration": 332,
    "start_time": "2024-03-21T16:15:32.189Z"
   },
   {
    "duration": 244,
    "start_time": "2024-03-21T16:15:32.523Z"
   },
   {
    "duration": 36,
    "start_time": "2024-03-21T16:15:32.768Z"
   },
   {
    "duration": 25,
    "start_time": "2024-03-21T16:15:32.806Z"
   },
   {
    "duration": 13,
    "start_time": "2024-03-21T16:15:32.833Z"
   },
   {
    "duration": 35,
    "start_time": "2024-03-21T16:15:32.848Z"
   },
   {
    "duration": 5,
    "start_time": "2024-03-21T16:15:32.885Z"
   },
   {
    "duration": 119,
    "start_time": "2024-03-21T16:15:32.891Z"
   },
   {
    "duration": 3,
    "start_time": "2024-03-21T16:15:33.012Z"
   },
   {
    "duration": 257,
    "start_time": "2024-03-21T16:15:33.017Z"
   },
   {
    "duration": 236,
    "start_time": "2024-03-21T16:15:33.275Z"
   },
   {
    "duration": 241,
    "start_time": "2024-03-21T16:15:33.513Z"
   },
   {
    "duration": 244,
    "start_time": "2024-03-21T16:15:33.756Z"
   },
   {
    "duration": 19,
    "start_time": "2024-03-21T16:15:34.002Z"
   },
   {
    "duration": 16,
    "start_time": "2024-03-21T16:15:34.022Z"
   },
   {
    "duration": 3,
    "start_time": "2024-03-21T16:15:34.039Z"
   },
   {
    "duration": 44,
    "start_time": "2024-03-21T16:15:34.044Z"
   },
   {
    "duration": 45,
    "start_time": "2024-03-21T16:15:34.089Z"
   },
   {
    "duration": 18,
    "start_time": "2024-03-21T16:15:34.136Z"
   },
   {
    "duration": 21,
    "start_time": "2024-03-21T16:15:34.156Z"
   },
   {
    "duration": 24,
    "start_time": "2024-03-21T16:15:34.179Z"
   },
   {
    "duration": 22,
    "start_time": "2024-03-21T16:15:34.205Z"
   },
   {
    "duration": 15,
    "start_time": "2024-03-21T16:15:34.229Z"
   },
   {
    "duration": 4,
    "start_time": "2024-03-21T16:15:34.246Z"
   },
   {
    "duration": 44,
    "start_time": "2024-03-21T16:15:34.252Z"
   },
   {
    "duration": 18,
    "start_time": "2024-03-21T16:15:34.297Z"
   },
   {
    "duration": 12,
    "start_time": "2024-03-21T16:15:34.316Z"
   },
   {
    "duration": 41,
    "start_time": "2024-03-21T16:15:34.329Z"
   },
   {
    "duration": 5,
    "start_time": "2024-03-21T16:15:34.373Z"
   },
   {
    "duration": 10,
    "start_time": "2024-03-21T16:15:34.380Z"
   },
   {
    "duration": 7,
    "start_time": "2024-03-21T16:15:34.392Z"
   },
   {
    "duration": 15,
    "start_time": "2024-03-21T16:15:34.401Z"
   },
   {
    "duration": 7,
    "start_time": "2024-03-21T16:15:34.417Z"
   },
   {
    "duration": 48,
    "start_time": "2024-03-21T16:15:34.426Z"
   },
   {
    "duration": 9,
    "start_time": "2024-03-21T16:15:34.476Z"
   },
   {
    "duration": 15,
    "start_time": "2024-03-21T16:15:34.487Z"
   },
   {
    "duration": 18,
    "start_time": "2024-03-21T16:15:34.504Z"
   },
   {
    "duration": 7,
    "start_time": "2024-03-21T16:15:34.523Z"
   },
   {
    "duration": 5,
    "start_time": "2024-03-21T16:15:34.532Z"
   },
   {
    "duration": 10,
    "start_time": "2024-03-21T16:15:34.538Z"
   },
   {
    "duration": 8,
    "start_time": "2024-03-21T16:15:34.549Z"
   },
   {
    "duration": 36,
    "start_time": "2024-03-21T16:15:34.559Z"
   },
   {
    "duration": 14,
    "start_time": "2024-03-21T16:15:34.597Z"
   },
   {
    "duration": 8,
    "start_time": "2024-03-21T16:15:34.612Z"
   },
   {
    "duration": 11,
    "start_time": "2024-03-21T16:15:34.622Z"
   },
   {
    "duration": 9,
    "start_time": "2024-03-21T16:15:34.634Z"
   },
   {
    "duration": 16,
    "start_time": "2024-03-21T16:15:34.645Z"
   },
   {
    "duration": 12,
    "start_time": "2024-03-21T16:15:34.662Z"
   },
   {
    "duration": 7,
    "start_time": "2024-03-21T16:15:34.676Z"
   },
   {
    "duration": 7,
    "start_time": "2024-03-21T16:15:34.685Z"
   },
   {
    "duration": 15,
    "start_time": "2024-03-21T16:17:36.009Z"
   },
   {
    "duration": 4,
    "start_time": "2024-03-21T16:20:04.328Z"
   },
   {
    "duration": 35,
    "start_time": "2024-03-21T16:20:05.824Z"
   },
   {
    "duration": 460,
    "start_time": "2024-03-21T16:20:11.361Z"
   },
   {
    "duration": 256,
    "start_time": "2024-03-21T16:20:11.823Z"
   },
   {
    "duration": 3,
    "start_time": "2024-03-21T16:20:12.080Z"
   },
   {
    "duration": 5,
    "start_time": "2024-03-21T16:20:12.084Z"
   },
   {
    "duration": 460,
    "start_time": "2024-03-21T16:20:12.091Z"
   },
   {
    "duration": 56,
    "start_time": "2024-03-21T16:20:12.553Z"
   },
   {
    "duration": 29,
    "start_time": "2024-03-21T16:20:12.611Z"
   },
   {
    "duration": 16,
    "start_time": "2024-03-21T16:20:12.642Z"
   },
   {
    "duration": 19,
    "start_time": "2024-03-21T16:20:12.659Z"
   },
   {
    "duration": 11,
    "start_time": "2024-03-21T16:20:12.680Z"
   },
   {
    "duration": 26,
    "start_time": "2024-03-21T16:20:12.693Z"
   },
   {
    "duration": 12,
    "start_time": "2024-03-21T16:20:12.721Z"
   },
   {
    "duration": 7,
    "start_time": "2024-03-21T16:20:12.735Z"
   },
   {
    "duration": 11,
    "start_time": "2024-03-21T16:20:12.744Z"
   },
   {
    "duration": 7,
    "start_time": "2024-03-21T16:20:12.757Z"
   },
   {
    "duration": 19,
    "start_time": "2024-03-21T16:20:12.772Z"
   },
   {
    "duration": 15,
    "start_time": "2024-03-21T16:20:12.793Z"
   },
   {
    "duration": 8,
    "start_time": "2024-03-21T16:20:12.810Z"
   },
   {
    "duration": 10,
    "start_time": "2024-03-21T16:20:12.819Z"
   },
   {
    "duration": 15,
    "start_time": "2024-03-21T16:20:12.830Z"
   },
   {
    "duration": 28,
    "start_time": "2024-03-21T16:20:12.846Z"
   },
   {
    "duration": 5,
    "start_time": "2024-03-21T16:20:12.876Z"
   },
   {
    "duration": 55,
    "start_time": "2024-03-21T16:20:12.882Z"
   },
   {
    "duration": 12,
    "start_time": "2024-03-21T16:20:12.939Z"
   },
   {
    "duration": 11,
    "start_time": "2024-03-21T16:20:12.972Z"
   },
   {
    "duration": 231,
    "start_time": "2024-03-21T16:20:12.985Z"
   },
   {
    "duration": 226,
    "start_time": "2024-03-21T16:20:13.218Z"
   },
   {
    "duration": 108,
    "start_time": "2024-03-21T16:20:13.446Z"
   },
   {
    "duration": 6,
    "start_time": "2024-03-21T16:20:13.556Z"
   },
   {
    "duration": 207,
    "start_time": "2024-03-21T16:20:13.563Z"
   },
   {
    "duration": 332,
    "start_time": "2024-03-21T16:20:13.772Z"
   },
   {
    "duration": 248,
    "start_time": "2024-03-21T16:20:14.106Z"
   },
   {
    "duration": 4,
    "start_time": "2024-03-21T16:20:14.356Z"
   },
   {
    "duration": 39,
    "start_time": "2024-03-21T16:20:14.362Z"
   },
   {
    "duration": 14,
    "start_time": "2024-03-21T16:20:14.402Z"
   },
   {
    "duration": 56,
    "start_time": "2024-03-21T16:20:14.417Z"
   },
   {
    "duration": 41,
    "start_time": "2024-03-21T16:20:14.475Z"
   },
   {
    "duration": 6,
    "start_time": "2024-03-21T16:20:14.517Z"
   },
   {
    "duration": 104,
    "start_time": "2024-03-21T16:20:14.525Z"
   },
   {
    "duration": 3,
    "start_time": "2024-03-21T16:20:14.631Z"
   },
   {
    "duration": 229,
    "start_time": "2024-03-21T16:20:14.639Z"
   },
   {
    "duration": 219,
    "start_time": "2024-03-21T16:20:14.872Z"
   },
   {
    "duration": 237,
    "start_time": "2024-03-21T16:20:15.093Z"
   },
   {
    "duration": 239,
    "start_time": "2024-03-21T16:20:15.331Z"
   },
   {
    "duration": 26,
    "start_time": "2024-03-21T16:20:15.572Z"
   },
   {
    "duration": 32,
    "start_time": "2024-03-21T16:20:15.600Z"
   },
   {
    "duration": 35,
    "start_time": "2024-03-21T16:20:15.634Z"
   },
   {
    "duration": 34,
    "start_time": "2024-03-21T16:20:15.670Z"
   },
   {
    "duration": 42,
    "start_time": "2024-03-21T16:20:15.705Z"
   },
   {
    "duration": 83,
    "start_time": "2024-03-21T16:20:15.749Z"
   },
   {
    "duration": 68,
    "start_time": "2024-03-21T16:20:15.833Z"
   },
   {
    "duration": 17,
    "start_time": "2024-03-21T16:20:15.903Z"
   },
   {
    "duration": 17,
    "start_time": "2024-03-21T16:20:15.921Z"
   },
   {
    "duration": 31,
    "start_time": "2024-03-21T16:20:15.940Z"
   },
   {
    "duration": 23,
    "start_time": "2024-03-21T16:20:15.973Z"
   },
   {
    "duration": 15,
    "start_time": "2024-03-21T16:20:15.997Z"
   },
   {
    "duration": 20,
    "start_time": "2024-03-21T16:20:16.013Z"
   },
   {
    "duration": 15,
    "start_time": "2024-03-21T16:20:16.035Z"
   },
   {
    "duration": 24,
    "start_time": "2024-03-21T16:20:16.051Z"
   },
   {
    "duration": 9,
    "start_time": "2024-03-21T16:20:16.077Z"
   },
   {
    "duration": 23,
    "start_time": "2024-03-21T16:20:16.088Z"
   },
   {
    "duration": 17,
    "start_time": "2024-03-21T16:20:16.113Z"
   },
   {
    "duration": 14,
    "start_time": "2024-03-21T16:20:16.132Z"
   },
   {
    "duration": 17,
    "start_time": "2024-03-21T16:20:16.148Z"
   },
   {
    "duration": 13,
    "start_time": "2024-03-21T16:20:16.166Z"
   },
   {
    "duration": 35,
    "start_time": "2024-03-21T16:20:16.181Z"
   },
   {
    "duration": 8,
    "start_time": "2024-03-21T16:20:16.218Z"
   },
   {
    "duration": 6,
    "start_time": "2024-03-21T16:20:16.227Z"
   },
   {
    "duration": 8,
    "start_time": "2024-03-21T16:20:16.235Z"
   },
   {
    "duration": 12,
    "start_time": "2024-03-21T16:20:16.244Z"
   },
   {
    "duration": 46,
    "start_time": "2024-03-21T16:20:16.258Z"
   },
   {
    "duration": 24,
    "start_time": "2024-03-21T16:20:16.306Z"
   },
   {
    "duration": 34,
    "start_time": "2024-03-21T16:20:16.331Z"
   },
   {
    "duration": 50,
    "start_time": "2024-03-21T16:20:16.367Z"
   },
   {
    "duration": 21,
    "start_time": "2024-03-21T16:20:16.419Z"
   },
   {
    "duration": 40,
    "start_time": "2024-03-21T16:20:16.441Z"
   },
   {
    "duration": 23,
    "start_time": "2024-03-21T16:20:16.483Z"
   },
   {
    "duration": 15,
    "start_time": "2024-03-21T16:20:16.508Z"
   },
   {
    "duration": 50,
    "start_time": "2024-03-21T16:20:16.525Z"
   },
   {
    "duration": 53,
    "start_time": "2024-03-21T16:20:16.576Z"
   },
   {
    "duration": 17,
    "start_time": "2024-03-21T16:20:16.630Z"
   },
   {
    "duration": 7,
    "start_time": "2024-03-21T16:20:16.648Z"
   },
   {
    "duration": 420,
    "start_time": "2024-03-21T16:21:41.592Z"
   },
   {
    "duration": 270,
    "start_time": "2024-03-21T16:21:42.014Z"
   },
   {
    "duration": 2,
    "start_time": "2024-03-21T16:21:42.286Z"
   },
   {
    "duration": 4,
    "start_time": "2024-03-21T16:21:42.290Z"
   },
   {
    "duration": 455,
    "start_time": "2024-03-21T16:21:42.296Z"
   },
   {
    "duration": 31,
    "start_time": "2024-03-21T16:21:42.753Z"
   },
   {
    "duration": 30,
    "start_time": "2024-03-21T16:21:42.786Z"
   },
   {
    "duration": 17,
    "start_time": "2024-03-21T16:21:42.817Z"
   },
   {
    "duration": 13,
    "start_time": "2024-03-21T16:21:42.836Z"
   },
   {
    "duration": 17,
    "start_time": "2024-03-21T16:21:42.852Z"
   },
   {
    "duration": 19,
    "start_time": "2024-03-21T16:21:42.871Z"
   },
   {
    "duration": 25,
    "start_time": "2024-03-21T16:21:42.892Z"
   },
   {
    "duration": 17,
    "start_time": "2024-03-21T16:21:42.919Z"
   },
   {
    "duration": 24,
    "start_time": "2024-03-21T16:21:42.938Z"
   },
   {
    "duration": 19,
    "start_time": "2024-03-21T16:21:42.963Z"
   },
   {
    "duration": 24,
    "start_time": "2024-03-21T16:21:42.984Z"
   },
   {
    "duration": 21,
    "start_time": "2024-03-21T16:21:43.009Z"
   },
   {
    "duration": 12,
    "start_time": "2024-03-21T16:21:43.032Z"
   },
   {
    "duration": 7,
    "start_time": "2024-03-21T16:21:43.046Z"
   },
   {
    "duration": 14,
    "start_time": "2024-03-21T16:21:43.055Z"
   },
   {
    "duration": 8,
    "start_time": "2024-03-21T16:21:43.072Z"
   },
   {
    "duration": 5,
    "start_time": "2024-03-21T16:21:43.082Z"
   },
   {
    "duration": 63,
    "start_time": "2024-03-21T16:21:43.089Z"
   },
   {
    "duration": 25,
    "start_time": "2024-03-21T16:21:43.154Z"
   },
   {
    "duration": 12,
    "start_time": "2024-03-21T16:21:43.181Z"
   },
   {
    "duration": 245,
    "start_time": "2024-03-21T16:21:43.195Z"
   },
   {
    "duration": 233,
    "start_time": "2024-03-21T16:21:43.442Z"
   },
   {
    "duration": 103,
    "start_time": "2024-03-21T16:21:43.679Z"
   },
   {
    "duration": 6,
    "start_time": "2024-03-21T16:21:43.783Z"
   },
   {
    "duration": 213,
    "start_time": "2024-03-21T16:21:43.791Z"
   },
   {
    "duration": 346,
    "start_time": "2024-03-21T16:21:44.006Z"
   },
   {
    "duration": 232,
    "start_time": "2024-03-21T16:21:44.353Z"
   },
   {
    "duration": 4,
    "start_time": "2024-03-21T16:21:44.586Z"
   },
   {
    "duration": 37,
    "start_time": "2024-03-21T16:21:44.591Z"
   },
   {
    "duration": 14,
    "start_time": "2024-03-21T16:21:44.630Z"
   },
   {
    "duration": 28,
    "start_time": "2024-03-21T16:21:44.645Z"
   },
   {
    "duration": 100,
    "start_time": "2024-03-21T16:21:44.674Z"
   },
   {
    "duration": 5,
    "start_time": "2024-03-21T16:21:44.776Z"
   },
   {
    "duration": 23,
    "start_time": "2024-03-21T16:21:44.783Z"
   },
   {
    "duration": 4,
    "start_time": "2024-03-21T16:21:44.808Z"
   },
   {
    "duration": 243,
    "start_time": "2024-03-21T16:21:44.813Z"
   },
   {
    "duration": 223,
    "start_time": "2024-03-21T16:21:45.058Z"
   },
   {
    "duration": 245,
    "start_time": "2024-03-21T16:21:45.283Z"
   },
   {
    "duration": 232,
    "start_time": "2024-03-21T16:21:45.529Z"
   },
   {
    "duration": 19,
    "start_time": "2024-03-21T16:21:45.762Z"
   },
   {
    "duration": 24,
    "start_time": "2024-03-21T16:21:45.783Z"
   },
   {
    "duration": 3,
    "start_time": "2024-03-21T16:21:45.809Z"
   },
   {
    "duration": 16,
    "start_time": "2024-03-21T16:21:45.813Z"
   },
   {
    "duration": 3,
    "start_time": "2024-03-21T16:21:45.830Z"
   },
   {
    "duration": 14,
    "start_time": "2024-03-21T16:21:45.835Z"
   },
   {
    "duration": 57,
    "start_time": "2024-03-21T16:21:45.850Z"
   },
   {
    "duration": 44,
    "start_time": "2024-03-21T16:21:45.909Z"
   },
   {
    "duration": 21,
    "start_time": "2024-03-21T16:21:45.955Z"
   },
   {
    "duration": 28,
    "start_time": "2024-03-21T16:21:45.977Z"
   },
   {
    "duration": 26,
    "start_time": "2024-03-21T16:21:46.006Z"
   },
   {
    "duration": 4,
    "start_time": "2024-03-21T16:21:46.033Z"
   },
   {
    "duration": 17,
    "start_time": "2024-03-21T16:21:46.039Z"
   },
   {
    "duration": 10,
    "start_time": "2024-03-21T16:21:46.058Z"
   },
   {
    "duration": 37,
    "start_time": "2024-03-21T16:21:46.070Z"
   },
   {
    "duration": 10,
    "start_time": "2024-03-21T16:21:46.109Z"
   },
   {
    "duration": 10,
    "start_time": "2024-03-21T16:21:46.121Z"
   },
   {
    "duration": 11,
    "start_time": "2024-03-21T16:21:46.133Z"
   },
   {
    "duration": 9,
    "start_time": "2024-03-21T16:21:46.145Z"
   },
   {
    "duration": 30,
    "start_time": "2024-03-21T16:21:46.156Z"
   },
   {
    "duration": 14,
    "start_time": "2024-03-21T16:21:46.188Z"
   },
   {
    "duration": 26,
    "start_time": "2024-03-21T16:21:46.204Z"
   },
   {
    "duration": 13,
    "start_time": "2024-03-21T16:21:46.232Z"
   },
   {
    "duration": 17,
    "start_time": "2024-03-21T16:21:46.247Z"
   },
   {
    "duration": 8,
    "start_time": "2024-03-21T16:21:46.265Z"
   },
   {
    "duration": 10,
    "start_time": "2024-03-21T16:21:46.274Z"
   },
   {
    "duration": 17,
    "start_time": "2024-03-21T16:21:46.285Z"
   },
   {
    "duration": 7,
    "start_time": "2024-03-21T16:21:46.303Z"
   },
   {
    "duration": 10,
    "start_time": "2024-03-21T16:21:46.312Z"
   },
   {
    "duration": 34,
    "start_time": "2024-03-21T16:21:46.324Z"
   },
   {
    "duration": 15,
    "start_time": "2024-03-21T16:21:46.359Z"
   },
   {
    "duration": 6,
    "start_time": "2024-03-21T16:21:46.376Z"
   },
   {
    "duration": 34,
    "start_time": "2024-03-21T16:21:46.384Z"
   },
   {
    "duration": 24,
    "start_time": "2024-03-21T16:21:46.419Z"
   },
   {
    "duration": 47,
    "start_time": "2024-03-21T16:21:46.444Z"
   },
   {
    "duration": 34,
    "start_time": "2024-03-21T16:21:46.493Z"
   },
   {
    "duration": 17,
    "start_time": "2024-03-21T16:21:46.529Z"
   },
   {
    "duration": 9,
    "start_time": "2024-03-21T16:21:46.552Z"
   },
   {
    "duration": 8,
    "start_time": "2024-03-21T16:24:31.361Z"
   },
   {
    "duration": 16,
    "start_time": "2024-03-21T16:24:31.839Z"
   },
   {
    "duration": 418,
    "start_time": "2024-03-21T16:24:39.214Z"
   },
   {
    "duration": 260,
    "start_time": "2024-03-21T16:24:39.634Z"
   },
   {
    "duration": 3,
    "start_time": "2024-03-21T16:24:39.895Z"
   },
   {
    "duration": 6,
    "start_time": "2024-03-21T16:24:39.900Z"
   },
   {
    "duration": 482,
    "start_time": "2024-03-21T16:24:39.907Z"
   },
   {
    "duration": 31,
    "start_time": "2024-03-21T16:24:40.391Z"
   },
   {
    "duration": 28,
    "start_time": "2024-03-21T16:24:40.424Z"
   },
   {
    "duration": 16,
    "start_time": "2024-03-21T16:24:40.454Z"
   },
   {
    "duration": 11,
    "start_time": "2024-03-21T16:24:40.471Z"
   },
   {
    "duration": 11,
    "start_time": "2024-03-21T16:24:40.485Z"
   },
   {
    "duration": 13,
    "start_time": "2024-03-21T16:24:40.497Z"
   },
   {
    "duration": 11,
    "start_time": "2024-03-21T16:24:40.511Z"
   },
   {
    "duration": 7,
    "start_time": "2024-03-21T16:24:40.524Z"
   },
   {
    "duration": 20,
    "start_time": "2024-03-21T16:24:40.532Z"
   },
   {
    "duration": 21,
    "start_time": "2024-03-21T16:24:40.554Z"
   },
   {
    "duration": 12,
    "start_time": "2024-03-21T16:24:40.577Z"
   },
   {
    "duration": 21,
    "start_time": "2024-03-21T16:24:40.590Z"
   },
   {
    "duration": 9,
    "start_time": "2024-03-21T16:24:40.612Z"
   },
   {
    "duration": 7,
    "start_time": "2024-03-21T16:24:40.622Z"
   },
   {
    "duration": 12,
    "start_time": "2024-03-21T16:24:40.631Z"
   },
   {
    "duration": 31,
    "start_time": "2024-03-21T16:24:40.644Z"
   },
   {
    "duration": 5,
    "start_time": "2024-03-21T16:24:40.677Z"
   },
   {
    "duration": 52,
    "start_time": "2024-03-21T16:24:40.684Z"
   },
   {
    "duration": 35,
    "start_time": "2024-03-21T16:24:40.738Z"
   },
   {
    "duration": 12,
    "start_time": "2024-03-21T16:24:40.774Z"
   },
   {
    "duration": 250,
    "start_time": "2024-03-21T16:24:40.788Z"
   },
   {
    "duration": 218,
    "start_time": "2024-03-21T16:24:41.039Z"
   },
   {
    "duration": 97,
    "start_time": "2024-03-21T16:24:41.262Z"
   },
   {
    "duration": 15,
    "start_time": "2024-03-21T16:24:41.361Z"
   },
   {
    "duration": 193,
    "start_time": "2024-03-21T16:24:41.378Z"
   },
   {
    "duration": 322,
    "start_time": "2024-03-21T16:24:41.573Z"
   },
   {
    "duration": 240,
    "start_time": "2024-03-21T16:24:41.897Z"
   },
   {
    "duration": 4,
    "start_time": "2024-03-21T16:24:42.139Z"
   },
   {
    "duration": 50,
    "start_time": "2024-03-21T16:24:42.144Z"
   },
   {
    "duration": 14,
    "start_time": "2024-03-21T16:24:42.197Z"
   },
   {
    "duration": 9,
    "start_time": "2024-03-21T16:24:42.214Z"
   },
   {
    "duration": 23,
    "start_time": "2024-03-21T16:24:42.224Z"
   },
   {
    "duration": 26,
    "start_time": "2024-03-21T16:24:42.249Z"
   },
   {
    "duration": 111,
    "start_time": "2024-03-21T16:24:42.277Z"
   },
   {
    "duration": 4,
    "start_time": "2024-03-21T16:24:42.389Z"
   },
   {
    "duration": 239,
    "start_time": "2024-03-21T16:24:42.394Z"
   },
   {
    "duration": 215,
    "start_time": "2024-03-21T16:24:42.634Z"
   },
   {
    "duration": 238,
    "start_time": "2024-03-21T16:24:42.851Z"
   },
   {
    "duration": 233,
    "start_time": "2024-03-21T16:24:43.090Z"
   },
   {
    "duration": 20,
    "start_time": "2024-03-21T16:24:43.324Z"
   },
   {
    "duration": 34,
    "start_time": "2024-03-21T16:24:43.346Z"
   },
   {
    "duration": 7,
    "start_time": "2024-03-21T16:24:43.382Z"
   },
   {
    "duration": 31,
    "start_time": "2024-03-21T16:24:43.391Z"
   },
   {
    "duration": 14,
    "start_time": "2024-03-21T16:24:43.425Z"
   },
   {
    "duration": 22,
    "start_time": "2024-03-21T16:24:43.441Z"
   },
   {
    "duration": 18,
    "start_time": "2024-03-21T16:24:43.465Z"
   },
   {
    "duration": 18,
    "start_time": "2024-03-21T16:24:43.484Z"
   },
   {
    "duration": 16,
    "start_time": "2024-03-21T16:24:43.504Z"
   },
   {
    "duration": 23,
    "start_time": "2024-03-21T16:24:43.522Z"
   },
   {
    "duration": 27,
    "start_time": "2024-03-21T16:24:43.546Z"
   },
   {
    "duration": 4,
    "start_time": "2024-03-21T16:24:43.575Z"
   },
   {
    "duration": 29,
    "start_time": "2024-03-21T16:24:43.581Z"
   },
   {
    "duration": 6,
    "start_time": "2024-03-21T16:24:43.612Z"
   },
   {
    "duration": 12,
    "start_time": "2024-03-21T16:24:43.620Z"
   },
   {
    "duration": 11,
    "start_time": "2024-03-21T16:24:43.634Z"
   },
   {
    "duration": 2,
    "start_time": "2024-03-21T16:24:43.647Z"
   },
   {
    "duration": 22,
    "start_time": "2024-03-21T16:24:43.651Z"
   },
   {
    "duration": 4,
    "start_time": "2024-03-21T16:24:43.674Z"
   },
   {
    "duration": 9,
    "start_time": "2024-03-21T16:24:43.680Z"
   },
   {
    "duration": 6,
    "start_time": "2024-03-21T16:24:43.691Z"
   },
   {
    "duration": 17,
    "start_time": "2024-03-21T16:24:43.699Z"
   },
   {
    "duration": 8,
    "start_time": "2024-03-21T16:24:43.718Z"
   },
   {
    "duration": 2,
    "start_time": "2024-03-21T16:24:43.728Z"
   },
   {
    "duration": 9,
    "start_time": "2024-03-21T16:24:43.731Z"
   },
   {
    "duration": 32,
    "start_time": "2024-03-21T16:24:43.742Z"
   },
   {
    "duration": 4,
    "start_time": "2024-03-21T16:24:43.775Z"
   },
   {
    "duration": 12,
    "start_time": "2024-03-21T16:24:43.780Z"
   },
   {
    "duration": 6,
    "start_time": "2024-03-21T16:24:43.793Z"
   },
   {
    "duration": 22,
    "start_time": "2024-03-21T16:24:43.800Z"
   },
   {
    "duration": 17,
    "start_time": "2024-03-21T16:24:43.823Z"
   },
   {
    "duration": 32,
    "start_time": "2024-03-21T16:24:43.842Z"
   },
   {
    "duration": 7,
    "start_time": "2024-03-21T16:24:43.876Z"
   },
   {
    "duration": 9,
    "start_time": "2024-03-21T16:24:43.885Z"
   },
   {
    "duration": 5,
    "start_time": "2024-03-21T16:24:43.896Z"
   },
   {
    "duration": 7,
    "start_time": "2024-03-21T16:24:43.903Z"
   },
   {
    "duration": 5,
    "start_time": "2024-03-21T16:24:43.911Z"
   },
   {
    "duration": 4,
    "start_time": "2024-03-21T16:24:43.921Z"
   },
   {
    "duration": 426,
    "start_time": "2024-03-21T16:27:49.509Z"
   },
   {
    "duration": 380,
    "start_time": "2024-03-21T16:27:49.937Z"
   },
   {
    "duration": 3,
    "start_time": "2024-03-21T16:27:50.318Z"
   },
   {
    "duration": 24,
    "start_time": "2024-03-21T16:27:50.323Z"
   },
   {
    "duration": 676,
    "start_time": "2024-03-21T16:27:50.349Z"
   },
   {
    "duration": 32,
    "start_time": "2024-03-21T16:27:51.026Z"
   },
   {
    "duration": 30,
    "start_time": "2024-03-21T16:27:51.059Z"
   },
   {
    "duration": 17,
    "start_time": "2024-03-21T16:27:51.090Z"
   },
   {
    "duration": 13,
    "start_time": "2024-03-21T16:27:51.109Z"
   },
   {
    "duration": 15,
    "start_time": "2024-03-21T16:27:51.124Z"
   },
   {
    "duration": 14,
    "start_time": "2024-03-21T16:27:51.141Z"
   },
   {
    "duration": 20,
    "start_time": "2024-03-21T16:27:51.157Z"
   },
   {
    "duration": 7,
    "start_time": "2024-03-21T16:27:51.178Z"
   },
   {
    "duration": 13,
    "start_time": "2024-03-21T16:27:51.187Z"
   },
   {
    "duration": 9,
    "start_time": "2024-03-21T16:27:51.202Z"
   },
   {
    "duration": 13,
    "start_time": "2024-03-21T16:27:51.212Z"
   },
   {
    "duration": 15,
    "start_time": "2024-03-21T16:27:51.226Z"
   },
   {
    "duration": 37,
    "start_time": "2024-03-21T16:27:51.243Z"
   },
   {
    "duration": 5,
    "start_time": "2024-03-21T16:27:51.282Z"
   },
   {
    "duration": 15,
    "start_time": "2024-03-21T16:27:51.289Z"
   },
   {
    "duration": 8,
    "start_time": "2024-03-21T16:27:51.306Z"
   },
   {
    "duration": 8,
    "start_time": "2024-03-21T16:27:51.315Z"
   },
   {
    "duration": 81,
    "start_time": "2024-03-21T16:27:51.324Z"
   },
   {
    "duration": 11,
    "start_time": "2024-03-21T16:27:51.407Z"
   },
   {
    "duration": 10,
    "start_time": "2024-03-21T16:27:51.420Z"
   },
   {
    "duration": 261,
    "start_time": "2024-03-21T16:27:51.432Z"
   },
   {
    "duration": 226,
    "start_time": "2024-03-21T16:27:51.695Z"
   },
   {
    "duration": 109,
    "start_time": "2024-03-21T16:27:51.927Z"
   },
   {
    "duration": 7,
    "start_time": "2024-03-21T16:27:52.038Z"
   },
   {
    "duration": 226,
    "start_time": "2024-03-21T16:27:52.046Z"
   },
   {
    "duration": 326,
    "start_time": "2024-03-21T16:27:52.274Z"
   },
   {
    "duration": 248,
    "start_time": "2024-03-21T16:27:52.602Z"
   },
   {
    "duration": 4,
    "start_time": "2024-03-21T16:27:52.851Z"
   },
   {
    "duration": 47,
    "start_time": "2024-03-21T16:27:52.856Z"
   },
   {
    "duration": 14,
    "start_time": "2024-03-21T16:27:52.905Z"
   },
   {
    "duration": 11,
    "start_time": "2024-03-21T16:27:52.921Z"
   },
   {
    "duration": 20,
    "start_time": "2024-03-21T16:27:52.934Z"
   },
   {
    "duration": 7,
    "start_time": "2024-03-21T16:27:52.974Z"
   },
   {
    "duration": 104,
    "start_time": "2024-03-21T16:27:52.982Z"
   },
   {
    "duration": 3,
    "start_time": "2024-03-21T16:27:53.088Z"
   },
   {
    "duration": 237,
    "start_time": "2024-03-21T16:27:53.092Z"
   },
   {
    "duration": 230,
    "start_time": "2024-03-21T16:27:53.331Z"
   },
   {
    "duration": 240,
    "start_time": "2024-03-21T16:27:53.563Z"
   },
   {
    "duration": 226,
    "start_time": "2024-03-21T16:27:53.805Z"
   },
   {
    "duration": 19,
    "start_time": "2024-03-21T16:27:54.033Z"
   },
   {
    "duration": 32,
    "start_time": "2024-03-21T16:27:54.054Z"
   },
   {
    "duration": 3,
    "start_time": "2024-03-21T16:27:54.088Z"
   },
   {
    "duration": 29,
    "start_time": "2024-03-21T16:27:54.093Z"
   },
   {
    "duration": 10,
    "start_time": "2024-03-21T16:27:54.124Z"
   },
   {
    "duration": 16,
    "start_time": "2024-03-21T16:27:54.135Z"
   },
   {
    "duration": 21,
    "start_time": "2024-03-21T16:27:54.153Z"
   },
   {
    "duration": 15,
    "start_time": "2024-03-21T16:27:54.176Z"
   },
   {
    "duration": 8,
    "start_time": "2024-03-21T16:27:54.193Z"
   },
   {
    "duration": 6,
    "start_time": "2024-03-21T16:27:54.203Z"
   },
   {
    "duration": 10,
    "start_time": "2024-03-21T16:27:54.211Z"
   },
   {
    "duration": 10,
    "start_time": "2024-03-21T16:27:54.222Z"
   },
   {
    "duration": 3,
    "start_time": "2024-03-21T16:27:54.233Z"
   },
   {
    "duration": 38,
    "start_time": "2024-03-21T16:27:54.237Z"
   },
   {
    "duration": 13,
    "start_time": "2024-03-21T16:27:54.277Z"
   },
   {
    "duration": 5,
    "start_time": "2024-03-21T16:27:54.292Z"
   },
   {
    "duration": 19,
    "start_time": "2024-03-21T16:27:54.299Z"
   },
   {
    "duration": 20,
    "start_time": "2024-03-21T16:27:54.319Z"
   },
   {
    "duration": 11,
    "start_time": "2024-03-21T16:27:54.340Z"
   },
   {
    "duration": 2,
    "start_time": "2024-03-21T16:27:54.353Z"
   },
   {
    "duration": 17,
    "start_time": "2024-03-21T16:27:54.356Z"
   },
   {
    "duration": 18,
    "start_time": "2024-03-21T16:27:54.374Z"
   },
   {
    "duration": 14,
    "start_time": "2024-03-21T16:27:54.393Z"
   },
   {
    "duration": 5,
    "start_time": "2024-03-21T16:27:54.409Z"
   },
   {
    "duration": 4,
    "start_time": "2024-03-21T16:27:54.416Z"
   },
   {
    "duration": 20,
    "start_time": "2024-03-21T16:27:54.421Z"
   },
   {
    "duration": 15,
    "start_time": "2024-03-21T16:27:54.442Z"
   },
   {
    "duration": 22,
    "start_time": "2024-03-21T16:27:54.459Z"
   },
   {
    "duration": 6,
    "start_time": "2024-03-21T16:27:54.483Z"
   },
   {
    "duration": 7,
    "start_time": "2024-03-21T16:27:54.491Z"
   },
   {
    "duration": 6,
    "start_time": "2024-03-21T16:27:54.499Z"
   },
   {
    "duration": 10,
    "start_time": "2024-03-21T16:27:54.507Z"
   },
   {
    "duration": 7,
    "start_time": "2024-03-21T16:27:54.519Z"
   },
   {
    "duration": 4,
    "start_time": "2024-03-21T16:27:54.528Z"
   },
   {
    "duration": 415,
    "start_time": "2024-03-21T16:28:58.630Z"
   },
   {
    "duration": 280,
    "start_time": "2024-03-21T16:28:59.047Z"
   },
   {
    "duration": 3,
    "start_time": "2024-03-21T16:28:59.328Z"
   },
   {
    "duration": 6,
    "start_time": "2024-03-21T16:28:59.333Z"
   },
   {
    "duration": 510,
    "start_time": "2024-03-21T16:28:59.341Z"
   },
   {
    "duration": 31,
    "start_time": "2024-03-21T16:28:59.853Z"
   },
   {
    "duration": 31,
    "start_time": "2024-03-21T16:28:59.885Z"
   },
   {
    "duration": 16,
    "start_time": "2024-03-21T16:28:59.918Z"
   },
   {
    "duration": 12,
    "start_time": "2024-03-21T16:28:59.935Z"
   },
   {
    "duration": 16,
    "start_time": "2024-03-21T16:28:59.949Z"
   },
   {
    "duration": 12,
    "start_time": "2024-03-21T16:28:59.967Z"
   },
   {
    "duration": 12,
    "start_time": "2024-03-21T16:28:59.980Z"
   },
   {
    "duration": 7,
    "start_time": "2024-03-21T16:28:59.993Z"
   },
   {
    "duration": 10,
    "start_time": "2024-03-21T16:29:00.003Z"
   },
   {
    "duration": 36,
    "start_time": "2024-03-21T16:29:00.014Z"
   },
   {
    "duration": 56,
    "start_time": "2024-03-21T16:29:00.052Z"
   },
   {
    "duration": 39,
    "start_time": "2024-03-21T16:29:00.111Z"
   },
   {
    "duration": 34,
    "start_time": "2024-03-21T16:29:00.152Z"
   },
   {
    "duration": 90,
    "start_time": "2024-03-21T16:29:00.188Z"
   },
   {
    "duration": 79,
    "start_time": "2024-03-21T16:29:00.280Z"
   },
   {
    "duration": 46,
    "start_time": "2024-03-21T16:29:00.360Z"
   },
   {
    "duration": 73,
    "start_time": "2024-03-21T16:29:00.408Z"
   },
   {
    "duration": 103,
    "start_time": "2024-03-21T16:29:00.482Z"
   },
   {
    "duration": 12,
    "start_time": "2024-03-21T16:29:00.586Z"
   },
   {
    "duration": 79,
    "start_time": "2024-03-21T16:29:00.599Z"
   },
   {
    "duration": 275,
    "start_time": "2024-03-21T16:29:00.680Z"
   },
   {
    "duration": 229,
    "start_time": "2024-03-21T16:29:00.957Z"
   },
   {
    "duration": 98,
    "start_time": "2024-03-21T16:29:01.187Z"
   },
   {
    "duration": 6,
    "start_time": "2024-03-21T16:29:01.287Z"
   },
   {
    "duration": 307,
    "start_time": "2024-03-21T16:29:01.294Z"
   },
   {
    "duration": 355,
    "start_time": "2024-03-21T16:29:01.602Z"
   },
   {
    "duration": 245,
    "start_time": "2024-03-21T16:29:01.958Z"
   },
   {
    "duration": 4,
    "start_time": "2024-03-21T16:29:02.204Z"
   },
   {
    "duration": 67,
    "start_time": "2024-03-21T16:29:02.209Z"
   },
   {
    "duration": 14,
    "start_time": "2024-03-21T16:29:02.278Z"
   },
   {
    "duration": 7,
    "start_time": "2024-03-21T16:29:02.293Z"
   },
   {
    "duration": 47,
    "start_time": "2024-03-21T16:29:02.302Z"
   },
   {
    "duration": 6,
    "start_time": "2024-03-21T16:29:02.350Z"
   },
   {
    "duration": 117,
    "start_time": "2024-03-21T16:29:02.357Z"
   },
   {
    "duration": 3,
    "start_time": "2024-03-21T16:29:02.476Z"
   },
   {
    "duration": 236,
    "start_time": "2024-03-21T16:29:02.485Z"
   },
   {
    "duration": 217,
    "start_time": "2024-03-21T16:29:02.724Z"
   },
   {
    "duration": 261,
    "start_time": "2024-03-21T16:29:02.943Z"
   },
   {
    "duration": 243,
    "start_time": "2024-03-21T16:29:03.206Z"
   },
   {
    "duration": 34,
    "start_time": "2024-03-21T16:29:03.451Z"
   },
   {
    "duration": 37,
    "start_time": "2024-03-21T16:29:03.487Z"
   },
   {
    "duration": 2,
    "start_time": "2024-03-21T16:29:03.526Z"
   },
   {
    "duration": 14,
    "start_time": "2024-03-21T16:29:03.530Z"
   },
   {
    "duration": 13,
    "start_time": "2024-03-21T16:29:03.545Z"
   },
   {
    "duration": 15,
    "start_time": "2024-03-21T16:29:03.560Z"
   },
   {
    "duration": 14,
    "start_time": "2024-03-21T16:29:03.577Z"
   },
   {
    "duration": 4,
    "start_time": "2024-03-21T16:29:03.592Z"
   },
   {
    "duration": 40,
    "start_time": "2024-03-21T16:29:03.598Z"
   },
   {
    "duration": 11,
    "start_time": "2024-03-21T16:29:03.639Z"
   },
   {
    "duration": 3,
    "start_time": "2024-03-21T16:29:03.652Z"
   },
   {
    "duration": 5,
    "start_time": "2024-03-21T16:29:03.657Z"
   },
   {
    "duration": 9,
    "start_time": "2024-03-21T16:29:03.664Z"
   },
   {
    "duration": 5,
    "start_time": "2024-03-21T16:29:03.675Z"
   },
   {
    "duration": 7,
    "start_time": "2024-03-21T16:29:03.681Z"
   },
   {
    "duration": 18,
    "start_time": "2024-03-21T16:29:03.689Z"
   },
   {
    "duration": 14,
    "start_time": "2024-03-21T16:29:03.709Z"
   },
   {
    "duration": 2,
    "start_time": "2024-03-21T16:29:03.724Z"
   },
   {
    "duration": 13,
    "start_time": "2024-03-21T16:29:03.728Z"
   },
   {
    "duration": 16,
    "start_time": "2024-03-21T16:29:03.742Z"
   },
   {
    "duration": 36,
    "start_time": "2024-03-21T16:29:03.759Z"
   },
   {
    "duration": 19,
    "start_time": "2024-03-21T16:29:03.796Z"
   },
   {
    "duration": 5,
    "start_time": "2024-03-21T16:29:03.816Z"
   },
   {
    "duration": 22,
    "start_time": "2024-03-21T16:29:03.822Z"
   },
   {
    "duration": 14,
    "start_time": "2024-03-21T16:29:03.846Z"
   },
   {
    "duration": 6,
    "start_time": "2024-03-21T16:29:03.861Z"
   },
   {
    "duration": 13,
    "start_time": "2024-03-21T16:29:03.868Z"
   },
   {
    "duration": 3,
    "start_time": "2024-03-21T16:29:03.882Z"
   },
   {
    "duration": 5,
    "start_time": "2024-03-21T16:29:03.887Z"
   },
   {
    "duration": 9,
    "start_time": "2024-03-21T16:29:03.894Z"
   },
   {
    "duration": 6,
    "start_time": "2024-03-21T16:29:03.905Z"
   },
   {
    "duration": 5,
    "start_time": "2024-03-21T16:29:03.912Z"
   },
   {
    "duration": 1250,
    "start_time": "2024-03-21T16:31:08.424Z"
   },
   {
    "duration": 5,
    "start_time": "2024-03-21T16:31:16.961Z"
   },
   {
    "duration": 3,
    "start_time": "2024-03-21T16:31:34.922Z"
   },
   {
    "duration": 3,
    "start_time": "2024-03-21T16:31:36.463Z"
   },
   {
    "duration": 3,
    "start_time": "2024-03-21T16:31:37.408Z"
   },
   {
    "duration": 4,
    "start_time": "2024-03-21T16:31:37.872Z"
   },
   {
    "duration": 5,
    "start_time": "2024-03-21T16:31:43.056Z"
   },
   {
    "duration": 12,
    "start_time": "2024-03-21T16:34:59.568Z"
   },
   {
    "duration": 16,
    "start_time": "2024-03-21T16:35:52.631Z"
   },
   {
    "duration": 367,
    "start_time": "2024-03-21T16:36:21.127Z"
   },
   {
    "duration": 259,
    "start_time": "2024-03-21T16:36:21.496Z"
   },
   {
    "duration": 2,
    "start_time": "2024-03-21T16:36:21.757Z"
   },
   {
    "duration": 12,
    "start_time": "2024-03-21T16:36:21.761Z"
   },
   {
    "duration": 483,
    "start_time": "2024-03-21T16:36:21.775Z"
   },
   {
    "duration": 31,
    "start_time": "2024-03-21T16:36:22.260Z"
   },
   {
    "duration": 31,
    "start_time": "2024-03-21T16:36:22.293Z"
   },
   {
    "duration": 16,
    "start_time": "2024-03-21T16:36:22.326Z"
   },
   {
    "duration": 22,
    "start_time": "2024-03-21T16:36:22.344Z"
   },
   {
    "duration": 16,
    "start_time": "2024-03-21T16:36:22.368Z"
   },
   {
    "duration": 9,
    "start_time": "2024-03-21T16:36:22.386Z"
   },
   {
    "duration": 20,
    "start_time": "2024-03-21T16:36:22.396Z"
   },
   {
    "duration": 7,
    "start_time": "2024-03-21T16:36:22.418Z"
   },
   {
    "duration": 28,
    "start_time": "2024-03-21T16:36:22.427Z"
   },
   {
    "duration": 7,
    "start_time": "2024-03-21T16:36:22.457Z"
   },
   {
    "duration": 10,
    "start_time": "2024-03-21T16:36:22.466Z"
   },
   {
    "duration": 16,
    "start_time": "2024-03-21T16:36:22.477Z"
   },
   {
    "duration": 14,
    "start_time": "2024-03-21T16:36:22.494Z"
   },
   {
    "duration": 39,
    "start_time": "2024-03-21T16:36:22.509Z"
   },
   {
    "duration": 20,
    "start_time": "2024-03-21T16:36:22.550Z"
   },
   {
    "duration": 29,
    "start_time": "2024-03-21T16:36:22.572Z"
   },
   {
    "duration": 9,
    "start_time": "2024-03-21T16:36:22.602Z"
   },
   {
    "duration": 59,
    "start_time": "2024-03-21T16:36:22.613Z"
   },
   {
    "duration": 11,
    "start_time": "2024-03-21T16:36:22.673Z"
   },
   {
    "duration": 10,
    "start_time": "2024-03-21T16:36:22.686Z"
   },
   {
    "duration": 256,
    "start_time": "2024-03-21T16:36:22.697Z"
   },
   {
    "duration": 236,
    "start_time": "2024-03-21T16:36:22.955Z"
   },
   {
    "duration": 119,
    "start_time": "2024-03-21T16:36:23.192Z"
   },
   {
    "duration": 8,
    "start_time": "2024-03-21T16:36:23.313Z"
   },
   {
    "duration": 226,
    "start_time": "2024-03-21T16:36:23.322Z"
   },
   {
    "duration": 337,
    "start_time": "2024-03-21T16:36:23.550Z"
   },
   {
    "duration": 256,
    "start_time": "2024-03-21T16:36:23.890Z"
   },
   {
    "duration": 4,
    "start_time": "2024-03-21T16:36:24.148Z"
   },
   {
    "duration": 80,
    "start_time": "2024-03-21T16:36:24.154Z"
   },
   {
    "duration": 15,
    "start_time": "2024-03-21T16:36:24.236Z"
   },
   {
    "duration": 8,
    "start_time": "2024-03-21T16:36:24.252Z"
   },
   {
    "duration": 19,
    "start_time": "2024-03-21T16:36:24.262Z"
   },
   {
    "duration": 19,
    "start_time": "2024-03-21T16:36:24.283Z"
   },
   {
    "duration": 111,
    "start_time": "2024-03-21T16:36:24.304Z"
   },
   {
    "duration": 4,
    "start_time": "2024-03-21T16:36:24.417Z"
   },
   {
    "duration": 257,
    "start_time": "2024-03-21T16:36:24.426Z"
   },
   {
    "duration": 223,
    "start_time": "2024-03-21T16:36:24.685Z"
   },
   {
    "duration": 244,
    "start_time": "2024-03-21T16:36:24.910Z"
   },
   {
    "duration": 228,
    "start_time": "2024-03-21T16:36:25.156Z"
   },
   {
    "duration": 18,
    "start_time": "2024-03-21T16:36:25.386Z"
   },
   {
    "duration": 14,
    "start_time": "2024-03-21T16:36:25.406Z"
   },
   {
    "duration": 3,
    "start_time": "2024-03-21T16:36:25.421Z"
   },
   {
    "duration": 18,
    "start_time": "2024-03-21T16:36:25.426Z"
   },
   {
    "duration": 36,
    "start_time": "2024-03-21T16:36:25.446Z"
   },
   {
    "duration": 7,
    "start_time": "2024-03-21T16:36:25.484Z"
   },
   {
    "duration": 14,
    "start_time": "2024-03-21T16:36:25.493Z"
   },
   {
    "duration": 4,
    "start_time": "2024-03-21T16:36:25.509Z"
   },
   {
    "duration": 15,
    "start_time": "2024-03-21T16:36:25.514Z"
   },
   {
    "duration": 14,
    "start_time": "2024-03-21T16:36:25.530Z"
   },
   {
    "duration": 3,
    "start_time": "2024-03-21T16:36:25.545Z"
   },
   {
    "duration": 24,
    "start_time": "2024-03-21T16:36:25.549Z"
   },
   {
    "duration": 5,
    "start_time": "2024-03-21T16:36:25.575Z"
   },
   {
    "duration": 7,
    "start_time": "2024-03-21T16:36:25.582Z"
   },
   {
    "duration": 19,
    "start_time": "2024-03-21T16:36:25.591Z"
   },
   {
    "duration": 45,
    "start_time": "2024-03-21T16:36:25.612Z"
   },
   {
    "duration": 6,
    "start_time": "2024-03-21T16:36:25.659Z"
   },
   {
    "duration": 4,
    "start_time": "2024-03-21T16:36:25.667Z"
   },
   {
    "duration": 3,
    "start_time": "2024-03-21T16:36:25.673Z"
   },
   {
    "duration": 5,
    "start_time": "2024-03-21T16:36:25.677Z"
   },
   {
    "duration": 6,
    "start_time": "2024-03-21T16:36:25.683Z"
   },
   {
    "duration": 5,
    "start_time": "2024-03-21T16:36:25.691Z"
   },
   {
    "duration": 17,
    "start_time": "2024-03-21T16:36:25.698Z"
   },
   {
    "duration": 120,
    "start_time": "2024-03-21T16:36:25.716Z"
   },
   {
    "duration": 0,
    "start_time": "2024-03-21T16:36:25.837Z"
   },
   {
    "duration": 0,
    "start_time": "2024-03-21T16:36:25.839Z"
   },
   {
    "duration": 0,
    "start_time": "2024-03-21T16:36:25.840Z"
   },
   {
    "duration": 0,
    "start_time": "2024-03-21T16:36:25.842Z"
   },
   {
    "duration": 0,
    "start_time": "2024-03-21T16:36:25.843Z"
   },
   {
    "duration": 0,
    "start_time": "2024-03-21T16:36:25.844Z"
   },
   {
    "duration": 0,
    "start_time": "2024-03-21T16:36:25.845Z"
   },
   {
    "duration": 10,
    "start_time": "2024-03-21T16:39:29.720Z"
   },
   {
    "duration": 10,
    "start_time": "2024-03-21T16:39:40.494Z"
   },
   {
    "duration": 8,
    "start_time": "2024-03-21T16:46:24.251Z"
   },
   {
    "duration": 11,
    "start_time": "2024-03-21T16:47:03.431Z"
   },
   {
    "duration": 7,
    "start_time": "2024-03-21T16:47:11.293Z"
   },
   {
    "duration": 8,
    "start_time": "2024-03-21T16:47:22.860Z"
   },
   {
    "duration": 7,
    "start_time": "2024-03-21T16:47:41.117Z"
   },
   {
    "duration": 6,
    "start_time": "2024-03-21T16:48:00.327Z"
   },
   {
    "duration": 8,
    "start_time": "2024-03-21T16:48:03.862Z"
   },
   {
    "duration": 445,
    "start_time": "2024-03-21T16:48:11.349Z"
   },
   {
    "duration": 258,
    "start_time": "2024-03-21T16:48:11.795Z"
   },
   {
    "duration": 3,
    "start_time": "2024-03-21T16:48:12.054Z"
   },
   {
    "duration": 36,
    "start_time": "2024-03-21T16:48:12.059Z"
   },
   {
    "duration": 451,
    "start_time": "2024-03-21T16:48:12.096Z"
   },
   {
    "duration": 31,
    "start_time": "2024-03-21T16:48:12.549Z"
   },
   {
    "duration": 30,
    "start_time": "2024-03-21T16:48:12.581Z"
   },
   {
    "duration": 16,
    "start_time": "2024-03-21T16:48:12.613Z"
   },
   {
    "duration": 12,
    "start_time": "2024-03-21T16:48:12.631Z"
   },
   {
    "duration": 12,
    "start_time": "2024-03-21T16:48:12.646Z"
   },
   {
    "duration": 15,
    "start_time": "2024-03-21T16:48:12.659Z"
   },
   {
    "duration": 13,
    "start_time": "2024-03-21T16:48:12.675Z"
   },
   {
    "duration": 7,
    "start_time": "2024-03-21T16:48:12.689Z"
   },
   {
    "duration": 12,
    "start_time": "2024-03-21T16:48:12.697Z"
   },
   {
    "duration": 10,
    "start_time": "2024-03-21T16:48:12.710Z"
   },
   {
    "duration": 11,
    "start_time": "2024-03-21T16:48:12.721Z"
   },
   {
    "duration": 41,
    "start_time": "2024-03-21T16:48:12.733Z"
   },
   {
    "duration": 9,
    "start_time": "2024-03-21T16:48:12.776Z"
   },
   {
    "duration": 11,
    "start_time": "2024-03-21T16:48:12.787Z"
   },
   {
    "duration": 14,
    "start_time": "2024-03-21T16:48:12.800Z"
   },
   {
    "duration": 7,
    "start_time": "2024-03-21T16:48:12.816Z"
   },
   {
    "duration": 13,
    "start_time": "2024-03-21T16:48:12.825Z"
   },
   {
    "duration": 84,
    "start_time": "2024-03-21T16:48:12.840Z"
   },
   {
    "duration": 12,
    "start_time": "2024-03-21T16:48:12.925Z"
   },
   {
    "duration": 11,
    "start_time": "2024-03-21T16:48:12.938Z"
   },
   {
    "duration": 251,
    "start_time": "2024-03-21T16:48:12.950Z"
   },
   {
    "duration": 231,
    "start_time": "2024-03-21T16:48:13.202Z"
   },
   {
    "duration": 106,
    "start_time": "2024-03-21T16:48:13.437Z"
   },
   {
    "duration": 5,
    "start_time": "2024-03-21T16:48:13.545Z"
   },
   {
    "duration": 205,
    "start_time": "2024-03-21T16:48:13.552Z"
   },
   {
    "duration": 394,
    "start_time": "2024-03-21T16:48:13.758Z"
   },
   {
    "duration": 239,
    "start_time": "2024-03-21T16:48:14.154Z"
   },
   {
    "duration": 4,
    "start_time": "2024-03-21T16:48:14.394Z"
   },
   {
    "duration": 32,
    "start_time": "2024-03-21T16:48:14.399Z"
   },
   {
    "duration": 14,
    "start_time": "2024-03-21T16:48:14.433Z"
   },
   {
    "duration": 28,
    "start_time": "2024-03-21T16:48:14.449Z"
   },
   {
    "duration": 21,
    "start_time": "2024-03-21T16:48:14.479Z"
   },
   {
    "duration": 5,
    "start_time": "2024-03-21T16:48:14.502Z"
   },
   {
    "duration": 111,
    "start_time": "2024-03-21T16:48:14.508Z"
   },
   {
    "duration": 3,
    "start_time": "2024-03-21T16:48:14.621Z"
   },
   {
    "duration": 240,
    "start_time": "2024-03-21T16:48:14.625Z"
   },
   {
    "duration": 226,
    "start_time": "2024-03-21T16:48:14.867Z"
   },
   {
    "duration": 242,
    "start_time": "2024-03-21T16:48:15.094Z"
   },
   {
    "duration": 253,
    "start_time": "2024-03-21T16:48:15.337Z"
   },
   {
    "duration": 19,
    "start_time": "2024-03-21T16:48:15.591Z"
   },
   {
    "duration": 39,
    "start_time": "2024-03-21T16:48:15.611Z"
   },
   {
    "duration": 4,
    "start_time": "2024-03-21T16:48:15.651Z"
   },
   {
    "duration": 27,
    "start_time": "2024-03-21T16:48:15.656Z"
   },
   {
    "duration": 30,
    "start_time": "2024-03-21T16:48:15.685Z"
   },
   {
    "duration": 7,
    "start_time": "2024-03-21T16:48:15.717Z"
   },
   {
    "duration": 15,
    "start_time": "2024-03-21T16:48:15.725Z"
   },
   {
    "duration": 8,
    "start_time": "2024-03-21T16:48:15.742Z"
   },
   {
    "duration": 14,
    "start_time": "2024-03-21T16:48:15.751Z"
   },
   {
    "duration": 28,
    "start_time": "2024-03-21T16:48:15.766Z"
   },
   {
    "duration": 2,
    "start_time": "2024-03-21T16:48:15.796Z"
   },
   {
    "duration": 6,
    "start_time": "2024-03-21T16:48:15.800Z"
   },
   {
    "duration": 16,
    "start_time": "2024-03-21T16:48:15.807Z"
   },
   {
    "duration": 7,
    "start_time": "2024-03-21T16:48:15.825Z"
   },
   {
    "duration": 5,
    "start_time": "2024-03-21T16:48:15.833Z"
   },
   {
    "duration": 21,
    "start_time": "2024-03-21T16:48:15.839Z"
   },
   {
    "duration": 13,
    "start_time": "2024-03-21T16:48:15.861Z"
   },
   {
    "duration": 17,
    "start_time": "2024-03-21T16:48:15.875Z"
   },
   {
    "duration": 5,
    "start_time": "2024-03-21T16:48:15.894Z"
   },
   {
    "duration": 10,
    "start_time": "2024-03-21T16:48:15.900Z"
   },
   {
    "duration": 31,
    "start_time": "2024-03-21T16:48:15.911Z"
   },
   {
    "duration": 23,
    "start_time": "2024-03-21T16:48:15.943Z"
   },
   {
    "duration": 36,
    "start_time": "2024-03-21T16:48:15.967Z"
   },
   {
    "duration": 8,
    "start_time": "2024-03-21T16:48:16.005Z"
   },
   {
    "duration": 148,
    "start_time": "2024-03-21T16:48:16.015Z"
   },
   {
    "duration": 0,
    "start_time": "2024-03-21T16:48:16.164Z"
   },
   {
    "duration": 0,
    "start_time": "2024-03-21T16:48:16.165Z"
   },
   {
    "duration": 0,
    "start_time": "2024-03-21T16:48:16.166Z"
   },
   {
    "duration": 0,
    "start_time": "2024-03-21T16:48:16.167Z"
   },
   {
    "duration": 0,
    "start_time": "2024-03-21T16:48:16.168Z"
   },
   {
    "duration": 17,
    "start_time": "2024-03-21T16:48:33.524Z"
   },
   {
    "duration": 18,
    "start_time": "2024-03-21T16:48:40.684Z"
   },
   {
    "duration": 18,
    "start_time": "2024-03-21T16:48:46.725Z"
   },
   {
    "duration": 8,
    "start_time": "2024-03-21T16:48:56.508Z"
   },
   {
    "duration": 7,
    "start_time": "2024-03-21T16:49:14.908Z"
   },
   {
    "duration": 3,
    "start_time": "2024-03-21T16:49:33.028Z"
   },
   {
    "duration": 4,
    "start_time": "2024-03-21T16:49:33.892Z"
   },
   {
    "duration": 100,
    "start_time": "2024-03-21T16:49:58.476Z"
   },
   {
    "duration": 6,
    "start_time": "2024-03-21T16:50:12.132Z"
   },
   {
    "duration": 5,
    "start_time": "2024-03-21T16:50:12.596Z"
   },
   {
    "duration": 406,
    "start_time": "2024-03-21T16:50:51.906Z"
   },
   {
    "duration": 263,
    "start_time": "2024-03-21T16:50:52.314Z"
   },
   {
    "duration": 3,
    "start_time": "2024-03-21T16:50:52.578Z"
   },
   {
    "duration": 6,
    "start_time": "2024-03-21T16:50:52.583Z"
   },
   {
    "duration": 479,
    "start_time": "2024-03-21T16:50:52.591Z"
   },
   {
    "duration": 31,
    "start_time": "2024-03-21T16:50:53.073Z"
   },
   {
    "duration": 31,
    "start_time": "2024-03-21T16:50:53.105Z"
   },
   {
    "duration": 16,
    "start_time": "2024-03-21T16:50:53.138Z"
   },
   {
    "duration": 14,
    "start_time": "2024-03-21T16:50:53.156Z"
   },
   {
    "duration": 14,
    "start_time": "2024-03-21T16:50:53.173Z"
   },
   {
    "duration": 15,
    "start_time": "2024-03-21T16:50:53.188Z"
   },
   {
    "duration": 14,
    "start_time": "2024-03-21T16:50:53.205Z"
   },
   {
    "duration": 8,
    "start_time": "2024-03-21T16:50:53.220Z"
   },
   {
    "duration": 10,
    "start_time": "2024-03-21T16:50:53.230Z"
   },
   {
    "duration": 32,
    "start_time": "2024-03-21T16:50:53.241Z"
   },
   {
    "duration": 11,
    "start_time": "2024-03-21T16:50:53.275Z"
   },
   {
    "duration": 16,
    "start_time": "2024-03-21T16:50:53.288Z"
   },
   {
    "duration": 10,
    "start_time": "2024-03-21T16:50:53.305Z"
   },
   {
    "duration": 11,
    "start_time": "2024-03-21T16:50:53.316Z"
   },
   {
    "duration": 16,
    "start_time": "2024-03-21T16:50:53.329Z"
   },
   {
    "duration": 9,
    "start_time": "2024-03-21T16:50:53.373Z"
   },
   {
    "duration": 5,
    "start_time": "2024-03-21T16:50:53.383Z"
   },
   {
    "duration": 54,
    "start_time": "2024-03-21T16:50:53.390Z"
   },
   {
    "duration": 37,
    "start_time": "2024-03-21T16:50:53.446Z"
   },
   {
    "duration": 14,
    "start_time": "2024-03-21T16:50:53.486Z"
   },
   {
    "duration": 254,
    "start_time": "2024-03-21T16:50:53.502Z"
   },
   {
    "duration": 226,
    "start_time": "2024-03-21T16:50:53.758Z"
   },
   {
    "duration": 99,
    "start_time": "2024-03-21T16:50:53.988Z"
   },
   {
    "duration": 5,
    "start_time": "2024-03-21T16:50:54.089Z"
   },
   {
    "duration": 234,
    "start_time": "2024-03-21T16:50:54.096Z"
   },
   {
    "duration": 348,
    "start_time": "2024-03-21T16:50:54.332Z"
   },
   {
    "duration": 246,
    "start_time": "2024-03-21T16:50:54.681Z"
   },
   {
    "duration": 4,
    "start_time": "2024-03-21T16:50:54.928Z"
   },
   {
    "duration": 41,
    "start_time": "2024-03-21T16:50:54.933Z"
   },
   {
    "duration": 15,
    "start_time": "2024-03-21T16:50:54.975Z"
   },
   {
    "duration": 16,
    "start_time": "2024-03-21T16:50:54.991Z"
   },
   {
    "duration": 21,
    "start_time": "2024-03-21T16:50:55.009Z"
   },
   {
    "duration": 16,
    "start_time": "2024-03-21T16:50:55.031Z"
   },
   {
    "duration": 132,
    "start_time": "2024-03-21T16:50:55.049Z"
   },
   {
    "duration": 3,
    "start_time": "2024-03-21T16:50:55.183Z"
   },
   {
    "duration": 242,
    "start_time": "2024-03-21T16:50:55.188Z"
   },
   {
    "duration": 227,
    "start_time": "2024-03-21T16:50:55.432Z"
   },
   {
    "duration": 267,
    "start_time": "2024-03-21T16:50:55.661Z"
   },
   {
    "duration": 248,
    "start_time": "2024-03-21T16:50:55.930Z"
   },
   {
    "duration": 20,
    "start_time": "2024-03-21T16:50:56.180Z"
   },
   {
    "duration": 36,
    "start_time": "2024-03-21T16:50:56.201Z"
   },
   {
    "duration": 7,
    "start_time": "2024-03-21T16:50:56.238Z"
   },
   {
    "duration": 37,
    "start_time": "2024-03-21T16:50:56.246Z"
   },
   {
    "duration": 17,
    "start_time": "2024-03-21T16:50:56.285Z"
   },
   {
    "duration": 33,
    "start_time": "2024-03-21T16:50:56.304Z"
   },
   {
    "duration": 26,
    "start_time": "2024-03-21T16:50:56.339Z"
   },
   {
    "duration": 26,
    "start_time": "2024-03-21T16:50:56.366Z"
   },
   {
    "duration": 22,
    "start_time": "2024-03-21T16:50:56.393Z"
   },
   {
    "duration": 13,
    "start_time": "2024-03-21T16:50:56.416Z"
   },
   {
    "duration": 25,
    "start_time": "2024-03-21T16:50:56.431Z"
   },
   {
    "duration": 19,
    "start_time": "2024-03-21T16:50:56.457Z"
   },
   {
    "duration": 8,
    "start_time": "2024-03-21T16:50:56.478Z"
   },
   {
    "duration": 12,
    "start_time": "2024-03-21T16:50:56.488Z"
   },
   {
    "duration": 13,
    "start_time": "2024-03-21T16:50:56.502Z"
   },
   {
    "duration": 18,
    "start_time": "2024-03-21T16:50:56.516Z"
   },
   {
    "duration": 7,
    "start_time": "2024-03-21T16:50:56.536Z"
   },
   {
    "duration": 4,
    "start_time": "2024-03-21T16:50:56.545Z"
   },
   {
    "duration": 23,
    "start_time": "2024-03-21T16:50:56.551Z"
   },
   {
    "duration": 5,
    "start_time": "2024-03-21T16:50:56.575Z"
   },
   {
    "duration": 5,
    "start_time": "2024-03-21T16:50:56.582Z"
   },
   {
    "duration": 7,
    "start_time": "2024-03-21T16:50:56.588Z"
   },
   {
    "duration": 28,
    "start_time": "2024-03-21T16:50:56.596Z"
   },
   {
    "duration": 8,
    "start_time": "2024-03-21T16:50:56.626Z"
   },
   {
    "duration": 67,
    "start_time": "2024-03-21T16:50:56.635Z"
   },
   {
    "duration": 14,
    "start_time": "2024-03-21T16:50:56.704Z"
   },
   {
    "duration": 8,
    "start_time": "2024-03-21T16:50:56.720Z"
   },
   {
    "duration": 13,
    "start_time": "2024-03-21T16:50:56.729Z"
   },
   {
    "duration": 5,
    "start_time": "2024-03-21T16:50:56.744Z"
   },
   {
    "duration": 8,
    "start_time": "2024-03-21T16:50:56.751Z"
   },
   {
    "duration": 135,
    "start_time": "2024-03-21T16:52:11.588Z"
   },
   {
    "duration": 105,
    "start_time": "2024-03-21T16:52:17.724Z"
   },
   {
    "duration": 106,
    "start_time": "2024-03-21T16:52:28.293Z"
   },
   {
    "duration": 136,
    "start_time": "2024-03-21T16:53:24.813Z"
   },
   {
    "duration": 135,
    "start_time": "2024-03-21T16:54:02.132Z"
   },
   {
    "duration": 115,
    "start_time": "2024-03-21T16:54:12.700Z"
   },
   {
    "duration": 5,
    "start_time": "2024-03-21T16:54:43.380Z"
   },
   {
    "duration": 447,
    "start_time": "2024-03-21T16:55:33.874Z"
   },
   {
    "duration": 256,
    "start_time": "2024-03-21T16:55:34.323Z"
   },
   {
    "duration": 2,
    "start_time": "2024-03-21T16:55:34.581Z"
   },
   {
    "duration": 7,
    "start_time": "2024-03-21T16:55:34.585Z"
   },
   {
    "duration": 506,
    "start_time": "2024-03-21T16:55:34.594Z"
   },
   {
    "duration": 31,
    "start_time": "2024-03-21T16:55:35.102Z"
   },
   {
    "duration": 31,
    "start_time": "2024-03-21T16:55:35.135Z"
   },
   {
    "duration": 16,
    "start_time": "2024-03-21T16:55:35.167Z"
   },
   {
    "duration": 12,
    "start_time": "2024-03-21T16:55:35.185Z"
   },
   {
    "duration": 18,
    "start_time": "2024-03-21T16:55:35.198Z"
   },
   {
    "duration": 16,
    "start_time": "2024-03-21T16:55:35.218Z"
   },
   {
    "duration": 17,
    "start_time": "2024-03-21T16:55:35.236Z"
   },
   {
    "duration": 21,
    "start_time": "2024-03-21T16:55:35.255Z"
   },
   {
    "duration": 21,
    "start_time": "2024-03-21T16:55:35.279Z"
   },
   {
    "duration": 15,
    "start_time": "2024-03-21T16:55:35.302Z"
   },
   {
    "duration": 16,
    "start_time": "2024-03-21T16:55:35.319Z"
   },
   {
    "duration": 17,
    "start_time": "2024-03-21T16:55:35.337Z"
   },
   {
    "duration": 14,
    "start_time": "2024-03-21T16:55:35.356Z"
   },
   {
    "duration": 24,
    "start_time": "2024-03-21T16:55:35.371Z"
   },
   {
    "duration": 38,
    "start_time": "2024-03-21T16:55:35.396Z"
   },
   {
    "duration": 18,
    "start_time": "2024-03-21T16:55:35.436Z"
   },
   {
    "duration": 18,
    "start_time": "2024-03-21T16:55:35.456Z"
   },
   {
    "duration": 61,
    "start_time": "2024-03-21T16:55:35.476Z"
   },
   {
    "duration": 16,
    "start_time": "2024-03-21T16:55:35.539Z"
   },
   {
    "duration": 20,
    "start_time": "2024-03-21T16:55:35.556Z"
   },
   {
    "duration": 250,
    "start_time": "2024-03-21T16:55:35.578Z"
   },
   {
    "duration": 226,
    "start_time": "2024-03-21T16:55:35.829Z"
   },
   {
    "duration": 99,
    "start_time": "2024-03-21T16:55:36.057Z"
   },
   {
    "duration": 15,
    "start_time": "2024-03-21T16:55:36.158Z"
   },
   {
    "duration": 219,
    "start_time": "2024-03-21T16:55:36.174Z"
   },
   {
    "duration": 312,
    "start_time": "2024-03-21T16:55:36.395Z"
   },
   {
    "duration": 232,
    "start_time": "2024-03-21T16:55:36.708Z"
   },
   {
    "duration": 3,
    "start_time": "2024-03-21T16:55:36.942Z"
   },
   {
    "duration": 42,
    "start_time": "2024-03-21T16:55:36.947Z"
   },
   {
    "duration": 15,
    "start_time": "2024-03-21T16:55:36.991Z"
   },
   {
    "duration": 8,
    "start_time": "2024-03-21T16:55:37.008Z"
   },
   {
    "duration": 21,
    "start_time": "2024-03-21T16:55:37.018Z"
   },
   {
    "duration": 34,
    "start_time": "2024-03-21T16:55:37.041Z"
   },
   {
    "duration": 96,
    "start_time": "2024-03-21T16:55:37.077Z"
   },
   {
    "duration": 3,
    "start_time": "2024-03-21T16:55:37.175Z"
   },
   {
    "duration": 247,
    "start_time": "2024-03-21T16:55:37.183Z"
   },
   {
    "duration": 233,
    "start_time": "2024-03-21T16:55:37.431Z"
   },
   {
    "duration": 232,
    "start_time": "2024-03-21T16:55:37.666Z"
   },
   {
    "duration": 232,
    "start_time": "2024-03-21T16:55:37.899Z"
   },
   {
    "duration": 20,
    "start_time": "2024-03-21T16:55:38.133Z"
   },
   {
    "duration": 37,
    "start_time": "2024-03-21T16:55:38.155Z"
   },
   {
    "duration": 3,
    "start_time": "2024-03-21T16:55:38.194Z"
   },
   {
    "duration": 23,
    "start_time": "2024-03-21T16:55:38.198Z"
   },
   {
    "duration": 20,
    "start_time": "2024-03-21T16:55:38.223Z"
   },
   {
    "duration": 11,
    "start_time": "2024-03-21T16:55:38.245Z"
   },
   {
    "duration": 27,
    "start_time": "2024-03-21T16:55:38.258Z"
   },
   {
    "duration": 4,
    "start_time": "2024-03-21T16:55:38.287Z"
   },
   {
    "duration": 30,
    "start_time": "2024-03-21T16:55:38.292Z"
   },
   {
    "duration": 12,
    "start_time": "2024-03-21T16:55:38.324Z"
   },
   {
    "duration": 15,
    "start_time": "2024-03-21T16:55:38.338Z"
   },
   {
    "duration": 5,
    "start_time": "2024-03-21T16:55:38.354Z"
   },
   {
    "duration": 5,
    "start_time": "2024-03-21T16:55:38.361Z"
   },
   {
    "duration": 45,
    "start_time": "2024-03-21T16:55:38.368Z"
   },
   {
    "duration": 11,
    "start_time": "2024-03-21T16:55:38.415Z"
   },
   {
    "duration": 19,
    "start_time": "2024-03-21T16:55:38.427Z"
   },
   {
    "duration": 5,
    "start_time": "2024-03-21T16:55:38.448Z"
   },
   {
    "duration": 7,
    "start_time": "2024-03-21T16:55:38.454Z"
   },
   {
    "duration": 5,
    "start_time": "2024-03-21T16:55:38.463Z"
   },
   {
    "duration": 6,
    "start_time": "2024-03-21T16:55:38.470Z"
   },
   {
    "duration": 5,
    "start_time": "2024-03-21T16:55:38.477Z"
   },
   {
    "duration": 6,
    "start_time": "2024-03-21T16:55:38.484Z"
   },
   {
    "duration": 28,
    "start_time": "2024-03-21T16:55:38.492Z"
   },
   {
    "duration": 10,
    "start_time": "2024-03-21T16:55:38.523Z"
   },
   {
    "duration": 8,
    "start_time": "2024-03-21T16:55:38.535Z"
   },
   {
    "duration": 3,
    "start_time": "2024-03-21T16:55:38.545Z"
   },
   {
    "duration": 4,
    "start_time": "2024-03-21T16:55:38.573Z"
   },
   {
    "duration": 6,
    "start_time": "2024-03-21T16:55:38.578Z"
   },
   {
    "duration": 14,
    "start_time": "2024-03-21T16:55:38.585Z"
   },
   {
    "duration": 6,
    "start_time": "2024-03-21T16:55:38.600Z"
   },
   {
    "duration": 143,
    "start_time": "2024-03-21T16:55:38.607Z"
   },
   {
    "duration": 149,
    "start_time": "2024-03-21T16:55:38.752Z"
   },
   {
    "duration": 139,
    "start_time": "2024-03-21T16:55:38.903Z"
   },
   {
    "duration": 5,
    "start_time": "2024-03-21T16:55:39.043Z"
   },
   {
    "duration": 15,
    "start_time": "2024-03-21T16:55:39.050Z"
   },
   {
    "duration": 152,
    "start_time": "2024-03-21T16:57:23.218Z"
   },
   {
    "duration": 148,
    "start_time": "2024-03-21T16:57:29.964Z"
   },
   {
    "duration": 225,
    "start_time": "2024-03-21T16:57:32.946Z"
   },
   {
    "duration": 420,
    "start_time": "2024-03-21T16:57:48.279Z"
   },
   {
    "duration": 265,
    "start_time": "2024-03-21T16:57:48.701Z"
   },
   {
    "duration": 3,
    "start_time": "2024-03-21T16:57:48.968Z"
   },
   {
    "duration": 4,
    "start_time": "2024-03-21T16:57:48.973Z"
   },
   {
    "duration": 480,
    "start_time": "2024-03-21T16:57:48.979Z"
   },
   {
    "duration": 32,
    "start_time": "2024-03-21T16:57:49.461Z"
   },
   {
    "duration": 30,
    "start_time": "2024-03-21T16:57:49.494Z"
   },
   {
    "duration": 17,
    "start_time": "2024-03-21T16:57:49.525Z"
   },
   {
    "duration": 12,
    "start_time": "2024-03-21T16:57:49.543Z"
   },
   {
    "duration": 23,
    "start_time": "2024-03-21T16:57:49.557Z"
   },
   {
    "duration": 28,
    "start_time": "2024-03-21T16:57:49.582Z"
   },
   {
    "duration": 15,
    "start_time": "2024-03-21T16:57:49.612Z"
   },
   {
    "duration": 12,
    "start_time": "2024-03-21T16:57:49.629Z"
   },
   {
    "duration": 23,
    "start_time": "2024-03-21T16:57:49.644Z"
   },
   {
    "duration": 15,
    "start_time": "2024-03-21T16:57:49.669Z"
   },
   {
    "duration": 17,
    "start_time": "2024-03-21T16:57:49.686Z"
   },
   {
    "duration": 23,
    "start_time": "2024-03-21T16:57:49.705Z"
   },
   {
    "duration": 9,
    "start_time": "2024-03-21T16:57:49.730Z"
   },
   {
    "duration": 12,
    "start_time": "2024-03-21T16:57:49.740Z"
   },
   {
    "duration": 30,
    "start_time": "2024-03-21T16:57:49.754Z"
   },
   {
    "duration": 8,
    "start_time": "2024-03-21T16:57:49.785Z"
   },
   {
    "duration": 4,
    "start_time": "2024-03-21T16:57:49.795Z"
   },
   {
    "duration": 105,
    "start_time": "2024-03-21T16:57:49.801Z"
   },
   {
    "duration": 11,
    "start_time": "2024-03-21T16:57:49.908Z"
   },
   {
    "duration": 11,
    "start_time": "2024-03-21T16:57:49.920Z"
   },
   {
    "duration": 233,
    "start_time": "2024-03-21T16:57:49.974Z"
   },
   {
    "duration": 268,
    "start_time": "2024-03-21T16:57:50.208Z"
   },
   {
    "duration": 157,
    "start_time": "2024-03-21T16:57:50.477Z"
   },
   {
    "duration": 7,
    "start_time": "2024-03-21T16:57:50.636Z"
   },
   {
    "duration": 300,
    "start_time": "2024-03-21T16:57:50.644Z"
   },
   {
    "duration": 334,
    "start_time": "2024-03-21T16:57:50.945Z"
   },
   {
    "duration": 239,
    "start_time": "2024-03-21T16:57:51.281Z"
   },
   {
    "duration": 3,
    "start_time": "2024-03-21T16:57:51.521Z"
   },
   {
    "duration": 36,
    "start_time": "2024-03-21T16:57:51.526Z"
   },
   {
    "duration": 15,
    "start_time": "2024-03-21T16:57:51.573Z"
   },
   {
    "duration": 7,
    "start_time": "2024-03-21T16:57:51.590Z"
   },
   {
    "duration": 18,
    "start_time": "2024-03-21T16:57:51.598Z"
   },
   {
    "duration": 5,
    "start_time": "2024-03-21T16:57:51.618Z"
   },
   {
    "duration": 118,
    "start_time": "2024-03-21T16:57:51.625Z"
   },
   {
    "duration": 4,
    "start_time": "2024-03-21T16:57:51.745Z"
   },
   {
    "duration": 259,
    "start_time": "2024-03-21T16:57:51.753Z"
   },
   {
    "duration": 229,
    "start_time": "2024-03-21T16:57:52.014Z"
   },
   {
    "duration": 240,
    "start_time": "2024-03-21T16:57:52.245Z"
   },
   {
    "duration": 228,
    "start_time": "2024-03-21T16:57:52.486Z"
   },
   {
    "duration": 19,
    "start_time": "2024-03-21T16:57:52.716Z"
   },
   {
    "duration": 15,
    "start_time": "2024-03-21T16:57:52.736Z"
   },
   {
    "duration": 20,
    "start_time": "2024-03-21T16:57:52.753Z"
   },
   {
    "duration": 14,
    "start_time": "2024-03-21T16:57:52.774Z"
   },
   {
    "duration": 14,
    "start_time": "2024-03-21T16:57:52.789Z"
   },
   {
    "duration": 7,
    "start_time": "2024-03-21T16:57:52.805Z"
   },
   {
    "duration": 15,
    "start_time": "2024-03-21T16:57:52.814Z"
   },
   {
    "duration": 4,
    "start_time": "2024-03-21T16:57:52.831Z"
   },
   {
    "duration": 41,
    "start_time": "2024-03-21T16:57:52.836Z"
   },
   {
    "duration": 9,
    "start_time": "2024-03-21T16:57:52.879Z"
   },
   {
    "duration": 3,
    "start_time": "2024-03-21T16:57:52.889Z"
   },
   {
    "duration": 14,
    "start_time": "2024-03-21T16:57:52.893Z"
   },
   {
    "duration": 4,
    "start_time": "2024-03-21T16:57:52.909Z"
   },
   {
    "duration": 4,
    "start_time": "2024-03-21T16:57:52.914Z"
   },
   {
    "duration": 4,
    "start_time": "2024-03-21T16:57:52.920Z"
   },
   {
    "duration": 32,
    "start_time": "2024-03-21T16:57:52.925Z"
   },
   {
    "duration": 6,
    "start_time": "2024-03-21T16:57:52.973Z"
   },
   {
    "duration": 5,
    "start_time": "2024-03-21T16:57:52.980Z"
   },
   {
    "duration": 4,
    "start_time": "2024-03-21T16:57:52.986Z"
   },
   {
    "duration": 4,
    "start_time": "2024-03-21T16:57:52.991Z"
   },
   {
    "duration": 4,
    "start_time": "2024-03-21T16:57:52.996Z"
   },
   {
    "duration": 4,
    "start_time": "2024-03-21T16:57:53.002Z"
   },
   {
    "duration": 19,
    "start_time": "2024-03-21T16:57:53.007Z"
   },
   {
    "duration": 8,
    "start_time": "2024-03-21T16:57:53.028Z"
   },
   {
    "duration": 10,
    "start_time": "2024-03-21T16:57:53.073Z"
   },
   {
    "duration": 9,
    "start_time": "2024-03-21T16:57:53.084Z"
   },
   {
    "duration": 10,
    "start_time": "2024-03-21T16:57:53.095Z"
   },
   {
    "duration": 6,
    "start_time": "2024-03-21T16:57:53.107Z"
   },
   {
    "duration": 5,
    "start_time": "2024-03-21T16:57:53.114Z"
   },
   {
    "duration": 7,
    "start_time": "2024-03-21T16:57:53.120Z"
   },
   {
    "duration": 188,
    "start_time": "2024-03-21T16:57:53.128Z"
   },
   {
    "duration": 159,
    "start_time": "2024-03-21T16:57:53.317Z"
   },
   {
    "duration": 168,
    "start_time": "2024-03-21T16:57:53.478Z"
   },
   {
    "duration": 5,
    "start_time": "2024-03-21T16:57:53.648Z"
   },
   {
    "duration": 8,
    "start_time": "2024-03-21T16:57:53.655Z"
   },
   {
    "duration": 3,
    "start_time": "2024-03-21T20:49:00.360Z"
   },
   {
    "duration": 64,
    "start_time": "2024-03-21T20:49:00.364Z"
   },
   {
    "duration": 52,
    "start_time": "2024-03-21T20:49:00.430Z"
   },
   {
    "duration": 57,
    "start_time": "2024-03-21T20:49:00.484Z"
   },
   {
    "duration": 30,
    "start_time": "2024-03-21T20:49:00.543Z"
   },
   {
    "duration": 61,
    "start_time": "2024-03-21T20:49:00.574Z"
   },
   {
    "duration": 30,
    "start_time": "2024-03-21T20:49:00.637Z"
   },
   {
    "duration": 33,
    "start_time": "2024-03-21T20:49:00.669Z"
   },
   {
    "duration": 36,
    "start_time": "2024-03-21T20:49:00.703Z"
   },
   {
    "duration": 41,
    "start_time": "2024-03-21T20:49:00.741Z"
   },
   {
    "duration": 32,
    "start_time": "2024-03-21T20:49:00.784Z"
   },
   {
    "duration": 35,
    "start_time": "2024-03-21T20:49:00.818Z"
   },
   {
    "duration": 38,
    "start_time": "2024-03-21T20:49:00.857Z"
   },
   {
    "duration": 57,
    "start_time": "2024-03-21T20:49:00.897Z"
   },
   {
    "duration": 31,
    "start_time": "2024-03-21T20:49:00.956Z"
   },
   {
    "duration": 41,
    "start_time": "2024-03-21T20:49:00.988Z"
   },
   {
    "duration": 40,
    "start_time": "2024-03-21T20:49:01.031Z"
   },
   {
    "duration": 37,
    "start_time": "2024-03-21T20:49:01.072Z"
   },
   {
    "duration": 44,
    "start_time": "2024-03-21T20:49:01.111Z"
   },
   {
    "duration": 39,
    "start_time": "2024-03-21T20:49:01.157Z"
   },
   {
    "duration": 27,
    "start_time": "2024-03-21T20:49:01.197Z"
   },
   {
    "duration": 35,
    "start_time": "2024-03-21T20:49:01.226Z"
   },
   {
    "duration": 35,
    "start_time": "2024-03-21T20:49:01.263Z"
   },
   {
    "duration": 49,
    "start_time": "2024-03-21T20:49:01.299Z"
   },
   {
    "duration": 32,
    "start_time": "2024-03-21T20:49:01.350Z"
   },
   {
    "duration": 321,
    "start_time": "2024-03-21T20:49:01.384Z"
   },
   {
    "duration": 213,
    "start_time": "2024-03-21T20:49:01.706Z"
   },
   {
    "duration": 101,
    "start_time": "2024-03-21T20:49:01.920Z"
   },
   {
    "duration": 6,
    "start_time": "2024-03-21T20:49:02.023Z"
   },
   {
    "duration": 278,
    "start_time": "2024-03-21T20:49:02.031Z"
   },
   {
    "duration": 322,
    "start_time": "2024-03-21T20:49:02.311Z"
   },
   {
    "duration": 238,
    "start_time": "2024-03-21T20:49:02.634Z"
   },
   {
    "duration": 3,
    "start_time": "2024-03-21T20:49:02.874Z"
   },
   {
    "duration": 37,
    "start_time": "2024-03-21T20:49:02.878Z"
   },
   {
    "duration": 13,
    "start_time": "2024-03-21T20:49:02.917Z"
   },
   {
    "duration": 9,
    "start_time": "2024-03-21T20:49:02.932Z"
   },
   {
    "duration": 33,
    "start_time": "2024-03-21T20:49:02.946Z"
   },
   {
    "duration": 10,
    "start_time": "2024-03-21T20:49:02.980Z"
   },
   {
    "duration": 19,
    "start_time": "2024-03-21T20:49:02.992Z"
   },
   {
    "duration": 3,
    "start_time": "2024-03-21T20:49:03.012Z"
   },
   {
    "duration": 272,
    "start_time": "2024-03-21T20:49:03.017Z"
   },
   {
    "duration": 220,
    "start_time": "2024-03-21T20:49:03.290Z"
   },
   {
    "duration": 235,
    "start_time": "2024-03-21T20:49:03.511Z"
   },
   {
    "duration": 234,
    "start_time": "2024-03-21T20:49:03.748Z"
   },
   {
    "duration": 19,
    "start_time": "2024-03-21T20:49:03.987Z"
   },
   {
    "duration": 16,
    "start_time": "2024-03-21T20:49:04.008Z"
   },
   {
    "duration": 3,
    "start_time": "2024-03-21T20:49:04.025Z"
   },
   {
    "duration": 26,
    "start_time": "2024-03-21T20:49:04.030Z"
   },
   {
    "duration": 19,
    "start_time": "2024-03-21T20:49:04.057Z"
   },
   {
    "duration": 8,
    "start_time": "2024-03-21T20:49:04.087Z"
   },
   {
    "duration": 15,
    "start_time": "2024-03-21T20:49:04.096Z"
   },
   {
    "duration": 99,
    "start_time": "2024-03-21T20:49:04.112Z"
   },
   {
    "duration": 13,
    "start_time": "2024-03-21T20:49:04.212Z"
   },
   {
    "duration": 17,
    "start_time": "2024-03-21T20:49:04.227Z"
   },
   {
    "duration": 2,
    "start_time": "2024-03-21T20:49:04.246Z"
   },
   {
    "duration": 20,
    "start_time": "2024-03-21T20:49:04.250Z"
   },
   {
    "duration": 7,
    "start_time": "2024-03-21T20:49:04.271Z"
   },
   {
    "duration": 7,
    "start_time": "2024-03-21T20:49:04.286Z"
   },
   {
    "duration": 11,
    "start_time": "2024-03-21T20:49:04.294Z"
   },
   {
    "duration": 24,
    "start_time": "2024-03-21T20:49:04.307Z"
   },
   {
    "duration": 7,
    "start_time": "2024-03-21T20:49:04.333Z"
   },
   {
    "duration": 7,
    "start_time": "2024-03-21T20:49:04.341Z"
   },
   {
    "duration": 33,
    "start_time": "2024-03-21T20:49:04.350Z"
   },
   {
    "duration": 6,
    "start_time": "2024-03-21T20:49:04.385Z"
   },
   {
    "duration": 4,
    "start_time": "2024-03-21T20:49:04.393Z"
   },
   {
    "duration": 5,
    "start_time": "2024-03-21T20:49:04.398Z"
   },
   {
    "duration": 21,
    "start_time": "2024-03-21T20:49:04.404Z"
   },
   {
    "duration": 10,
    "start_time": "2024-03-21T20:49:04.427Z"
   },
   {
    "duration": 13,
    "start_time": "2024-03-21T20:49:04.439Z"
   },
   {
    "duration": 6,
    "start_time": "2024-03-21T20:49:04.454Z"
   },
   {
    "duration": 29,
    "start_time": "2024-03-21T20:49:04.462Z"
   },
   {
    "duration": 6,
    "start_time": "2024-03-21T20:49:04.493Z"
   },
   {
    "duration": 6,
    "start_time": "2024-03-21T20:49:04.502Z"
   },
   {
    "duration": 6,
    "start_time": "2024-03-21T20:49:04.509Z"
   },
   {
    "duration": 175,
    "start_time": "2024-03-21T20:49:04.517Z"
   },
   {
    "duration": 147,
    "start_time": "2024-03-21T20:49:04.694Z"
   },
   {
    "duration": 146,
    "start_time": "2024-03-21T20:49:04.843Z"
   },
   {
    "duration": 5,
    "start_time": "2024-03-21T20:49:04.991Z"
   },
   {
    "duration": 8,
    "start_time": "2024-03-21T20:49:04.997Z"
   },
   {
    "duration": 113,
    "start_time": "2024-03-21T20:49:05.007Z"
   },
   {
    "duration": 5,
    "start_time": "2024-03-21T20:49:07.378Z"
   },
   {
    "duration": 399,
    "start_time": "2024-06-23T18:22:37.240Z"
   },
   {
    "duration": 453,
    "start_time": "2024-06-23T18:22:37.641Z"
   },
   {
    "duration": 3,
    "start_time": "2024-06-23T18:22:38.096Z"
   },
   {
    "duration": 9,
    "start_time": "2024-06-23T18:22:38.101Z"
   },
   {
    "duration": 500,
    "start_time": "2024-06-23T18:22:38.111Z"
   },
   {
    "duration": 75,
    "start_time": "2024-06-23T18:22:38.612Z"
   },
   {
    "duration": 78,
    "start_time": "2024-06-23T18:22:38.689Z"
   },
   {
    "duration": 58,
    "start_time": "2024-06-23T18:22:38.769Z"
   },
   {
    "duration": 12,
    "start_time": "2024-06-23T18:22:38.829Z"
   },
   {
    "duration": 40,
    "start_time": "2024-06-23T18:22:38.843Z"
   },
   {
    "duration": 30,
    "start_time": "2024-06-23T18:22:38.884Z"
   },
   {
    "duration": 12,
    "start_time": "2024-06-23T18:22:38.916Z"
   },
   {
    "duration": 6,
    "start_time": "2024-06-23T18:22:38.930Z"
   },
   {
    "duration": 10,
    "start_time": "2024-06-23T18:22:38.938Z"
   },
   {
    "duration": 8,
    "start_time": "2024-06-23T18:22:38.950Z"
   },
   {
    "duration": 17,
    "start_time": "2024-06-23T18:22:38.960Z"
   },
   {
    "duration": 16,
    "start_time": "2024-06-23T18:22:38.983Z"
   },
   {
    "duration": 9,
    "start_time": "2024-06-23T18:22:39.001Z"
   },
   {
    "duration": 9,
    "start_time": "2024-06-23T18:22:39.011Z"
   },
   {
    "duration": 13,
    "start_time": "2024-06-23T18:22:39.022Z"
   },
   {
    "duration": 7,
    "start_time": "2024-06-23T18:22:39.037Z"
   },
   {
    "duration": 4,
    "start_time": "2024-06-23T18:22:39.046Z"
   },
   {
    "duration": 81,
    "start_time": "2024-06-23T18:22:39.052Z"
   },
   {
    "duration": 11,
    "start_time": "2024-06-23T18:22:39.134Z"
   },
   {
    "duration": 11,
    "start_time": "2024-06-23T18:22:39.147Z"
   },
   {
    "duration": 231,
    "start_time": "2024-06-23T18:22:39.182Z"
   },
   {
    "duration": 226,
    "start_time": "2024-06-23T18:22:39.415Z"
   },
   {
    "duration": 102,
    "start_time": "2024-06-23T18:22:39.646Z"
   },
   {
    "duration": 6,
    "start_time": "2024-06-23T18:22:39.750Z"
   },
   {
    "duration": 249,
    "start_time": "2024-06-23T18:22:39.757Z"
   },
   {
    "duration": 327,
    "start_time": "2024-06-23T18:22:40.008Z"
   },
   {
    "duration": 236,
    "start_time": "2024-06-23T18:22:40.337Z"
   },
   {
    "duration": 4,
    "start_time": "2024-06-23T18:22:40.574Z"
   },
   {
    "duration": 38,
    "start_time": "2024-06-23T18:22:40.582Z"
   },
   {
    "duration": 14,
    "start_time": "2024-06-23T18:22:40.622Z"
   },
   {
    "duration": 8,
    "start_time": "2024-06-23T18:22:40.637Z"
   },
   {
    "duration": 41,
    "start_time": "2024-06-23T18:22:40.646Z"
   },
   {
    "duration": 6,
    "start_time": "2024-06-23T18:22:40.688Z"
   },
   {
    "duration": 154,
    "start_time": "2024-06-23T18:22:40.695Z"
   },
   {
    "duration": 4,
    "start_time": "2024-06-23T18:22:40.850Z"
   },
   {
    "duration": 249,
    "start_time": "2024-06-23T18:22:40.855Z"
   },
   {
    "duration": 230,
    "start_time": "2024-06-23T18:22:41.106Z"
   },
   {
    "duration": 249,
    "start_time": "2024-06-23T18:22:41.338Z"
   },
   {
    "duration": 283,
    "start_time": "2024-06-23T18:22:41.589Z"
   },
   {
    "duration": 25,
    "start_time": "2024-06-23T18:22:41.874Z"
   },
   {
    "duration": 16,
    "start_time": "2024-06-23T18:22:41.900Z"
   },
   {
    "duration": 3,
    "start_time": "2024-06-23T18:22:41.918Z"
   },
   {
    "duration": 17,
    "start_time": "2024-06-23T18:22:41.923Z"
   },
   {
    "duration": 15,
    "start_time": "2024-06-23T18:22:41.942Z"
   },
   {
    "duration": 8,
    "start_time": "2024-06-23T18:22:41.983Z"
   },
   {
    "duration": 16,
    "start_time": "2024-06-23T18:22:41.992Z"
   },
   {
    "duration": 4,
    "start_time": "2024-06-23T18:22:42.010Z"
   },
   {
    "duration": 12,
    "start_time": "2024-06-23T18:22:42.015Z"
   },
   {
    "duration": 8,
    "start_time": "2024-06-23T18:22:42.029Z"
   },
   {
    "duration": 3,
    "start_time": "2024-06-23T18:22:42.038Z"
   },
   {
    "duration": 40,
    "start_time": "2024-06-23T18:22:42.042Z"
   },
   {
    "duration": 4,
    "start_time": "2024-06-23T18:22:42.084Z"
   },
   {
    "duration": 18,
    "start_time": "2024-06-23T18:22:42.089Z"
   },
   {
    "duration": 20,
    "start_time": "2024-06-23T18:22:42.108Z"
   },
   {
    "duration": 19,
    "start_time": "2024-06-23T18:22:42.130Z"
   },
   {
    "duration": 10,
    "start_time": "2024-06-23T18:22:42.150Z"
   },
   {
    "duration": 4,
    "start_time": "2024-06-23T18:22:42.161Z"
   },
   {
    "duration": 18,
    "start_time": "2024-06-23T18:22:42.166Z"
   },
   {
    "duration": 9,
    "start_time": "2024-06-23T18:22:42.186Z"
   },
   {
    "duration": 17,
    "start_time": "2024-06-23T18:22:42.197Z"
   },
   {
    "duration": 38,
    "start_time": "2024-06-23T18:22:42.216Z"
   },
   {
    "duration": 33,
    "start_time": "2024-06-23T18:22:42.255Z"
   },
   {
    "duration": 9,
    "start_time": "2024-06-23T18:22:42.290Z"
   },
   {
    "duration": 11,
    "start_time": "2024-06-23T18:22:42.301Z"
   },
   {
    "duration": 17,
    "start_time": "2024-06-23T18:22:42.313Z"
   },
   {
    "duration": 15,
    "start_time": "2024-06-23T18:22:42.332Z"
   },
   {
    "duration": 7,
    "start_time": "2024-06-23T18:22:42.349Z"
   },
   {
    "duration": 18,
    "start_time": "2024-06-23T18:22:42.357Z"
   },
   {
    "duration": 4,
    "start_time": "2024-06-23T18:22:42.377Z"
   },
   {
    "duration": 158,
    "start_time": "2024-06-23T18:22:42.383Z"
   },
   {
    "duration": 155,
    "start_time": "2024-06-23T18:22:42.543Z"
   },
   {
    "duration": 165,
    "start_time": "2024-06-23T18:22:42.700Z"
   },
   {
    "duration": 5,
    "start_time": "2024-06-23T18:22:42.867Z"
   },
   {
    "duration": 11,
    "start_time": "2024-06-23T18:22:42.874Z"
   },
   {
    "duration": 17,
    "start_time": "2024-06-23T18:22:42.886Z"
   }
  ],
  "kernelspec": {
   "display_name": "Python 3 (ipykernel)",
   "language": "python",
   "name": "python3"
  },
  "language_info": {
   "codemirror_mode": {
    "name": "ipython",
    "version": 3
   },
   "file_extension": ".py",
   "mimetype": "text/x-python",
   "name": "python",
   "nbconvert_exporter": "python",
   "pygments_lexer": "ipython3",
   "version": "3.11.5"
  },
  "toc": {
   "base_numbering": 1,
   "nav_menu": {},
   "number_sections": true,
   "sideBar": true,
   "skip_h1_title": true,
   "title_cell": "Table of Contents",
   "title_sidebar": "Contents",
   "toc_cell": false,
   "toc_position": {},
   "toc_section_display": true,
   "toc_window_display": false
  }
 },
 "nbformat": 4,
 "nbformat_minor": 5
}
