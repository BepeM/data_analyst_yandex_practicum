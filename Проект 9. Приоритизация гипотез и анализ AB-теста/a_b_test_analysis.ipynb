{
 "cells": [
  {
   "cell_type": "markdown",
   "metadata": {},
   "source": [
    "# Принятие решений в бизнесе на основе данных\n",
    "\n",
    "***План работ***\n",
    "\n",
    "**Часть 1. Подготовка данных к анализу**\n",
    "\n",
    "- Загрузить данные из таблиц, провести первичный анализ\n",
    "- Оптимизировать данные для анализа (поиск дублей, анализ пропусков, проверка названий столбцов и т.п.)\n",
    "- Проверка/корректировка типов данных\n",
    "\n",
    "**Часть 2. Приоритизация гипотез.**\n",
    "\n",
    "- Применить фреймворк ICE для приоритизации гипотез. Отсортировать их по убыванию приоритета.\n",
    "- Применить фреймворк RICE для приоритизации гипотез. Отсортировать их по убыванию приоритета.\n",
    "- Указать, как изменилась приоритизация гипотез при применении RICE вместо ICE. Объяснить, почему так произошло.\n",
    "\n",
    "**Часть 3. Анализ A/B-теста**\n",
    "\n",
    "- Построить график кумулятивной выручки по группам. Сделать выводы и предположения.\n",
    "- Построить график кумулятивного среднего чека по группам. Сделать выводы и предположения.\n",
    "- Построить график относительного изменения кумулятивного среднего чека группы B к группе A. Сделать выводы и предположения.\n",
    "- Построить график кумулятивной конверсии по группам. Сделать выводы и предположения.\n",
    "- Построить график относительного изменения кумулятивной конверсии группы B к группе A. Сделать выводы и предположения.\n",
    "- Построить точечный график количества заказов по пользователям. Сделать выводы и предположения.\n",
    "- Посчитать 95-й и 99-й перцентили количества заказов на пользователя. Выбрать границу для определения аномальных пользователей.\n",
    "- Построить точечный график стоимостей заказов. Сделать выводы и предположения.\n",
    "- Посчитать 95-й и 99-й перцентили стоимости заказов. Выбрать границу для определения аномальных заказов.\n",
    "- Посчитать статистическую значимость различий в конверсии между группами по «сырым» данным. Сделать выводы и предположения.\n",
    "- Посчитать статистическую значимость различий в среднем чеке заказа между группами по «сырым» данным. Сделать выводы и предположения.\n",
    "- Посчитать статистическую значимость различий в конверсии между группами по «очищенным» данным. Сделать выводы и предположения.\n",
    "- Посчитать статистическую значимость различий в среднем чеке заказа между группами по «очищенным» данным. Сделать выводы и предположения.\n",
    "\n",
    "**Часть 4. Вывод**\n",
    "- Принять решение по результатам теста и объяснить его. Варианты решений: 1. Остановить тест, зафиксировать победу одной из групп. 2. Остановить тест, зафиксировать отсутствие различий между группами. 3. Продолжить тест."
   ]
  },
  {
   "cell_type": "markdown",
   "metadata": {},
   "source": [
    "#####  Подготовка данных к анализу. Изучение данных из файла и предобработка"
   ]
  },
  {
   "cell_type": "code",
   "execution_count": 1,
   "metadata": {},
   "outputs": [],
   "source": [
    "# импорт библиотек\n",
    "import pandas as pd\n",
    "import numpy as np\n",
    "import matplotlib.pyplot as plt\n",
    "%matplotlib inline\n",
    "import seaborn as sns\n",
    "import datetime as dt\n",
    "from pandas.plotting import register_matplotlib_converters\n",
    "import scipy.stats as stats\n",
    "import warnings"
   ]
  },
  {
   "cell_type": "code",
   "execution_count": 2,
   "metadata": {},
   "outputs": [
    {
     "data": {
      "text/html": [
       "<div>\n",
       "<style scoped>\n",
       "    .dataframe tbody tr th:only-of-type {\n",
       "        vertical-align: middle;\n",
       "    }\n",
       "\n",
       "    .dataframe tbody tr th {\n",
       "        vertical-align: top;\n",
       "    }\n",
       "\n",
       "    .dataframe thead th {\n",
       "        text-align: right;\n",
       "    }\n",
       "</style>\n",
       "<table border=\"1\" class=\"dataframe\">\n",
       "  <thead>\n",
       "    <tr style=\"text-align: right;\">\n",
       "      <th></th>\n",
       "      <th>Hypothesis</th>\n",
       "      <th>Reach</th>\n",
       "      <th>Impact</th>\n",
       "      <th>Confidence</th>\n",
       "      <th>Efforts</th>\n",
       "    </tr>\n",
       "  </thead>\n",
       "  <tbody>\n",
       "    <tr>\n",
       "      <th>0</th>\n",
       "      <td>Добавить два новых канала привлечения трафика, что позволит привлекать на 30% больше пользователей</td>\n",
       "      <td>3</td>\n",
       "      <td>10</td>\n",
       "      <td>8</td>\n",
       "      <td>6</td>\n",
       "    </tr>\n",
       "    <tr>\n",
       "      <th>1</th>\n",
       "      <td>Запустить собственную службу доставки, что сократит срок доставки заказов</td>\n",
       "      <td>2</td>\n",
       "      <td>5</td>\n",
       "      <td>4</td>\n",
       "      <td>10</td>\n",
       "    </tr>\n",
       "    <tr>\n",
       "      <th>2</th>\n",
       "      <td>Добавить блоки рекомендаций товаров на сайт интернет магазина, чтобы повысить конверсию и средний чек заказа</td>\n",
       "      <td>8</td>\n",
       "      <td>3</td>\n",
       "      <td>7</td>\n",
       "      <td>3</td>\n",
       "    </tr>\n",
       "    <tr>\n",
       "      <th>3</th>\n",
       "      <td>Изменить структура категорий, что увеличит конверсию, т.к. пользователи быстрее найдут нужный товар</td>\n",
       "      <td>8</td>\n",
       "      <td>3</td>\n",
       "      <td>3</td>\n",
       "      <td>8</td>\n",
       "    </tr>\n",
       "    <tr>\n",
       "      <th>4</th>\n",
       "      <td>Изменить цвет фона главной страницы, чтобы увеличить вовлеченность пользователей</td>\n",
       "      <td>3</td>\n",
       "      <td>1</td>\n",
       "      <td>1</td>\n",
       "      <td>1</td>\n",
       "    </tr>\n",
       "    <tr>\n",
       "      <th>5</th>\n",
       "      <td>Добавить страницу отзывов клиентов о магазине, что позволит увеличить количество заказов</td>\n",
       "      <td>3</td>\n",
       "      <td>2</td>\n",
       "      <td>2</td>\n",
       "      <td>3</td>\n",
       "    </tr>\n",
       "    <tr>\n",
       "      <th>6</th>\n",
       "      <td>Показать на главной странице баннеры с актуальными акциями и распродажами, чтобы увеличить конверсию</td>\n",
       "      <td>5</td>\n",
       "      <td>3</td>\n",
       "      <td>8</td>\n",
       "      <td>3</td>\n",
       "    </tr>\n",
       "    <tr>\n",
       "      <th>7</th>\n",
       "      <td>Добавить форму подписки на все основные страницы, чтобы собрать базу клиентов для email-рассылок</td>\n",
       "      <td>10</td>\n",
       "      <td>7</td>\n",
       "      <td>8</td>\n",
       "      <td>5</td>\n",
       "    </tr>\n",
       "    <tr>\n",
       "      <th>8</th>\n",
       "      <td>Запустить акцию, дающую скидку на товар в день рождения</td>\n",
       "      <td>1</td>\n",
       "      <td>9</td>\n",
       "      <td>9</td>\n",
       "      <td>5</td>\n",
       "    </tr>\n",
       "  </tbody>\n",
       "</table>\n",
       "</div>"
      ],
      "text/plain": [
       "                                                                                                     Hypothesis  \\\n",
       "0            Добавить два новых канала привлечения трафика, что позволит привлекать на 30% больше пользователей   \n",
       "1                                     Запустить собственную службу доставки, что сократит срок доставки заказов   \n",
       "2  Добавить блоки рекомендаций товаров на сайт интернет магазина, чтобы повысить конверсию и средний чек заказа   \n",
       "3           Изменить структура категорий, что увеличит конверсию, т.к. пользователи быстрее найдут нужный товар   \n",
       "4                              Изменить цвет фона главной страницы, чтобы увеличить вовлеченность пользователей   \n",
       "5                      Добавить страницу отзывов клиентов о магазине, что позволит увеличить количество заказов   \n",
       "6          Показать на главной странице баннеры с актуальными акциями и распродажами, чтобы увеличить конверсию   \n",
       "7              Добавить форму подписки на все основные страницы, чтобы собрать базу клиентов для email-рассылок   \n",
       "8                                                       Запустить акцию, дающую скидку на товар в день рождения   \n",
       "\n",
       "   Reach  Impact  Confidence  Efforts  \n",
       "0      3      10           8        6  \n",
       "1      2       5           4       10  \n",
       "2      8       3           7        3  \n",
       "3      8       3           3        8  \n",
       "4      3       1           1        1  \n",
       "5      3       2           2        3  \n",
       "6      5       3           8        3  \n",
       "7     10       7           8        5  \n",
       "8      1       9           9        5  "
      ]
     },
     "execution_count": 2,
     "metadata": {},
     "output_type": "execute_result"
    }
   ],
   "source": [
    "# чтение файла с данными и расширение отображения ячеек таблицы\n",
    "hypothesis = pd.read_csv('/datasets/hypothesis.csv')\n",
    "pd.set_option('max_colwidth', 150) \n",
    "\n",
    "hypothesis"
   ]
  },
  {
   "cell_type": "code",
   "execution_count": 3,
   "metadata": {},
   "outputs": [],
   "source": [
    "# функция для первичного анализа\n",
    "def description(x):\n",
    "    display('Получение общей информации о данных в таблице')\n",
    "    display(x.info())\n",
    "    display('Подсчёт пропусков в таблице')\n",
    "    display(x.isna().sum())\n",
    "    display('Статистические показатели таблицы')\n",
    "    display(x.describe())\n",
    "    display('Количество строк и столбцов')\n",
    "    display(x.shape)\n",
    "    display('Наличие дубликатов в таблице')\n",
    "    display(x.duplicated().sum())    "
   ]
  },
  {
   "cell_type": "code",
   "execution_count": 4,
   "metadata": {
    "scrolled": true
   },
   "outputs": [
    {
     "data": {
      "text/plain": [
       "'Получение общей информации о данных в таблице'"
      ]
     },
     "metadata": {},
     "output_type": "display_data"
    },
    {
     "name": "stdout",
     "output_type": "stream",
     "text": [
      "<class 'pandas.core.frame.DataFrame'>\n",
      "RangeIndex: 9 entries, 0 to 8\n",
      "Data columns (total 5 columns):\n",
      " #   Column      Non-Null Count  Dtype \n",
      "---  ------      --------------  ----- \n",
      " 0   Hypothesis  9 non-null      object\n",
      " 1   Reach       9 non-null      int64 \n",
      " 2   Impact      9 non-null      int64 \n",
      " 3   Confidence  9 non-null      int64 \n",
      " 4   Efforts     9 non-null      int64 \n",
      "dtypes: int64(4), object(1)\n",
      "memory usage: 488.0+ bytes\n"
     ]
    },
    {
     "data": {
      "text/plain": [
       "None"
      ]
     },
     "metadata": {},
     "output_type": "display_data"
    },
    {
     "data": {
      "text/plain": [
       "'Подсчёт пропусков в таблице'"
      ]
     },
     "metadata": {},
     "output_type": "display_data"
    },
    {
     "data": {
      "text/plain": [
       "Hypothesis    0\n",
       "Reach         0\n",
       "Impact        0\n",
       "Confidence    0\n",
       "Efforts       0\n",
       "dtype: int64"
      ]
     },
     "metadata": {},
     "output_type": "display_data"
    },
    {
     "data": {
      "text/plain": [
       "'Статистические показатели таблицы'"
      ]
     },
     "metadata": {},
     "output_type": "display_data"
    },
    {
     "data": {
      "text/html": [
       "<div>\n",
       "<style scoped>\n",
       "    .dataframe tbody tr th:only-of-type {\n",
       "        vertical-align: middle;\n",
       "    }\n",
       "\n",
       "    .dataframe tbody tr th {\n",
       "        vertical-align: top;\n",
       "    }\n",
       "\n",
       "    .dataframe thead th {\n",
       "        text-align: right;\n",
       "    }\n",
       "</style>\n",
       "<table border=\"1\" class=\"dataframe\">\n",
       "  <thead>\n",
       "    <tr style=\"text-align: right;\">\n",
       "      <th></th>\n",
       "      <th>Reach</th>\n",
       "      <th>Impact</th>\n",
       "      <th>Confidence</th>\n",
       "      <th>Efforts</th>\n",
       "    </tr>\n",
       "  </thead>\n",
       "  <tbody>\n",
       "    <tr>\n",
       "      <th>count</th>\n",
       "      <td>9.000000</td>\n",
       "      <td>9.000000</td>\n",
       "      <td>9.000000</td>\n",
       "      <td>9.000000</td>\n",
       "    </tr>\n",
       "    <tr>\n",
       "      <th>mean</th>\n",
       "      <td>4.777778</td>\n",
       "      <td>4.777778</td>\n",
       "      <td>5.555556</td>\n",
       "      <td>4.888889</td>\n",
       "    </tr>\n",
       "    <tr>\n",
       "      <th>std</th>\n",
       "      <td>3.153481</td>\n",
       "      <td>3.192874</td>\n",
       "      <td>3.045944</td>\n",
       "      <td>2.803767</td>\n",
       "    </tr>\n",
       "    <tr>\n",
       "      <th>min</th>\n",
       "      <td>1.000000</td>\n",
       "      <td>1.000000</td>\n",
       "      <td>1.000000</td>\n",
       "      <td>1.000000</td>\n",
       "    </tr>\n",
       "    <tr>\n",
       "      <th>25%</th>\n",
       "      <td>3.000000</td>\n",
       "      <td>3.000000</td>\n",
       "      <td>3.000000</td>\n",
       "      <td>3.000000</td>\n",
       "    </tr>\n",
       "    <tr>\n",
       "      <th>50%</th>\n",
       "      <td>3.000000</td>\n",
       "      <td>3.000000</td>\n",
       "      <td>7.000000</td>\n",
       "      <td>5.000000</td>\n",
       "    </tr>\n",
       "    <tr>\n",
       "      <th>75%</th>\n",
       "      <td>8.000000</td>\n",
       "      <td>7.000000</td>\n",
       "      <td>8.000000</td>\n",
       "      <td>6.000000</td>\n",
       "    </tr>\n",
       "    <tr>\n",
       "      <th>max</th>\n",
       "      <td>10.000000</td>\n",
       "      <td>10.000000</td>\n",
       "      <td>9.000000</td>\n",
       "      <td>10.000000</td>\n",
       "    </tr>\n",
       "  </tbody>\n",
       "</table>\n",
       "</div>"
      ],
      "text/plain": [
       "           Reach     Impact  Confidence    Efforts\n",
       "count   9.000000   9.000000    9.000000   9.000000\n",
       "mean    4.777778   4.777778    5.555556   4.888889\n",
       "std     3.153481   3.192874    3.045944   2.803767\n",
       "min     1.000000   1.000000    1.000000   1.000000\n",
       "25%     3.000000   3.000000    3.000000   3.000000\n",
       "50%     3.000000   3.000000    7.000000   5.000000\n",
       "75%     8.000000   7.000000    8.000000   6.000000\n",
       "max    10.000000  10.000000    9.000000  10.000000"
      ]
     },
     "metadata": {},
     "output_type": "display_data"
    },
    {
     "data": {
      "text/plain": [
       "'Количество строк и столбцов'"
      ]
     },
     "metadata": {},
     "output_type": "display_data"
    },
    {
     "data": {
      "text/plain": [
       "(9, 5)"
      ]
     },
     "metadata": {},
     "output_type": "display_data"
    },
    {
     "data": {
      "text/plain": [
       "'Наличие дубликатов в таблице'"
      ]
     },
     "metadata": {},
     "output_type": "display_data"
    },
    {
     "data": {
      "text/plain": [
       "0"
      ]
     },
     "metadata": {},
     "output_type": "display_data"
    }
   ],
   "source": [
    "description(hypothesis)"
   ]
  },
  {
   "cell_type": "code",
   "execution_count": 5,
   "metadata": {},
   "outputs": [
    {
     "data": {
      "text/plain": [
       "Index(['hypothesis', 'reach', 'impact', 'confidence', 'efforts'], dtype='object')"
      ]
     },
     "execution_count": 5,
     "metadata": {},
     "output_type": "execute_result"
    }
   ],
   "source": [
    "# преобразование названий столбцов к нижнему регистру\n",
    "hypothesis.columns = hypothesis.columns.str.lower()\n",
    "hypothesis.columns"
   ]
  },
  {
   "cell_type": "markdown",
   "metadata": {},
   "source": [
    "***Вывод:***\n",
    "В таблице 'hypothesis' содержатся 9 гипотез со следующими колонками:\n",
    "\n",
    "- Hypothesis — краткое описание гипотезы;\n",
    "- Reach — охват пользователей по 10-балльной шкале;\n",
    "- Impact — влияние на пользователей по 10-балльной шкале;\n",
    "- Confidence — уверенность в гипотезе по 10-балльной шкале;\n",
    "- Efforts — затраты ресурсов на проверку гипотезы по 10-балльной шкале. Чем больше значение Efforts, тем дороже проверка гипотезы."
   ]
  },
  {
   "cell_type": "code",
   "execution_count": 6,
   "metadata": {},
   "outputs": [
    {
     "data": {
      "text/html": [
       "<div>\n",
       "<style scoped>\n",
       "    .dataframe tbody tr th:only-of-type {\n",
       "        vertical-align: middle;\n",
       "    }\n",
       "\n",
       "    .dataframe tbody tr th {\n",
       "        vertical-align: top;\n",
       "    }\n",
       "\n",
       "    .dataframe thead th {\n",
       "        text-align: right;\n",
       "    }\n",
       "</style>\n",
       "<table border=\"1\" class=\"dataframe\">\n",
       "  <thead>\n",
       "    <tr style=\"text-align: right;\">\n",
       "      <th></th>\n",
       "      <th>transactionId</th>\n",
       "      <th>visitorId</th>\n",
       "      <th>date</th>\n",
       "      <th>revenue</th>\n",
       "      <th>group</th>\n",
       "    </tr>\n",
       "  </thead>\n",
       "  <tbody>\n",
       "    <tr>\n",
       "      <th>0</th>\n",
       "      <td>3667963787</td>\n",
       "      <td>3312258926</td>\n",
       "      <td>2019-08-15</td>\n",
       "      <td>1650</td>\n",
       "      <td>B</td>\n",
       "    </tr>\n",
       "    <tr>\n",
       "      <th>1</th>\n",
       "      <td>2804400009</td>\n",
       "      <td>3642806036</td>\n",
       "      <td>2019-08-15</td>\n",
       "      <td>730</td>\n",
       "      <td>B</td>\n",
       "    </tr>\n",
       "    <tr>\n",
       "      <th>2</th>\n",
       "      <td>2961555356</td>\n",
       "      <td>4069496402</td>\n",
       "      <td>2019-08-15</td>\n",
       "      <td>400</td>\n",
       "      <td>A</td>\n",
       "    </tr>\n",
       "    <tr>\n",
       "      <th>3</th>\n",
       "      <td>3797467345</td>\n",
       "      <td>1196621759</td>\n",
       "      <td>2019-08-15</td>\n",
       "      <td>9759</td>\n",
       "      <td>B</td>\n",
       "    </tr>\n",
       "    <tr>\n",
       "      <th>4</th>\n",
       "      <td>2282983706</td>\n",
       "      <td>2322279887</td>\n",
       "      <td>2019-08-15</td>\n",
       "      <td>2308</td>\n",
       "      <td>B</td>\n",
       "    </tr>\n",
       "    <tr>\n",
       "      <th>5</th>\n",
       "      <td>182168103</td>\n",
       "      <td>935554773</td>\n",
       "      <td>2019-08-15</td>\n",
       "      <td>2210</td>\n",
       "      <td>B</td>\n",
       "    </tr>\n",
       "    <tr>\n",
       "      <th>6</th>\n",
       "      <td>398296753</td>\n",
       "      <td>2900797465</td>\n",
       "      <td>2019-08-15</td>\n",
       "      <td>1860</td>\n",
       "      <td>B</td>\n",
       "    </tr>\n",
       "    <tr>\n",
       "      <th>7</th>\n",
       "      <td>2626614568</td>\n",
       "      <td>78758296</td>\n",
       "      <td>2019-08-15</td>\n",
       "      <td>1044</td>\n",
       "      <td>A</td>\n",
       "    </tr>\n",
       "    <tr>\n",
       "      <th>8</th>\n",
       "      <td>1576988021</td>\n",
       "      <td>295230930</td>\n",
       "      <td>2019-08-15</td>\n",
       "      <td>13710</td>\n",
       "      <td>A</td>\n",
       "    </tr>\n",
       "    <tr>\n",
       "      <th>9</th>\n",
       "      <td>1506739906</td>\n",
       "      <td>1882260405</td>\n",
       "      <td>2019-08-15</td>\n",
       "      <td>1855</td>\n",
       "      <td>B</td>\n",
       "    </tr>\n",
       "  </tbody>\n",
       "</table>\n",
       "</div>"
      ],
      "text/plain": [
       "   transactionId   visitorId        date  revenue group\n",
       "0     3667963787  3312258926  2019-08-15     1650     B\n",
       "1     2804400009  3642806036  2019-08-15      730     B\n",
       "2     2961555356  4069496402  2019-08-15      400     A\n",
       "3     3797467345  1196621759  2019-08-15     9759     B\n",
       "4     2282983706  2322279887  2019-08-15     2308     B\n",
       "5      182168103   935554773  2019-08-15     2210     B\n",
       "6      398296753  2900797465  2019-08-15     1860     B\n",
       "7     2626614568    78758296  2019-08-15     1044     A\n",
       "8     1576988021   295230930  2019-08-15    13710     A\n",
       "9     1506739906  1882260405  2019-08-15     1855     B"
      ]
     },
     "execution_count": 6,
     "metadata": {},
     "output_type": "execute_result"
    }
   ],
   "source": [
    "# чтение файлов с данными\n",
    "orders = pd.read_csv('/datasets/orders.csv')\n",
    "orders.head(10)"
   ]
  },
  {
   "cell_type": "code",
   "execution_count": 7,
   "metadata": {},
   "outputs": [
    {
     "data": {
      "text/html": [
       "<div>\n",
       "<style scoped>\n",
       "    .dataframe tbody tr th:only-of-type {\n",
       "        vertical-align: middle;\n",
       "    }\n",
       "\n",
       "    .dataframe tbody tr th {\n",
       "        vertical-align: top;\n",
       "    }\n",
       "\n",
       "    .dataframe thead th {\n",
       "        text-align: right;\n",
       "    }\n",
       "</style>\n",
       "<table border=\"1\" class=\"dataframe\">\n",
       "  <thead>\n",
       "    <tr style=\"text-align: right;\">\n",
       "      <th></th>\n",
       "      <th>date</th>\n",
       "      <th>group</th>\n",
       "      <th>visitors</th>\n",
       "    </tr>\n",
       "  </thead>\n",
       "  <tbody>\n",
       "    <tr>\n",
       "      <th>0</th>\n",
       "      <td>2019-08-01</td>\n",
       "      <td>A</td>\n",
       "      <td>719</td>\n",
       "    </tr>\n",
       "    <tr>\n",
       "      <th>1</th>\n",
       "      <td>2019-08-02</td>\n",
       "      <td>A</td>\n",
       "      <td>619</td>\n",
       "    </tr>\n",
       "    <tr>\n",
       "      <th>2</th>\n",
       "      <td>2019-08-03</td>\n",
       "      <td>A</td>\n",
       "      <td>507</td>\n",
       "    </tr>\n",
       "    <tr>\n",
       "      <th>3</th>\n",
       "      <td>2019-08-04</td>\n",
       "      <td>A</td>\n",
       "      <td>717</td>\n",
       "    </tr>\n",
       "    <tr>\n",
       "      <th>4</th>\n",
       "      <td>2019-08-05</td>\n",
       "      <td>A</td>\n",
       "      <td>756</td>\n",
       "    </tr>\n",
       "    <tr>\n",
       "      <th>5</th>\n",
       "      <td>2019-08-06</td>\n",
       "      <td>A</td>\n",
       "      <td>667</td>\n",
       "    </tr>\n",
       "    <tr>\n",
       "      <th>6</th>\n",
       "      <td>2019-08-07</td>\n",
       "      <td>A</td>\n",
       "      <td>644</td>\n",
       "    </tr>\n",
       "    <tr>\n",
       "      <th>7</th>\n",
       "      <td>2019-08-08</td>\n",
       "      <td>A</td>\n",
       "      <td>610</td>\n",
       "    </tr>\n",
       "    <tr>\n",
       "      <th>8</th>\n",
       "      <td>2019-08-09</td>\n",
       "      <td>A</td>\n",
       "      <td>617</td>\n",
       "    </tr>\n",
       "    <tr>\n",
       "      <th>9</th>\n",
       "      <td>2019-08-10</td>\n",
       "      <td>A</td>\n",
       "      <td>406</td>\n",
       "    </tr>\n",
       "  </tbody>\n",
       "</table>\n",
       "</div>"
      ],
      "text/plain": [
       "         date group  visitors\n",
       "0  2019-08-01     A       719\n",
       "1  2019-08-02     A       619\n",
       "2  2019-08-03     A       507\n",
       "3  2019-08-04     A       717\n",
       "4  2019-08-05     A       756\n",
       "5  2019-08-06     A       667\n",
       "6  2019-08-07     A       644\n",
       "7  2019-08-08     A       610\n",
       "8  2019-08-09     A       617\n",
       "9  2019-08-10     A       406"
      ]
     },
     "execution_count": 7,
     "metadata": {},
     "output_type": "execute_result"
    }
   ],
   "source": [
    "# чтение файлов с данными\n",
    "visitors = pd.read_csv('/datasets/visitors.csv')\n",
    "visitors.head(10)"
   ]
  },
  {
   "cell_type": "code",
   "execution_count": 8,
   "metadata": {},
   "outputs": [
    {
     "data": {
      "text/plain": [
       "'Получение общей информации о данных в таблице'"
      ]
     },
     "metadata": {},
     "output_type": "display_data"
    },
    {
     "name": "stdout",
     "output_type": "stream",
     "text": [
      "<class 'pandas.core.frame.DataFrame'>\n",
      "RangeIndex: 1197 entries, 0 to 1196\n",
      "Data columns (total 5 columns):\n",
      " #   Column         Non-Null Count  Dtype \n",
      "---  ------         --------------  ----- \n",
      " 0   transactionId  1197 non-null   int64 \n",
      " 1   visitorId      1197 non-null   int64 \n",
      " 2   date           1197 non-null   object\n",
      " 3   revenue        1197 non-null   int64 \n",
      " 4   group          1197 non-null   object\n",
      "dtypes: int64(3), object(2)\n",
      "memory usage: 46.9+ KB\n"
     ]
    },
    {
     "data": {
      "text/plain": [
       "None"
      ]
     },
     "metadata": {},
     "output_type": "display_data"
    },
    {
     "data": {
      "text/plain": [
       "'Подсчёт пропусков в таблице'"
      ]
     },
     "metadata": {},
     "output_type": "display_data"
    },
    {
     "data": {
      "text/plain": [
       "transactionId    0\n",
       "visitorId        0\n",
       "date             0\n",
       "revenue          0\n",
       "group            0\n",
       "dtype: int64"
      ]
     },
     "metadata": {},
     "output_type": "display_data"
    },
    {
     "data": {
      "text/plain": [
       "'Статистические показатели таблицы'"
      ]
     },
     "metadata": {},
     "output_type": "display_data"
    },
    {
     "data": {
      "text/html": [
       "<div>\n",
       "<style scoped>\n",
       "    .dataframe tbody tr th:only-of-type {\n",
       "        vertical-align: middle;\n",
       "    }\n",
       "\n",
       "    .dataframe tbody tr th {\n",
       "        vertical-align: top;\n",
       "    }\n",
       "\n",
       "    .dataframe thead th {\n",
       "        text-align: right;\n",
       "    }\n",
       "</style>\n",
       "<table border=\"1\" class=\"dataframe\">\n",
       "  <thead>\n",
       "    <tr style=\"text-align: right;\">\n",
       "      <th></th>\n",
       "      <th>transactionId</th>\n",
       "      <th>visitorId</th>\n",
       "      <th>revenue</th>\n",
       "    </tr>\n",
       "  </thead>\n",
       "  <tbody>\n",
       "    <tr>\n",
       "      <th>count</th>\n",
       "      <td>1.197000e+03</td>\n",
       "      <td>1.197000e+03</td>\n",
       "      <td>1.197000e+03</td>\n",
       "    </tr>\n",
       "    <tr>\n",
       "      <th>mean</th>\n",
       "      <td>2.155621e+09</td>\n",
       "      <td>2.165960e+09</td>\n",
       "      <td>8.348006e+03</td>\n",
       "    </tr>\n",
       "    <tr>\n",
       "      <th>std</th>\n",
       "      <td>1.229085e+09</td>\n",
       "      <td>1.236014e+09</td>\n",
       "      <td>3.919113e+04</td>\n",
       "    </tr>\n",
       "    <tr>\n",
       "      <th>min</th>\n",
       "      <td>1.062393e+06</td>\n",
       "      <td>5.114589e+06</td>\n",
       "      <td>5.000000e+01</td>\n",
       "    </tr>\n",
       "    <tr>\n",
       "      <th>25%</th>\n",
       "      <td>1.166776e+09</td>\n",
       "      <td>1.111826e+09</td>\n",
       "      <td>1.220000e+03</td>\n",
       "    </tr>\n",
       "    <tr>\n",
       "      <th>50%</th>\n",
       "      <td>2.145194e+09</td>\n",
       "      <td>2.217985e+09</td>\n",
       "      <td>2.978000e+03</td>\n",
       "    </tr>\n",
       "    <tr>\n",
       "      <th>75%</th>\n",
       "      <td>3.237740e+09</td>\n",
       "      <td>3.177606e+09</td>\n",
       "      <td>8.290000e+03</td>\n",
       "    </tr>\n",
       "    <tr>\n",
       "      <th>max</th>\n",
       "      <td>4.293856e+09</td>\n",
       "      <td>4.283872e+09</td>\n",
       "      <td>1.294500e+06</td>\n",
       "    </tr>\n",
       "  </tbody>\n",
       "</table>\n",
       "</div>"
      ],
      "text/plain": [
       "       transactionId     visitorId       revenue\n",
       "count   1.197000e+03  1.197000e+03  1.197000e+03\n",
       "mean    2.155621e+09  2.165960e+09  8.348006e+03\n",
       "std     1.229085e+09  1.236014e+09  3.919113e+04\n",
       "min     1.062393e+06  5.114589e+06  5.000000e+01\n",
       "25%     1.166776e+09  1.111826e+09  1.220000e+03\n",
       "50%     2.145194e+09  2.217985e+09  2.978000e+03\n",
       "75%     3.237740e+09  3.177606e+09  8.290000e+03\n",
       "max     4.293856e+09  4.283872e+09  1.294500e+06"
      ]
     },
     "metadata": {},
     "output_type": "display_data"
    },
    {
     "data": {
      "text/plain": [
       "'Количество строк и столбцов'"
      ]
     },
     "metadata": {},
     "output_type": "display_data"
    },
    {
     "data": {
      "text/plain": [
       "(1197, 5)"
      ]
     },
     "metadata": {},
     "output_type": "display_data"
    },
    {
     "data": {
      "text/plain": [
       "'Наличие дубликатов в таблице'"
      ]
     },
     "metadata": {},
     "output_type": "display_data"
    },
    {
     "data": {
      "text/plain": [
       "0"
      ]
     },
     "metadata": {},
     "output_type": "display_data"
    }
   ],
   "source": [
    "description(orders)"
   ]
  },
  {
   "cell_type": "code",
   "execution_count": 9,
   "metadata": {},
   "outputs": [
    {
     "name": "stdout",
     "output_type": "stream",
     "text": [
      "<class 'pandas.core.frame.DataFrame'>\n",
      "RangeIndex: 1197 entries, 0 to 1196\n",
      "Data columns (total 5 columns):\n",
      " #   Column         Non-Null Count  Dtype         \n",
      "---  ------         --------------  -----         \n",
      " 0   transactionId  1197 non-null   int64         \n",
      " 1   visitorId      1197 non-null   int64         \n",
      " 2   date           1197 non-null   datetime64[ns]\n",
      " 3   revenue        1197 non-null   int64         \n",
      " 4   group          1197 non-null   object        \n",
      "dtypes: datetime64[ns](1), int64(3), object(1)\n",
      "memory usage: 46.9+ KB\n"
     ]
    }
   ],
   "source": [
    "orders['date'] = orders['date'].map(lambda x: dt.datetime.strptime(x, '%Y-%m-%d'))\n",
    "orders.info()"
   ]
  },
  {
   "cell_type": "code",
   "execution_count": 10,
   "metadata": {},
   "outputs": [
    {
     "data": {
      "text/plain": [
       "'Получение общей информации о данных в таблице'"
      ]
     },
     "metadata": {},
     "output_type": "display_data"
    },
    {
     "name": "stdout",
     "output_type": "stream",
     "text": [
      "<class 'pandas.core.frame.DataFrame'>\n",
      "RangeIndex: 62 entries, 0 to 61\n",
      "Data columns (total 3 columns):\n",
      " #   Column    Non-Null Count  Dtype \n",
      "---  ------    --------------  ----- \n",
      " 0   date      62 non-null     object\n",
      " 1   group     62 non-null     object\n",
      " 2   visitors  62 non-null     int64 \n",
      "dtypes: int64(1), object(2)\n",
      "memory usage: 1.6+ KB\n"
     ]
    },
    {
     "data": {
      "text/plain": [
       "None"
      ]
     },
     "metadata": {},
     "output_type": "display_data"
    },
    {
     "data": {
      "text/plain": [
       "'Подсчёт пропусков в таблице'"
      ]
     },
     "metadata": {},
     "output_type": "display_data"
    },
    {
     "data": {
      "text/plain": [
       "date        0\n",
       "group       0\n",
       "visitors    0\n",
       "dtype: int64"
      ]
     },
     "metadata": {},
     "output_type": "display_data"
    },
    {
     "data": {
      "text/plain": [
       "'Статистические показатели таблицы'"
      ]
     },
     "metadata": {},
     "output_type": "display_data"
    },
    {
     "data": {
      "text/html": [
       "<div>\n",
       "<style scoped>\n",
       "    .dataframe tbody tr th:only-of-type {\n",
       "        vertical-align: middle;\n",
       "    }\n",
       "\n",
       "    .dataframe tbody tr th {\n",
       "        vertical-align: top;\n",
       "    }\n",
       "\n",
       "    .dataframe thead th {\n",
       "        text-align: right;\n",
       "    }\n",
       "</style>\n",
       "<table border=\"1\" class=\"dataframe\">\n",
       "  <thead>\n",
       "    <tr style=\"text-align: right;\">\n",
       "      <th></th>\n",
       "      <th>visitors</th>\n",
       "    </tr>\n",
       "  </thead>\n",
       "  <tbody>\n",
       "    <tr>\n",
       "      <th>count</th>\n",
       "      <td>62.000000</td>\n",
       "    </tr>\n",
       "    <tr>\n",
       "      <th>mean</th>\n",
       "      <td>607.290323</td>\n",
       "    </tr>\n",
       "    <tr>\n",
       "      <th>std</th>\n",
       "      <td>114.400560</td>\n",
       "    </tr>\n",
       "    <tr>\n",
       "      <th>min</th>\n",
       "      <td>361.000000</td>\n",
       "    </tr>\n",
       "    <tr>\n",
       "      <th>25%</th>\n",
       "      <td>534.000000</td>\n",
       "    </tr>\n",
       "    <tr>\n",
       "      <th>50%</th>\n",
       "      <td>624.500000</td>\n",
       "    </tr>\n",
       "    <tr>\n",
       "      <th>75%</th>\n",
       "      <td>710.500000</td>\n",
       "    </tr>\n",
       "    <tr>\n",
       "      <th>max</th>\n",
       "      <td>770.000000</td>\n",
       "    </tr>\n",
       "  </tbody>\n",
       "</table>\n",
       "</div>"
      ],
      "text/plain": [
       "         visitors\n",
       "count   62.000000\n",
       "mean   607.290323\n",
       "std    114.400560\n",
       "min    361.000000\n",
       "25%    534.000000\n",
       "50%    624.500000\n",
       "75%    710.500000\n",
       "max    770.000000"
      ]
     },
     "metadata": {},
     "output_type": "display_data"
    },
    {
     "data": {
      "text/plain": [
       "'Количество строк и столбцов'"
      ]
     },
     "metadata": {},
     "output_type": "display_data"
    },
    {
     "data": {
      "text/plain": [
       "(62, 3)"
      ]
     },
     "metadata": {},
     "output_type": "display_data"
    },
    {
     "data": {
      "text/plain": [
       "'Наличие дубликатов в таблице'"
      ]
     },
     "metadata": {},
     "output_type": "display_data"
    },
    {
     "data": {
      "text/plain": [
       "0"
      ]
     },
     "metadata": {},
     "output_type": "display_data"
    }
   ],
   "source": [
    "description(visitors)"
   ]
  },
  {
   "cell_type": "code",
   "execution_count": 11,
   "metadata": {},
   "outputs": [
    {
     "name": "stdout",
     "output_type": "stream",
     "text": [
      "<class 'pandas.core.frame.DataFrame'>\n",
      "RangeIndex: 62 entries, 0 to 61\n",
      "Data columns (total 3 columns):\n",
      " #   Column    Non-Null Count  Dtype         \n",
      "---  ------    --------------  -----         \n",
      " 0   date      62 non-null     datetime64[ns]\n",
      " 1   group     62 non-null     object        \n",
      " 2   visitors  62 non-null     int64         \n",
      "dtypes: datetime64[ns](1), int64(1), object(1)\n",
      "memory usage: 1.6+ KB\n"
     ]
    }
   ],
   "source": [
    "visitors['date'] = visitors['date'].map(lambda x: dt.datetime.strptime(x, '%Y-%m-%d'))\n",
    "visitors.info() "
   ]
  },
  {
   "cell_type": "markdown",
   "metadata": {},
   "source": [
    "Предварительно изучим количество заказов и уникальных пользователей в каждой из групп."
   ]
  },
  {
   "cell_type": "code",
   "execution_count": 12,
   "metadata": {},
   "outputs": [
    {
     "data": {
      "text/html": [
       "<div>\n",
       "<style scoped>\n",
       "    .dataframe tbody tr th:only-of-type {\n",
       "        vertical-align: middle;\n",
       "    }\n",
       "\n",
       "    .dataframe tbody tr th {\n",
       "        vertical-align: top;\n",
       "    }\n",
       "\n",
       "    .dataframe thead th {\n",
       "        text-align: right;\n",
       "    }\n",
       "</style>\n",
       "<table border=\"1\" class=\"dataframe\">\n",
       "  <thead>\n",
       "    <tr style=\"text-align: right;\">\n",
       "      <th></th>\n",
       "      <th>transactionId</th>\n",
       "    </tr>\n",
       "    <tr>\n",
       "      <th>group</th>\n",
       "      <th></th>\n",
       "    </tr>\n",
       "  </thead>\n",
       "  <tbody>\n",
       "    <tr>\n",
       "      <th>A</th>\n",
       "      <td>557</td>\n",
       "    </tr>\n",
       "    <tr>\n",
       "      <th>B</th>\n",
       "      <td>640</td>\n",
       "    </tr>\n",
       "  </tbody>\n",
       "</table>\n",
       "</div>"
      ],
      "text/plain": [
       "       transactionId\n",
       "group               \n",
       "A                557\n",
       "B                640"
      ]
     },
     "execution_count": 12,
     "metadata": {},
     "output_type": "execute_result"
    }
   ],
   "source": [
    "# общее количество заказов в двух группах\n",
    "orders.groupby('group').agg({'transactionId' : 'count'})"
   ]
  },
  {
   "cell_type": "code",
   "execution_count": 13,
   "metadata": {},
   "outputs": [
    {
     "data": {
      "text/html": [
       "<div>\n",
       "<style scoped>\n",
       "    .dataframe tbody tr th:only-of-type {\n",
       "        vertical-align: middle;\n",
       "    }\n",
       "\n",
       "    .dataframe tbody tr th {\n",
       "        vertical-align: top;\n",
       "    }\n",
       "\n",
       "    .dataframe thead th {\n",
       "        text-align: right;\n",
       "    }\n",
       "</style>\n",
       "<table border=\"1\" class=\"dataframe\">\n",
       "  <thead>\n",
       "    <tr style=\"text-align: right;\">\n",
       "      <th></th>\n",
       "      <th>visitorId</th>\n",
       "    </tr>\n",
       "    <tr>\n",
       "      <th>group</th>\n",
       "      <th></th>\n",
       "    </tr>\n",
       "  </thead>\n",
       "  <tbody>\n",
       "    <tr>\n",
       "      <th>A</th>\n",
       "      <td>503</td>\n",
       "    </tr>\n",
       "    <tr>\n",
       "      <th>B</th>\n",
       "      <td>586</td>\n",
       "    </tr>\n",
       "  </tbody>\n",
       "</table>\n",
       "</div>"
      ],
      "text/plain": [
       "       visitorId\n",
       "group           \n",
       "A            503\n",
       "B            586"
      ]
     },
     "execution_count": 13,
     "metadata": {},
     "output_type": "execute_result"
    }
   ],
   "source": [
    "# общее количество уникальных пользователей в двух группах\n",
    "orders.groupby('group').agg({'visitorId' : 'nunique'})"
   ]
  },
  {
   "cell_type": "code",
   "execution_count": 14,
   "metadata": {},
   "outputs": [
    {
     "data": {
      "text/plain": [
       "58"
      ]
     },
     "execution_count": 14,
     "metadata": {},
     "output_type": "execute_result"
    }
   ],
   "source": [
    "# количество уникальных пользователей, которые оказались одновременно в двух группах\n",
    "unique_visitors = orders.loc[:, ['visitorId', 'group']].drop_duplicates().drop(columns=['group'])\n",
    "unique_visitors.visitorId.duplicated().sum()"
   ]
  },
  {
   "cell_type": "markdown",
   "metadata": {},
   "source": [
    "**Вывод**\n",
    "\n",
    "В таблице 'orders', имеющей 1197 строк, содержатся следующие колонки:\n",
    "\n",
    "- transactionId — идентификатор заказа;\n",
    "- visitorId — идентификатор пользователя, совершившего заказ;\n",
    "- date — дата, когда был совершён заказ;\n",
    "- revenue — выручка заказа;\n",
    "- group — группа A/B-теста, в которую попал заказ.\n",
    "\n",
    "В таблице 'visitors', имеющей 62 строки, содержатся следующие колонки:\n",
    "\n",
    "- date — дата;\n",
    "- group — группа A/B-теста;\n",
    "- visitors — количество пользователей в указанную дату в указанной группе A/B-теста\n",
    "\n",
    "Анализ общей информации о данных в таблицах показал, что данные в колонках с датами имеют тип \"object\". В связи с чем они были преобразованы в \"datetime64\".\n",
    "\n",
    "В таблице orders минимальная выручка заказа составил 50 ед., максимальная - 1 294 500 ед. Средняя выручка - 8 348,01 ед., медиана - 2 978 ед.\n",
    "\n",
    "В таблице visitors количество пользователей за день в группе A/B-теста варьировалось от 361 до 770. Среднее число - 607,29, медиана - 624,5.\n",
    "\n",
    "Минимальная и максимальная дата в двух таблицах совпадает - 1 августа 2019 г. и 31 августа 2019 г. соответственно. Эти даты нужны будут для построения графиков.\n",
    "\n",
    "Дубликаты в таблицах не выявлены.\n",
    "\n",
    "Общее количество заказов в группах не совпадает. В группе А зафиксировано 557 заказов, в группе В - 640. Сравнение уникальных пользователей также выявило различия. В группе В на 83 уникальных пользователя больше. Кроме того, в группе А и группе В оказалось 58 пользователей одновременно. Количество пользователей в различных группах не должно превышать 1% для успешного проведения теста. Некорректное деление трафика теста влияет на качество анализа."
   ]
  },
  {
   "cell_type": "markdown",
   "metadata": {},
   "source": [
    "##### Приоритизация гипотез"
   ]
  },
  {
   "cell_type": "markdown",
   "metadata": {},
   "source": [
    "###### Применение фреймворка ICE для приоритизации гипотез. Сортировка по убыванию приоритета."
   ]
  },
  {
   "cell_type": "code",
   "execution_count": 15,
   "metadata": {},
   "outputs": [
    {
     "data": {
      "text/html": [
       "<div>\n",
       "<style scoped>\n",
       "    .dataframe tbody tr th:only-of-type {\n",
       "        vertical-align: middle;\n",
       "    }\n",
       "\n",
       "    .dataframe tbody tr th {\n",
       "        vertical-align: top;\n",
       "    }\n",
       "\n",
       "    .dataframe thead th {\n",
       "        text-align: right;\n",
       "    }\n",
       "</style>\n",
       "<table border=\"1\" class=\"dataframe\">\n",
       "  <thead>\n",
       "    <tr style=\"text-align: right;\">\n",
       "      <th></th>\n",
       "      <th>hypothesis</th>\n",
       "      <th>ICE</th>\n",
       "    </tr>\n",
       "  </thead>\n",
       "  <tbody>\n",
       "    <tr>\n",
       "      <th>8</th>\n",
       "      <td>Запустить акцию, дающую скидку на товар в день рождения</td>\n",
       "      <td>16.20</td>\n",
       "    </tr>\n",
       "    <tr>\n",
       "      <th>0</th>\n",
       "      <td>Добавить два новых канала привлечения трафика, что позволит привлекать на 30% больше пользователей</td>\n",
       "      <td>13.33</td>\n",
       "    </tr>\n",
       "    <tr>\n",
       "      <th>7</th>\n",
       "      <td>Добавить форму подписки на все основные страницы, чтобы собрать базу клиентов для email-рассылок</td>\n",
       "      <td>11.20</td>\n",
       "    </tr>\n",
       "    <tr>\n",
       "      <th>6</th>\n",
       "      <td>Показать на главной странице баннеры с актуальными акциями и распродажами, чтобы увеличить конверсию</td>\n",
       "      <td>8.00</td>\n",
       "    </tr>\n",
       "    <tr>\n",
       "      <th>2</th>\n",
       "      <td>Добавить блоки рекомендаций товаров на сайт интернет магазина, чтобы повысить конверсию и средний чек заказа</td>\n",
       "      <td>7.00</td>\n",
       "    </tr>\n",
       "    <tr>\n",
       "      <th>1</th>\n",
       "      <td>Запустить собственную службу доставки, что сократит срок доставки заказов</td>\n",
       "      <td>2.00</td>\n",
       "    </tr>\n",
       "    <tr>\n",
       "      <th>5</th>\n",
       "      <td>Добавить страницу отзывов клиентов о магазине, что позволит увеличить количество заказов</td>\n",
       "      <td>1.33</td>\n",
       "    </tr>\n",
       "    <tr>\n",
       "      <th>3</th>\n",
       "      <td>Изменить структура категорий, что увеличит конверсию, т.к. пользователи быстрее найдут нужный товар</td>\n",
       "      <td>1.12</td>\n",
       "    </tr>\n",
       "    <tr>\n",
       "      <th>4</th>\n",
       "      <td>Изменить цвет фона главной страницы, чтобы увеличить вовлеченность пользователей</td>\n",
       "      <td>1.00</td>\n",
       "    </tr>\n",
       "  </tbody>\n",
       "</table>\n",
       "</div>"
      ],
      "text/plain": [
       "                                                                                                     hypothesis  \\\n",
       "8                                                       Запустить акцию, дающую скидку на товар в день рождения   \n",
       "0            Добавить два новых канала привлечения трафика, что позволит привлекать на 30% больше пользователей   \n",
       "7              Добавить форму подписки на все основные страницы, чтобы собрать базу клиентов для email-рассылок   \n",
       "6          Показать на главной странице баннеры с актуальными акциями и распродажами, чтобы увеличить конверсию   \n",
       "2  Добавить блоки рекомендаций товаров на сайт интернет магазина, чтобы повысить конверсию и средний чек заказа   \n",
       "1                                     Запустить собственную службу доставки, что сократит срок доставки заказов   \n",
       "5                      Добавить страницу отзывов клиентов о магазине, что позволит увеличить количество заказов   \n",
       "3           Изменить структура категорий, что увеличит конверсию, т.к. пользователи быстрее найдут нужный товар   \n",
       "4                              Изменить цвет фона главной страницы, чтобы увеличить вовлеченность пользователей   \n",
       "\n",
       "     ICE  \n",
       "8  16.20  \n",
       "0  13.33  \n",
       "7  11.20  \n",
       "6   8.00  \n",
       "2   7.00  \n",
       "1   2.00  \n",
       "5   1.33  \n",
       "3   1.12  \n",
       "4   1.00  "
      ]
     },
     "execution_count": 15,
     "metadata": {},
     "output_type": "execute_result"
    }
   ],
   "source": [
    "hypothesis['ICE'] = hypothesis.impact * hypothesis.confidence / hypothesis.efforts\n",
    "hypothesis['ICE'] = round(hypothesis['ICE'], 2)\n",
    "hypothesis.loc[:, ['hypothesis', 'ICE']].sort_values(by='ICE', ascending=False)"
   ]
  },
  {
   "cell_type": "markdown",
   "metadata": {},
   "source": [
    "###### Применение фреймворка RICE для приоритизации гипотез. Сортировка по убыванию приоритета."
   ]
  },
  {
   "cell_type": "code",
   "execution_count": 16,
   "metadata": {},
   "outputs": [
    {
     "data": {
      "text/html": [
       "<div>\n",
       "<style scoped>\n",
       "    .dataframe tbody tr th:only-of-type {\n",
       "        vertical-align: middle;\n",
       "    }\n",
       "\n",
       "    .dataframe tbody tr th {\n",
       "        vertical-align: top;\n",
       "    }\n",
       "\n",
       "    .dataframe thead th {\n",
       "        text-align: right;\n",
       "    }\n",
       "</style>\n",
       "<table border=\"1\" class=\"dataframe\">\n",
       "  <thead>\n",
       "    <tr style=\"text-align: right;\">\n",
       "      <th></th>\n",
       "      <th>hypothesis</th>\n",
       "      <th>RICE</th>\n",
       "    </tr>\n",
       "  </thead>\n",
       "  <tbody>\n",
       "    <tr>\n",
       "      <th>7</th>\n",
       "      <td>Добавить форму подписки на все основные страницы, чтобы собрать базу клиентов для email-рассылок</td>\n",
       "      <td>112.0</td>\n",
       "    </tr>\n",
       "    <tr>\n",
       "      <th>2</th>\n",
       "      <td>Добавить блоки рекомендаций товаров на сайт интернет магазина, чтобы повысить конверсию и средний чек заказа</td>\n",
       "      <td>56.0</td>\n",
       "    </tr>\n",
       "    <tr>\n",
       "      <th>0</th>\n",
       "      <td>Добавить два новых канала привлечения трафика, что позволит привлекать на 30% больше пользователей</td>\n",
       "      <td>40.0</td>\n",
       "    </tr>\n",
       "    <tr>\n",
       "      <th>6</th>\n",
       "      <td>Показать на главной странице баннеры с актуальными акциями и распродажами, чтобы увеличить конверсию</td>\n",
       "      <td>40.0</td>\n",
       "    </tr>\n",
       "    <tr>\n",
       "      <th>8</th>\n",
       "      <td>Запустить акцию, дающую скидку на товар в день рождения</td>\n",
       "      <td>16.2</td>\n",
       "    </tr>\n",
       "    <tr>\n",
       "      <th>3</th>\n",
       "      <td>Изменить структура категорий, что увеличит конверсию, т.к. пользователи быстрее найдут нужный товар</td>\n",
       "      <td>9.0</td>\n",
       "    </tr>\n",
       "    <tr>\n",
       "      <th>1</th>\n",
       "      <td>Запустить собственную службу доставки, что сократит срок доставки заказов</td>\n",
       "      <td>4.0</td>\n",
       "    </tr>\n",
       "    <tr>\n",
       "      <th>5</th>\n",
       "      <td>Добавить страницу отзывов клиентов о магазине, что позволит увеличить количество заказов</td>\n",
       "      <td>4.0</td>\n",
       "    </tr>\n",
       "    <tr>\n",
       "      <th>4</th>\n",
       "      <td>Изменить цвет фона главной страницы, чтобы увеличить вовлеченность пользователей</td>\n",
       "      <td>3.0</td>\n",
       "    </tr>\n",
       "  </tbody>\n",
       "</table>\n",
       "</div>"
      ],
      "text/plain": [
       "                                                                                                     hypothesis  \\\n",
       "7              Добавить форму подписки на все основные страницы, чтобы собрать базу клиентов для email-рассылок   \n",
       "2  Добавить блоки рекомендаций товаров на сайт интернет магазина, чтобы повысить конверсию и средний чек заказа   \n",
       "0            Добавить два новых канала привлечения трафика, что позволит привлекать на 30% больше пользователей   \n",
       "6          Показать на главной странице баннеры с актуальными акциями и распродажами, чтобы увеличить конверсию   \n",
       "8                                                       Запустить акцию, дающую скидку на товар в день рождения   \n",
       "3           Изменить структура категорий, что увеличит конверсию, т.к. пользователи быстрее найдут нужный товар   \n",
       "1                                     Запустить собственную службу доставки, что сократит срок доставки заказов   \n",
       "5                      Добавить страницу отзывов клиентов о магазине, что позволит увеличить количество заказов   \n",
       "4                              Изменить цвет фона главной страницы, чтобы увеличить вовлеченность пользователей   \n",
       "\n",
       "    RICE  \n",
       "7  112.0  \n",
       "2   56.0  \n",
       "0   40.0  \n",
       "6   40.0  \n",
       "8   16.2  \n",
       "3    9.0  \n",
       "1    4.0  \n",
       "5    4.0  \n",
       "4    3.0  "
      ]
     },
     "execution_count": 16,
     "metadata": {},
     "output_type": "execute_result"
    }
   ],
   "source": [
    "hypothesis['RICE'] = hypothesis.reach * hypothesis.impact * hypothesis.confidence / hypothesis.efforts\n",
    "hypothesis.loc[:, ['hypothesis', 'RICE']].sort_values(by='RICE', ascending=False)"
   ]
  },
  {
   "cell_type": "markdown",
   "metadata": {},
   "source": [
    "**Вывод**\n",
    "\n",
    "Наиболее перспективные гипотезы по ICE:\n",
    "\n",
    "- Запустить акцию, дающую скидку на товар в день рождения\n",
    "- Добавить два новых канала привлечения трафика, что позволит привлекать на 30% больше пользователей\n",
    "- Добавить форму подписки на все основные страницы, чтобы собрать базу клиентов для email-рассылок\n",
    "- Показать на главной странице баннеры с актуальными акциями и распродажами, чтобы увеличить конверсию\n",
    "- Добавить блоки рекомендаций товаров на сайт интернет магазина, чтобы повысить конверсию и средний чек заказа\n",
    "\n",
    "Наиболее перспективные гипотезы по RICE:\n",
    "\n",
    "- Добавить форму подписки на все основные страницы, чтобы собрать базу клиентов для email-рассылок\n",
    "- Добавить блоки рекомендаций товаров на сайт интернет магазина, чтобы повысить конверсию и средний чек заказа\n",
    "- Добавить два новых канала привлечения трафика, что позволит привлекать на 30% больше пользователей\n",
    "- Показать на главной странице баннеры с актуальными акциями и распродажами, чтобы увеличить конверсию\n",
    "- Запустить акцию, дающую скидку на товар в день рождения\n",
    "\n",
    "Поскольку RICE включает в себя еще один параметр ('Reach'), то именно он оказал влияние на перестановку гипотез по степени приоритетности.\n",
    "\n",
    "Первая пятерка гипотез совпадает у ICE и RICE, но в разной последовательности. Занявшая по ICE первое место гипотеза \"Запустить акцию, дающую скидку на товар в день рождения\" опустилась на пятое место по RICE, т.к. охват у нее оказался самым низким - всего 1 балл. Это вполне логично, т.к. данная акция доступна пользователям раз в год, что существенно сужает возможности ее применения.\n",
    "\n",
    "При этом гипотеза \"Добавить форму подписки на все основные страницы, чтобы собрать базу клиентов для email-рассылок\" поднялась с третьего на первое место, т.к. затрагивает практически всех пользователей. Гипотеза по охвату набрала 10 баллов.\n",
    "\n",
    "Гипотезы фреймворка RICE, набравшие наибольшее количество баллов, являются наиболее приоритетными. Именно их рекомендуется использовать при проведении A/B-теста."
   ]
  },
  {
   "cell_type": "markdown",
   "metadata": {},
   "source": [
    "##### Анализ A/B-теста"
   ]
  },
  {
   "cell_type": "markdown",
   "metadata": {},
   "source": [
    "###### Создание графика кумулятивной выручки по группам"
   ]
  },
  {
   "cell_type": "code",
   "execution_count": 17,
   "metadata": {},
   "outputs": [],
   "source": [
    "# создание датафрейма datesGroups с уникальными парами значений 'date' и 'group', таблицы orders; удаление дубликатов\n",
    "datesGroups = orders[['date', 'group']].drop_duplicates()\n",
    "\n",
    "\n",
    "ordersAggregated = datesGroups.apply(\n",
    "    lambda x: orders[\n",
    "        np.logical_and(\n",
    "            orders['date'] <= x['date'], orders['group'] == x['group']\n",
    "        )\n",
    "    ].agg(\n",
    "        {\n",
    "            'date': 'max', # дата\n",
    "            'group': 'max', # группа A/B-теста\n",
    "            'transactionId': 'nunique', # число уникальных заказов в группе теста по указанную дату включительно\n",
    "            'visitorId': 'nunique', # число уникальных пользователей, совершивших хотя бы 1 заказ в группе теста\n",
    "            'revenue': 'sum', # суммарная выручка заказов в группе теста по указанную дату включительно\n",
    "        }\n",
    "    ),\n",
    "    axis=1,\n",
    ").sort_values(by=['date', 'group']) # сортировка по столбцам 'date', 'group'\n",
    "\n",
    "\n",
    "visitorsAggregated = datesGroups.apply(\n",
    "    lambda x: visitors[\n",
    "        np.logical_and(\n",
    "            visitors['date'] <= x['date'], visitors['group'] == x['group']\n",
    "        )\n",
    "    ].agg({'date': 'max', 'group': 'max', 'visitors': 'sum'}),\n",
    "    axis=1,\n",
    ").sort_values(by=['date', 'group'])\n",
    "\n",
    "# определение переменной по колонкам 'date', 'group' методом merge()\n",
    "cumulativeData = ordersAggregated.merge(\n",
    "    visitorsAggregated, left_on=['date', 'group'], right_on=['date', 'group']\n",
    ")\n",
    "\n",
    "# присвоение столбцам cumulativeData названия\n",
    "cumulativeData.columns = [\n",
    "    'date',\n",
    "    'group',\n",
    "    'orders',\n",
    "    'buyers',\n",
    "    'revenue',\n",
    "    'visitors',\n",
    "]\n",
    "\n",
    "\n",
    "# переменная с данными о датах, выручке и числе заказов в группе А\n",
    "cumulativeRevenueA = cumulativeData[cumulativeData['group'] == 'A'][\n",
    "    ['date', 'revenue', 'orders']\n",
    "]\n",
    "\n",
    "# переменная с данными о датах, выручке и числе заказов в группе В\n",
    "cumulativeRevenueB = cumulativeData[cumulativeData['group'] == 'B'][\n",
    "    ['date', 'revenue', 'orders']\n",
    "]"
   ]
  },
  {
   "cell_type": "code",
   "execution_count": 18,
   "metadata": {
    "scrolled": true
   },
   "outputs": [
    {
     "data": {
      "image/png": "[encoded data removed]",
      "text/plain": [
       "<Figure size 1224x432 with 1 Axes>"
      ]
     },
     "metadata": {
      "needs_background": "light"
     },
     "output_type": "display_data"
    }
   ],
   "source": [
    "# график кумулятивной выручки по группам\n",
    "plt.figure(figsize=(17, 6))\n",
    "# строим график выручки группы А\n",
    "plt.plot(cumulativeRevenueA['date'], cumulativeRevenueA['revenue'], label='A')\n",
    "\n",
    "# строим график выручки группы B\n",
    "plt.plot(cumulativeRevenueB['date'], cumulativeRevenueB['revenue'], label='B')\n",
    "\n",
    "# размер шрифта по оси x\n",
    "\n",
    "plt.tick_params(axis='x', which='major', labelsize=13)\n",
    "\n",
    "plt.title('График кумулятивной выручки по группам')\n",
    "plt.xlabel('Дата')\n",
    "plt.legend();"
   ]
  },
  {
   "cell_type": "markdown",
   "metadata": {},
   "source": [
    "Сегмент В с минимальным отрывом лидировал практически весь тест, а в определенные дни был на одном уровне с сегментом А. Но с 18 августа выручка у сегмента В резко подскочила вверх, по-видимому, количество заказов и/или очень дорогих товаров в заказах у данного сегмента значительно выросло. Выручка сегмента А росла практически равномерно весь месяц."
   ]
  },
  {
   "cell_type": "markdown",
   "metadata": {},
   "source": [
    "###### Создание графика кумулятивного среднего чека по группам"
   ]
  },
  {
   "cell_type": "code",
   "execution_count": 19,
   "metadata": {},
   "outputs": [
    {
     "data": {
      "image/png": "[encoded data removed]",
      "text/plain": [
       "<Figure size 1224x432 with 1 Axes>"
      ]
     },
     "metadata": {
      "needs_background": "light"
     },
     "output_type": "display_data"
    }
   ],
   "source": [
    "plt.figure(figsize=(17, 6))\n",
    "# график среднего чека группы А\n",
    "plt.plot(cumulativeRevenueA['date'], cumulativeRevenueA['revenue']/cumulativeRevenueA['orders'], label='A')\n",
    "\n",
    "# график среднего чека группы В\n",
    "plt.plot(cumulativeRevenueB['date'], cumulativeRevenueB['revenue']/cumulativeRevenueB['orders'], label='B')\n",
    "\n",
    "# размер шрифта по оси x\n",
    "plt.tick_params(axis='x', which='major', labelsize=13)\n",
    "\n",
    "plt.title('График кумулятивного среднего чека по группам')\n",
    "plt.xlabel('Дата')\n",
    "plt.legend();"
   ]
  },
  {
   "cell_type": "markdown",
   "metadata": {},
   "source": [
    "Кумулятивное значение среднего чека к середине месяца выросло по двум сегментам, а затем немного снизилось. В сегменте А, в отличие от сегмента В, к концу месяца средний чек почти сравнялся с максимальным значением, достигнутым 13 августа. Но наиболее примечательно то, что 18 - 19 августа у сегмента В выявлен аномальный рост среднего чека. Скорее всего, были чрезмерно крупные заказы, которые могут влиять на результаты."
   ]
  },
  {
   "cell_type": "markdown",
   "metadata": {},
   "source": [
    "###### Создание графика относительного изменения кумулятивного среднего чека группы B к группе A"
   ]
  },
  {
   "cell_type": "code",
   "execution_count": 20,
   "metadata": {},
   "outputs": [
    {
     "data": {
      "text/plain": [
       "Text(0.5, 0, 'Дата')"
      ]
     },
     "execution_count": 20,
     "metadata": {},
     "output_type": "execute_result"
    },
    {
     "data": {
      "image/png": "[encoded data removed]",
      "text/plain": [
       "<Figure size 1224x432 with 1 Axes>"
      ]
     },
     "metadata": {
      "needs_background": "light"
     },
     "output_type": "display_data"
    }
   ],
   "source": [
    "mergedCumulativeRevenue  = cumulativeRevenueA.merge(cumulativeRevenueB, \n",
    "                                                    left_on='date', \n",
    "                                                    right_on='date', \n",
    "                                                    how='left', \n",
    "                                                    suffixes=['A', 'B'])\n",
    "\n",
    "plt.figure(figsize=(17, 6))\n",
    "# cтроим отношение средних чеков\n",
    "plt.plot(mergedCumulativeRevenue['date'], \n",
    "        (mergedCumulativeRevenue['revenueB']/mergedCumulativeRevenue['ordersB'])\n",
    "         /(mergedCumulativeRevenue['revenueA']/mergedCumulativeRevenue['ordersA'])-1);\n",
    "\n",
    "# добавляем ось X\n",
    "plt.axhline(y=0, color='black', linestyle='--');\n",
    "\n",
    "# размер шрифта по оси x\n",
    "plt.tick_params(axis='x', which='major', labelsize=13)\n",
    "\n",
    "plt.title('График относительного изменения кумулятивного среднего чека группы B к группе A')\n",
    "plt.xlabel('Дата')"
   ]
  },
  {
   "cell_type": "markdown",
   "metadata": {},
   "source": [
    "Результаты теста значительно и резко менялись в несколько дат. В одну из дат как раз и были совершены аномальные заказы сегментом В."
   ]
  },
  {
   "cell_type": "markdown",
   "metadata": {},
   "source": [
    "###### Создание графика кумулятивной конверсии по группам"
   ]
  },
  {
   "cell_type": "code",
   "execution_count": 21,
   "metadata": {},
   "outputs": [
    {
     "data": {
      "text/plain": [
       "Text(0.5, 0, 'Дата')"
      ]
     },
     "execution_count": 21,
     "metadata": {},
     "output_type": "execute_result"
    },
    {
     "data": {
      "image/png": "[encoded data removed]",
      "text/plain": [
       "<Figure size 1224x432 with 1 Axes>"
      ]
     },
     "metadata": {
      "needs_background": "light"
     },
     "output_type": "display_data"
    }
   ],
   "source": [
    "# считаем кумулятивную конверсию\n",
    "cumulativeData['conversion'] = cumulativeData['orders']/cumulativeData['visitors']\n",
    "\n",
    "# отделяем данные по группе A\n",
    "cumulativeDataA = cumulativeData[cumulativeData['group']=='A']\n",
    "\n",
    "# отделяем данные по группе B\n",
    "cumulativeDataB = cumulativeData[cumulativeData['group']=='B']\n",
    "\n",
    "plt.figure(figsize=(17, 6))\n",
    "# строим графики\n",
    "plt.plot(cumulativeDataA['date'], cumulativeDataA['conversion'], label='A')\n",
    "plt.plot(cumulativeDataB['date'], cumulativeDataB['conversion'], label='B')\n",
    "plt.legend()\n",
    "\n",
    "# размер шрифта по оси x\n",
    "plt.tick_params(axis='x', which='major', labelsize=13)\n",
    "\n",
    "# задаем масштаб осей\n",
    "plt.axis([dt.datetime(2019, 8, 1), dt.datetime(2019, 9, 1), 0.025, 0.04])\n",
    "\n",
    "plt.title('График кумулятивной конверсии по группам')\n",
    "plt.xlabel('Дата')"
   ]
  },
  {
   "cell_type": "markdown",
   "metadata": {},
   "source": [
    "Абсолютное значение колебания варьируется в небольшом диапазоне - от 2,9% до 3,7%. В начале конверсия у сегмента В была больше сегмента А, но затем конверсия сегмента В немного выросла, а сегмента А снизилась. К 11 августу конверсия у обоих сегментов зафиксировалась и оставалась примерно на одном уровне до конца месяца. В целом, конверсия у группы В оказалась лучше группы А."
   ]
  },
  {
   "cell_type": "markdown",
   "metadata": {},
   "source": [
    "###### Создание графика относительного изменения кумулятивной конверсии группы B к группе A"
   ]
  },
  {
   "cell_type": "code",
   "execution_count": 22,
   "metadata": {
    "scrolled": false
   },
   "outputs": [
    {
     "data": {
      "text/plain": [
       "Text(0.5, 0, 'Дата')"
      ]
     },
     "execution_count": 22,
     "metadata": {},
     "output_type": "execute_result"
    },
    {
     "data": {
      "image/png": "[encoded data removed]",
      "text/plain": [
       "<Figure size 1224x432 with 1 Axes>"
      ]
     },
     "metadata": {
      "needs_background": "light"
     },
     "output_type": "display_data"
    }
   ],
   "source": [
    "mergedCumulativeConversions = cumulativeDataA[['date','conversion']].merge(cumulativeDataB[['date','conversion']], \n",
    "                                                                           left_on='date', \n",
    "                                                                           right_on='date', \n",
    "                                                                           how='left', \n",
    "                                                                           suffixes=['A', 'B'])\n",
    "\n",
    "plt.figure(figsize=(17, 6))\n",
    "plt.plot(mergedCumulativeConversions['date'], \n",
    "         mergedCumulativeConversions['conversionB']/mergedCumulativeConversions['conversionA']-1, \n",
    "         label=\"Относительный прирост конверсии группы B относительно группы A\")\n",
    "plt.legend()\n",
    "\n",
    "plt.axhline(y=0, color='black', linestyle='--')\n",
    "plt.axhline(y=0.2, color='grey', linestyle='--')\n",
    "plt.tick_params(axis='x', which='major', labelsize=13)\n",
    "\n",
    "plt.title('График относительного изменения кумулятивной конверсии группы B к группе A')\n",
    "plt.xlabel('Дата')"
   ]
  },
  {
   "cell_type": "markdown",
   "metadata": {},
   "source": [
    "В начале теста группа В в основном проигрывала группе А, но с 6 августа окончательно вырвалась вперед. С 8 августа прирост колебался от 10 до 20%, постепенно снижаясь к концу месяца."
   ]
  },
  {
   "cell_type": "markdown",
   "metadata": {},
   "source": [
    "###### Создание точечного графика количества заказов по пользователям"
   ]
  },
  {
   "cell_type": "code",
   "execution_count": 23,
   "metadata": {},
   "outputs": [
    {
     "name": "stdout",
     "output_type": "stream",
     "text": [
      "       visitorId  orders\n",
      "1023  4256040402      11\n",
      "591   2458001652      11\n",
      "569   2378935119       9\n",
      "487   2038680547       8\n",
      "44     199603092       5\n",
      "744   3062433592       5\n",
      "55     237748145       5\n",
      "917   3803269165       5\n",
      "299   1230306981       5\n",
      "897   3717692402       5\n"
     ]
    },
    {
     "data": {
      "text/plain": [
       "Text(0, 0.5, 'Количество заказов')"
      ]
     },
     "execution_count": 23,
     "metadata": {},
     "output_type": "execute_result"
    },
    {
     "data": {
      "image/png": "[encoded data removed]",
      "text/plain": [
       "<Figure size 1224x432 with 1 Axes>"
      ]
     },
     "metadata": {
      "needs_background": "light"
     },
     "output_type": "display_data"
    }
   ],
   "source": [
    "ordersByUsers = (\n",
    "    orders.groupby('visitorId', as_index=False)\n",
    "    .agg({'transactionId': pd.Series.nunique})\n",
    ")\n",
    "ordersByUsers.columns = ['visitorId', 'orders']\n",
    "\n",
    "print(ordersByUsers.sort_values(by='orders', ascending=False).head(10))\n",
    "\n",
    "# серия из чисел от 0 до количества наблюдений в ordersByUsers\n",
    "x_values = pd.Series(range(0, len(ordersByUsers)))\n",
    "plt.figure(figsize=(17, 6))\n",
    "plt.scatter(x_values, ordersByUsers['orders']);\n",
    "\n",
    "plt.title('Точечный график количества заказов по пользователям')\n",
    "plt.ylabel('Количество заказов')"
   ]
  },
  {
   "cell_type": "markdown",
   "metadata": {},
   "source": [
    "Пользователей, которые сделали более двух заказов, крайне мало. Есть определенное количество пользователей, которые сделали два заказа. Но для того, чтобы оценить, насколько много это, необходимо посчитать выборочные перцентили."
   ]
  },
  {
   "cell_type": "markdown",
   "metadata": {},
   "source": [
    "###### Расчет 95-й и 99-й перцентилей количества заказов на пользователя. Выбор границы для определения аномальных пользователей"
   ]
  },
  {
   "cell_type": "code",
   "execution_count": 24,
   "metadata": {},
   "outputs": [
    {
     "name": "stdout",
     "output_type": "stream",
     "text": [
      "[2. 4.]\n"
     ]
    }
   ],
   "source": [
    "print(np.percentile(ordersByUsers['orders'], [95, 99]))"
   ]
  },
  {
   "cell_type": "markdown",
   "metadata": {},
   "source": [
    "Не более 5% пользователей совершали больше двух заказов. И не более 1% пользователей - больше 4 заказов. Целесообразно выбрать 2 заказа на одного пользователя за нижнюю границу числа заказов, и отсеять аномальных пользователей по ней."
   ]
  },
  {
   "cell_type": "markdown",
   "metadata": {},
   "source": [
    "###### Создание точечныого графика стоимостей заказов"
   ]
  },
  {
   "cell_type": "code",
   "execution_count": 25,
   "metadata": {},
   "outputs": [
    {
     "name": "stdout",
     "output_type": "stream",
     "text": [
      "      transactionId   visitorId       date  revenue group\n",
      "425       590470918  1920142716 2019-08-19  1294500     B\n",
      "1196     3936777065  2108080724 2019-08-15   202740     B\n",
      "858       192721366  1316129916 2019-08-27    93940     A\n",
      "1136      666610489  1307669133 2019-08-13    92550     A\n",
      "744      3668308183   888512513 2019-08-27    86620     B\n",
      "682      1216533772  4266935830 2019-08-29    78990     B\n",
      "662      1811671147  4266935830 2019-08-29    78990     A\n",
      "743      3603576309  4133034833 2019-08-09    67990     A\n",
      "1103     1348774318  1164614297 2019-08-12    66350     A\n",
      "1099      316924019   148427295 2019-08-12    65710     A\n"
     ]
    },
    {
     "data": {
      "text/plain": [
       "Text(0, 0.5, 'Стоимость заказа в млн ед.')"
      ]
     },
     "execution_count": 25,
     "metadata": {},
     "output_type": "execute_result"
    },
    {
     "data": {
      "image/png": "[encoded data removed]",
      "text/plain": [
       "<Figure size 1224x432 with 1 Axes>"
      ]
     },
     "metadata": {
      "needs_background": "light"
     },
     "output_type": "display_data"
    }
   ],
   "source": [
    "print(orders.sort_values(by='revenue', ascending=False).head(10))\n",
    "\n",
    "plt.figure(figsize=(17, 6))\n",
    "x_values = pd.Series(range(0, len(orders['revenue'])))\n",
    "plt.scatter(x_values, orders['revenue']);\n",
    "plt.title('Точечный график стоимостей заказов')\n",
    "plt.ylabel('Стоимость заказа в млн ед.')"
   ]
  },
  {
   "cell_type": "markdown",
   "metadata": {},
   "source": [
    "На графике зафиксирован самый крупный заказ на сумму 1 294 500 ед. Данный заказ является крайне аномальным в сравнении с другими заказами. Далее виден заказ в размере 202 740 ед. Все остальные заказы ниже 93 940 ед."
   ]
  },
  {
   "cell_type": "markdown",
   "metadata": {},
   "source": [
    "###### Расчет 95-й и 99-й перцентилей стоимости заказов. Выбор границы для определения аномальных заказов"
   ]
  },
  {
   "cell_type": "code",
   "execution_count": 26,
   "metadata": {},
   "outputs": [
    {
     "name": "stdout",
     "output_type": "stream",
     "text": [
      "[28000.  58233.2]\n"
     ]
    }
   ],
   "source": [
    "print(np.percentile(orders['revenue'], [95, 99])) "
   ]
  },
  {
   "cell_type": "markdown",
   "metadata": {},
   "source": [
    "Не более, чем у 5% пользователей чек дороже 28 тыс. ед. Не больше, чем у 1% - дороже 58 233,2 ед. Границей для определения аномальных заказов следует обозначить 28 тыс. ед."
   ]
  },
  {
   "cell_type": "markdown",
   "metadata": {},
   "source": [
    "###### Расчет статистической значимости различий в конверсии между группами по «сырым» данным"
   ]
  },
  {
   "cell_type": "markdown",
   "metadata": {},
   "source": [
    "Нулевая гипотеза: различий в конверсии между группами нет.\n",
    "\n",
    "Альтернативная гипотеза: различия в конверсии между группами есть."
   ]
  },
  {
   "cell_type": "markdown",
   "metadata": {},
   "source": [
    "<div class=\"alert alert-success\">\n",
    "<h2> Комментарий ревьюера <a class=\"tocSkip\"> </h2>\n",
    "\n",
    "<b>Отлично!✅:</b> Гипотезы сформулированы верно!\n",
    "</div>"
   ]
  },
  {
   "cell_type": "code",
   "execution_count": 27,
   "metadata": {},
   "outputs": [
    {
     "name": "stdout",
     "output_type": "stream",
     "text": [
      "Значение P-value : 0.01679\n",
      "Oтносительное различие между сегментами : 0.138\n"
     ]
    }
   ],
   "source": [
    "visitorsADaily = visitors[visitors['group'] == 'A'][['date', 'visitors']]\n",
    "visitorsADaily.columns = ['date', 'visitorsPerDateA']\n",
    "\n",
    "visitorsACummulative = visitorsADaily.apply(\n",
    "    lambda x: visitorsADaily[visitorsADaily['date'] <= x['date']].agg(\n",
    "        {'date': 'max', 'visitorsPerDateA': 'sum'}\n",
    "    ),\n",
    "    axis=1,\n",
    ")\n",
    "visitorsACummulative.columns = ['date', 'visitorsCummulativeA']\n",
    "\n",
    "visitorsBDaily = visitors[visitors['group'] == 'B'][['date', 'visitors']]\n",
    "visitorsBDaily.columns = ['date', 'visitorsPerDateB']\n",
    "\n",
    "visitorsBCummulative = visitorsBDaily.apply(\n",
    "    lambda x: visitorsBDaily[visitorsBDaily['date'] <= x['date']].agg(\n",
    "        {'date': 'max', 'visitorsPerDateB': 'sum'}\n",
    "    ),\n",
    "    axis=1,\n",
    ")\n",
    "visitorsBCummulative.columns = ['date', 'visitorsCummulativeB']\n",
    "\n",
    "ordersADaily = (\n",
    "    orders[orders['group'] == 'A'][['date', 'transactionId', 'visitorId', 'revenue']]\n",
    "    .groupby('date', as_index=False)\n",
    "    .agg({'transactionId': pd.Series.nunique, 'revenue': 'sum'})\n",
    ")\n",
    "ordersADaily.columns = ['date', 'ordersPerDateA', 'revenuePerDateA']\n",
    "\n",
    "ordersACummulative = ordersADaily.apply(\n",
    "    lambda x: ordersADaily[ordersADaily['date'] <= x['date']].agg(\n",
    "        {'date': 'max', 'ordersPerDateA': 'sum', 'revenuePerDateA': 'sum'}\n",
    "    ),\n",
    "    axis=1,\n",
    ").sort_values(by=['date'])\n",
    "ordersACummulative.columns = [\n",
    "    'date',\n",
    "    'ordersCummulativeA',\n",
    "    'revenueCummulativeA',\n",
    "]\n",
    "\n",
    "ordersBDaily = (\n",
    "    orders[orders['group'] == 'B'][['date', 'transactionId', 'visitorId', 'revenue']]\n",
    "    .groupby('date', as_index=False)\n",
    "    .agg({'transactionId': pd.Series.nunique, 'revenue': 'sum'})\n",
    ")\n",
    "ordersBDaily.columns = ['date', 'ordersPerDateB', 'revenuePerDateB']\n",
    "\n",
    "ordersBCummulative = ordersBDaily.apply(\n",
    "    lambda x: ordersBDaily[ordersBDaily['date'] <= x['date']].agg(\n",
    "        {'date': 'max', 'ordersPerDateB': 'sum', 'revenuePerDateB': 'sum'}\n",
    "    ),\n",
    "    axis=1,\n",
    ").sort_values(by=['date'])\n",
    "ordersBCummulative.columns = [\n",
    "    'date',\n",
    "    'ordersCummulativeB',\n",
    "    'revenueCummulativeB',\n",
    "]\n",
    "\n",
    "data = (\n",
    "    ordersADaily.merge(\n",
    "        ordersBDaily, left_on='date', right_on='date', how='left'\n",
    "    )\n",
    "    .merge(ordersACummulative, left_on='date', right_on='date', how='left')\n",
    "    .merge(ordersBCummulative, left_on='date', right_on='date', how='left')\n",
    "    .merge(visitorsADaily, left_on='date', right_on='date', how='left')\n",
    "    .merge(visitorsBDaily, left_on='date', right_on='date', how='left')\n",
    "    .merge(visitorsACummulative, left_on='date', right_on='date', how='left')\n",
    "    .merge(visitorsBCummulative, left_on='date', right_on='date', how='left')\n",
    ")\n",
    "\n",
    "# для пользователей, совершивших хотя бы 1 заказ, будет указано число заказов\n",
    "ordersByUsersA = (\n",
    "    orders[orders['group'] == 'A']\n",
    "    .groupby('visitorId', as_index=False)\n",
    "    .agg({'transactionId': pd.Series.nunique})\n",
    ")\n",
    "ordersByUsersA.columns = ['userId', 'orders']\n",
    "\n",
    "ordersByUsersB = (\n",
    "    orders[orders['group'] == 'B']\n",
    "    .groupby('visitorId', as_index=False)\n",
    "    .agg({'transactionId': pd.Series.nunique})\n",
    ")\n",
    "ordersByUsersB.columns = ['userId', 'orders'] \n",
    "\n",
    "# пользователям с заказами будет соответствовать число заказов пользователя, а пользователям без заказов — нули\n",
    "sampleA = pd.concat([ordersByUsersA['orders'],pd.Series(0, index=np.arange(data['visitorsPerDateA'].sum() - len(ordersByUsersA['orders'])), name='orders')],axis=0)\n",
    "\n",
    "sampleB = pd.concat([ordersByUsersB['orders'],pd.Series(0, index=np.arange(data['visitorsPerDateB'].sum() - len(ordersByUsersB['orders'])), name='orders')],axis=0)\n",
    "\n",
    "print('Значение P-value : '\"{0:.5f}\".format(stats.mannwhitneyu(sampleA, sampleB)[1]))\n",
    "\n",
    "print('Oтносительное различие между сегментами : '\"{0:.3f}\".format(sampleB.mean() / sampleA.mean() - 1))"
   ]
  },
  {
   "cell_type": "markdown",
   "metadata": {},
   "source": [
    "Первое число — p-value = 0.01679 меньше 0.05. Значит, нулевую гипотезу о том, что статистически значимых различий в конверсии между группами нет, отвергаем. Относительный прирост конверсии группы В к конверсии группы А равен 13,8%."
   ]
  },
  {
   "cell_type": "markdown",
   "metadata": {},
   "source": [
    "###### Расчет статистической значимости различий в среднем чеке заказа между группами по «сырым» данным"
   ]
  },
  {
   "cell_type": "markdown",
   "metadata": {},
   "source": [
    "Нулевая гипотеза: различий в среднем чеке между группами нет.\n",
    "\n",
    "Альтернативная гипотеза: различия в среднем чеке между группами есть."
   ]
  },
  {
   "cell_type": "code",
   "execution_count": 28,
   "metadata": {},
   "outputs": [
    {
     "name": "stdout",
     "output_type": "stream",
     "text": [
      "Значение P-value : 0.729\n",
      "Oтносительное различие между сегментами : 0.259\n"
     ]
    }
   ],
   "source": [
    "print('Значение P-value : ''{0:.3f}'.format(stats.mannwhitneyu(orders[orders['group']=='A']['revenue'], \n",
    "                                          orders[orders['group']=='B']['revenue'])[1]))\n",
    "print('Oтносительное различие между сегментами : ''{0:.3f}'.format(orders[orders['group']=='B']['revenue']\n",
    "                       .mean()/orders[orders['group']=='A']['revenue']\n",
    "                       .mean()-1)) "
   ]
  },
  {
   "cell_type": "markdown",
   "metadata": {},
   "source": [
    "P-value гораздо больше 0,05 - статистически значимых отличий в среднем чеке между группами нет. Относительное различие среднего чека между сегментами - 25,9%."
   ]
  },
  {
   "cell_type": "markdown",
   "metadata": {},
   "source": [
    "###### Расчет статистической значимости различий в конверсии между группами по «очищенным» данным"
   ]
  },
  {
   "cell_type": "code",
   "execution_count": 29,
   "metadata": {},
   "outputs": [],
   "source": [
    "# срезы пользователей\n",
    "usersWithManyOrders = pd.concat(\n",
    "    [\n",
    "        ordersByUsersA[ordersByUsersA['orders'] > 2]['userId'],\n",
    "        ordersByUsersB[ordersByUsersB['orders'] > 2]['userId'],\n",
    "    ],\n",
    "    axis=0,\n",
    ")\n",
    "\n",
    "# срезы пользователей\n",
    "usersWithExpensiveOrders = orders[orders['revenue'] > 28000]['visitorId']\n",
    "abnormalUsers = (\n",
    "    pd.concat([usersWithManyOrders, usersWithExpensiveOrders], axis=0)\n",
    "    .drop_duplicates()\n",
    "    .sort_values()\n",
    ")"
   ]
  },
  {
   "cell_type": "code",
   "execution_count": 30,
   "metadata": {},
   "outputs": [
    {
     "name": "stdout",
     "output_type": "stream",
     "text": [
      "Значение P-value : 0.01304\n",
      "Oтносительное различие между сегментами : 0.173\n"
     ]
    }
   ],
   "source": [
    "sampleAFiltered = pd.concat(\n",
    "    [\n",
    "        ordersByUsersA[\n",
    "            np.logical_not(ordersByUsersA['userId'].isin(abnormalUsers))\n",
    "        ]['orders'],\n",
    "        pd.Series(\n",
    "            0,\n",
    "            index=np.arange(\n",
    "                data['visitorsPerDateA'].sum() - len(ordersByUsersA['orders'])\n",
    "            ),\n",
    "            name='orders',\n",
    "        ),\n",
    "    ],\n",
    "    axis=0,\n",
    ")\n",
    "\n",
    "sampleBFiltered = pd.concat(\n",
    "    [\n",
    "        ordersByUsersB[\n",
    "            np.logical_not(ordersByUsersB['userId'].isin(abnormalUsers))\n",
    "        ]['orders'],\n",
    "        pd.Series(\n",
    "            0,\n",
    "            index=np.arange(\n",
    "                data['visitorsPerDateB'].sum() - len(ordersByUsersB['orders'])\n",
    "            ),\n",
    "            name='orders',\n",
    "        ),\n",
    "    ],\n",
    "    axis=0,\n",
    ")\n",
    "\n",
    "print('Значение P-value : ''{0:.5f}'.format(stats.mannwhitneyu(sampleAFiltered, sampleBFiltered)[1]))\n",
    "print('Oтносительное различие между сегментами : ''{0:.3f}'.format(sampleBFiltered.mean()/sampleAFiltered.mean()-1)) "
   ]
  },
  {
   "cell_type": "markdown",
   "metadata": {},
   "source": [
    "За аномальных пользователей были приняты те, кто совершил 3 заказа и более, или совершил заказ на сумму свыше 28 000 ед. Как и в случае с сырыми данными, p-value не превысил 0,05, а значит, нулевую гипотезу отвергаем. Сегмент В оказался лучше по конверсии на 17,3%, еще лучше, чем до \"очистки\" данных."
   ]
  },
  {
   "cell_type": "markdown",
   "metadata": {},
   "source": [
    "###### Расчет статистической значимости различий в среднем чеке заказа между группами по «очищенным» данным"
   ]
  },
  {
   "cell_type": "code",
   "execution_count": 31,
   "metadata": {},
   "outputs": [
    {
     "name": "stdout",
     "output_type": "stream",
     "text": [
      "Значение P-value : 0.738\n",
      "Oтносительное различие между сегментами : -0.020\n"
     ]
    }
   ],
   "source": [
    "print('Значение P-value : '\n",
    "    '{0:.3f}'.format(\n",
    "        stats.mannwhitneyu(\n",
    "            orders[\n",
    "                np.logical_and(\n",
    "                    orders['group'] == 'A',\n",
    "                    np.logical_not(orders['visitorId'].isin(abnormalUsers)),\n",
    "                )\n",
    "            ]['revenue'],\n",
    "            orders[\n",
    "                np.logical_and(\n",
    "                    orders['group'] == 'B',\n",
    "                    np.logical_not(orders['visitorId'].isin(abnormalUsers)),\n",
    "                )\n",
    "            ]['revenue'],\n",
    "        )[1]\n",
    "    )\n",
    ")\n",
    "\n",
    "print('Oтносительное различие между сегментами : '\n",
    "    \"{0:.3f}\".format(\n",
    "        orders[\n",
    "            np.logical_and(\n",
    "                orders['group'] == 'B',\n",
    "                np.logical_not(orders['visitorId'].isin(abnormalUsers)),\n",
    "            )\n",
    "        ]['revenue'].mean()\n",
    "        / orders[\n",
    "            np.logical_and(\n",
    "                orders['group'] == 'A',\n",
    "                np.logical_not(orders['visitorId'].isin(abnormalUsers)),\n",
    "            )\n",
    "        ]['revenue'].mean()\n",
    "        - 1\n",
    "    )\n",
    ")"
   ]
  },
  {
   "cell_type": "markdown",
   "metadata": {},
   "source": [
    "P-value оказался примерно на том же уровне - 0,738, как и с сырыми данными, т.е. нулевую гипотезу мы не можем отвергнуть. А вот средний чек у сегмента В снизился настолько, что сегмент А стал превосходить В, но всего лишь на 2%. После \"очистки\" данных, удаления выбросов разница в среднем чеке между двумя группами сократилась до минимума."
   ]
  },
  {
   "cell_type": "markdown",
   "metadata": {},
   "source": [
    "##### Вывод:\n",
    "График различия конверсии между группами сообщает, что результаты группы B лучше группы A: зафиксировались около среднего значения.\n",
    "\n",
    "График различия среднего чека сильно колеблется, что свидетельствует о наличии аномалиий.\n",
    "\n",
    "По итогам теста выявлено статистически значимое различие по конверсии между группами как по «сырым», так и по данным после фильтрации аномалий, а вот статистически значимых различий по среднему чеку не были зафиксированы в обоих случаях.\n",
    "\n",
    "Исходя из обнаруженных фактов, тест следует остановить и зафиксировать победу группы В, результаты по конверсии которой оказались лучше группы А на 13,8% и 17,3% до и после \"очистки\" данных соответственно."
   ]
  }
 ],
 "metadata": {
  "ExecuteTimeLog": [
   {
    "duration": 1424,
    "start_time": "2024-04-26T09:59:24.418Z"
   },
   {
    "duration": 100,
    "start_time": "2024-04-26T10:00:00.326Z"
   },
   {
    "duration": 4,
    "start_time": "2024-04-26T10:00:18.310Z"
   },
   {
    "duration": 44,
    "start_time": "2024-04-26T10:00:23.046Z"
   },
   {
    "duration": 101,
    "start_time": "2024-04-26T10:01:45.693Z"
   },
   {
    "duration": 78,
    "start_time": "2024-04-26T10:01:53.149Z"
   },
   {
    "duration": 4,
    "start_time": "2024-04-26T10:02:18.901Z"
   },
   {
    "duration": 108,
    "start_time": "2024-04-26T10:04:50.444Z"
   },
   {
    "duration": 1195,
    "start_time": "2024-04-26T10:04:57.225Z"
   },
   {
    "duration": 38,
    "start_time": "2024-04-26T10:04:58.423Z"
   },
   {
    "duration": 5,
    "start_time": "2024-04-26T10:04:58.463Z"
   },
   {
    "duration": 60,
    "start_time": "2024-04-26T10:04:58.470Z"
   },
   {
    "duration": 45,
    "start_time": "2024-04-26T10:04:58.533Z"
   },
   {
    "duration": 21,
    "start_time": "2024-04-26T10:04:58.580Z"
   },
   {
    "duration": 43,
    "start_time": "2024-04-26T10:04:58.603Z"
   },
   {
    "duration": 14,
    "start_time": "2024-04-26T10:05:42.052Z"
   },
   {
    "duration": 29,
    "start_time": "2024-04-26T10:05:55.067Z"
   },
   {
    "duration": 12,
    "start_time": "2024-04-26T10:06:15.147Z"
   },
   {
    "duration": 499,
    "start_time": "2024-04-26T10:06:27.858Z"
   },
   {
    "duration": 1211,
    "start_time": "2024-04-26T10:06:45.203Z"
   },
   {
    "duration": 40,
    "start_time": "2024-04-26T10:06:46.416Z"
   },
   {
    "duration": 5,
    "start_time": "2024-04-26T10:06:46.458Z"
   },
   {
    "duration": 46,
    "start_time": "2024-04-26T10:06:46.465Z"
   },
   {
    "duration": 45,
    "start_time": "2024-04-26T10:06:46.513Z"
   },
   {
    "duration": 21,
    "start_time": "2024-04-26T10:06:46.559Z"
   },
   {
    "duration": 49,
    "start_time": "2024-04-26T10:06:46.582Z"
   },
   {
    "duration": 21,
    "start_time": "2024-04-26T10:06:46.632Z"
   },
   {
    "duration": 63,
    "start_time": "2024-04-26T10:06:46.654Z"
   },
   {
    "duration": 12,
    "start_time": "2024-04-26T10:06:46.719Z"
   },
   {
    "duration": 109,
    "start_time": "2024-04-26T10:09:27.714Z"
   },
   {
    "duration": 1354,
    "start_time": "2024-04-26T10:09:32.427Z"
   },
   {
    "duration": 37,
    "start_time": "2024-04-26T10:09:33.782Z"
   },
   {
    "duration": 5,
    "start_time": "2024-04-26T10:09:33.821Z"
   },
   {
    "duration": 53,
    "start_time": "2024-04-26T10:09:33.828Z"
   },
   {
    "duration": 44,
    "start_time": "2024-04-26T10:09:33.883Z"
   },
   {
    "duration": 20,
    "start_time": "2024-04-26T10:09:33.929Z"
   },
   {
    "duration": 49,
    "start_time": "2024-04-26T10:09:33.951Z"
   },
   {
    "duration": 31,
    "start_time": "2024-04-26T10:09:34.002Z"
   },
   {
    "duration": 57,
    "start_time": "2024-04-26T10:09:34.035Z"
   },
   {
    "duration": 16,
    "start_time": "2024-04-26T10:09:34.094Z"
   },
   {
    "duration": 186,
    "start_time": "2024-04-26T10:09:34.112Z"
   },
   {
    "duration": 17,
    "start_time": "2024-04-26T10:09:49.563Z"
   },
   {
    "duration": 11,
    "start_time": "2024-04-26T10:10:06.572Z"
   },
   {
    "duration": 68,
    "start_time": "2024-04-26T10:13:17.666Z"
   },
   {
    "duration": 1252,
    "start_time": "2024-04-26T10:13:21.258Z"
   },
   {
    "duration": 37,
    "start_time": "2024-04-26T10:13:22.512Z"
   },
   {
    "duration": 4,
    "start_time": "2024-04-26T10:13:22.550Z"
   },
   {
    "duration": 77,
    "start_time": "2024-04-26T10:13:22.556Z"
   },
   {
    "duration": 0,
    "start_time": "2024-04-26T10:13:22.635Z"
   },
   {
    "duration": 0,
    "start_time": "2024-04-26T10:13:22.636Z"
   },
   {
    "duration": 0,
    "start_time": "2024-04-26T10:13:22.638Z"
   },
   {
    "duration": 0,
    "start_time": "2024-04-26T10:13:22.639Z"
   },
   {
    "duration": 0,
    "start_time": "2024-04-26T10:13:22.639Z"
   },
   {
    "duration": 0,
    "start_time": "2024-04-26T10:13:22.640Z"
   },
   {
    "duration": 0,
    "start_time": "2024-04-26T10:13:22.641Z"
   },
   {
    "duration": 0,
    "start_time": "2024-04-26T10:13:22.642Z"
   },
   {
    "duration": 46,
    "start_time": "2024-04-26T10:13:52.097Z"
   },
   {
    "duration": 4,
    "start_time": "2024-04-26T10:13:53.761Z"
   },
   {
    "duration": 1228,
    "start_time": "2024-04-26T10:14:04.291Z"
   },
   {
    "duration": 37,
    "start_time": "2024-04-26T10:14:05.521Z"
   },
   {
    "duration": 18,
    "start_time": "2024-04-26T10:14:05.560Z"
   },
   {
    "duration": 66,
    "start_time": "2024-04-26T10:14:05.580Z"
   },
   {
    "duration": 4,
    "start_time": "2024-04-26T10:14:05.647Z"
   },
   {
    "duration": 95,
    "start_time": "2024-04-26T10:14:05.652Z"
   },
   {
    "duration": 21,
    "start_time": "2024-04-26T10:14:05.749Z"
   },
   {
    "duration": 43,
    "start_time": "2024-04-26T10:14:05.772Z"
   },
   {
    "duration": 56,
    "start_time": "2024-04-26T10:14:05.817Z"
   },
   {
    "duration": 50,
    "start_time": "2024-04-26T10:14:05.877Z"
   },
   {
    "duration": 12,
    "start_time": "2024-04-26T10:14:05.929Z"
   },
   {
    "duration": 138,
    "start_time": "2024-04-26T10:14:05.943Z"
   },
   {
    "duration": 5,
    "start_time": "2024-04-26T10:14:13.602Z"
   },
   {
    "duration": 13,
    "start_time": "2024-04-26T10:14:35.419Z"
   },
   {
    "duration": 9,
    "start_time": "2024-04-26T10:14:58.236Z"
   },
   {
    "duration": 9,
    "start_time": "2024-04-26T10:15:28.412Z"
   },
   {
    "duration": 9,
    "start_time": "2024-04-26T10:16:22.613Z"
   },
   {
    "duration": 11,
    "start_time": "2024-04-26T10:22:35.202Z"
   },
   {
    "duration": 11,
    "start_time": "2024-04-26T10:23:49.433Z"
   },
   {
    "duration": 313,
    "start_time": "2024-04-26T10:29:26.341Z"
   },
   {
    "duration": 316,
    "start_time": "2024-04-26T10:29:32.156Z"
   },
   {
    "duration": 10,
    "start_time": "2024-04-26T10:29:49.667Z"
   },
   {
    "duration": 325,
    "start_time": "2024-04-26T10:29:50.436Z"
   },
   {
    "duration": 211,
    "start_time": "2024-04-26T10:29:50.771Z"
   },
   {
    "duration": 309,
    "start_time": "2024-04-26T10:31:47.956Z"
   },
   {
    "duration": 17,
    "start_time": "2024-04-26T10:34:11.317Z"
   },
   {
    "duration": 1235,
    "start_time": "2024-04-26T10:34:15.657Z"
   },
   {
    "duration": 37,
    "start_time": "2024-04-26T10:34:16.894Z"
   },
   {
    "duration": 4,
    "start_time": "2024-04-26T10:34:16.933Z"
   },
   {
    "duration": 78,
    "start_time": "2024-04-26T10:34:16.938Z"
   },
   {
    "duration": 7,
    "start_time": "2024-04-26T10:34:17.019Z"
   },
   {
    "duration": 94,
    "start_time": "2024-04-26T10:34:17.028Z"
   },
   {
    "duration": 22,
    "start_time": "2024-04-26T10:34:17.124Z"
   },
   {
    "duration": 56,
    "start_time": "2024-04-26T10:34:17.148Z"
   },
   {
    "duration": 33,
    "start_time": "2024-04-26T10:34:17.206Z"
   },
   {
    "duration": 83,
    "start_time": "2024-04-26T10:34:17.241Z"
   },
   {
    "duration": 11,
    "start_time": "2024-04-26T10:34:17.326Z"
   },
   {
    "duration": 31,
    "start_time": "2024-04-26T10:34:17.339Z"
   },
   {
    "duration": 31,
    "start_time": "2024-04-26T10:34:17.372Z"
   },
   {
    "duration": 27,
    "start_time": "2024-04-26T10:34:17.406Z"
   },
   {
    "duration": 43,
    "start_time": "2024-04-26T10:34:17.435Z"
   },
   {
    "duration": 24,
    "start_time": "2024-04-26T10:34:17.479Z"
   },
   {
    "duration": 335,
    "start_time": "2024-04-26T10:34:17.505Z"
   },
   {
    "duration": 110,
    "start_time": "2024-04-26T10:34:17.842Z"
   },
   {
    "duration": 295,
    "start_time": "2024-04-26T10:35:20.421Z"
   },
   {
    "duration": 236,
    "start_time": "2024-04-26T10:35:25.253Z"
   },
   {
    "duration": 205,
    "start_time": "2024-04-26T10:35:32.604Z"
   },
   {
    "duration": 303,
    "start_time": "2024-04-26T10:36:03.196Z"
   },
   {
    "duration": 313,
    "start_time": "2024-04-26T10:36:13.924Z"
   },
   {
    "duration": 324,
    "start_time": "2024-04-26T10:36:19.308Z"
   },
   {
    "duration": 395,
    "start_time": "2024-04-26T10:36:24.019Z"
   },
   {
    "duration": 300,
    "start_time": "2024-04-26T10:36:30.332Z"
   },
   {
    "duration": 230,
    "start_time": "2024-04-26T10:36:53.300Z"
   },
   {
    "duration": 240,
    "start_time": "2024-04-26T10:37:02.412Z"
   },
   {
    "duration": 230,
    "start_time": "2024-04-26T10:37:10.564Z"
   },
   {
    "duration": 227,
    "start_time": "2024-04-26T10:37:15.252Z"
   },
   {
    "duration": 237,
    "start_time": "2024-04-26T10:37:20.700Z"
   },
   {
    "duration": 234,
    "start_time": "2024-04-26T10:37:25.332Z"
   },
   {
    "duration": 269,
    "start_time": "2024-04-26T10:37:45.324Z"
   },
   {
    "duration": 199,
    "start_time": "2024-04-26T10:38:53.108Z"
   },
   {
    "duration": 212,
    "start_time": "2024-04-26T10:38:54.580Z"
   },
   {
    "duration": 322,
    "start_time": "2024-04-26T10:38:58.020Z"
   },
   {
    "duration": 243,
    "start_time": "2024-04-26T10:39:01.924Z"
   },
   {
    "duration": 240,
    "start_time": "2024-04-26T10:39:07.916Z"
   },
   {
    "duration": 349,
    "start_time": "2024-04-26T10:39:48.660Z"
   },
   {
    "duration": 344,
    "start_time": "2024-04-26T10:40:12.741Z"
   },
   {
    "duration": 222,
    "start_time": "2024-04-26T10:40:47.581Z"
   },
   {
    "duration": 250,
    "start_time": "2024-04-26T10:41:06.237Z"
   },
   {
    "duration": 364,
    "start_time": "2024-04-26T10:41:50.972Z"
   },
   {
    "duration": 273,
    "start_time": "2024-04-26T10:42:28.291Z"
   },
   {
    "duration": 374,
    "start_time": "2024-04-26T10:42:41.645Z"
   },
   {
    "duration": 293,
    "start_time": "2024-04-26T10:42:49.275Z"
   },
   {
    "duration": 5,
    "start_time": "2024-04-26T10:43:44.683Z"
   },
   {
    "duration": 183,
    "start_time": "2024-04-26T10:44:26.746Z"
   },
   {
    "duration": 5,
    "start_time": "2024-04-26T10:45:07.707Z"
   },
   {
    "duration": 725,
    "start_time": "2024-04-26T10:45:52.082Z"
   },
   {
    "duration": 14,
    "start_time": "2024-04-26T10:46:49.785Z"
   },
   {
    "duration": 8,
    "start_time": "2024-04-26T10:47:13.056Z"
   },
   {
    "duration": 34,
    "start_time": "2024-04-26T10:47:19.580Z"
   },
   {
    "duration": 17,
    "start_time": "2024-04-26T10:47:44.881Z"
   },
   {
    "duration": 1218,
    "start_time": "2024-04-26T10:52:41.808Z"
   },
   {
    "duration": 38,
    "start_time": "2024-04-26T10:52:43.028Z"
   },
   {
    "duration": 4,
    "start_time": "2024-04-26T10:52:43.068Z"
   },
   {
    "duration": 55,
    "start_time": "2024-04-26T10:52:43.075Z"
   },
   {
    "duration": 26,
    "start_time": "2024-04-26T10:52:43.131Z"
   },
   {
    "duration": 50,
    "start_time": "2024-04-26T10:52:43.173Z"
   },
   {
    "duration": 25,
    "start_time": "2024-04-26T10:52:43.226Z"
   },
   {
    "duration": 45,
    "start_time": "2024-04-26T10:52:43.253Z"
   },
   {
    "duration": 22,
    "start_time": "2024-04-26T10:52:43.300Z"
   },
   {
    "duration": 64,
    "start_time": "2024-04-26T10:52:43.325Z"
   },
   {
    "duration": 13,
    "start_time": "2024-04-26T10:52:43.390Z"
   },
   {
    "duration": 13,
    "start_time": "2024-04-26T10:52:43.407Z"
   },
   {
    "duration": 20,
    "start_time": "2024-04-26T10:52:43.422Z"
   },
   {
    "duration": 35,
    "start_time": "2024-04-26T10:52:43.443Z"
   },
   {
    "duration": 14,
    "start_time": "2024-04-26T10:52:43.480Z"
   },
   {
    "duration": 20,
    "start_time": "2024-04-26T10:52:43.496Z"
   },
   {
    "duration": 372,
    "start_time": "2024-04-26T10:52:43.518Z"
   },
   {
    "duration": 406,
    "start_time": "2024-04-26T10:52:43.891Z"
   },
   {
    "duration": 268,
    "start_time": "2024-04-26T10:52:44.298Z"
   },
   {
    "duration": 376,
    "start_time": "2024-04-26T10:52:44.568Z"
   },
   {
    "duration": 278,
    "start_time": "2024-04-26T10:52:44.946Z"
   },
   {
    "duration": 466,
    "start_time": "2024-04-26T10:52:45.226Z"
   },
   {
    "duration": 0,
    "start_time": "2024-04-26T10:52:45.695Z"
   },
   {
    "duration": 0,
    "start_time": "2024-04-26T10:52:45.697Z"
   },
   {
    "duration": 0,
    "start_time": "2024-04-26T10:52:45.698Z"
   },
   {
    "duration": 1,
    "start_time": "2024-04-26T10:52:45.699Z"
   },
   {
    "duration": 0,
    "start_time": "2024-04-26T10:52:45.701Z"
   },
   {
    "duration": 0,
    "start_time": "2024-04-26T10:52:45.702Z"
   },
   {
    "duration": 0,
    "start_time": "2024-04-26T10:52:45.704Z"
   },
   {
    "duration": 0,
    "start_time": "2024-04-26T10:52:45.706Z"
   },
   {
    "duration": 0,
    "start_time": "2024-04-26T10:52:45.707Z"
   },
   {
    "duration": 1345,
    "start_time": "2024-04-26T10:53:32.342Z"
   },
   {
    "duration": 46,
    "start_time": "2024-04-26T10:53:33.690Z"
   },
   {
    "duration": 6,
    "start_time": "2024-04-26T10:53:33.738Z"
   },
   {
    "duration": 74,
    "start_time": "2024-04-26T10:53:33.747Z"
   },
   {
    "duration": 6,
    "start_time": "2024-04-26T10:53:33.823Z"
   },
   {
    "duration": 59,
    "start_time": "2024-04-26T10:53:33.830Z"
   },
   {
    "duration": 21,
    "start_time": "2024-04-26T10:53:33.891Z"
   },
   {
    "duration": 60,
    "start_time": "2024-04-26T10:53:33.914Z"
   },
   {
    "duration": 26,
    "start_time": "2024-04-26T10:53:33.976Z"
   },
   {
    "duration": 69,
    "start_time": "2024-04-26T10:53:34.008Z"
   },
   {
    "duration": 35,
    "start_time": "2024-04-26T10:53:34.079Z"
   },
   {
    "duration": 62,
    "start_time": "2024-04-26T10:53:34.116Z"
   },
   {
    "duration": 28,
    "start_time": "2024-04-26T10:53:34.180Z"
   },
   {
    "duration": 20,
    "start_time": "2024-04-26T10:53:34.210Z"
   },
   {
    "duration": 74,
    "start_time": "2024-04-26T10:53:34.234Z"
   },
   {
    "duration": 31,
    "start_time": "2024-04-26T10:53:34.309Z"
   },
   {
    "duration": 341,
    "start_time": "2024-04-26T10:53:34.342Z"
   },
   {
    "duration": 335,
    "start_time": "2024-04-26T10:53:34.684Z"
   },
   {
    "duration": 363,
    "start_time": "2024-04-26T10:53:35.022Z"
   },
   {
    "duration": 411,
    "start_time": "2024-04-26T10:53:35.387Z"
   },
   {
    "duration": 281,
    "start_time": "2024-04-26T10:53:35.800Z"
   },
   {
    "duration": 516,
    "start_time": "2024-04-26T10:53:36.083Z"
   },
   {
    "duration": 0,
    "start_time": "2024-04-26T10:53:36.601Z"
   },
   {
    "duration": 0,
    "start_time": "2024-04-26T10:53:36.603Z"
   },
   {
    "duration": 0,
    "start_time": "2024-04-26T10:53:36.605Z"
   },
   {
    "duration": 0,
    "start_time": "2024-04-26T10:53:36.605Z"
   },
   {
    "duration": 0,
    "start_time": "2024-04-26T10:53:36.608Z"
   },
   {
    "duration": 0,
    "start_time": "2024-04-26T10:53:36.609Z"
   },
   {
    "duration": 0,
    "start_time": "2024-04-26T10:53:36.611Z"
   },
   {
    "duration": 0,
    "start_time": "2024-04-26T10:53:36.612Z"
   },
   {
    "duration": 0,
    "start_time": "2024-04-26T10:53:36.618Z"
   },
   {
    "duration": 47,
    "start_time": "2024-04-26T13:37:05.296Z"
   },
   {
    "duration": 1274,
    "start_time": "2024-04-26T13:37:09.458Z"
   },
   {
    "duration": 82,
    "start_time": "2024-04-26T13:37:10.734Z"
   },
   {
    "duration": 3,
    "start_time": "2024-04-26T13:37:10.818Z"
   },
   {
    "duration": 38,
    "start_time": "2024-04-26T13:37:10.824Z"
   },
   {
    "duration": 4,
    "start_time": "2024-04-26T13:37:10.864Z"
   },
   {
    "duration": 100,
    "start_time": "2024-04-26T13:37:10.870Z"
   },
   {
    "duration": 74,
    "start_time": "2024-04-26T13:37:10.972Z"
   },
   {
    "duration": 34,
    "start_time": "2024-04-26T13:37:11.048Z"
   },
   {
    "duration": 19,
    "start_time": "2024-04-26T13:37:11.083Z"
   },
   {
    "duration": 35,
    "start_time": "2024-04-26T13:37:11.104Z"
   },
   {
    "duration": 10,
    "start_time": "2024-04-26T13:37:11.140Z"
   },
   {
    "duration": 16,
    "start_time": "2024-04-26T13:37:11.151Z"
   },
   {
    "duration": 23,
    "start_time": "2024-04-26T13:37:11.169Z"
   },
   {
    "duration": 21,
    "start_time": "2024-04-26T13:37:11.194Z"
   },
   {
    "duration": 13,
    "start_time": "2024-04-26T13:37:11.217Z"
   },
   {
    "duration": 10,
    "start_time": "2024-04-26T13:37:11.231Z"
   },
   {
    "duration": 287,
    "start_time": "2024-04-26T13:37:11.243Z"
   },
   {
    "duration": 286,
    "start_time": "2024-04-26T13:37:11.531Z"
   },
   {
    "duration": 208,
    "start_time": "2024-04-26T13:37:11.819Z"
   },
   {
    "duration": 364,
    "start_time": "2024-04-26T13:37:12.029Z"
   },
   {
    "duration": 228,
    "start_time": "2024-04-26T13:37:12.394Z"
   },
   {
    "duration": 432,
    "start_time": "2024-04-26T13:37:12.623Z"
   },
   {
    "duration": 0,
    "start_time": "2024-04-26T13:37:13.057Z"
   },
   {
    "duration": 0,
    "start_time": "2024-04-26T13:37:13.058Z"
   },
   {
    "duration": 0,
    "start_time": "2024-04-26T13:37:13.059Z"
   },
   {
    "duration": 0,
    "start_time": "2024-04-26T13:37:13.061Z"
   },
   {
    "duration": 1,
    "start_time": "2024-04-26T13:37:13.061Z"
   },
   {
    "duration": 0,
    "start_time": "2024-04-26T13:37:13.063Z"
   },
   {
    "duration": 0,
    "start_time": "2024-04-26T13:37:13.064Z"
   },
   {
    "duration": 0,
    "start_time": "2024-04-26T13:37:13.065Z"
   },
   {
    "duration": 0,
    "start_time": "2024-04-26T13:37:13.066Z"
   },
   {
    "duration": 43,
    "start_time": "2024-04-26T13:38:29.397Z"
   },
   {
    "duration": 1192,
    "start_time": "2024-04-26T13:39:57.320Z"
   },
   {
    "duration": 35,
    "start_time": "2024-04-26T13:39:58.514Z"
   },
   {
    "duration": 3,
    "start_time": "2024-04-26T13:39:58.551Z"
   },
   {
    "duration": 38,
    "start_time": "2024-04-26T13:39:58.556Z"
   },
   {
    "duration": 4,
    "start_time": "2024-04-26T13:39:58.596Z"
   },
   {
    "duration": 45,
    "start_time": "2024-04-26T13:39:58.601Z"
   },
   {
    "duration": 21,
    "start_time": "2024-04-26T13:39:58.647Z"
   },
   {
    "duration": 36,
    "start_time": "2024-04-26T13:39:58.670Z"
   },
   {
    "duration": 18,
    "start_time": "2024-04-26T13:39:58.708Z"
   },
   {
    "duration": 27,
    "start_time": "2024-04-26T13:39:58.727Z"
   },
   {
    "duration": 10,
    "start_time": "2024-04-26T13:39:58.756Z"
   },
   {
    "duration": 9,
    "start_time": "2024-04-26T13:39:58.767Z"
   },
   {
    "duration": 40,
    "start_time": "2024-04-26T13:39:58.778Z"
   },
   {
    "duration": 7,
    "start_time": "2024-04-26T13:39:58.821Z"
   },
   {
    "duration": 12,
    "start_time": "2024-04-26T13:39:58.829Z"
   },
   {
    "duration": 11,
    "start_time": "2024-04-26T13:39:58.843Z"
   },
   {
    "duration": 320,
    "start_time": "2024-04-26T13:39:58.856Z"
   },
   {
    "duration": 313,
    "start_time": "2024-04-26T13:39:59.178Z"
   },
   {
    "duration": 210,
    "start_time": "2024-04-26T13:39:59.493Z"
   },
   {
    "duration": 353,
    "start_time": "2024-04-26T13:39:59.705Z"
   },
   {
    "duration": 229,
    "start_time": "2024-04-26T13:40:00.059Z"
   },
   {
    "duration": 469,
    "start_time": "2024-04-26T13:40:00.290Z"
   },
   {
    "duration": 0,
    "start_time": "2024-04-26T13:40:00.761Z"
   },
   {
    "duration": 0,
    "start_time": "2024-04-26T13:40:00.762Z"
   },
   {
    "duration": 0,
    "start_time": "2024-04-26T13:40:00.763Z"
   },
   {
    "duration": 0,
    "start_time": "2024-04-26T13:40:00.764Z"
   },
   {
    "duration": 0,
    "start_time": "2024-04-26T13:40:00.766Z"
   },
   {
    "duration": 0,
    "start_time": "2024-04-26T13:40:00.767Z"
   },
   {
    "duration": 0,
    "start_time": "2024-04-26T13:40:00.768Z"
   },
   {
    "duration": 0,
    "start_time": "2024-04-26T13:40:00.769Z"
   },
   {
    "duration": 0,
    "start_time": "2024-04-26T13:40:00.770Z"
   },
   {
    "duration": 282,
    "start_time": "2024-04-26T13:41:46.958Z"
   },
   {
    "duration": 367,
    "start_time": "2024-04-26T13:43:24.512Z"
   },
   {
    "duration": 343,
    "start_time": "2024-04-26T13:44:56.988Z"
   },
   {
    "duration": 65,
    "start_time": "2024-04-26T13:45:51.904Z"
   },
   {
    "duration": 294,
    "start_time": "2024-04-26T13:45:56.268Z"
   },
   {
    "duration": 292,
    "start_time": "2024-04-26T13:46:01.728Z"
   },
   {
    "duration": 344,
    "start_time": "2024-04-26T13:46:26.911Z"
   },
   {
    "duration": 350,
    "start_time": "2024-04-26T13:46:32.580Z"
   },
   {
    "duration": 357,
    "start_time": "2024-04-26T13:47:01.292Z"
   },
   {
    "duration": 315,
    "start_time": "2024-04-26T13:47:24.540Z"
   },
   {
    "duration": 329,
    "start_time": "2024-04-26T13:47:32.725Z"
   },
   {
    "duration": 317,
    "start_time": "2024-04-26T13:48:45.844Z"
   },
   {
    "duration": 357,
    "start_time": "2024-04-26T13:49:04.086Z"
   },
   {
    "duration": 367,
    "start_time": "2024-04-26T13:49:51.983Z"
   },
   {
    "duration": 436,
    "start_time": "2024-04-26T13:50:31.061Z"
   },
   {
    "duration": 324,
    "start_time": "2024-04-26T13:50:45.557Z"
   },
   {
    "duration": 358,
    "start_time": "2024-04-26T13:50:52.316Z"
   },
   {
    "duration": 367,
    "start_time": "2024-04-26T13:51:02.909Z"
   },
   {
    "duration": 360,
    "start_time": "2024-04-26T13:51:56.885Z"
   },
   {
    "duration": 363,
    "start_time": "2024-04-26T13:52:01.397Z"
   },
   {
    "duration": 350,
    "start_time": "2024-04-26T13:53:04.780Z"
   },
   {
    "duration": 315,
    "start_time": "2024-04-26T13:53:15.862Z"
   },
   {
    "duration": 219,
    "start_time": "2024-04-26T13:53:50.693Z"
   },
   {
    "duration": 372,
    "start_time": "2024-04-26T13:54:01.075Z"
   },
   {
    "duration": 347,
    "start_time": "2024-04-26T13:54:06.941Z"
   },
   {
    "duration": 325,
    "start_time": "2024-04-26T13:54:19.348Z"
   },
   {
    "duration": 443,
    "start_time": "2024-04-26T13:55:26.652Z"
   },
   {
    "duration": 325,
    "start_time": "2024-04-26T13:55:35.268Z"
   },
   {
    "duration": 305,
    "start_time": "2024-04-26T13:56:06.956Z"
   },
   {
    "duration": 302,
    "start_time": "2024-04-26T13:56:20.347Z"
   },
   {
    "duration": 332,
    "start_time": "2024-04-26T13:56:31.484Z"
   },
   {
    "duration": 340,
    "start_time": "2024-04-26T13:56:41.822Z"
   },
   {
    "duration": 332,
    "start_time": "2024-04-26T13:56:46.867Z"
   },
   {
    "duration": 1081,
    "start_time": "2024-04-26T13:57:52.872Z"
   },
   {
    "duration": 37,
    "start_time": "2024-04-26T13:57:53.955Z"
   },
   {
    "duration": 4,
    "start_time": "2024-04-26T13:57:53.993Z"
   },
   {
    "duration": 38,
    "start_time": "2024-04-26T13:57:53.999Z"
   },
   {
    "duration": 4,
    "start_time": "2024-04-26T13:57:54.039Z"
   },
   {
    "duration": 44,
    "start_time": "2024-04-26T13:57:54.044Z"
   },
   {
    "duration": 19,
    "start_time": "2024-04-26T13:57:54.090Z"
   },
   {
    "duration": 35,
    "start_time": "2024-04-26T13:57:54.110Z"
   },
   {
    "duration": 20,
    "start_time": "2024-04-26T13:57:54.146Z"
   },
   {
    "duration": 58,
    "start_time": "2024-04-26T13:57:54.168Z"
   },
   {
    "duration": 12,
    "start_time": "2024-04-26T13:57:54.227Z"
   },
   {
    "duration": 9,
    "start_time": "2024-04-26T13:57:54.241Z"
   },
   {
    "duration": 23,
    "start_time": "2024-04-26T13:57:54.251Z"
   },
   {
    "duration": 8,
    "start_time": "2024-04-26T13:57:54.276Z"
   },
   {
    "duration": 33,
    "start_time": "2024-04-26T13:57:54.285Z"
   },
   {
    "duration": 11,
    "start_time": "2024-04-26T13:57:54.319Z"
   },
   {
    "duration": 307,
    "start_time": "2024-04-26T13:57:54.331Z"
   },
   {
    "duration": 307,
    "start_time": "2024-04-26T13:57:54.639Z"
   },
   {
    "duration": 212,
    "start_time": "2024-04-26T13:57:54.948Z"
   },
   {
    "duration": 294,
    "start_time": "2024-04-26T13:57:55.162Z"
   },
   {
    "duration": 234,
    "start_time": "2024-04-26T13:57:55.458Z"
   },
   {
    "duration": 390,
    "start_time": "2024-04-26T13:57:55.694Z"
   },
   {
    "duration": 309,
    "start_time": "2024-04-26T13:57:56.085Z"
   },
   {
    "duration": 4,
    "start_time": "2024-04-26T13:57:56.395Z"
   },
   {
    "duration": 261,
    "start_time": "2024-04-26T13:57:56.401Z"
   },
   {
    "duration": 4,
    "start_time": "2024-04-26T13:57:56.664Z"
   },
   {
    "duration": 353,
    "start_time": "2024-04-26T13:57:56.670Z"
   },
   {
    "duration": 9,
    "start_time": "2024-04-26T13:57:57.026Z"
   },
   {
    "duration": 7,
    "start_time": "2024-04-26T13:57:57.036Z"
   },
   {
    "duration": 30,
    "start_time": "2024-04-26T13:57:57.044Z"
   },
   {
    "duration": 13,
    "start_time": "2024-04-26T13:57:57.075Z"
   },
   {
    "duration": 378,
    "start_time": "2024-04-26T14:05:22.627Z"
   },
   {
    "duration": 345,
    "start_time": "2024-04-26T14:05:37.282Z"
   },
   {
    "duration": 345,
    "start_time": "2024-04-26T14:06:07.323Z"
   },
   {
    "duration": 366,
    "start_time": "2024-04-26T14:06:10.866Z"
   },
   {
    "duration": 1260,
    "start_time": "2024-04-26T14:07:41.276Z"
   },
   {
    "duration": 35,
    "start_time": "2024-04-26T14:07:42.538Z"
   },
   {
    "duration": 3,
    "start_time": "2024-04-26T14:07:42.575Z"
   },
   {
    "duration": 42,
    "start_time": "2024-04-26T14:07:42.579Z"
   },
   {
    "duration": 4,
    "start_time": "2024-04-26T14:07:42.623Z"
   },
   {
    "duration": 49,
    "start_time": "2024-04-26T14:07:42.629Z"
   },
   {
    "duration": 20,
    "start_time": "2024-04-26T14:07:42.680Z"
   },
   {
    "duration": 36,
    "start_time": "2024-04-26T14:07:42.702Z"
   },
   {
    "duration": 18,
    "start_time": "2024-04-26T14:07:42.739Z"
   },
   {
    "duration": 57,
    "start_time": "2024-04-26T14:07:42.759Z"
   },
   {
    "duration": 11,
    "start_time": "2024-04-26T14:07:42.817Z"
   },
   {
    "duration": 15,
    "start_time": "2024-04-26T14:07:42.830Z"
   },
   {
    "duration": 11,
    "start_time": "2024-04-26T14:07:42.847Z"
   },
   {
    "duration": 8,
    "start_time": "2024-04-26T14:07:42.861Z"
   },
   {
    "duration": 32,
    "start_time": "2024-04-26T14:07:42.871Z"
   },
   {
    "duration": 16,
    "start_time": "2024-04-26T14:07:42.904Z"
   },
   {
    "duration": 285,
    "start_time": "2024-04-26T14:07:42.922Z"
   },
   {
    "duration": 300,
    "start_time": "2024-04-26T14:07:43.208Z"
   },
   {
    "duration": 219,
    "start_time": "2024-04-26T14:07:43.510Z"
   },
   {
    "duration": 317,
    "start_time": "2024-04-26T14:07:43.731Z"
   },
   {
    "duration": 235,
    "start_time": "2024-04-26T14:07:44.050Z"
   },
   {
    "duration": 365,
    "start_time": "2024-04-26T14:07:44.287Z"
   },
   {
    "duration": 316,
    "start_time": "2024-04-26T14:07:44.654Z"
   },
   {
    "duration": 4,
    "start_time": "2024-04-26T14:07:44.971Z"
   },
   {
    "duration": 255,
    "start_time": "2024-04-26T14:07:44.977Z"
   },
   {
    "duration": 3,
    "start_time": "2024-04-26T14:07:45.234Z"
   },
   {
    "duration": 340,
    "start_time": "2024-04-26T14:07:45.239Z"
   },
   {
    "duration": 9,
    "start_time": "2024-04-26T14:07:45.580Z"
   },
   {
    "duration": 18,
    "start_time": "2024-04-26T14:07:45.590Z"
   },
   {
    "duration": 44,
    "start_time": "2024-04-26T14:07:45.609Z"
   },
   {
    "duration": 13,
    "start_time": "2024-04-26T14:07:45.654Z"
   }
  ],
  "kernelspec": {
   "display_name": "Python 3 (ipykernel)",
   "language": "python",
   "name": "python3"
  },
  "language_info": {
   "codemirror_mode": {
    "name": "ipython",
    "version": 3
   },
   "file_extension": ".py",
   "mimetype": "text/x-python",
   "name": "python",
   "nbconvert_exporter": "python",
   "pygments_lexer": "ipython3",
   "version": "3.11.5"
  },
  "toc": {
   "base_numbering": 1,
   "nav_menu": {},
   "number_sections": true,
   "sideBar": true,
   "skip_h1_title": true,
   "title_cell": "Table of Contents",
   "title_sidebar": "Contents",
   "toc_cell": false,
   "toc_position": {},
   "toc_section_display": true,
   "toc_window_display": false
  }
 },
 "nbformat": 4,
 "nbformat_minor": 2
}
